{
 "cells": [
  {
   "cell_type": "markdown",
   "id": "455f8adf",
   "metadata": {
    "id": "455f8adf"
   },
   "source": [
    "# Assignment 2: Deep Q Learning and Policy Gradient\n",
    "\n",
    "*CS260R: Reinforcement Learning. Department of Computer Science at University of California, Los Angeles.\n",
    "Course Instructor: Professor Bolei ZHOU. Assignment author: Zhenghao PENG.*\n",
    "\n"
   ]
  },
  {
   "cell_type": "markdown",
   "id": "5ecc5685",
   "metadata": {
    "id": "5ecc5685"
   },
   "source": [
    "| Student Name | Student ID |\n",
    "| :----: | :----: |\n",
    "| Yuyang Gong | 406405460 |\n",
    "\n",
    "------"
   ]
  },
  {
   "cell_type": "markdown",
   "id": "b55e080e",
   "metadata": {
    "id": "b55e080e"
   },
   "source": [
    "Welcome to the assignment 2 of our RL course. This assignment consisits of three parts:\n",
    "\n",
    "* Section 2: Implement Q learning in tabular setting (20 points)\n",
    "* Section 3: Implement Deep Q Network with pytorch (30 points)\n",
    "* Section 4: Implement policy gradient method REINFORCE with pytorch (30 points)\n",
    "* Section 5: Implement policy gradient method with baseline (20 points)\n",
    "\n",
    "Section 0 and Section 1 set up the dependencies and prepare some useful functions.\n",
    "\n",
    "The experiments we'll conduct and their expected goals:\n",
    "\n",
    "1. Naive Q learning in FrozenLake &emsp; (should solve)\n",
    "2. DQN in CartPole &emsp; (should solve)\n",
    "3. DQN in MetaDrive-Easy &emsp; (should solve)\n",
    "4. Policy Gradient w/o baseline in CartPole (w/ and w/o advantage normalization) &emsp; (should solve)\n",
    "5. Policy Gradient w/o baseline in MetaDrive-Easy &emsp; (should solve)\n",
    "6. Policy Gradient w/ baseline in CartPole (w/ advantage normalization) &emsp; (should solve)\n",
    "7. Policy Gradient w/ baseline in MetaDrive-Easy &emsp; (should solve)\n",
    "8. Policy Gradient w/ baseline in MetaDrive-Hard &emsp; (>20 return)"
   ]
  },
  {
   "cell_type": "markdown",
   "id": "3feea3d2",
   "metadata": {
    "id": "3feea3d2"
   },
   "source": [
    "## Section 0: Dependencies\n",
    "\n",
    "Please install the following dependencies.\n",
    "\n",
    "\n",
    "### Notes on MetaDrive\n",
    "\n",
    "MetaDrive is a lightweight driving simulator which we will use for DQN and Policy Gradient methods. We suggest using Colab or Linux for running MetaDrive.\n",
    "\n",
    "Please ignore this warning from MetaDrive: `WARNING:root:BaseEngine is not launched, fail to sync seed to engine!`\n",
    "\n",
    "### Notes on Colab\n",
    "\n",
    "We have several cells used for installing dependencies for Colab only. Please make sure they are run properly.\n",
    "\n",
    "You don't need to install python packages again and again after **restarting the runtime**, since the Colab instance still remembers the python envionment after you installing packages for the first time. But you do need to rerun those packages installation script after you **reconnecting to the runtime** (which means Google assigns a new machine to you and thus the python environment is new)."
   ]
  },
  {
   "cell_type": "code",
   "execution_count": 25,
   "id": "9b170cda",
   "metadata": {},
   "outputs": [],
   "source": [
    "RUNNING_IN_COLAB = 'google.colab' in str(get_ipython())  # Detect if it is running in Colab"
   ]
  },
  {
   "cell_type": "code",
   "execution_count": 26,
   "id": "9098b4a3-1f4e-4ffd-b6cb-dbec4ede65f4",
   "metadata": {
    "scrolled": true
   },
   "outputs": [
    {
     "name": "stdout",
     "output_type": "stream",
     "text": [
      "Requirement already satisfied: pip in c:\\users\\admin\\appdata\\local\\programs\\python\\python39\\lib\\site-packages (24.2)\n",
      "Collecting pip\n",
      "  Downloading pip-25.0.1-py3-none-any.whl.metadata (3.7 kB)\n",
      "Downloading pip-25.0.1-py3-none-any.whl (1.8 MB)\n",
      "   ---------------------------------------- 0.0/1.8 MB ? eta -:--:--\n",
      "   ---------------------------------------- 1.8/1.8 MB 25.5 MB/s eta 0:00:00\n"
     ]
    },
    {
     "name": "stderr",
     "output_type": "stream",
     "text": [
      "\n",
      "[notice] A new release of pip is available: 24.2 -> 25.0\n",
      "[notice] To update, run: python.exe -m pip install --upgrade pip\n",
      "ERROR: To modify pip, please run the following command:\n",
      "C:\\Users\\Admin\\AppData\\Local\\Programs\\Python\\Python39\\python.exe -m pip install -U pip\n"
     ]
    },
    {
     "name": "stdout",
     "output_type": "stream",
     "text": [
      "Requirement already satisfied: numpy in c:\\users\\admin\\appdata\\local\\programs\\python\\python39\\lib\\site-packages (1.26.0)\n",
      "Requirement already satisfied: scipy in c:\\users\\admin\\appdata\\local\\programs\\python\\python39\\lib\\site-packages (1.11.2)\n",
      "Requirement already satisfied: gymnasium<0.29 in c:\\users\\admin\\appdata\\local\\programs\\python\\python39\\lib\\site-packages (0.28.1)\n",
      "Requirement already satisfied: jax-jumpy>=1.0.0 in c:\\users\\admin\\appdata\\local\\programs\\python\\python39\\lib\\site-packages (from gymnasium<0.29) (1.0.0)\n",
      "Requirement already satisfied: cloudpickle>=1.2.0 in c:\\users\\admin\\appdata\\local\\programs\\python\\python39\\lib\\site-packages (from gymnasium<0.29) (3.1.1)\n",
      "Requirement already satisfied: typing-extensions>=4.3.0 in c:\\users\\admin\\appdata\\local\\programs\\python\\python39\\lib\\site-packages (from gymnasium<0.29) (4.8.0)\n",
      "Requirement already satisfied: farama-notifications>=0.0.1 in c:\\users\\admin\\appdata\\local\\programs\\python\\python39\\lib\\site-packages (from gymnasium<0.29) (0.0.4)\n",
      "Requirement already satisfied: importlib-metadata>=4.8.0 in c:\\users\\admin\\appdata\\roaming\\python\\python39\\site-packages (from gymnasium<0.29) (6.8.0)\n",
      "Requirement already satisfied: zipp>=0.5 in c:\\users\\admin\\appdata\\local\\programs\\python\\python39\\lib\\site-packages (from importlib-metadata>=4.8.0->gymnasium<0.29) (3.17.0)\n"
     ]
    },
    {
     "name": "stderr",
     "output_type": "stream",
     "text": [
      "\n",
      "[notice] A new release of pip is available: 24.2 -> 25.0\n",
      "[notice] To update, run: python.exe -m pip install --upgrade pip\n"
     ]
    },
    {
     "name": "stdout",
     "output_type": "stream",
     "text": [
      "Requirement already satisfied: torch in c:\\users\\admin\\appdata\\local\\programs\\python\\python39\\lib\\site-packages (2.5.0+cu124)\n",
      "Requirement already satisfied: torchvision in c:\\users\\admin\\appdata\\local\\programs\\python\\python39\\lib\\site-packages (0.20.0+cu124)\n",
      "Requirement already satisfied: filelock in c:\\users\\admin\\appdata\\local\\programs\\python\\python39\\lib\\site-packages (from torch) (3.12.4)\n",
      "Requirement already satisfied: typing-extensions>=4.8.0 in c:\\users\\admin\\appdata\\local\\programs\\python\\python39\\lib\\site-packages (from torch) (4.8.0)\n",
      "Requirement already satisfied: networkx in c:\\users\\admin\\appdata\\local\\programs\\python\\python39\\lib\\site-packages (from torch) (3.1)\n",
      "Requirement already satisfied: jinja2 in c:\\users\\admin\\appdata\\local\\programs\\python\\python39\\lib\\site-packages (from torch) (3.1.2)\n",
      "Requirement already satisfied: fsspec in c:\\users\\admin\\appdata\\local\\programs\\python\\python39\\lib\\site-packages (from torch) (2024.3.1)\n",
      "Requirement already satisfied: sympy==1.13.1 in c:\\users\\admin\\appdata\\local\\programs\\python\\python39\\lib\\site-packages (from torch) (1.13.1)\n",
      "Requirement already satisfied: mpmath<1.4,>=1.1.0 in c:\\users\\admin\\appdata\\local\\programs\\python\\python39\\lib\\site-packages (from sympy==1.13.1->torch) (1.3.0)\n",
      "Requirement already satisfied: numpy in c:\\users\\admin\\appdata\\local\\programs\\python\\python39\\lib\\site-packages (from torchvision) (1.26.0)\n",
      "Requirement already satisfied: pillow!=8.3.*,>=5.3.0 in c:\\users\\admin\\appdata\\local\\programs\\python\\python39\\lib\\site-packages (from torchvision) (10.0.1)\n",
      "Requirement already satisfied: MarkupSafe>=2.0 in c:\\users\\admin\\appdata\\local\\programs\\python\\python39\\lib\\site-packages (from jinja2->torch) (2.1.3)\n"
     ]
    },
    {
     "name": "stderr",
     "output_type": "stream",
     "text": [
      "\n",
      "[notice] A new release of pip is available: 24.2 -> 25.0\n",
      "[notice] To update, run: python.exe -m pip install --upgrade pip\n"
     ]
    },
    {
     "name": "stdout",
     "output_type": "stream",
     "text": [
      "Requirement already satisfied: mediapy in c:\\users\\admin\\appdata\\local\\programs\\python\\python39\\lib\\site-packages (1.2.2)\n",
      "Requirement already satisfied: ipython in c:\\users\\admin\\appdata\\roaming\\python\\python39\\site-packages (from mediapy) (8.15.0)\n",
      "Requirement already satisfied: matplotlib in c:\\users\\admin\\appdata\\local\\programs\\python\\python39\\lib\\site-packages (from mediapy) (3.8.0)\n",
      "Requirement already satisfied: numpy in c:\\users\\admin\\appdata\\local\\programs\\python\\python39\\lib\\site-packages (from mediapy) (1.26.0)\n",
      "Requirement already satisfied: Pillow in c:\\users\\admin\\appdata\\local\\programs\\python\\python39\\lib\\site-packages (from mediapy) (10.0.1)\n",
      "Requirement already satisfied: backcall in c:\\users\\admin\\appdata\\roaming\\python\\python39\\site-packages (from ipython->mediapy) (0.2.0)\n",
      "Requirement already satisfied: decorator in c:\\users\\admin\\appdata\\roaming\\python\\python39\\site-packages (from ipython->mediapy) (5.1.1)\n",
      "Requirement already satisfied: jedi>=0.16 in c:\\users\\admin\\appdata\\roaming\\python\\python39\\site-packages (from ipython->mediapy) (0.19.0)\n",
      "Requirement already satisfied: matplotlib-inline in c:\\users\\admin\\appdata\\roaming\\python\\python39\\site-packages (from ipython->mediapy) (0.1.6)\n",
      "Requirement already satisfied: pickleshare in c:\\users\\admin\\appdata\\roaming\\python\\python39\\site-packages (from ipython->mediapy) (0.7.5)\n",
      "Requirement already satisfied: prompt-toolkit!=3.0.37,<3.1.0,>=3.0.30 in c:\\users\\admin\\appdata\\roaming\\python\\python39\\site-packages (from ipython->mediapy) (3.0.39)\n",
      "Requirement already satisfied: pygments>=2.4.0 in c:\\users\\admin\\appdata\\roaming\\python\\python39\\site-packages (from ipython->mediapy) (2.16.1)\n",
      "Requirement already satisfied: stack-data in c:\\users\\admin\\appdata\\roaming\\python\\python39\\site-packages (from ipython->mediapy) (0.6.2)\n",
      "Requirement already satisfied: traitlets>=5 in c:\\users\\admin\\appdata\\roaming\\python\\python39\\site-packages (from ipython->mediapy) (5.10.0)\n",
      "Requirement already satisfied: typing-extensions in c:\\users\\admin\\appdata\\local\\programs\\python\\python39\\lib\\site-packages (from ipython->mediapy) (4.8.0)\n",
      "Requirement already satisfied: exceptiongroup in c:\\users\\admin\\appdata\\roaming\\python\\python39\\site-packages (from ipython->mediapy) (1.1.3)\n",
      "Requirement already satisfied: colorama in c:\\users\\admin\\appdata\\roaming\\python\\python39\\site-packages (from ipython->mediapy) (0.4.6)\n",
      "Requirement already satisfied: contourpy>=1.0.1 in c:\\users\\admin\\appdata\\local\\programs\\python\\python39\\lib\\site-packages (from matplotlib->mediapy) (1.1.1)\n",
      "Requirement already satisfied: cycler>=0.10 in c:\\users\\admin\\appdata\\local\\programs\\python\\python39\\lib\\site-packages (from matplotlib->mediapy) (0.11.0)\n",
      "Requirement already satisfied: fonttools>=4.22.0 in c:\\users\\admin\\appdata\\local\\programs\\python\\python39\\lib\\site-packages (from matplotlib->mediapy) (4.42.1)\n",
      "Requirement already satisfied: kiwisolver>=1.0.1 in c:\\users\\admin\\appdata\\local\\programs\\python\\python39\\lib\\site-packages (from matplotlib->mediapy) (1.4.5)\n",
      "Requirement already satisfied: packaging>=20.0 in c:\\users\\admin\\appdata\\local\\programs\\python\\python39\\lib\\site-packages (from matplotlib->mediapy) (23.1)\n",
      "Requirement already satisfied: pyparsing>=2.3.1 in c:\\users\\admin\\appdata\\local\\programs\\python\\python39\\lib\\site-packages (from matplotlib->mediapy) (3.1.1)\n",
      "Requirement already satisfied: python-dateutil>=2.7 in c:\\users\\admin\\appdata\\local\\programs\\python\\python39\\lib\\site-packages (from matplotlib->mediapy) (2.8.2)\n",
      "Requirement already satisfied: importlib-resources>=3.2.0 in c:\\users\\admin\\appdata\\local\\programs\\python\\python39\\lib\\site-packages (from matplotlib->mediapy) (6.1.0)\n",
      "Requirement already satisfied: zipp>=3.1.0 in c:\\users\\admin\\appdata\\local\\programs\\python\\python39\\lib\\site-packages (from importlib-resources>=3.2.0->matplotlib->mediapy) (3.17.0)\n",
      "Requirement already satisfied: parso<0.9.0,>=0.8.3 in c:\\users\\admin\\appdata\\roaming\\python\\python39\\site-packages (from jedi>=0.16->ipython->mediapy) (0.8.3)\n",
      "Requirement already satisfied: wcwidth in c:\\users\\admin\\appdata\\roaming\\python\\python39\\site-packages (from prompt-toolkit!=3.0.37,<3.1.0,>=3.0.30->ipython->mediapy) (0.2.6)\n",
      "Requirement already satisfied: six>=1.5 in c:\\users\\admin\\appdata\\local\\programs\\python\\python39\\lib\\site-packages (from python-dateutil>=2.7->matplotlib->mediapy) (1.16.0)\n",
      "Requirement already satisfied: executing>=1.2.0 in c:\\users\\admin\\appdata\\roaming\\python\\python39\\site-packages (from stack-data->ipython->mediapy) (1.2.0)\n",
      "Requirement already satisfied: asttokens>=2.1.0 in c:\\users\\admin\\appdata\\roaming\\python\\python39\\site-packages (from stack-data->ipython->mediapy) (2.4.0)\n",
      "Requirement already satisfied: pure-eval in c:\\users\\admin\\appdata\\roaming\\python\\python39\\site-packages (from stack-data->ipython->mediapy) (0.2.2)\n"
     ]
    },
    {
     "name": "stderr",
     "output_type": "stream",
     "text": [
      "\n",
      "[notice] A new release of pip is available: 24.2 -> 25.0\n",
      "[notice] To update, run: python.exe -m pip install --upgrade pip\n"
     ]
    },
    {
     "name": "stdout",
     "output_type": "stream",
     "text": [
      "Requirement already satisfied: tqdm in c:\\users\\admin\\appdata\\local\\programs\\python\\python39\\lib\\site-packages (4.67.0)\n",
      "Requirement already satisfied: colorama in c:\\users\\admin\\appdata\\roaming\\python\\python39\\site-packages (from tqdm) (0.4.6)\n"
     ]
    },
    {
     "name": "stderr",
     "output_type": "stream",
     "text": [
      "\n",
      "[notice] A new release of pip is available: 24.2 -> 25.0\n",
      "[notice] To update, run: python.exe -m pip install --upgrade pip\n"
     ]
    }
   ],
   "source": [
    "# Similar to AS1\n",
    "\n",
    "!pip install -U pip\n",
    "!pip install numpy scipy \"gymnasium<0.29\"\n",
    "!pip install torch torchvision\n",
    "!pip install mediapy\n",
    "!pip install tqdm"
   ]
  },
  {
   "cell_type": "code",
   "execution_count": 105,
   "id": "5b05b5d4",
   "metadata": {
    "colab": {
     "base_uri": "https://localhost:8080/"
    },
    "id": "5b05b5d4",
    "outputId": "07c15710-629c-419b-e3b0-1330420bfea8",
    "scrolled": true
   },
   "outputs": [
    {
     "name": "stdout",
     "output_type": "stream",
     "text": [
      "Collecting git+https://github.com/metadriverse/metadrive\n",
      "  Cloning https://github.com/metadriverse/metadrive to c:\\users\\admin\\appdata\\local\\temp\\pip-req-build-1f420xft\n",
      "  Resolved https://github.com/metadriverse/metadrive to commit bb0a0c64f776769340b7daff81c154c04c8aa3a7\n",
      "  Preparing metadata (setup.py): started\n",
      "  Preparing metadata (setup.py): finished with status 'done'\n",
      "Requirement already satisfied: requests in c:\\users\\admin\\appdata\\local\\programs\\python\\python39\\lib\\site-packages (from metadrive-simulator==0.4.3) (2.32.3)\n",
      "Requirement already satisfied: gymnasium>=0.28 in c:\\users\\admin\\appdata\\local\\programs\\python\\python39\\lib\\site-packages (from metadrive-simulator==0.4.3) (0.28.1)\n",
      "Requirement already satisfied: numpy>=1.21.6 in c:\\users\\admin\\appdata\\local\\programs\\python\\python39\\lib\\site-packages (from metadrive-simulator==0.4.3) (1.26.0)\n",
      "Requirement already satisfied: matplotlib in c:\\users\\admin\\appdata\\local\\programs\\python\\python39\\lib\\site-packages (from metadrive-simulator==0.4.3) (3.8.0)\n",
      "Requirement already satisfied: pygame in c:\\users\\admin\\appdata\\local\\programs\\python\\python39\\lib\\site-packages (from metadrive-simulator==0.4.3) (2.6.1)\n",
      "Requirement already satisfied: yapf in c:\\users\\admin\\appdata\\local\\programs\\python\\python39\\lib\\site-packages (from metadrive-simulator==0.4.3) (0.43.0)\n",
      "Requirement already satisfied: tqdm in c:\\users\\admin\\appdata\\local\\programs\\python\\python39\\lib\\site-packages (from metadrive-simulator==0.4.3) (4.67.0)\n",
      "Requirement already satisfied: progressbar in c:\\users\\admin\\appdata\\local\\programs\\python\\python39\\lib\\site-packages (from metadrive-simulator==0.4.3) (2.5)\n",
      "Requirement already satisfied: panda3d==1.10.14 in c:\\users\\admin\\appdata\\local\\programs\\python\\python39\\lib\\site-packages (from metadrive-simulator==0.4.3) (1.10.14)\n",
      "Requirement already satisfied: panda3d-gltf==0.13 in c:\\users\\admin\\appdata\\local\\programs\\python\\python39\\lib\\site-packages (from metadrive-simulator==0.4.3) (0.13)\n",
      "Requirement already satisfied: pillow in c:\\users\\admin\\appdata\\local\\programs\\python\\python39\\lib\\site-packages (from metadrive-simulator==0.4.3) (10.0.1)\n",
      "Requirement already satisfied: opencv-python in c:\\users\\admin\\appdata\\local\\programs\\python\\python39\\lib\\site-packages (from metadrive-simulator==0.4.3) (4.9.0.80)\n",
      "Requirement already satisfied: lxml in c:\\users\\admin\\appdata\\local\\programs\\python\\python39\\lib\\site-packages (from metadrive-simulator==0.4.3) (5.3.0)\n",
      "Requirement already satisfied: scipy in c:\\users\\admin\\appdata\\local\\programs\\python\\python39\\lib\\site-packages (from metadrive-simulator==0.4.3) (1.11.2)\n",
      "Requirement already satisfied: psutil in c:\\users\\admin\\appdata\\roaming\\python\\python39\\site-packages (from metadrive-simulator==0.4.3) (5.9.5)\n",
      "Requirement already satisfied: shapely in c:\\users\\admin\\appdata\\local\\programs\\python\\python39\\lib\\site-packages (from metadrive-simulator==0.4.3) (2.0.7)\n",
      "Requirement already satisfied: filelock in c:\\users\\admin\\appdata\\local\\programs\\python\\python39\\lib\\site-packages (from metadrive-simulator==0.4.3) (3.12.4)\n",
      "Requirement already satisfied: Pygments in c:\\users\\admin\\appdata\\roaming\\python\\python39\\site-packages (from metadrive-simulator==0.4.3) (2.16.1)\n",
      "Requirement already satisfied: mediapy in c:\\users\\admin\\appdata\\local\\programs\\python\\python39\\lib\\site-packages (from metadrive-simulator==0.4.3) (1.2.2)\n",
      "Requirement already satisfied: panda3d-simplepbr>=0.6 in c:\\users\\admin\\appdata\\local\\programs\\python\\python39\\lib\\site-packages (from panda3d-gltf==0.13->metadrive-simulator==0.4.3) (0.12.0)\n",
      "Requirement already satisfied: jax-jumpy>=1.0.0 in c:\\users\\admin\\appdata\\local\\programs\\python\\python39\\lib\\site-packages (from gymnasium>=0.28->metadrive-simulator==0.4.3) (1.0.0)\n",
      "Requirement already satisfied: cloudpickle>=1.2.0 in c:\\users\\admin\\appdata\\local\\programs\\python\\python39\\lib\\site-packages (from gymnasium>=0.28->metadrive-simulator==0.4.3) (3.1.1)\n",
      "Requirement already satisfied: typing-extensions>=4.3.0 in c:\\users\\admin\\appdata\\local\\programs\\python\\python39\\lib\\site-packages (from gymnasium>=0.28->metadrive-simulator==0.4.3) (4.8.0)\n",
      "Requirement already satisfied: farama-notifications>=0.0.1 in c:\\users\\admin\\appdata\\local\\programs\\python\\python39\\lib\\site-packages (from gymnasium>=0.28->metadrive-simulator==0.4.3) (0.0.4)\n",
      "Requirement already satisfied: importlib-metadata>=4.8.0 in c:\\users\\admin\\appdata\\roaming\\python\\python39\\site-packages (from gymnasium>=0.28->metadrive-simulator==0.4.3) (6.8.0)\n",
      "Requirement already satisfied: contourpy>=1.0.1 in c:\\users\\admin\\appdata\\local\\programs\\python\\python39\\lib\\site-packages (from matplotlib->metadrive-simulator==0.4.3) (1.1.1)\n",
      "Requirement already satisfied: cycler>=0.10 in c:\\users\\admin\\appdata\\local\\programs\\python\\python39\\lib\\site-packages (from matplotlib->metadrive-simulator==0.4.3) (0.11.0)\n",
      "Requirement already satisfied: fonttools>=4.22.0 in c:\\users\\admin\\appdata\\local\\programs\\python\\python39\\lib\\site-packages (from matplotlib->metadrive-simulator==0.4.3) (4.42.1)\n",
      "Requirement already satisfied: kiwisolver>=1.0.1 in c:\\users\\admin\\appdata\\local\\programs\\python\\python39\\lib\\site-packages (from matplotlib->metadrive-simulator==0.4.3) (1.4.5)\n",
      "Requirement already satisfied: packaging>=20.0 in c:\\users\\admin\\appdata\\local\\programs\\python\\python39\\lib\\site-packages (from matplotlib->metadrive-simulator==0.4.3) (23.1)\n",
      "Requirement already satisfied: pyparsing>=2.3.1 in c:\\users\\admin\\appdata\\local\\programs\\python\\python39\\lib\\site-packages (from matplotlib->metadrive-simulator==0.4.3) (3.1.1)\n",
      "Requirement already satisfied: python-dateutil>=2.7 in c:\\users\\admin\\appdata\\local\\programs\\python\\python39\\lib\\site-packages (from matplotlib->metadrive-simulator==0.4.3) (2.8.2)\n",
      "Requirement already satisfied: importlib-resources>=3.2.0 in c:\\users\\admin\\appdata\\local\\programs\\python\\python39\\lib\\site-packages (from matplotlib->metadrive-simulator==0.4.3) (6.1.0)\n",
      "Requirement already satisfied: ipython in c:\\users\\admin\\appdata\\roaming\\python\\python39\\site-packages (from mediapy->metadrive-simulator==0.4.3) (8.15.0)\n",
      "Requirement already satisfied: charset-normalizer<4,>=2 in c:\\users\\admin\\appdata\\local\\programs\\python\\python39\\lib\\site-packages (from requests->metadrive-simulator==0.4.3) (2.1.1)\n",
      "Requirement already satisfied: idna<4,>=2.5 in c:\\users\\admin\\appdata\\local\\programs\\python\\python39\\lib\\site-packages (from requests->metadrive-simulator==0.4.3) (3.4)\n",
      "Requirement already satisfied: urllib3<3,>=1.21.1 in c:\\users\\admin\\appdata\\local\\programs\\python\\python39\\lib\\site-packages (from requests->metadrive-simulator==0.4.3) (1.26.13)\n",
      "Requirement already satisfied: certifi>=2017.4.17 in c:\\users\\admin\\appdata\\local\\programs\\python\\python39\\lib\\site-packages (from requests->metadrive-simulator==0.4.3) (2022.12.7)\n",
      "Requirement already satisfied: colorama in c:\\users\\admin\\appdata\\roaming\\python\\python39\\site-packages (from tqdm->metadrive-simulator==0.4.3) (0.4.6)\n",
      "Requirement already satisfied: platformdirs>=3.5.1 in c:\\users\\admin\\appdata\\roaming\\python\\python39\\site-packages (from yapf->metadrive-simulator==0.4.3) (3.10.0)\n",
      "Requirement already satisfied: tomli>=2.0.1 in c:\\users\\admin\\appdata\\local\\programs\\python\\python39\\lib\\site-packages (from yapf->metadrive-simulator==0.4.3) (2.2.1)\n",
      "Requirement already satisfied: zipp>=0.5 in c:\\users\\admin\\appdata\\local\\programs\\python\\python39\\lib\\site-packages (from importlib-metadata>=4.8.0->gymnasium>=0.28->metadrive-simulator==0.4.3) (3.17.0)\n",
      "Requirement already satisfied: six>=1.5 in c:\\users\\admin\\appdata\\local\\programs\\python\\python39\\lib\\site-packages (from python-dateutil>=2.7->matplotlib->metadrive-simulator==0.4.3) (1.16.0)\n",
      "Requirement already satisfied: backcall in c:\\users\\admin\\appdata\\roaming\\python\\python39\\site-packages (from ipython->mediapy->metadrive-simulator==0.4.3) (0.2.0)\n",
      "Requirement already satisfied: decorator in c:\\users\\admin\\appdata\\roaming\\python\\python39\\site-packages (from ipython->mediapy->metadrive-simulator==0.4.3) (5.1.1)\n",
      "Requirement already satisfied: jedi>=0.16 in c:\\users\\admin\\appdata\\roaming\\python\\python39\\site-packages (from ipython->mediapy->metadrive-simulator==0.4.3) (0.19.0)\n",
      "Requirement already satisfied: matplotlib-inline in c:\\users\\admin\\appdata\\roaming\\python\\python39\\site-packages (from ipython->mediapy->metadrive-simulator==0.4.3) (0.1.6)\n",
      "Requirement already satisfied: pickleshare in c:\\users\\admin\\appdata\\roaming\\python\\python39\\site-packages (from ipython->mediapy->metadrive-simulator==0.4.3) (0.7.5)\n",
      "Requirement already satisfied: prompt-toolkit!=3.0.37,<3.1.0,>=3.0.30 in c:\\users\\admin\\appdata\\roaming\\python\\python39\\site-packages (from ipython->mediapy->metadrive-simulator==0.4.3) (3.0.39)\n",
      "Requirement already satisfied: stack-data in c:\\users\\admin\\appdata\\roaming\\python\\python39\\site-packages (from ipython->mediapy->metadrive-simulator==0.4.3) (0.6.2)\n",
      "Requirement already satisfied: traitlets>=5 in c:\\users\\admin\\appdata\\roaming\\python\\python39\\site-packages (from ipython->mediapy->metadrive-simulator==0.4.3) (5.10.0)\n",
      "Requirement already satisfied: exceptiongroup in c:\\users\\admin\\appdata\\roaming\\python\\python39\\site-packages (from ipython->mediapy->metadrive-simulator==0.4.3) (1.1.3)\n",
      "Requirement already satisfied: parso<0.9.0,>=0.8.3 in c:\\users\\admin\\appdata\\roaming\\python\\python39\\site-packages (from jedi>=0.16->ipython->mediapy->metadrive-simulator==0.4.3) (0.8.3)\n",
      "Requirement already satisfied: wcwidth in c:\\users\\admin\\appdata\\roaming\\python\\python39\\site-packages (from prompt-toolkit!=3.0.37,<3.1.0,>=3.0.30->ipython->mediapy->metadrive-simulator==0.4.3) (0.2.6)\n",
      "Requirement already satisfied: executing>=1.2.0 in c:\\users\\admin\\appdata\\roaming\\python\\python39\\site-packages (from stack-data->ipython->mediapy->metadrive-simulator==0.4.3) (1.2.0)\n",
      "Requirement already satisfied: asttokens>=2.1.0 in c:\\users\\admin\\appdata\\roaming\\python\\python39\\site-packages (from stack-data->ipython->mediapy->metadrive-simulator==0.4.3) (2.4.0)\n",
      "Requirement already satisfied: pure-eval in c:\\users\\admin\\appdata\\roaming\\python\\python39\\site-packages (from stack-data->ipython->mediapy->metadrive-simulator==0.4.3) (0.2.2)\n"
     ]
    },
    {
     "name": "stderr",
     "output_type": "stream",
     "text": [
      "  Running command git clone --filter=blob:none --quiet https://github.com/metadriverse/metadrive 'C:\\Users\\Admin\\AppData\\Local\\Temp\\pip-req-build-1f420xft'\n",
      "\n",
      "[notice] A new release of pip is available: 24.2 -> 25.0\n",
      "[notice] To update, run: python.exe -m pip install --upgrade pip\n"
     ]
    }
   ],
   "source": [
    "# Install MetaDrive, a lightweight driving simulator\n",
    "\n",
    "import sys\n",
    "\n",
    "!pip install \"git+https://github.com/metadriverse/metadrive\""
   ]
  },
  {
   "cell_type": "code",
   "execution_count": 28,
   "id": "IlCJY9seS7RB",
   "metadata": {
    "colab": {
     "base_uri": "https://localhost:8080/"
    },
    "id": "IlCJY9seS7RB",
    "outputId": "3504c227-56ea-4db5-8abe-cea176aefcc2",
    "scrolled": true
   },
   "outputs": [
    {
     "name": "stdout",
     "output_type": "stream",
     "text": [
      "Start to profile the efficiency of MetaDrive with 1000 maps and ~4 vehicles!\n",
      "Finish 100/100 simulation steps. Time elapse: 0.3910. Average FPS: 523.5701, Average number of vehicles: 5.5000\n",
      "Total Time Elapse: 0.391, average FPS: 523.570, average number of vehicles: 5.500.\n"
     ]
    },
    {
     "name": "stderr",
     "output_type": "stream",
     "text": [
      "\u001b[38;20m[INFO] Environment: MetaDriveEnv\u001b[0m\n",
      "\u001b[38;20m[INFO] MetaDrive version: 0.4.3\u001b[0m\n",
      "\u001b[38;20m[INFO] Sensors: [lidar: Lidar(), side_detector: SideDetector(), lane_line_detector: LaneLineDetector()]\u001b[0m\n",
      "\u001b[38;20m[INFO] Render Mode: none\u001b[0m\n",
      "\u001b[38;20m[INFO] Horizon (Max steps per agent): None\u001b[0m\n",
      "\u001b[38;20m[INFO] Assets version: 0.4.3\u001b[0m\n",
      "\u001b[38;20m[INFO] Known Pipes: wglGraphicsPipe\u001b[0m\n",
      "\u001b[38;20m[INFO] Start Scenario Index: 1010, Num Scenarios : 1000\u001b[0m\n",
      "\u001b[38;20m[INFO] Episode ended! Scenario Index: 1651 Reason: out_of_road.\u001b[0m\n"
     ]
    }
   ],
   "source": [
    "# Test whether MetaDrive is properly installed. The test is passed if no error is shown.\n",
    "!python -m metadrive.examples.profile_metadrive --num-steps 100"
   ]
  },
  {
   "cell_type": "markdown",
   "id": "9612bfe5",
   "metadata": {
    "id": "9612bfe5"
   },
   "source": [
    "## Section 1: Building abstract class and helper functions"
   ]
  },
  {
   "cell_type": "code",
   "execution_count": 29,
   "id": "9064ac72",
   "metadata": {
    "colab": {
     "base_uri": "https://localhost:8080/"
    },
    "id": "9064ac72",
    "outputId": "4eed79d8-0126-4a00-ff90-869135e2d144"
   },
   "outputs": [
    {
     "name": "stderr",
     "output_type": "stream",
     "text": [
      "c:\\Users\\Admin\\AppData\\Local\\Programs\\Python\\Python39\\lib\\site-packages\\gymnasium\\envs\\registration.py:693: UserWarning: \u001b[33mWARN: Overriding environment FrozenLakeNotSlippery-v1 already in registry.\u001b[0m\n",
      "  logger.warn(f\"Overriding environment {new_spec.id} already in registry.\")\n"
     ]
    }
   ],
   "source": [
    "# Run this cell without modification\n",
    "\n",
    "# Import some packages that we need to use\n",
    "import mediapy as media\n",
    "import gymnasium as gym\n",
    "import numpy as np\n",
    "import pandas as pd\n",
    "import seaborn as sns\n",
    "from gymnasium.error import Error\n",
    "from gymnasium import logger\n",
    "import torch\n",
    "import torch.nn as nn\n",
    "from IPython.display import clear_output\n",
    "import copy\n",
    "import time\n",
    "import pygame\n",
    "import logging\n",
    "import tqdm\n",
    "\n",
    "logging.basicConfig(format='[%(levelname)s] %(message)s')\n",
    "logger = logging.getLogger()\n",
    "logger.setLevel(logging.INFO)\n",
    "\n",
    "\n",
    "def wait(sleep=0.2):\n",
    "    clear_output(wait=True)\n",
    "    time.sleep(sleep)\n",
    "\n",
    "\n",
    "def merge_config(new_config, old_config):\n",
    "    \"\"\"Merge the user-defined config with default config\"\"\"\n",
    "    config = copy.deepcopy(old_config)\n",
    "    if new_config is not None:\n",
    "        config.update(new_config)\n",
    "    return config\n",
    "\n",
    "\n",
    "def test_random_policy(policy, env):\n",
    "    _acts = set()\n",
    "    for i in range(1000):\n",
    "        act = policy(0)\n",
    "        _acts.add(act)\n",
    "        assert env.action_space.contains(act), \"Out of the bound!\"\n",
    "    if len(_acts) != 1:\n",
    "        print(\n",
    "            \"[HINT] Though we call self.policy a 'random policy', \" \\\n",
    "            \"we find that generating action randomly during initialization \" \\\n",
    "            \"and then sticking with it when update values lead to better \" \\\n",
    "            \"performance. Using purely random policy is not even work! \"\n",
    "        )\n",
    "\n",
    "\n",
    "# We register a non-slippery version of FrozenLake environment.\n",
    "try:\n",
    "    gym.register(\n",
    "        id='FrozenLakeNotSlippery-v1',\n",
    "        entry_point='gymnasium.envs.toy_text:FrozenLakeEnv',\n",
    "        kwargs={'map_name': '4x4', 'is_slippery': False},\n",
    "        max_episode_steps=200,\n",
    "        reward_threshold=0.78,  # optimum = .8196\n",
    "    )\n",
    "except Error:\n",
    "    print(\"The environment is registered already.\")\n",
    "\n",
    "\n",
    "def _render_helper(env, sleep=0.1):\n",
    "    ret = env.render()\n",
    "    if sleep:\n",
    "        wait(sleep=sleep)\n",
    "    return ret\n",
    "\n",
    "\n",
    "def animate(img_array, fps=None):\n",
    "    \"\"\"A function that can generate video and show in Notebook.\"\"\"\n",
    "    media.show_video(img_array, fps=fps)\n",
    "\n",
    "\n",
    "def evaluate(policy, num_episodes=1, seed=0, env_name='FrozenLake8x8-v1',\n",
    "             render=None, existing_env=None, max_episode_length=1000,\n",
    "             sleep=0.0, verbose=False):\n",
    "    \"\"\"This function evaluates the given policy and return the mean episodic \n",
    "    reward.\n",
    "    :param policy: a function whose input is the observation\n",
    "    :param num_episodes: number of episodes you wish to run\n",
    "    :param seed: the random seed\n",
    "    :param env_name: the name of the environment\n",
    "    :param render: a boolean flag indicating whether to render policy\n",
    "    :return: the averaged episode reward of the given policy.\n",
    "    \"\"\"\n",
    "    if existing_env is None:\n",
    "        render_mode = render if render else None\n",
    "        env = gym.make(env_name, render_mode=render)\n",
    "    else:\n",
    "        env = existing_env\n",
    "    try:\n",
    "        rewards = []\n",
    "        frames = []\n",
    "        succ_rate = []\n",
    "        if render:\n",
    "            num_episodes = 1\n",
    "        for i in range(num_episodes):\n",
    "            obs, info = env.reset(seed=seed + i)\n",
    "            act = policy(obs)\n",
    "            ep_reward = 0\n",
    "            for step_count in range(max_episode_length):\n",
    "                obs, reward, terminated, truncated, info = env.step(act)\n",
    "                done = terminated or truncated\n",
    "\n",
    "                act = policy(obs)\n",
    "                ep_reward += reward\n",
    "\n",
    "                if verbose and step_count % 50 == 0:\n",
    "                    print(\"Evaluating {}/{} episodes. We are in {}/{} steps. Current episode reward: {:.3f}\".format(\n",
    "                        i + 1, num_episodes, step_count + 1, max_episode_length, ep_reward\n",
    "                    ))\n",
    "\n",
    "                if render == \"ansi\":\n",
    "                    print(_render_helper(env, sleep))\n",
    "                elif render:\n",
    "                    frames.append(_render_helper(env, sleep))\n",
    "                if done:\n",
    "                    break\n",
    "            rewards.append(ep_reward)\n",
    "            if \"arrive_dest\" in info:\n",
    "                succ_rate.append(float(info[\"arrive_dest\"]))\n",
    "        if render:\n",
    "            env.close()\n",
    "    except Exception as e:\n",
    "        env.close()\n",
    "        raise e\n",
    "    finally:\n",
    "        env.close()\n",
    "    eval_dict = {\"frames\": frames}\n",
    "    if succ_rate:\n",
    "        eval_dict[\"success_rate\"] = sum(succ_rate) / len(succ_rate)\n",
    "    return np.mean(rewards), eval_dict\n"
   ]
  },
  {
   "cell_type": "code",
   "execution_count": 30,
   "id": "d21c8c84",
   "metadata": {
    "id": "d21c8c84"
   },
   "outputs": [],
   "source": [
    "# Run this cell without modification\n",
    "\n",
    "DEFAULT_CONFIG = dict(\n",
    "    seed=0,\n",
    "    max_iteration=20000,\n",
    "    max_episode_length=200,\n",
    "    evaluate_interval=10,\n",
    "    evaluate_num_episodes=10,\n",
    "    learning_rate=0.001,\n",
    "    gamma=0.8,\n",
    "    eps=0.3,\n",
    "    env_name='FrozenLakeNotSlippery-v1'\n",
    ")\n",
    "\n",
    "\n",
    "class AbstractTrainer:\n",
    "    \"\"\"This is the abstract class for value-based RL trainer. We will inherent\n",
    "    the new trainer from this class, so that we can reuse the code.\n",
    "    \"\"\"\n",
    "\n",
    "    def __init__(self, config):\n",
    "        self.config = merge_config(config, DEFAULT_CONFIG)\n",
    "\n",
    "        # Create the environment\n",
    "        self.env_name = self.config['env_name']\n",
    "        self.env = gym.make(self.env_name)\n",
    "\n",
    "        # Apply the random seed\n",
    "        self.seed = self.config[\"seed\"]\n",
    "        np.random.seed(self.seed)\n",
    "        self.env.reset(seed=self.seed)\n",
    "\n",
    "        # We set self.obs_dim to the number of possible observations\n",
    "        # if observation space is discrete, otherwise the number\n",
    "        # of observation's dimensions. The same applies to self.act_dim.\n",
    "        if isinstance(self.env.observation_space, gym.spaces.box.Box):\n",
    "            assert len(self.env.observation_space.shape) == 1\n",
    "            self.obs_dim = self.env.observation_space.shape[0]\n",
    "            self.discrete_obs = False\n",
    "        elif isinstance(self.env.observation_space,\n",
    "                        gym.spaces.discrete.Discrete):\n",
    "            self.obs_dim = self.env.observation_space.n\n",
    "            self.discrete_obs = True\n",
    "        else:\n",
    "            raise ValueError(\"Wrong observation space!\")\n",
    "\n",
    "        if isinstance(self.env.action_space, gym.spaces.box.Box):\n",
    "            assert len(self.env.action_space.shape) == 1\n",
    "            self.act_dim = self.env.action_space.shape[0]\n",
    "        elif isinstance(self.env.action_space, gym.spaces.discrete.Discrete):\n",
    "            self.act_dim = self.env.action_space.n\n",
    "        else:\n",
    "            raise ValueError(\"Wrong action space! {}\".format(self.env.action_space))\n",
    "\n",
    "        self.eps = self.config['eps']\n",
    "\n",
    "    def process_state(self, state):\n",
    "        \"\"\"\n",
    "        Process the raw observation. For example, we can use this function to\n",
    "        convert the input state represented by an integer to a one-hot vector.\n",
    "        \"\"\"\n",
    "        return state\n",
    "\n",
    "    def compute_action(self, processed_state, eps=None):\n",
    "        \"\"\"Compute the action given the processed state.\"\"\"\n",
    "        raise NotImplementedError(\n",
    "            \"You need to override the Trainer.compute_action() function.\")\n",
    "\n",
    "    def evaluate(self, num_episodes=50, *args, **kwargs):\n",
    "        \"\"\"Use the function you write to evaluate current policy.\n",
    "        Return the mean episode reward of 50 episodes.\"\"\"\n",
    "        if \"MetaDrive\" in self.env_name:\n",
    "            kwargs[\"existing_env\"] = self.env\n",
    "        result, eval_infos = evaluate(self.policy, num_episodes, seed=self.seed,\n",
    "                                      env_name=self.env_name, *args, **kwargs)\n",
    "        return result, eval_infos\n",
    "\n",
    "    def policy(self, raw_state, eps=0.0):\n",
    "        \"\"\"A wrapper function takes raw_state as input and output action.\"\"\"\n",
    "        return self.compute_action(self.process_state(raw_state), eps=eps)\n",
    "\n",
    "    def train(self, iteration=None):\n",
    "        \"\"\"Conduct one iteration of learning.\"\"\"\n",
    "        raise NotImplementedError(\"You need to override the \"\n",
    "                                  \"Trainer.train() function.\")\n"
   ]
  },
  {
   "cell_type": "code",
   "execution_count": 31,
   "id": "4067c392-1693-44ab-9024-5142d4fa7610",
   "metadata": {},
   "outputs": [],
   "source": [
    "import tqdm"
   ]
  },
  {
   "cell_type": "code",
   "execution_count": 32,
   "id": "cf324d71",
   "metadata": {
    "id": "cf324d71"
   },
   "outputs": [],
   "source": [
    "# Run this cell without modification\n",
    "\n",
    "def run(trainer_cls, config=None, reward_threshold=None):\n",
    "    \"\"\"Run the trainer and report learning progress.\n",
    "    :param trainer_cls: A trainer class \n",
    "    :param config: A dict\n",
    "    :param reward_threshold: the reward threshold to break the training\n",
    "    :return: The trained trainer and a dataframe containing learning progress\n",
    "    \"\"\"\n",
    "    if config is None:\n",
    "        config = {}\n",
    "    trainer = trainer_cls(config)\n",
    "    config = trainer.config\n",
    "    start = now = time.time()\n",
    "    stats = []\n",
    "    total_steps = 0\n",
    "    reward = 0.0\n",
    "\n",
    "    try:\n",
    "        pbar = tqdm.trange(config['max_iteration'] + 1, desc=\"Training\")\n",
    "        for i in pbar:\n",
    "            stat = trainer.train(iteration=i)\n",
    "            stat = stat or {}\n",
    "            stats.append(stat)\n",
    "            if \"episode_len\" in stat:\n",
    "                total_steps += stat[\"episode_len\"]\n",
    "            if i % config['evaluate_interval'] == 0 or \\\n",
    "                    i == config[\"max_iteration\"]:\n",
    "                reward, _ = trainer.evaluate(\n",
    "                    config.get(\"evaluate_num_episodes\", 50),\n",
    "                    max_episode_length=config.get(\"max_episode_length\", 1000)\n",
    "                )\n",
    "                now = time.time()\n",
    "                pbar.set_postfix({'ep_reward': reward})\n",
    "            if reward_threshold is not None and reward > reward_threshold:\n",
    "                logger.info(\"Iter {}, episodic return {:.3f} is \"\n",
    "                            \"greater than reward threshold {}. Congratulation! Now we \"\n",
    "                            \"exit the training process.\".format(i, reward, reward_threshold))\n",
    "                break\n",
    "    except Exception as e:\n",
    "        print(\"Error happens during training: \")\n",
    "        raise e\n",
    "    finally:\n",
    "        if hasattr(trainer.env, \"close\"):\n",
    "            trainer.env.close()\n",
    "            print(\"Environment is closed.\")\n",
    "\n",
    "    return trainer, stats\n"
   ]
  },
  {
   "cell_type": "markdown",
   "id": "64a565ab",
   "metadata": {
    "id": "64a565ab"
   },
   "source": [
    "## Section 2: Q-Learning\n",
    "(20/100 points)\n",
    "\n",
    "Q-learning is an off-policy algorithm who differs from SARSA in the TD error. \n",
    "\n",
    "Unlike getting the TD error by running policy to get `next_act` $a'$ and compute:\n",
    "\n",
    "$r + \\gamma Q(s', a') - Q(s, a)$\n",
    "\n",
    "as in SARSA, in Q-learning we compute the TD error via:\n",
    "\n",
    "$r + \\gamma \\max_{a'} Q(s', a') - Q(s, a)$. \n",
    "\n",
    "The reason we call it \"off-policy\" is that the next-Q value is not computed against the \"behavior policy\", instead, it is the next Q value of a \"hypothetical policy\" that always takes the best action given current Q values."
   ]
  },
  {
   "cell_type": "markdown",
   "id": "188997dd",
   "metadata": {},
   "source": [
    "### Section 2.1: Building Q Learning Trainer"
   ]
  },
  {
   "cell_type": "code",
   "execution_count": 33,
   "id": "6a2ec18b",
   "metadata": {
    "id": "6a2ec18b"
   },
   "outputs": [],
   "source": [
    "# Solve the TODOs and remove `pass`\n",
    "\n",
    "# Managing configurations of your experiments is important for your research.\n",
    "Q_LEARNING_TRAINER_CONFIG = merge_config(dict(\n",
    "    eps=0.3,\n",
    "), DEFAULT_CONFIG)\n",
    "\n",
    "\n",
    "class QLearningTrainer(AbstractTrainer):\n",
    "    def __init__(self, config=None):\n",
    "        config = merge_config(config, Q_LEARNING_TRAINER_CONFIG)\n",
    "        super(QLearningTrainer, self).__init__(config=config)\n",
    "        self.gamma = self.config[\"gamma\"]\n",
    "        self.eps = self.config[\"eps\"]\n",
    "        self.max_episode_length = self.config[\"max_episode_length\"]\n",
    "        self.learning_rate = self.config[\"learning_rate\"]\n",
    "\n",
    "        # build the Q table\n",
    "        self.table = np.zeros((self.obs_dim, self.act_dim))\n",
    "\n",
    "    def compute_action(self, obs, eps=None):\n",
    "        \"\"\"Implement epsilon-greedy policy\n",
    "\n",
    "        It is a function that take an integer (state / observation)\n",
    "        as input and return an interger (action).\n",
    "        \"\"\"\n",
    "        if eps is None:\n",
    "            eps = self.eps\n",
    "\n",
    "        # TODO: You need to implement the epsilon-greedy policy here.\n",
    "        # That is, with probability eps, you will choose a (uniformly) random action\n",
    "        # in the action space. With probability 1-eps, you will choose the argmax\n",
    "        # action that maximizes the Q values.\n",
    "        # The Q values is stored in self.table.\n",
    "        if np.random.rand() < eps:\n",
    "            # Choose a random action\n",
    "            action = np.random.randint(self.act_dim)\n",
    "        else:\n",
    "            # Choose the best action according to Q table.\n",
    "            action = np.argmax(self.table[obs])\n",
    "\n",
    "        return action\n",
    "\n",
    "    def train(self, iteration=None):\n",
    "        \"\"\"Do one iteration of training.\"\"\"\n",
    "        obs, info = self.env.reset()\n",
    "        for t in range(self.max_episode_length):\n",
    "            act = self.compute_action(obs)\n",
    "\n",
    "            next_obs, reward, terminated, truncated, info = self.env.step(act)\n",
    "            done = terminated or truncated\n",
    "\n",
    "            # TODO: compute the TD error.\n",
    "            # [Hint] You will use reward `reward`, current observation `obs`, \n",
    "            # next observation `next_obs`, current action `act`, and Q value\n",
    "            # table `self.table`, and gamma `self.gamma`.\n",
    "            \n",
    "            max_q_next = 0 if done else np.max(self.table[next_obs])\n",
    "            td_error = reward + self.gamma * max_q_next - self.table[obs][act]\n",
    "\n",
    "            # TODO: compute the new (updated) Q value.\n",
    "            # [Hint] Use the computed TD error, self.learning_rate and Q value.\n",
    "            # This is actually a step of gradient descent. \n",
    "            new_value = self.table[obs][act] + self.learning_rate * td_error\n",
    "\n",
    "            self.table[obs][act] = new_value\n",
    "            obs = next_obs\n",
    "            if done:\n",
    "                break\n"
   ]
  },
  {
   "cell_type": "markdown",
   "id": "b2f6c0f2",
   "metadata": {},
   "source": [
    "### Section 2.2: Use Q Learning to train agent in FrozenLake"
   ]
  },
  {
   "cell_type": "code",
   "execution_count": 34,
   "id": "61586e08",
   "metadata": {
    "colab": {
     "base_uri": "https://localhost:8080/"
    },
    "id": "61586e08",
    "outputId": "05ad92b5-a19b-4812-ee1a-a3c775799b3d",
    "scrolled": true
   },
   "outputs": [
    {
     "name": "stderr",
     "output_type": "stream",
     "text": [
      "Training:  42%|████▏     | 2101/5001 [00:07<00:10, 286.42it/s, ep_reward=1][INFO] Iter 2150, episodic return 1.000 is greater than reward threshold 0.99. Congratulation! Now we exit the training process.\n",
      "Training:  43%|████▎     | 2150/5001 [00:07<00:09, 287.95it/s, ep_reward=1]"
     ]
    },
    {
     "name": "stdout",
     "output_type": "stream",
     "text": [
      "Environment is closed.\n"
     ]
    },
    {
     "name": "stderr",
     "output_type": "stream",
     "text": [
      "\n"
     ]
    }
   ],
   "source": [
    "# Run this cell without modification\n",
    "\n",
    "q_learning_trainer, _ = run(\n",
    "    trainer_cls=QLearningTrainer,\n",
    "    config=dict(\n",
    "        max_iteration=5000,\n",
    "        evaluate_interval=50,\n",
    "        evaluate_num_episodes=50,\n",
    "        env_name='FrozenLakeNotSlippery-v1'\n",
    "    ),\n",
    "    reward_threshold=0.99\n",
    ")\n"
   ]
  },
  {
   "cell_type": "code",
   "execution_count": 35,
   "id": "9fe03c52",
   "metadata": {
    "colab": {
     "base_uri": "https://localhost:8080/"
    },
    "id": "9fe03c52",
    "outputId": "57d058af-741d-422b-d84c-26f5bbc61820"
   },
   "outputs": [
    {
     "data": {
      "text/html": [
       "<table class=\"show_videos\" style=\"border-spacing:0px;\"><tr><td style=\"padding:1px;\"><video controls width=\"256\" height=\"256\" style=\"object-fit:cover;\" loop autoplay muted>\n",
       "      <source src=\"data:video/mp4;base64,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\" type=\"video/mp4\"/>\n",
       "      This browser does not support the video tag.\n",
       "      </video></td></tr></table>"
      ],
      "text/plain": [
       "<IPython.core.display.HTML object>"
      ]
     },
     "metadata": {},
     "output_type": "display_data"
    }
   ],
   "source": [
    "# Run this cell without modification\n",
    "\n",
    "# Visualize the learned behavior\n",
    "_, eval_info = evaluate(\n",
    "    policy=q_learning_trainer.policy,\n",
    "    num_episodes=1,\n",
    "    env_name=q_learning_trainer.env_name,\n",
    "    render=\"rgb_array\",  # Visualize the behavior here in the cell \n",
    "    sleep=0.2  # The time interval between two rendering frames\n",
    ")\n",
    "animate(eval_info[\"frames\"], fps=2)"
   ]
  },
  {
   "cell_type": "markdown",
   "id": "e198cc0a",
   "metadata": {
    "id": "e198cc0a"
   },
   "source": [
    "## Section 3: Implement Deep Q Learning in Pytorch\n",
    "\n",
    "(30 / 100 points)\n",
    "\n",
    "In this section, we will implement a neural network and train it with Deep Q Learning via Pytorch, a powerful deep learning framework. \n",
    "\n",
    "If you are not familiar with Pytorch, we suggest you to go through pytorch official quickstart tutorials:\n",
    "1. [quickstart](https://pytorch.org/tutorials/beginner/deep_learning_60min_blitz.html)\n",
    "2. [tutorial on RL](https://pytorch.org/tutorials/intermediate/reinforcement_q_learning.html)\n",
    "\n",
    "Different from the Q learning in Section 2, we will implement Deep Q Network (DQN) in this section. The main differences are summarized as follows:\n",
    "\n",
    "**DQN requires an experience replay buffer to store the transitions.** A replay memory (buffer) is implemented in the following `ExperienceReplayMemory` class. It contains a certain amount of transitions: `(s_t, a_t, r_t, s_t+1, done_t)`. When the memory is full, the earliest transition is discarded and the latest one is stored. The replay memory increases the sample efficiency (since each transition might be used multiple times) when solving complex task.\n",
    "\n",
    "\n",
    "**DQN has a delayed-updating target network.** DQN maintains another neural network called the target network that has identical architecture of the Q network. After a certain amount of learning steps has been taken, the target network copies the parameters of the Q network to itself. The update of the target network will be much less frequent than the update of the Q network.\n",
    "\n",
    "The target network is used to stabilize the estimation of the TD error. In DQN, the TD error is estimated as:\n",
    "\n",
    "$$(r_t + \\gamma \\max_{a_{t+1}} Q^{target}(s_{t+1}, a_{t+1}) - Q(s_t, a_t))$$\n",
    "\n",
    "The Q value of the next state is estimated by the target network, not the Q network that is being updated. This mechanism can reduce the variance of gradient because the next Q values is not influenced by the update of current Q network.\n"
   ]
  },
  {
   "cell_type": "markdown",
   "id": "aa025029",
   "metadata": {},
   "source": [
    "### Section 3.1: Build DQN trainer"
   ]
  },
  {
   "cell_type": "code",
   "execution_count": 36,
   "id": "6a87cab7",
   "metadata": {
    "id": "6a87cab7"
   },
   "outputs": [],
   "source": [
    "# Solve the TODOs and remove `pass`\n",
    "\n",
    "from collections import deque\n",
    "import random\n",
    "\n",
    "\n",
    "class ExperienceReplayMemory:\n",
    "    \"\"\"Store and sample the transitions\"\"\"\n",
    "\n",
    "    def __init__(self, capacity):\n",
    "        # deque is a useful class which acts like a list but only contain\n",
    "        # finite elements. When adding new element into the deque will make deque full with \n",
    "        # `maxlen` elements, the oldest element (the index 0 element) will be removed.\n",
    "\n",
    "        # TODO: uncomment next line. \n",
    "        self.memory = deque(maxlen=capacity)\n",
    "        \n",
    "\n",
    "    def push(self, transition):\n",
    "        self.memory.append(transition)\n",
    "\n",
    "    def sample(self, batch_size):\n",
    "        return random.sample(self.memory, batch_size)\n",
    "\n",
    "    def __len__(self):\n",
    "        return len(self.memory)"
   ]
  },
  {
   "cell_type": "code",
   "execution_count": 37,
   "id": "1a72ec0f",
   "metadata": {
    "colab": {
     "base_uri": "https://localhost:8080/"
    },
    "id": "1a72ec0f",
    "outputId": "20a2f35b-6a96-48f1-8626-707411112d68"
   },
   "outputs": [
    {
     "name": "stdout",
     "output_type": "stream",
     "text": [
      "Name of each parameter vectors:  odict_keys(['action_value.0.weight', 'action_value.0.bias', 'action_value.2.weight', 'action_value.2.bias', 'action_value.4.weight', 'action_value.4.bias'])\n",
      "Test passed!\n"
     ]
    }
   ],
   "source": [
    "# Solve the TODOs and remove `pass`\n",
    "\n",
    "class PytorchModel(nn.Module):\n",
    "    def __init__(self, num_inputs, num_outputs, hidden_units=100):\n",
    "        super(PytorchModel, self).__init__()\n",
    "\n",
    "        # TODO: Build a nn.Sequential object as the neural network with two hidden layers and one output layer.\n",
    "        #\n",
    "        # The first hidden layer takes `num_inputs`-dim vector as input and has `hidden_units` hidden units,\n",
    "        # followed by a ReLU activation function.\n",
    "        # \n",
    "        # The second hidden layer takes `hidden_units`-dim vector as input and has `hidden_units` hidden units,\n",
    "        # followed by a ReLU activation function.\n",
    "        # \n",
    "        # The output layer takes `hidden_units`-dim vector as input and returns `num_outputs`-dim vctor as output.\n",
    "        self.action_value = nn.Sequential(\n",
    "            nn.Linear(num_inputs, hidden_units),\n",
    "            nn.ReLU(),\n",
    "            nn.Linear(hidden_units, hidden_units),\n",
    "            nn.ReLU(),\n",
    "            nn.Linear(hidden_units, num_outputs)\n",
    "        )\n",
    "\n",
    "    def forward(self, obs):\n",
    "        return self.action_value(obs)\n",
    "\n",
    "\n",
    "# Test\n",
    "test_pytorch_model = PytorchModel(num_inputs=3, num_outputs=7, hidden_units=123)\n",
    "assert isinstance(test_pytorch_model.action_value, nn.Module)\n",
    "assert len(test_pytorch_model.state_dict()) == 6\n",
    "assert test_pytorch_model.state_dict()[\"action_value.0.weight\"].shape == (123, 3)\n",
    "print(\"Name of each parameter vectors: \", test_pytorch_model.state_dict().keys())\n",
    "\n",
    "print(\"Test passed!\")"
   ]
  },
  {
   "cell_type": "code",
   "execution_count": 52,
   "id": "dddbd300",
   "metadata": {
    "id": "dddbd300"
   },
   "outputs": [],
   "source": [
    "# Solve the TODOs and remove `pass`\n",
    "\n",
    "DQN_CONFIG = merge_config(dict(\n",
    "    parameter_std=0.01,\n",
    "    learning_rate=0.001,\n",
    "    hidden_dim=100,\n",
    "    clip_norm=1.0,\n",
    "    clip_gradient=True,\n",
    "    max_iteration=1000,\n",
    "    max_episode_length=1000,\n",
    "    evaluate_interval=100,\n",
    "    gamma=0.99,\n",
    "    eps=0.3,\n",
    "    memory_size=50000,\n",
    "    learn_start=5000,\n",
    "    batch_size=32,\n",
    "    target_update_freq=500,  # in steps\n",
    "    learn_freq=1,  # in steps\n",
    "    n=1,\n",
    "    env_name=\"CartPole-v1\",\n",
    "), Q_LEARNING_TRAINER_CONFIG)\n",
    "\n",
    "\n",
    "def to_tensor(x):\n",
    "    \"\"\"A helper function to transform a numpy array to a Pytorch Tensor\"\"\"\n",
    "    if isinstance(x, np.ndarray):\n",
    "        x = torch.from_numpy(x).type(torch.float32)\n",
    "    assert isinstance(x, torch.Tensor)\n",
    "    if x.dim() == 3 or x.dim() == 1:\n",
    "        x = x.unsqueeze(0)\n",
    "    assert x.dim() == 2 or x.dim() == 4, x.shape\n",
    "    return x\n",
    "\n",
    "\n",
    "class DQNTrainer(AbstractTrainer):\n",
    "    def __init__(self, config):\n",
    "        config = merge_config(config, DQN_CONFIG)\n",
    "        self.learning_rate = config[\"learning_rate\"]\n",
    "        super().__init__(config)\n",
    "\n",
    "        self.memory = ExperienceReplayMemory(config[\"memory_size\"])\n",
    "\n",
    "        self.learn_start = config[\"learn_start\"]\n",
    "        self.batch_size = config[\"batch_size\"]\n",
    "        self.target_update_freq = config[\"target_update_freq\"]\n",
    "        self.clip_norm = config[\"clip_norm\"]\n",
    "        self.hidden_dim = config[\"hidden_dim\"]\n",
    "        self.max_episode_length = self.config[\"max_episode_length\"]\n",
    "        self.learning_rate = self.config[\"learning_rate\"]\n",
    "        self.gamma = self.config[\"gamma\"]\n",
    "        self.n = self.config[\"n\"]\n",
    "\n",
    "        self.step_since_update = 0\n",
    "        self.total_step = 0\n",
    "\n",
    "        # You need to setup the parameter for your function approximator.\n",
    "        self.initialize_parameters()\n",
    "\n",
    "    def initialize_parameters(self):\n",
    "        # TODO: Initialize the Q network and the target network using PytorchModel class.\n",
    "        self.network = PytorchModel(self.obs_dim, self.act_dim)\n",
    "\n",
    "        self.network.eval()\n",
    "        self.network.share_memory()\n",
    "\n",
    "        # Initialize target network to be identical to self.network. \n",
    "        # You should put the weights of self.network into self.target_network.\n",
    "        # TODO: Uncomment next few lines\n",
    "        self.target_network = PytorchModel(self.obs_dim, self.act_dim)\n",
    "        self.target_network.load_state_dict(self.network.state_dict())\n",
    "        \n",
    "        self.target_network.eval()\n",
    "\n",
    "        # Build Adam optimizer and MSE Loss.\n",
    "        # TODO: Uncomment next few lines\n",
    "        self.optimizer = torch.optim.Adam(\n",
    "            self.network.parameters(), lr=self.learning_rate\n",
    "        )\n",
    "        self.loss = nn.MSELoss()\n",
    "\n",
    "    def compute_values(self, processed_state):\n",
    "        \"\"\"Compute the value for each potential action. Note that you\n",
    "        should NOT preprocess the state here.\"\"\"\n",
    "        values = self.network(processed_state).detach().numpy()\n",
    "        return values\n",
    "\n",
    "    def compute_action(self, processed_state, eps=None):\n",
    "        \"\"\"Compute the action given the state. Note that the input\n",
    "        is the processed state.\"\"\"\n",
    "        values = self.compute_values(processed_state)\n",
    "        assert values.ndim == 1, values.shape\n",
    "\n",
    "        if eps is None:\n",
    "            eps = self.eps\n",
    "\n",
    "        if np.random.uniform(0, 1) < eps:\n",
    "            action = self.env.action_space.sample()\n",
    "        else:\n",
    "            action = np.argmax(values)\n",
    "        return action\n",
    "\n",
    "    def train(self, iteration=None):\n",
    "        iteration_string = \"\" if iteration is None else f\"Iter {iteration}: \"\n",
    "        obs, info = self.env.reset()\n",
    "        processed_obs = self.process_state(obs)\n",
    "        act = self.compute_action(processed_obs)\n",
    "\n",
    "        stat = {\"loss\": [], \"success_rate\": np.nan}\n",
    "\n",
    "        for t in range(self.max_episode_length):\n",
    "            next_obs, reward, terminated, truncated, info = self.env.step(act)\n",
    "            done = terminated or truncated\n",
    "\n",
    "            next_processed_obs = self.process_state(next_obs)\n",
    "\n",
    "            # Push the transition into memory.\n",
    "            self.memory.push(\n",
    "                (processed_obs, act, reward, next_processed_obs, done)\n",
    "            )\n",
    "\n",
    "            processed_obs = next_processed_obs\n",
    "            act = self.compute_action(next_processed_obs)\n",
    "            self.step_since_update += 1\n",
    "            self.total_step += 1\n",
    "\n",
    "            if done:\n",
    "                if \"arrive_dest\" in info:\n",
    "                    stat[\"success_rate\"] = info[\"arrive_dest\"]\n",
    "                break\n",
    "\n",
    "            if t % self.config[\"learn_freq\"] != 0:\n",
    "                # It's not necessary to update policy in each environmental interaction.\n",
    "                continue\n",
    "\n",
    "            if len(self.memory) < self.learn_start:\n",
    "                continue\n",
    "            elif len(self.memory) == self.learn_start:\n",
    "                logging.info(\n",
    "                    \"{}Current memory contains {} transitions, \"\n",
    "                    \"start learning!\".format(iteration_string, self.learn_start)\n",
    "                )\n",
    "\n",
    "            batch = self.memory.sample(self.batch_size)\n",
    "\n",
    "            # Transform a batch of elements in transitions into tensors.\n",
    "            state_batch = to_tensor(\n",
    "                np.stack([transition[0] for transition in batch])\n",
    "            )\n",
    "            action_batch = to_tensor(\n",
    "                np.stack([transition[1] for transition in batch])\n",
    "            )\n",
    "            reward_batch = to_tensor(\n",
    "                np.stack([transition[2] for transition in batch])\n",
    "            )\n",
    "            next_state_batch = torch.stack(\n",
    "                [transition[3] for transition in batch]\n",
    "            )\n",
    "            done_batch = to_tensor(\n",
    "                np.stack([transition[4] for transition in batch])\n",
    "            )\n",
    "\n",
    "            with torch.no_grad():\n",
    "                # TODO: Compute the Q values for the next states by calling target network.\n",
    "                # Q_t_plus_one: torch.Tensor = self.target_network(next_state_batch).max(dim=1).values\n",
    "                Q_t_plus_one: torch.Tensor = self.target_network(next_state_batch).max(1)[0]\n",
    "\n",
    "                assert isinstance(Q_t_plus_one, torch.Tensor)\n",
    "\n",
    "                # TODO: Compute the target values for current state.\n",
    "                # The Q_objective will be used as the objective in the loss function.\n",
    "                # Hint: Remember to use done_batch.\n",
    "                Q_objective = reward_batch + self.gamma * Q_t_plus_one * (1 - done_batch.float())\n",
    "                Q_objective = Q_objective.squeeze(0)\n",
    "\n",
    "                assert Q_objective.shape == (self.batch_size,)\n",
    "\n",
    "            self.network.train()  # Set the network to \"train\" mode.\n",
    "\n",
    "            # TODO: Collect the Q values in batch.\n",
    "            # Hint: The network will return the Q values for all actions at a given state.\n",
    "            #  So we need to \"extract\" the Q value for the action we've taken.\n",
    "            #  You need to use torch.gather to manipulate the 2nd dimension of the return\n",
    "            #  tensor from the network and extract the desired Q values.\n",
    "            q_values = self.network(state_batch)\n",
    "            action_batch = action_batch.long().view(-1, 1)\n",
    "            Q_t: torch.Tensor = q_values.gather(1, action_batch).view(-1)\n",
    "            # Q_t: torch.Tensor = self.network(state_batch).gather(1, action_batch.unsqueeze(1)).squeeze(1)\n",
    "\n",
    "            assert Q_t.shape == Q_objective.shape\n",
    "\n",
    "            # Update the network\n",
    "            self.optimizer.zero_grad()\n",
    "            loss = self.loss(input=Q_t, target=Q_objective)\n",
    "            stat['loss'].append(loss.item())\n",
    "            loss.backward()\n",
    "\n",
    "            # TODO: Apply gradient clipping with pytorch utility. Uncomment next line.\n",
    "            nn.utils.clip_grad_norm_(self.network.parameters(), self.clip_norm)\n",
    "            \n",
    "\n",
    "            self.optimizer.step()\n",
    "            self.network.eval()\n",
    "\n",
    "        if len(self.memory) >= self.learn_start and \\\n",
    "                self.step_since_update > self.target_update_freq:\n",
    "            self.step_since_update = 0\n",
    "\n",
    "            # TODO: Copy the weights of self.network to self.target_network.\n",
    "            self.target_network.load_state_dict(self.network.state_dict())\n",
    "\n",
    "            self.target_network.eval()\n",
    "\n",
    "        ret = {\"loss\": np.mean(stat[\"loss\"]), \"episode_len\": t}\n",
    "        if \"success_rate\" in stat:\n",
    "            ret[\"success_rate\"] = stat[\"success_rate\"]\n",
    "        return ret\n",
    "\n",
    "    def process_state(self, state):\n",
    "        return torch.from_numpy(state).type(torch.float32)\n",
    "\n",
    "    def save(self, loc=\"model.pt\"):\n",
    "        torch.save(self.network.state_dict(), loc)\n",
    "\n",
    "    def load(self, loc=\"model.pt\"):\n",
    "        self.network.load_state_dict(torch.load(loc,weights_only=False))\n"
   ]
  },
  {
   "cell_type": "markdown",
   "id": "45f6fabd",
   "metadata": {},
   "source": [
    "### Section 3.2: Test DQN trainer"
   ]
  },
  {
   "cell_type": "code",
   "execution_count": 54,
   "id": "30d4a27d",
   "metadata": {
    "colab": {
     "base_uri": "https://localhost:8080/"
    },
    "id": "30d4a27d",
    "outputId": "7a3c068c-a580-498a-953e-275da6def868"
   },
   "outputs": [
    {
     "name": "stdout",
     "output_type": "stream",
     "text": [
      "Now your codes should be bug-free.\n"
     ]
    },
    {
     "name": "stderr",
     "output_type": "stream",
     "text": [
      "Training:   0%|          | 0/21 [00:00<?, ?it/s, ep_reward=9.4][INFO] Iter 9: Current memory contains 100 transitions, start learning!\n",
      "Training: 100%|██████████| 21/21 [00:00<00:00, 37.33it/s, ep_reward=10.6]"
     ]
    },
    {
     "name": "stdout",
     "output_type": "stream",
     "text": [
      "Environment is closed.\n",
      "Test passed!\n"
     ]
    },
    {
     "name": "stderr",
     "output_type": "stream",
     "text": [
      "\n"
     ]
    }
   ],
   "source": [
    "# Run this cell without modification\n",
    "\n",
    "# Build the test trainer.\n",
    "test_trainer = DQNTrainer({})\n",
    "\n",
    "# Test compute_values\n",
    "fake_state = test_trainer.env.observation_space.sample()\n",
    "processed_state = test_trainer.process_state(fake_state)\n",
    "assert processed_state.shape == (test_trainer.obs_dim,), processed_state.shape\n",
    "values = test_trainer.compute_values(processed_state)\n",
    "assert values.shape == (test_trainer.act_dim,), values.shape\n",
    "\n",
    "test_trainer.train()\n",
    "print(\"Now your codes should be bug-free.\")\n",
    "\n",
    "_ = run(DQNTrainer, dict(\n",
    "    max_iteration=20,\n",
    "    evaluate_interval=10,\n",
    "    learn_start=100,\n",
    "    env_name=\"CartPole-v1\",\n",
    "))\n",
    "\n",
    "test_trainer.save(\"test_trainer.pt\")\n",
    "test_trainer.load(\"test_trainer.pt\")\n",
    "\n",
    "print(\"Test passed!\")"
   ]
  },
  {
   "cell_type": "markdown",
   "id": "ff767ce5",
   "metadata": {},
   "source": [
    "### Section 3.3: Train DQN agents in CartPole"
   ]
  },
  {
   "cell_type": "markdown",
   "id": "a53bf178",
   "metadata": {},
   "source": [
    "First, we visualize a random agent in CartPole environment."
   ]
  },
  {
   "cell_type": "code",
   "execution_count": 55,
   "id": "0221e34d",
   "metadata": {},
   "outputs": [
    {
     "data": {
      "text/html": [
       "<table class=\"show_videos\" style=\"border-spacing:0px;\"><tr><td style=\"padding:1px;\"><video controls width=\"600\" height=\"400\" style=\"object-fit:cover;\" loop autoplay muted>\n",
       "      <source src=\"data:video/mp4;base64,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\" type=\"video/mp4\"/>\n",
       "      This browser does not support the video tag.\n",
       "      </video></td></tr></table>"
      ],
      "text/plain": [
       "<IPython.core.display.HTML object>"
      ]
     },
     "metadata": {},
     "output_type": "display_data"
    },
    {
     "name": "stdout",
     "output_type": "stream",
     "text": [
      "A random agent achieves 18.0 return.\n"
     ]
    }
   ],
   "source": [
    "# Run this cell without modification\n",
    "\n",
    "eval_reward, eval_info = evaluate(\n",
    "    policy=lambda x: np.random.randint(2),\n",
    "    num_episodes=1,\n",
    "    env_name=\"CartPole-v1\",\n",
    "    render=\"rgb_array\",  # Visualize the behavior here in the cell \n",
    ")\n",
    "\n",
    "animate(eval_info[\"frames\"])\n",
    "\n",
    "print(\"A random agent achieves {} return.\".format(eval_reward))"
   ]
  },
  {
   "cell_type": "code",
   "execution_count": 56,
   "id": "957a5dbc",
   "metadata": {
    "colab": {
     "base_uri": "https://localhost:8080/"
    },
    "id": "957a5dbc",
    "outputId": "71a980c5-2bad-4727-f703-a4562af7028a"
   },
   "outputs": [
    {
     "name": "stderr",
     "output_type": "stream",
     "text": [
      "Training:  58%|█████▊    | 2900/5001 [03:39<08:03,  4.34it/s, ep_reward=500] [INFO] Iter 2900, episodic return 500.000 is greater than reward threshold 450.0. Congratulation! Now we exit the training process.\n",
      "Training:  58%|█████▊    | 2900/5001 [03:39<02:39, 13.21it/s, ep_reward=500]\n"
     ]
    },
    {
     "name": "stdout",
     "output_type": "stream",
     "text": [
      "Environment is closed.\n"
     ]
    }
   ],
   "source": [
    "# Run this cell without modification\n",
    "\n",
    "pytorch_trainer, pytorch_stat = run(DQNTrainer, dict(\n",
    "    max_iteration=5000,\n",
    "    evaluate_interval=100,\n",
    "    learning_rate=0.001,\n",
    "    clip_norm=10.0,\n",
    "    memory_size=50000,\n",
    "    learn_start=1000,\n",
    "    eps=0.1,\n",
    "    target_update_freq=2000,\n",
    "    batch_size=128,\n",
    "    learn_freq=32,\n",
    "    env_name=\"CartPole-v1\",\n",
    "), reward_threshold=450.0)\n",
    "\n",
    "reward, _ = pytorch_trainer.evaluate()\n",
    "assert reward > 400.0, \"Check your codes. \" \\\n",
    "                       \"Your agent should achieve {} reward in 5000 iterations.\" \\\n",
    "                       \"But it achieve {} reward in evaluation.\".format(400.0, reward)\n",
    "\n",
    "pytorch_trainer.save(\"dqn_trainer_cartpole.pt\")\n",
    "\n",
    "# Should solve the task in 10 minutes"
   ]
  },
  {
   "cell_type": "code",
   "execution_count": 57,
   "id": "66a4cf9a",
   "metadata": {
    "colab": {
     "base_uri": "https://localhost:8080/",
     "height": 434
    },
    "id": "66a4cf9a",
    "outputId": "ac906699-4cd4-40ad-eaea-d41b975d6a14"
   },
   "outputs": [
    {
     "data": {
      "text/html": [
       "<table class=\"show_videos\" style=\"border-spacing:0px;\"><tr><td style=\"padding:1px;\"><video controls width=\"600\" height=\"400\" style=\"object-fit:cover;\" loop autoplay muted>\n",
       "      <source src=\"data:video/mp4;base64,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\" type=\"video/mp4\"/>\n",
       "      This browser does not support the video tag.\n",
       "      </video></td></tr></table>"
      ],
      "text/plain": [
       "<IPython.core.display.HTML object>"
      ]
     },
     "metadata": {},
     "output_type": "display_data"
    },
    {
     "name": "stdout",
     "output_type": "stream",
     "text": [
      "DQN agent achieves 500.0 return.\n"
     ]
    }
   ],
   "source": [
    "# Run this cell without modification\n",
    "\n",
    "# Render the learned behavior\n",
    "eval_reward, eval_info = evaluate(\n",
    "    policy=pytorch_trainer.policy,\n",
    "    num_episodes=1,\n",
    "    env_name=pytorch_trainer.env_name,\n",
    "    render=\"rgb_array\",  # Visualize the behavior here in the cell \n",
    ")\n",
    "\n",
    "animate(eval_info[\"frames\"])\n",
    "\n",
    "print(\"DQN agent achieves {} return.\".format(eval_reward))"
   ]
  },
  {
   "cell_type": "markdown",
   "id": "98b60f6c",
   "metadata": {},
   "source": [
    "### Section 3.4: Train DQN agents in MetaDrive"
   ]
  },
  {
   "cell_type": "code",
   "execution_count": 58,
   "id": "e93c9cea",
   "metadata": {
    "id": "e93c9cea"
   },
   "outputs": [],
   "source": [
    "# Run this cell without modification\n",
    "\n",
    "def register_metadrive():\n",
    "    try:\n",
    "        from metadrive.envs import MetaDriveEnv\n",
    "        from metadrive.utils.config import merge_config_with_unknown_keys\n",
    "    except ImportError as e:\n",
    "        print(\"Please install MetaDrive through: pip install git+https://github.com/metadriverse/metadrive\")\n",
    "        raise e\n",
    "\n",
    "    env_names = []\n",
    "    try:\n",
    "        class MetaDriveEnvTut(gym.Wrapper):\n",
    "            def __init__(self, config, *args, render_mode=None, **kwargs):\n",
    "                # Ignore render_mode\n",
    "                self._render_mode = render_mode\n",
    "                super().__init__(MetaDriveEnv(config))\n",
    "                self.env.logger.setLevel(logging.FATAL)\n",
    "                self.action_space = gym.spaces.Discrete(int(np.prod(self.env.action_space.n)))\n",
    "\n",
    "            def reset(self, *args, seed=None, render_mode=None, options=None, **kwargs):\n",
    "                # Ignore seed and render_mode\n",
    "                return self.env.reset(*args, **kwargs)\n",
    "\n",
    "            def render(self):\n",
    "                return self.env.render(mode=self._render_mode)\n",
    "\n",
    "        def _make_env(*args, **kwargs):\n",
    "            return MetaDriveEnvTut(*args, **kwargs)\n",
    "\n",
    "        env_name = \"MetaDrive-Tut-Easy-v0\"\n",
    "        gym.register(id=env_name, entry_point=_make_env, kwargs={\"config\": dict(\n",
    "            map=\"S\",\n",
    "            start_seed=0,\n",
    "            num_scenarios=1,\n",
    "            horizon=200,\n",
    "            discrete_action=True,\n",
    "            discrete_steering_dim=3,\n",
    "            discrete_throttle_dim=3\n",
    "        )})\n",
    "        env_names.append(env_name)\n",
    "\n",
    "        env_name = \"MetaDrive-Tut-Hard-v0\"\n",
    "        gym.register(id=env_name, entry_point=_make_env, kwargs={\"config\": dict(\n",
    "            map=\"CCC\",\n",
    "            start_seed=0,\n",
    "            num_scenarios=10,\n",
    "            discrete_action=True,\n",
    "            discrete_steering_dim=5,\n",
    "            discrete_throttle_dim=5\n",
    "        )})\n",
    "        env_names.append(env_name)\n",
    "    except gym.error.Error as e:\n",
    "        print(\"Information when registering MetaDrive: \", e)\n",
    "    else:\n",
    "        print(\"Successfully registered MetaDrive environments: \", env_names)\n"
   ]
  },
  {
   "cell_type": "code",
   "execution_count": 59,
   "id": "89fb5d1e",
   "metadata": {
    "colab": {
     "base_uri": "https://localhost:8080/"
    },
    "id": "89fb5d1e",
    "outputId": "2eb2cf53-138d-4143-b36c-eadbcfa11be7"
   },
   "outputs": [
    {
     "name": "stdout",
     "output_type": "stream",
     "text": [
      "Successfully registered MetaDrive environments:  ['MetaDrive-Tut-Easy-v0', 'MetaDrive-Tut-Hard-v0']\n"
     ]
    }
   ],
   "source": [
    "# Run this cell without modification\n",
    "\n",
    "register_metadrive()"
   ]
  },
  {
   "cell_type": "code",
   "execution_count": 61,
   "id": "b580ec99",
   "metadata": {
    "colab": {
     "base_uri": "https://localhost:8080/"
    },
    "id": "b580ec99",
    "outputId": "08cd25dc-2ed5-46b5-e2ed-3ecf86e61942"
   },
   "outputs": [
    {
     "name": "stderr",
     "output_type": "stream",
     "text": [
      "\u001b[38;20m[INFO] Environment: MetaDriveEnv\u001b[0m\n",
      "\u001b[38;20m[INFO] MetaDrive version: 0.4.3\u001b[0m\n",
      "\u001b[38;20m[INFO] Sensors: [lidar: Lidar(), side_detector: SideDetector(), lane_line_detector: LaneLineDetector()]\u001b[0m\n",
      "\u001b[38;20m[INFO] Render Mode: none\u001b[0m\n",
      "\u001b[38;20m[INFO] Horizon (Max steps per agent): 200\u001b[0m\n"
     ]
    },
    {
     "name": "stdout",
     "output_type": "stream",
     "text": [
      "Now your codes should be bug-free.\n"
     ]
    }
   ],
   "source": [
    "# Run this cell without modification\n",
    "\n",
    "# Build the test trainer.\n",
    "test_trainer = DQNTrainer(dict(env_name=\"MetaDrive-Tut-Easy-v0\"))\n",
    "\n",
    "# Test compute_values\n",
    "for _ in range(10):\n",
    "    fake_state = test_trainer.env.observation_space.sample()\n",
    "    processed_state = test_trainer.process_state(fake_state)\n",
    "    assert processed_state.shape == (test_trainer.obs_dim,), processed_state.shape\n",
    "    values = test_trainer.compute_values(processed_state)\n",
    "    assert values.shape == (test_trainer.act_dim,), values.shape\n",
    "\n",
    "    test_trainer.train()\n",
    "\n",
    "print(\"Now your codes should be bug-free.\")\n",
    "test_trainer.env.close()\n",
    "del test_trainer"
   ]
  },
  {
   "cell_type": "code",
   "execution_count": 62,
   "id": "675c9809",
   "metadata": {
    "colab": {
     "base_uri": "https://localhost:8080/"
    },
    "id": "675c9809",
    "outputId": "a45d5773-fc88-464b-ad5c-10dcf94b599f"
   },
   "outputs": [
    {
     "name": "stderr",
     "output_type": "stream",
     "text": [
      "\u001b[38;20m[INFO] Environment: MetaDriveEnv\u001b[0m\n",
      "\u001b[38;20m[INFO] MetaDrive version: 0.4.3\u001b[0m\n",
      "\u001b[38;20m[INFO] Sensors: [lidar: Lidar(), side_detector: SideDetector(), lane_line_detector: LaneLineDetector()]\u001b[0m\n",
      "\u001b[38;20m[INFO] Render Mode: none\u001b[0m\n",
      "\u001b[38;20m[INFO] Horizon (Max steps per agent): 200\u001b[0m\n",
      "Training:   0%|          | 20/5001 [00:26<32:15,  2.57it/s, ep_reward=125]      [INFO] Iter 20, episodic return 125.053 is greater than reward threshold 120. Congratulation! Now we exit the training process.\n",
      "Training:   0%|          | 20/5001 [00:26<1:48:27,  1.31s/it, ep_reward=125]\n",
      "\u001b[38;20m[INFO] Environment: MetaDriveEnv\u001b[0m\n",
      "\u001b[38;20m[INFO] MetaDrive version: 0.4.3\u001b[0m\n",
      "\u001b[38;20m[INFO] Sensors: [lidar: Lidar(), side_detector: SideDetector(), lane_line_detector: LaneLineDetector()]\u001b[0m\n",
      "\u001b[38;20m[INFO] Render Mode: none\u001b[0m\n",
      "\u001b[38;20m[INFO] Horizon (Max steps per agent): 200\u001b[0m\n"
     ]
    },
    {
     "name": "stdout",
     "output_type": "stream",
     "text": [
      "Environment is closed.\n",
      "Evaluating 1/1 episodes. We are in 1/1000 steps. Current episode reward: 0.008\n",
      "Evaluating 1/1 episodes. We are in 51/1000 steps. Current episode reward: 37.142\n",
      "DQN agent achieves 125.05254010105511 return in MetaDrive easy environment.\n"
     ]
    }
   ],
   "source": [
    "# Run this cell without modification\n",
    "\n",
    "env_name = \"MetaDrive-Tut-Easy-v0\"\n",
    "\n",
    "pytorch_trainer2, _ = run(DQNTrainer, dict(\n",
    "    max_episode_length=200,\n",
    "    max_iteration=5000,\n",
    "    evaluate_interval=10,\n",
    "    evaluate_num_episodes=10,\n",
    "    learning_rate=0.0001,\n",
    "    clip_norm=10.0,\n",
    "    memory_size=1000000,\n",
    "    learn_start=2000,\n",
    "    eps=0.1,\n",
    "    target_update_freq=5000,\n",
    "    learn_freq=16,\n",
    "    batch_size=256,\n",
    "    env_name=env_name\n",
    "), reward_threshold=120)\n",
    "\n",
    "pytorch_trainer2.save(\"dqn_trainer_metadrive_easy.pt\")\n",
    "\n",
    "# Run this cell without modification\n",
    "\n",
    "# Render the learned behavior\n",
    "# NOTE: The learned agent is marked by green color.\n",
    "eval_reward, eval_info = evaluate(\n",
    "    policy=pytorch_trainer2.policy,\n",
    "    num_episodes=1,\n",
    "    env_name=pytorch_trainer2.env_name,\n",
    "    render=\"topdown\",  # Visualize the behaviors in top-down view\n",
    "    verbose=True\n",
    ")\n",
    "print(\"DQN agent achieves {} return in MetaDrive easy environment.\".format(eval_reward))"
   ]
  },
  {
   "cell_type": "code",
   "execution_count": 63,
   "id": "f4df9a42-c02a-4122-808a-9b04b2d8056a",
   "metadata": {},
   "outputs": [
    {
     "data": {
      "text/html": [
       "<table class=\"show_videos\" style=\"border-spacing:0px;\"><tr><td style=\"padding:1px;\"><video controls width=\"800\" height=\"800\" style=\"object-fit:cover;\" loop autoplay muted>\n",
       "      <source src=\"data:video/mp4;base64,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\" type=\"video/mp4\"/>\n",
       "      This browser does not support the video tag.\n",
       "      </video></td></tr></table>"
      ],
      "text/plain": [
       "<IPython.core.display.HTML object>"
      ]
     },
     "metadata": {},
     "output_type": "display_data"
    }
   ],
   "source": [
    "# Run this cell directly.\n",
    "\n",
    "# Visualize MetaDrive performance\n",
    "animate(eval_info[\"frames\"])"
   ]
  },
  {
   "cell_type": "markdown",
   "id": "2c86871e",
   "metadata": {},
   "source": [
    "## Section 4: Policy gradient methods - REINFORCE\n",
    "\n",
    "(30 / 100 points)\n",
    "\n",
    "Unlike the supervised learning, in RL, the optimization objective, the episodic return, is not differentiable w.r.t. the neural network parameters. This can be solved via ***Policy Gradient***. It can be proved that policy gradient is an unbiased estimator of the gradient of the objective.\n",
    "\n",
    "Concretely, let's consider such optimization objective:\n",
    "\n",
    "$$Q = \\mathbb E_{\\text{possible trajectories}} \\sum_t r(a_t, s_t) = \\sum_{s_0, a_0,..} p(s_0, a_0, ..., s_t, a_t) r(s_0, a_0, ..., s_t, a_t) = \\sum_{\\tau} p(\\tau)r(\\tau)$$ \n",
    "\n",
    "wherein $\\sum_t r(a_t, s_t) = r(\\tau)$ is the return of trajectory $\\tau = (s_0, a_0, ...)$. We remove the discount factor for simplicity.\n",
    "Since we want to maximize Q, we can simply compute the gradient of Q w.r.t. parameter $\\theta$ (which is implictly included in $p(\\tau)$):\n",
    "\n",
    "$$\\nabla_\\theta Q = \\nabla_\\theta \\sum_{\\tau} p(\\tau)r(\\tau) = \\sum_{\\tau} r(\\tau) \\nabla_\\theta p(\\tau)$$\n",
    "\n",
    "wherein we've applied a famous trick: $\\nabla_\\theta p(\\tau) = p(\\tau)\\cfrac{\\nabla_\\theta p(\\tau)}{p(\\tau)} = p(\\tau)\\nabla_\\theta \\log p(\\tau)$. Here the $r(\\tau)$ will be determined when $\\tau$ is determined. So it has nothing to do with the policy. We can move it out from the gradient.\n",
    "\n",
    "Introducing a log term can change the product of probabilities to sum of log probabilities. Now we can expand the log of product above to sum of log:\n",
    "\n",
    "$$p_\\theta(\\tau) = p(s_0, a_0, ...) = p(s_0) \\prod_t \\pi_\\theta (a_t|s_t) p(s_{t+1}|s_t, a_t)$$\n",
    "\n",
    "$$\\log p_\\theta (\\tau) = \\log p(s_0) + \\sum_t \\log \\pi_\\theta(a_t|s_t) + \\sum_t \\log p(s_{t+1}|s_t, a_t)$$\n",
    "\n",
    "You can find that the first and third term are not correlated to the parameter of policy $\\pi_\\theta(\\cdot)$. So when we compute $\\nabla_\\theta Q$, we find \n",
    "\n",
    "$$\\nabla_\\theta Q =\n",
    "\\sum_{\\tau} r(\\tau) \\nabla_\\theta p(\\tau) =  \n",
    "\\sum_{\\tau} r(\\tau) p(\\tau)\\nabla_\\theta \\log p(\\tau) =\n",
    "\\sum p_\\theta(\\tau) ( \\sum_t  \\nabla_\\theta \\log \\pi_\\theta(a_t|s_t) ) r(\\tau) d\\tau$$\n",
    "\n",
    "When we sample sufficient amount of data from the environment, the above equation can be estimated via:\n",
    "\n",
    "$$\\nabla_\\theta Q =\\cfrac{1}{N}\\sum_{i=1}^N [( \\sum_t  \\nabla_\\theta \\log \\pi_\\theta(a_{i,t}|s_{i,t}) (\\sum_{t'=t} \\gamma^{t'-t} r(s_{i,t'}, a_{i,t'}) )]$$\n",
    "\n",
    "This algorithm is called REINFORCE algorithm, which is a Monte Carlo Policy Gradient algorithm with long history. In this section, we will implement the it using pytorch."
   ]
  },
  {
   "cell_type": "markdown",
   "id": "3f3f6bf3",
   "metadata": {},
   "source": [
    "The policy network is composed by two parts: \n",
    "\n",
    "1. A basic neural network serves as the function approximator. It outputs raw values parameterizing the action distribution given current observation. We will reuse PytorchModel here.\n",
    "2. A distribution layer builds upon the neural network to wrap the raw logits output from neural network to a distribution and provides API for sampling action and computing log probability."
   ]
  },
  {
   "cell_type": "markdown",
   "id": "20b067b5",
   "metadata": {},
   "source": [
    "### Section 4.1: Build REINFORCE"
   ]
  },
  {
   "cell_type": "code",
   "execution_count": 65,
   "id": "82ccbd96",
   "metadata": {},
   "outputs": [],
   "source": [
    "# Solve the TODOs and remove `pass`\n",
    "\n",
    "class PGNetwork(nn.Module):\n",
    "    def __init__(self, obs_dim, act_dim, hidden_units=128):\n",
    "        super(PGNetwork, self).__init__()\n",
    "        self.network = PytorchModel(obs_dim, act_dim, hidden_units)\n",
    "\n",
    "    def forward(self, obs):\n",
    "        logit = self.network(obs)\n",
    "\n",
    "        # TODO: Create an object of the class \"torch.distributions.Categorical\" \n",
    "        # Then sample an action from it.\n",
    "        action = torch.distributions.Categorical(logits=logit).sample()\n",
    "\n",
    "        return action\n",
    "\n",
    "    def log_prob(self, obs, act):\n",
    "        logits = self.network(obs)\n",
    "\n",
    "        # TODO: Create an object of the class \"torch.distributions.Categorical\" \n",
    "        # Then get the log probability of the action `act` in this distribution.\n",
    "        log_prob = torch.distributions.Categorical(logits=logits).log_prob(act)\n",
    "\n",
    "        return log_prob\n",
    "\n",
    "# Note that we do not implement GaussianPolicy here. So we can't\n",
    "# apply our algorithm to the environment with continous action."
   ]
  },
  {
   "cell_type": "code",
   "execution_count": 66,
   "id": "3d772f93",
   "metadata": {},
   "outputs": [],
   "source": [
    "# Solve the TODOs and remove `pass`\n",
    "\n",
    "PG_DEFAULT_CONFIG = merge_config(dict(\n",
    "    normalize_advantage=True,\n",
    "    max_episode_length=1000,\n",
    "    clip_norm=10.0,\n",
    "    clip_gradient=True,\n",
    "    hidden_units=100,\n",
    "    max_iteration=1000,\n",
    "    train_batch_size=1000,\n",
    "    gamma=0.99,\n",
    "    learning_rate=0.001,\n",
    "    env_name=\"CartPole-v1\",\n",
    "), DEFAULT_CONFIG)\n",
    "\n",
    "\n",
    "class PGTrainer(AbstractTrainer):\n",
    "    def __init__(self, config=None):\n",
    "        config = merge_config(config, PG_DEFAULT_CONFIG)\n",
    "        super().__init__(config)\n",
    "\n",
    "        self.iteration = 0\n",
    "        self.start_time = time.time()\n",
    "        self.iteration_time = self.start_time\n",
    "        self.total_timesteps = 0\n",
    "        self.total_episodes = 0\n",
    "\n",
    "        # build the model\n",
    "        self.initialize_parameters()\n",
    "\n",
    "    def initialize_parameters(self):\n",
    "        \"\"\"Build the policy network and related optimizer\"\"\"\n",
    "        # Detect whether you have GPU or not. Remember to call X.to(self.device)\n",
    "        # if necessary.\n",
    "        self.device = torch.device(\n",
    "            \"cuda\" if torch.cuda.is_available() else \"cpu\"\n",
    "        )\n",
    "\n",
    "        # TODO Build the policy network using CategoricalPolicy\n",
    "        # Hint: Remember to pass config[\"hidden_units\"], and set policy network\n",
    "        #  to the device you are using.\n",
    "        self.network = PGNetwork(self.obs_dim, self.act_dim, self.config[\"hidden_units\"]).to(self.device)\n",
    "\n",
    "        # Build the Adam optimizer.\n",
    "        self.optimizer = torch.optim.Adam(\n",
    "            self.network.parameters(),\n",
    "            lr=self.config[\"learning_rate\"]\n",
    "        )\n",
    "\n",
    "    def to_tensor(self, array):\n",
    "        \"\"\"Transform a numpy array to a pytorch tensor\"\"\"\n",
    "        return torch.from_numpy(array).type(torch.float32).to(self.device)\n",
    "\n",
    "    def to_array(self, tensor):\n",
    "        \"\"\"Transform a pytorch tensor to a numpy array\"\"\"\n",
    "        ret = tensor.cpu().detach().numpy()\n",
    "        if ret.size == 1:\n",
    "            ret = ret.item()\n",
    "        return ret\n",
    "\n",
    "    def save(self, loc=\"model.pt\"):\n",
    "        torch.save(self.network.state_dict(), loc)\n",
    "\n",
    "    def load(self, loc=\"model.pt\"):\n",
    "        self.network.load_state_dict(torch.load(loc))\n",
    "\n",
    "    def compute_action(self, observation, eps=None):\n",
    "        \"\"\"Compute the action for single observation. eps is useless here.\"\"\"\n",
    "        assert observation.ndim == 1\n",
    "        # TODO: Sample an action from the action distribution given by the policy.\n",
    "        # Hint: The input of policy network is a tensor with the first dimension to the \n",
    "        #  batch dimension. Therefore you need to expand the first dimension of the observation\n",
    "        #  and convert it to a tensor (via to_tensor) before feeding it to the policy network.\n",
    "        #  Then, you need to unbatch the output action and convert it from a tensor to a numpy\n",
    "        #  array before returning.\n",
    "        # XXX: chech the shape of the output action, it should be a scalar.\n",
    "        action_tensor = self.network(self.to_tensor(observation).unsqueeze(0))\n",
    "        action = self.to_array(action_tensor.squeeze(0))\n",
    "        \n",
    "        return action\n",
    "\n",
    "    def compute_log_probs(self, observation, action):\n",
    "        \"\"\"Compute the log probabilities of a batch of state-action pair\"\"\"\n",
    "        # TODO: Use the function of policy network to get log probs.\n",
    "        # Hint: Remember to transform the data into tensor before feeding it into the network.\n",
    "        log_probs = self.network.log_prob(self.to_tensor(observation), self.to_tensor(action).long())\n",
    "        \n",
    "        return log_probs\n",
    "\n",
    "    def update_network(self, processed_samples):\n",
    "        \"\"\"Update the policy network\"\"\"\n",
    "        advantages = self.to_tensor(processed_samples[\"advantages\"])\n",
    "        flat_obs = np.concatenate(processed_samples[\"obs\"])\n",
    "        flat_act = np.concatenate(processed_samples[\"act\"])\n",
    "\n",
    "        self.network.train()\n",
    "        self.optimizer.zero_grad()\n",
    "\n",
    "        log_probs = self.compute_log_probs(flat_obs, flat_act)\n",
    "\n",
    "        assert log_probs.shape == advantages.shape, \"log_probs shape {} is not \" \\\n",
    "                                                    \"compatible with advantages {}\".format(log_probs.shape,\n",
    "                                                                                           advantages.shape)\n",
    "\n",
    "        # TODO: Compute the policy gradient loss.\n",
    "        loss = -torch.mean(log_probs * advantages)\n",
    "\n",
    "        loss.backward()\n",
    "\n",
    "        # Clip the gradient\n",
    "        torch.nn.utils.clip_grad_norm_(\n",
    "            self.network.parameters(), self.config[\"clip_gradient\"]\n",
    "        )\n",
    "\n",
    "        self.optimizer.step()\n",
    "        self.network.eval()\n",
    "\n",
    "        update_info = {\n",
    "            \"policy_loss\": loss.item(),\n",
    "            \"mean_log_prob\": torch.mean(log_probs).item(),\n",
    "            \"mean_advantage\": torch.mean(advantages).item()\n",
    "        }\n",
    "        return update_info\n",
    "\n",
    "    # ===== Training-related functions =====\n",
    "    def collect_samples(self):\n",
    "        \"\"\"Here we define the pipeline to collect sample even though\n",
    "        any specify functions are not implemented yet.\n",
    "        \"\"\"\n",
    "        iter_timesteps = 0\n",
    "        iter_episodes = 0\n",
    "        episode_lens = []\n",
    "        episode_rewards = []\n",
    "        episode_obs_list = []\n",
    "        episode_act_list = []\n",
    "        episode_reward_list = []\n",
    "        success_list = []\n",
    "        while iter_timesteps <= self.config[\"train_batch_size\"]:\n",
    "            obs_list, act_list, reward_list = [], [], []\n",
    "            obs, info = self.env.reset()\n",
    "            steps = 0\n",
    "            episode_reward = 0\n",
    "            while True:\n",
    "                act = self.compute_action(obs)\n",
    "\n",
    "                next_obs, reward, terminated, truncated, step_info = self.env.step(act)\n",
    "                done = terminated or truncated\n",
    "\n",
    "                obs_list.append(obs)\n",
    "                act_list.append(act)\n",
    "                reward_list.append(reward)\n",
    "\n",
    "                obs = next_obs.copy()\n",
    "                steps += 1\n",
    "                episode_reward += reward\n",
    "                if done or steps > self.config[\"max_episode_length\"]:\n",
    "                    if \"arrive_dest\" in step_info:\n",
    "                        success_list.append(step_info[\"arrive_dest\"])\n",
    "                    break\n",
    "            iter_timesteps += steps\n",
    "            iter_episodes += 1\n",
    "            episode_rewards.append(episode_reward)\n",
    "            episode_lens.append(steps)\n",
    "            episode_obs_list.append(np.array(obs_list, dtype=np.float32))\n",
    "            episode_act_list.append(np.array(act_list, dtype=np.float32))\n",
    "            episode_reward_list.append(np.array(reward_list, dtype=np.float32))\n",
    "\n",
    "        # The return `samples` is a dict that contains several key-value pair.\n",
    "        # The value of each key-value pair is a list storing the data in one episode.\n",
    "        samples = {\n",
    "            \"obs\": episode_obs_list,\n",
    "            \"act\": episode_act_list,\n",
    "            \"reward\": episode_reward_list\n",
    "        }\n",
    "\n",
    "        sample_info = {\n",
    "            \"iter_timesteps\": iter_timesteps,\n",
    "            \"iter_episodes\": iter_episodes,\n",
    "            \"performance\": np.mean(episode_rewards),  # help drawing figures\n",
    "            \"ep_len\": float(np.mean(episode_lens)),\n",
    "            \"ep_ret\": float(np.mean(episode_rewards)),\n",
    "            \"episode_len\": sum(episode_lens),\n",
    "            \"success_rate\": np.mean(success_list)\n",
    "        }\n",
    "        return samples, sample_info\n",
    "\n",
    "    def process_samples(self, samples):\n",
    "        \"\"\"Process samples and add advantages in it\"\"\"\n",
    "        values = []\n",
    "        for reward_list in samples[\"reward\"]:\n",
    "            # reward_list contains rewards at each step in one episode\n",
    "            returns = np.zeros_like(reward_list, dtype=np.float32)\n",
    "            Q = 0\n",
    "\n",
    "            # TODO: Scan the reward_list in a reverse order and compute the\n",
    "            # discounted return at each time step. Fill the array `returns`\n",
    "            for i in reversed(range(len(reward_list))):\n",
    "                Q = reward_list[i] + self.config[\"gamma\"] * Q\n",
    "                returns[i] = Q\n",
    "\n",
    "            values.append(returns)\n",
    "\n",
    "        # We call the values advantage here. Ideally, we should subtract the values\n",
    "        # by baselines so that they become real advantages.\n",
    "        advantages = np.concatenate(values)\n",
    "\n",
    "        if self.config[\"normalize_advantage\"]:\n",
    "            # TODO: normalize the advantage so that it's mean is\n",
    "            # almost 0 and the its standard deviation is almost 1.\n",
    "            advantages = (advantages - np.mean(advantages)) / (np.std(advantages) + 1e-8)\n",
    "\n",
    "        samples[\"advantages\"] = advantages\n",
    "        return samples, {}\n",
    "\n",
    "    # ===== Training iteration =====\n",
    "    def train(self, iteration=None):\n",
    "        \"\"\"Here we defined the training pipeline using the abstract\n",
    "        functions.\"\"\"\n",
    "        info = dict(iteration=iteration)\n",
    "\n",
    "        # Collect samples\n",
    "        samples, sample_info = self.collect_samples()\n",
    "        info.update(sample_info)\n",
    "\n",
    "        # Process samples\n",
    "        processed_samples, processed_info = self.process_samples(samples)\n",
    "        info.update(processed_info)\n",
    "\n",
    "        # Update the model\n",
    "        update_info = self.update_network(processed_samples)\n",
    "        info.update(update_info)\n",
    "\n",
    "        now = time.time()\n",
    "        self.iteration += 1\n",
    "        self.total_timesteps += info.pop(\"iter_timesteps\")\n",
    "        self.total_episodes += info.pop(\"iter_episodes\")\n",
    "\n",
    "        # info[\"iter_time\"] = now - self.iteration_time\n",
    "        # info[\"total_time\"] = now - self.start_time\n",
    "        info[\"total_episodes\"] = self.total_episodes\n",
    "        info[\"total_timesteps\"] = self.total_timesteps\n",
    "        self.iteration_time = now\n",
    "\n",
    "        # print(\"INFO: \", info)\n",
    "\n",
    "        return info\n"
   ]
  },
  {
   "cell_type": "markdown",
   "id": "1009bfc7",
   "metadata": {},
   "source": [
    "### Section 4.2: Test REINFORCE"
   ]
  },
  {
   "cell_type": "code",
   "execution_count": 68,
   "id": "4fe25068",
   "metadata": {},
   "outputs": [
    {
     "name": "stdout",
     "output_type": "stream",
     "text": [
      "Test Passed!\n"
     ]
    }
   ],
   "source": [
    "# Run this cell without modification\n",
    "\n",
    "# Test advantage computing\n",
    "test_trainer = PGTrainer({\"normalize_advantage\": False})\n",
    "test_trainer.train()\n",
    "fake_sample = {\"reward\": [[2, 2, 2, 2, 2]]}\n",
    "np.testing.assert_almost_equal(\n",
    "    test_trainer.process_samples(fake_sample)[0][\"reward\"][0],\n",
    "    fake_sample[\"reward\"][0]\n",
    ")\n",
    "np.testing.assert_almost_equal(\n",
    "    test_trainer.process_samples(fake_sample)[0][\"advantages\"],\n",
    "    np.array([9.80199, 7.880798, 5.9402, 3.98, 2.], dtype=np.float32)\n",
    ")\n",
    "\n",
    "# Test advantage normalization\n",
    "test_trainer = PGTrainer(\n",
    "    {\"normalize_advantage\": True, \"env_name\": \"CartPole-v1\"})\n",
    "test_adv = test_trainer.process_samples(fake_sample)[0][\"advantages\"]\n",
    "np.testing.assert_almost_equal(test_adv.mean(), 0.0)\n",
    "np.testing.assert_almost_equal(test_adv.std(), 1.0)\n",
    "\n",
    "# Test the shape of functions' returns\n",
    "fake_observation = np.array([\n",
    "    test_trainer.env.observation_space.sample() for i in range(10)\n",
    "])\n",
    "fake_action = np.array([\n",
    "    test_trainer.env.action_space.sample() for i in range(10)\n",
    "])\n",
    "assert test_trainer.to_tensor(fake_observation).shape == torch.Size([10, 4])\n",
    "assert np.array(test_trainer.compute_action(fake_observation[0])).shape == ()\n",
    "assert test_trainer.compute_log_probs(fake_observation, fake_action).shape == \\\n",
    "       torch.Size([10])\n",
    "\n",
    "print(\"Test Passed!\")\n"
   ]
  },
  {
   "cell_type": "markdown",
   "id": "18bee50d",
   "metadata": {},
   "source": [
    "### Section 4.3: Train REINFORCE in CartPole and see the impact of advantage normalization"
   ]
  },
  {
   "cell_type": "code",
   "execution_count": 69,
   "id": "17b6095d",
   "metadata": {
    "scrolled": true
   },
   "outputs": [
    {
     "name": "stderr",
     "output_type": "stream",
     "text": [
      "Training:  58%|█████▊    | 580/1001 [07:07<04:19,  1.62it/s, ep_reward=489][INFO] Iter 580, episodic return 488.800 is greater than reward threshold 480. Congratulation! Now we exit the training process.\n",
      "Training:  58%|█████▊    | 580/1001 [07:07<05:10,  1.36it/s, ep_reward=489]"
     ]
    },
    {
     "name": "stdout",
     "output_type": "stream",
     "text": [
      "Environment is closed.\n"
     ]
    },
    {
     "name": "stderr",
     "output_type": "stream",
     "text": [
      "\n"
     ]
    }
   ],
   "source": [
    "# Run this cell without modification\n",
    "\n",
    "pg_trainer_no_na, pg_result_no_na = run(PGTrainer, dict(\n",
    "    learning_rate=0.001,\n",
    "    train_batch_size=200,\n",
    "    env_name=\"CartPole-v1\",\n",
    "    normalize_advantage=False,  # <<== Here!\n",
    "\n",
    "    evaluate_interval=10,\n",
    "    evaluate_num_episodes=10,\n",
    "), 480)\n"
   ]
  },
  {
   "cell_type": "code",
   "execution_count": 70,
   "id": "5f75805b",
   "metadata": {
    "scrolled": true
   },
   "outputs": [
    {
     "name": "stderr",
     "output_type": "stream",
     "text": [
      "Training:  33%|███▎      | 330/1001 [03:48<06:36,  1.69it/s, ep_reward=497][INFO] Iter 330, episodic return 497.000 is greater than reward threshold 480.0. Congratulation! Now we exit the training process.\n",
      "Training:  33%|███▎      | 330/1001 [03:48<07:44,  1.45it/s, ep_reward=497]"
     ]
    },
    {
     "name": "stdout",
     "output_type": "stream",
     "text": [
      "Environment is closed.\n"
     ]
    },
    {
     "name": "stderr",
     "output_type": "stream",
     "text": [
      "\n"
     ]
    }
   ],
   "source": [
    "# Run this cell without modification\n",
    "\n",
    "pg_trainer_with_na, pg_result_with_na = run(PGTrainer, dict(\n",
    "    learning_rate=0.001,\n",
    "    train_batch_size=200,\n",
    "    env_name=\"CartPole-v1\",\n",
    "    normalize_advantage=True,  # <<== Here!\n",
    "\n",
    "    evaluate_interval=10,\n",
    "    evaluate_num_episodes=10,\n",
    "), 480.0)\n"
   ]
  },
  {
   "cell_type": "code",
   "execution_count": 71,
   "id": "10fb3d38",
   "metadata": {},
   "outputs": [
    {
     "data": {
      "text/plain": [
       "Text(0.5, 1.0, 'Comparing Advantage normalization in Policy Gradient')"
      ]
     },
     "execution_count": 71,
     "metadata": {},
     "output_type": "execute_result"
    },
    {
     "data": {
      "image/png": "[encoded data removed]",
      "text/plain": [
       "<Figure size 640x480 with 1 Axes>"
      ]
     },
     "metadata": {},
     "output_type": "display_data"
    }
   ],
   "source": [
    "# Run this cell without modification\n",
    "\n",
    "pg_result_no_na_df = pd.DataFrame(pg_result_no_na)\n",
    "pg_result_with_na_df = pd.DataFrame(pg_result_with_na)\n",
    "pg_result_no_na_df[\"normalize_advantage\"] = False\n",
    "pg_result_with_na_df[\"normalize_advantage\"] = True\n",
    "\n",
    "ax = sns.lineplot(\n",
    "    x=\"total_timesteps\",\n",
    "    y=\"performance\",\n",
    "    data=pd.concat([pg_result_no_na_df, pg_result_with_na_df]).reset_index(), hue=\"normalize_advantage\",\n",
    ")\n",
    "ax.set_title(\"Comparing Advantage normalization in Policy Gradient\")\n",
    "# It's OK to see very noisy curves...\n",
    "# And you probably can't see clear margin...\n",
    "# Running with more seeds might help."
   ]
  },
  {
   "cell_type": "markdown",
   "id": "95a0d7cc",
   "metadata": {},
   "source": [
    "### Section 4.4: Train REINFORCE in MetaDrive-Easy"
   ]
  },
  {
   "cell_type": "code",
   "execution_count": 72,
   "id": "1d06a73d",
   "metadata": {
    "scrolled": true
   },
   "outputs": [
    {
     "name": "stderr",
     "output_type": "stream",
     "text": [
      "\u001b[38;20m[INFO] Environment: MetaDriveEnv\u001b[0m\n",
      "\u001b[38;20m[INFO] MetaDrive version: 0.4.3\u001b[0m\n",
      "\u001b[38;20m[INFO] Sensors: [lidar: Lidar(), side_detector: SideDetector(), lane_line_detector: LaneLineDetector()]\u001b[0m\n",
      "\u001b[38;20m[INFO] Render Mode: none\u001b[0m\n",
      "\u001b[38;20m[INFO] Horizon (Max steps per agent): 200\u001b[0m\n",
      "Training:   1%|          | 50/5001 [08:33<13:52:44, 10.09s/it, ep_reward=125] [INFO] Iter 50, episodic return 125.139 is greater than reward threshold 120. Congratulation! Now we exit the training process.\n",
      "Training:   1%|          | 50/5001 [08:33<14:07:24, 10.27s/it, ep_reward=125]"
     ]
    },
    {
     "name": "stdout",
     "output_type": "stream",
     "text": [
      "Environment is closed.\n"
     ]
    },
    {
     "name": "stderr",
     "output_type": "stream",
     "text": [
      "\n"
     ]
    }
   ],
   "source": [
    "# Run this cell without modification\n",
    "\n",
    "env_name = \"MetaDrive-Tut-Easy-v0\"\n",
    "\n",
    "pg_trainer_metadrive_easy, pg_trainer_metadrive_easy_result = run(PGTrainer, dict(\n",
    "    train_batch_size=2000,\n",
    "    normalize_advantage=True,\n",
    "    max_episode_length=200,\n",
    "    max_iteration=5000,\n",
    "    evaluate_interval=10,\n",
    "    evaluate_num_episodes=10,\n",
    "    learning_rate=0.001,\n",
    "    clip_norm=10.0,\n",
    "    env_name=env_name\n",
    "), reward_threshold=120)\n",
    "\n",
    "pg_trainer_metadrive_easy.save(\"pg_trainer_metadrive_easy.pt\")\n",
    "# Expected to converge within 100 iterations."
   ]
  },
  {
   "cell_type": "code",
   "execution_count": 73,
   "id": "5b650945",
   "metadata": {},
   "outputs": [
    {
     "name": "stderr",
     "output_type": "stream",
     "text": [
      "\u001b[38;20m[INFO] Environment: MetaDriveEnv\u001b[0m\n",
      "\u001b[38;20m[INFO] MetaDrive version: 0.4.3\u001b[0m\n",
      "\u001b[38;20m[INFO] Sensors: [lidar: Lidar(), side_detector: SideDetector(), lane_line_detector: LaneLineDetector()]\u001b[0m\n",
      "\u001b[38;20m[INFO] Render Mode: none\u001b[0m\n",
      "\u001b[38;20m[INFO] Horizon (Max steps per agent): 200\u001b[0m\n"
     ]
    },
    {
     "name": "stdout",
     "output_type": "stream",
     "text": [
      "Evaluating 1/1 episodes. We are in 1/1000 steps. Current episode reward: 0.008\n",
      "Evaluating 1/1 episodes. We are in 51/1000 steps. Current episode reward: 37.142\n"
     ]
    },
    {
     "data": {
      "text/html": [
       "<table class=\"show_videos\" style=\"border-spacing:0px;\"><tr><td style=\"padding:1px;\"><video controls width=\"800\" height=\"800\" style=\"object-fit:cover;\" loop autoplay muted>\n",
       "      <source src=\"data:video/mp4;base64,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\" type=\"video/mp4\"/>\n",
       "      This browser does not support the video tag.\n",
       "      </video></td></tr></table>"
      ],
      "text/plain": [
       "<IPython.core.display.HTML object>"
      ]
     },
     "metadata": {},
     "output_type": "display_data"
    },
    {
     "name": "stdout",
     "output_type": "stream",
     "text": [
      "REINFORCE agent achieves 125.05254010105511 return in MetaDrive easy environment.\n"
     ]
    }
   ],
   "source": [
    "# Run this cell without modification\n",
    "\n",
    "# Render the learned behavior\n",
    "# NOTE: The learned agent is marked by green color.\n",
    "eval_reward, eval_info = evaluate(\n",
    "    policy=pg_trainer_metadrive_easy.policy,\n",
    "    num_episodes=1,\n",
    "    env_name=pg_trainer_metadrive_easy.env_name,\n",
    "    render=\"topdown\",  # Visualize the behaviors in top-down view\n",
    "    verbose=True\n",
    ")\n",
    "\n",
    "animate(eval_info[\"frames\"])\n",
    "\n",
    "print(\"REINFORCE agent achieves {} return in MetaDrive easy environment.\".format(eval_reward))"
   ]
  },
  {
   "cell_type": "markdown",
   "id": "fcc0bcd0",
   "metadata": {},
   "source": [
    "## Section 5: Policy gradient with baseline\n",
    "\n",
    "(20 / 100 points)\n",
    "\n",
    "In REINFORCE, we compute the gradient of $Q = \\mathop{\\mathbb E} \\sum_t r(a_t, s_t)$ w.r.t. the parameter to update the policy. Let's consider this case: when you take an \"average\" action that leads to a positive expected return, the policy gradient is also positive and you will update your network toward this action. At the same time, there might be a potentially better action. You should update the policy toward the better action instead of the \"average\" action. Do we have any way to impose the idea that we should at least update the policy toward an action that is better than the literally \"average\" action?\n",
    "\n",
    "We introduce the \"baseline\" when computing the policy gradient. The insight behind this is that we want to optimize the policy toward an action that are better than the \"average action\". We introduce $b_{t} = \\mathbb E_{a_t} \\sum_{t'}{\\gamma^{t'-t} r(s_{t'}, a_{t'})}$ as the baseline. It averages the expected discount return of all possible actions at state $s_t$. So that the \"advantage\" compared against the average action (aka the \"excess profit\") achieved by action $a_t$ can be evaluated via $\\sum_{t'=t} \\gamma^{t' -t}r(a_{t'}, s_{t'}) - b_t$\n",
    "\n",
    "Therefore, the policy gradient becomes:\n",
    "\n",
    "$$\\nabla_\\theta Q =\\cfrac{1}{N}\\sum_{i=1}^N [( \\sum_t  \\nabla_\\theta \\log \\pi_\\theta(a_{i,t}|s_{i,t}) (\\sum_{t'} \\gamma^{t'-t} r(s_{i,{t’}}, a_{i,t‘}) - b_{i, t})]$$\n",
    "\n",
    "In our implementation, we estimate the baseline via an extra network `self.baseline`, which has same structure of the policy network but outputs only a scalar value. We use the output of this network to serve as the baseline, while this network is updated by fitting the true value of the expected return of current state: $\\mathbb E_{a_t} \\sum_{t'}{\\gamma^{t'-t} r(s_{t'}, a_{t'})}$\n",
    "\n",
    "The state-action values might have large variance if the reward function has large variance. It is not easy for a neural network to predict targets with large variance and extreme values. In our implementation, we use a trick to match the distribution of the baseline and values. During training, we first collect a batch of target values: $\\{t_i= \\mathbb E_{a_t} \\sum_{t'}{\\gamma^{t'-t} r(s_{t'}, a_{t'})}\\}_i$. Then we normalize all targets to a standard Normal distribution with mean = 0 and std = 1. Then we ask the baseline network to fit such normalized targets.\n",
    "\n",
    "When computing the advantages, instead of using the output of baseline network as the baseline $b$, we firstly match the baseline distribution (which, assume the baseline network is well trained, should be a standard Normal distribution) with the state-action values' distribution. We \"de-standarize\" the baselines. The transformed baselines $b' = f(b)$ should has the same mean and STD with the state-action values. By doing this, we mitigate the instability of training baseline.\n",
    "\n",
    "After that, we compute the advantage of current action: $adv_{i,t} = \\sum_{t'} \\gamma^{t'-t} r(s_{i,{t'}}, a_{i,t'}) - b'_{i, t}$\n",
    "\n",
    "Hint: We suggest to normalize an array via: `(x - x.mean()) / max(x.std(), 1e-6)`. The max term can mitigate numeraical instability."
   ]
  },
  {
   "cell_type": "markdown",
   "id": "95c1378f",
   "metadata": {},
   "source": [
    "### Section 5.1: Build PG method with baseline"
   ]
  },
  {
   "cell_type": "code",
   "execution_count": 93,
   "id": "709df140",
   "metadata": {},
   "outputs": [],
   "source": [
    "# Finish TODOs\n",
    "\n",
    "class PolicyGradientWithBaselineTrainer(PGTrainer):\n",
    "    def initialize_parameters(self):\n",
    "        # Build the actor in name of self.policy\n",
    "        super().initialize_parameters()\n",
    "\n",
    "        # TODO: Build the baseline network using PytorchModel class.\n",
    "        obs_dim = self.obs_dim\n",
    "        # PytorchModel(self, num_inputs, num_outputs, hidden_units=100):\n",
    "        self.baseline = PytorchModel(\n",
    "            num_inputs=obs_dim,\n",
    "            num_outputs=1,  # baseline is a scalar\n",
    "            hidden_units=self.config[\"hidden_units\"]\n",
    "        ).to(self.device)\n",
    "\n",
    "        self.baseline_loss = nn.MSELoss()\n",
    "\n",
    "        self.baseline_optimizer = torch.optim.Adam(\n",
    "            self.baseline.parameters(),\n",
    "            lr=self.config[\"learning_rate\"]\n",
    "        )\n",
    "\n",
    "    def process_samples(self, samples):\n",
    "        # Call the original process_samples function to get advantages\n",
    "        tmp_samples, _ = super().process_samples(samples)\n",
    "        values = tmp_samples[\"advantages\"]\n",
    "        samples[\"values\"] = values  # We add q_values into samples\n",
    "\n",
    "        # Flatten the observations in all trajectories (still a numpy array)\n",
    "        obs = np.concatenate(samples[\"obs\"])\n",
    "\n",
    "        assert obs.ndim == 2\n",
    "        assert obs.shape[1] == self.obs_dim\n",
    "\n",
    "        obs = self.to_tensor(obs)\n",
    "        samples[\"flat_obs\"] = obs\n",
    "\n",
    "        # TODO: Compute the baseline by feeding observation to the baseline network\n",
    "        # Hint: baselines should be a numpy array with the same shape of `values` (batch size, )\n",
    "        with torch.no_grad():\n",
    "            baselines = self.baseline(obs).squeeze().cpu().numpy()\n",
    "            \n",
    "        assert baselines.shape == values.shape\n",
    "\n",
    "        # TODO: Match the distribution of baselines to the values.\n",
    "        # Hint: We expect to see baselines.std() almost equals to values.std(), \n",
    "        #  and baselines.mean() almost equals to values.mean().\n",
    "        values_mean = np.mean(values)\n",
    "        values_std = np.std(values)\n",
    "        baselines = baselines * values_std + values_mean # Match the distribution\n",
    "\n",
    "        # Compute the advantage\n",
    "        advantages = values - baselines\n",
    "        samples[\"advantages\"] = advantages\n",
    "        process_info = {\"mean_baseline\": float(np.mean(baselines))}\n",
    "        return samples, process_info\n",
    "\n",
    "    def update_network(self, processed_samples):\n",
    "        update_info = super().update_network(processed_samples)\n",
    "        update_info.update(self.update_baseline(processed_samples))\n",
    "        return update_info\n",
    "\n",
    "    def update_baseline(self, processed_samples):\n",
    "        self.baseline.train()\n",
    "        obs = processed_samples[\"flat_obs\"]\n",
    "\n",
    "        # TODO: Normalize `values` to have mean=0, std=1.\n",
    "        values = processed_samples[\"values\"]\n",
    "        values_mean = np.mean(values)\n",
    "        values_std = np.std(values)\n",
    "        # Normalize the values\n",
    "        values = (values - values_mean) / max(values_std, 1e-6)\n",
    "\n",
    "        values = self.to_tensor(values[:, np.newaxis])\n",
    "\n",
    "        baselines = self.baseline(obs)\n",
    "\n",
    "        self.baseline_optimizer.zero_grad()\n",
    "        loss = self.baseline_loss(input=baselines, target=values)\n",
    "        loss.backward()\n",
    "\n",
    "        # Clip the gradient\n",
    "        torch.nn.utils.clip_grad_norm_(\n",
    "            self.baseline.parameters(), self.config[\"clip_gradient\"]\n",
    "        )\n",
    "\n",
    "        self.baseline_optimizer.step()\n",
    "        self.baseline.eval()\n",
    "        return dict(baseline_loss=loss.item())\n"
   ]
  },
  {
   "cell_type": "markdown",
   "id": "1168a4b4",
   "metadata": {},
   "source": [
    "### Section 5.2: Run PG w/ baseline in CartPole"
   ]
  },
  {
   "cell_type": "code",
   "execution_count": 94,
   "id": "7f5c1adf",
   "metadata": {
    "scrolled": true
   },
   "outputs": [
    {
     "name": "stderr",
     "output_type": "stream",
     "text": [
      "Training:  14%|█▍        | 140/1001 [01:19<06:32,  2.19it/s, ep_reward=200][INFO] Iter 140, episodic return 200.000 is greater than reward threshold 195.0. Congratulation! Now we exit the training process.\n",
      "Training:  14%|█▍        | 140/1001 [01:19<08:10,  1.76it/s, ep_reward=200]"
     ]
    },
    {
     "name": "stdout",
     "output_type": "stream",
     "text": [
      "Environment is closed.\n"
     ]
    },
    {
     "name": "stderr",
     "output_type": "stream",
     "text": [
      "\n"
     ]
    }
   ],
   "source": [
    "# Run this cell without modification\n",
    "\n",
    "pg_trainer_wb_cartpole, pg_trainer_wb_cartpole_result = run(PolicyGradientWithBaselineTrainer, dict(\n",
    "    learning_rate=0.001,\n",
    "    max_episode_length=200,\n",
    "    train_batch_size=200,\n",
    "\n",
    "    env_name=\"CartPole-v1\",\n",
    "    normalize_advantage=True,\n",
    "\n",
    "    evaluate_interval=10,\n",
    "    evaluate_num_episodes=10,\n",
    "), 195.0)\n"
   ]
  },
  {
   "cell_type": "markdown",
   "id": "4ff92a1e",
   "metadata": {},
   "source": [
    "### Section 5.3: Run PG w/ baseline in MetaDrive-Easy\n"
   ]
  },
  {
   "cell_type": "code",
   "execution_count": 95,
   "id": "4e498197",
   "metadata": {},
   "outputs": [
    {
     "name": "stderr",
     "output_type": "stream",
     "text": [
      "\u001b[38;20m[INFO] Environment: MetaDriveEnv\u001b[0m\n",
      "\u001b[38;20m[INFO] MetaDrive version: 0.4.3\u001b[0m\n",
      "\u001b[38;20m[INFO] Sensors: [lidar: Lidar(), side_detector: SideDetector(), lane_line_detector: LaneLineDetector()]\u001b[0m\n",
      "\u001b[38;20m[INFO] Render Mode: none\u001b[0m\n",
      "\u001b[38;20m[INFO] Horizon (Max steps per agent): 200\u001b[0m\n",
      "Training:   1%|          | 40/5001 [06:55<13:51:52, 10.06s/it, ep_reward=125] [INFO] Iter 40, episodic return 125.053 is greater than reward threshold 120. Congratulation! Now we exit the training process.\n",
      "Training:   1%|          | 40/5001 [06:55<14:18:47, 10.39s/it, ep_reward=125]"
     ]
    },
    {
     "name": "stdout",
     "output_type": "stream",
     "text": [
      "Environment is closed.\n"
     ]
    },
    {
     "name": "stderr",
     "output_type": "stream",
     "text": [
      "\n"
     ]
    }
   ],
   "source": [
    "# Run this cell without modification\n",
    "\n",
    "env_name = \"MetaDrive-Tut-Easy-v0\"\n",
    "\n",
    "pg_trainer_wb_metadrive_easy, pg_trainer_wb_metadrive_easy_result = run(\n",
    "    PolicyGradientWithBaselineTrainer,\n",
    "    dict(\n",
    "        train_batch_size=2000,\n",
    "        normalize_advantage=True,\n",
    "        max_episode_length=200,\n",
    "        max_iteration=5000,\n",
    "        evaluate_interval=10,\n",
    "        evaluate_num_episodes=10,\n",
    "        learning_rate=0.001,\n",
    "        clip_norm=10.0,\n",
    "        env_name=env_name\n",
    "    ),\n",
    "    reward_threshold=120\n",
    ")\n",
    "\n",
    "pg_trainer_wb_metadrive_easy.save(\"pg_trainer_wb_metadrive_easy.pt\")"
   ]
  },
  {
   "cell_type": "code",
   "execution_count": 96,
   "id": "6f356062",
   "metadata": {},
   "outputs": [
    {
     "name": "stderr",
     "output_type": "stream",
     "text": [
      "\u001b[38;20m[INFO] Environment: MetaDriveEnv\u001b[0m\n",
      "\u001b[38;20m[INFO] MetaDrive version: 0.4.3\u001b[0m\n",
      "\u001b[38;20m[INFO] Sensors: [lidar: Lidar(), side_detector: SideDetector(), lane_line_detector: LaneLineDetector()]\u001b[0m\n",
      "\u001b[38;20m[INFO] Render Mode: none\u001b[0m\n",
      "\u001b[38;20m[INFO] Horizon (Max steps per agent): 200\u001b[0m\n"
     ]
    },
    {
     "name": "stdout",
     "output_type": "stream",
     "text": [
      "Evaluating 1/1 episodes. We are in 1/1000 steps. Current episode reward: 0.008\n",
      "Evaluating 1/1 episodes. We are in 51/1000 steps. Current episode reward: 37.142\n",
      "PG agent achieves 125.05254010105511 return and 1.0 success rate in MetaDrive easy environment.\n"
     ]
    },
    {
     "data": {
      "text/html": [
       "<table class=\"show_videos\" style=\"border-spacing:0px;\"><tr><td style=\"padding:1px;\"><video controls width=\"800\" height=\"800\" style=\"object-fit:cover;\" loop autoplay muted>\n",
       "      <source src=\"data:video/mp4;base64,AAAAIGZ0eXBpc29tAAACAGlzb21pc28yYXZjMW1wNDEAAAAIZnJlZQAAW5htZGF0AAACgAYF//983EXpvebZSLeWLNgg2SPu73gyNjQgLSBjb3JlIDE2NCByMzEwNiBlYWE2OGZhIC0gSC4yNjQvTVBFRy00IEFWQyBjb2RlYyAtIENvcHlsZWZ0IDIwMDMtMjAyMyAtIGh0dHA6Ly93d3cudmlkZW9sYW4ub3JnL3gyNjQuaHRtbCAtIG9wdGlvbnM6IGNhYmFjPTEgcmVmPTMgZGVibG9jaz0xOjA6MCBhbmFseXNlPTB4MzoweDExMyBtZT1oZXggc3VibWU9NyBwc3k9MSBwc3lfcmQ9MS4wMDowLjAwIG1peGVkX3JlZj0xIG1lX3JhbmdlPTE2IGNocm9tYV9tZT0xIHRyZWxsaXM9MSA4eDhkY3Q9MSBjcW09MCBkZWFkem9uZT0yMSwxMSBmYXN0X3Bza2lwPTEgY2hyb21hX3FwX29mZnNldD0tMiB0aHJlYWRzPTE4IGxvb2thaGVhZF90aHJlYWRzPTMgc2xpY2VkX3RocmVhZHM9MCBucj0wIGRlY2ltYXRlPTEgaW50ZXJsYWNlZD0wIGJsdXJheV9jb21wYXQ9MCBjb25zdHJhaW5lZF9pbnRyYT0wIGJmcmFtZXM9MyBiX3B5cmFtaWQ9MiBiX2FkYXB0PTEgYl9iaWFzPTAgZGlyZWN0PTEgd2VpZ2h0Yj0xIG9wZW5fZ29wPTAgd2VpZ2h0cD0yIGtleWludD0yNTAga2V5aW50X21pbj0yNSBzY2VuZWN1dD00MCBpbnRyYV9yZWZyZXNoPTAgcmM9Y3FwIG1idHJlZT0wIHFwPTI4IGlwX3JhdGlvPTEuNDAgcGJfcmF0aW89MS4zMCBhcT0wAIAAAAaxZYiEAP/+yk+BS4nRcKlkWAf0mOgGDRLzYAAAAwAAAwAAAwB1Fb9qcind7sAAAAMAY8AhYDJAYAERA1wMsDsA2wSQFyBjAAADAAADAAADAAADAAADAAADAJP8eA1as5cV3hVoFYT7iwnouk0LAfCVtBSY5SxTU/yD0TdAno6X2NQNLcnar0dPKdYl0oYycwnZaK3FzHNxCbIoA5a3nkRb8Gd/cA/5fg7Abr+N2Pps9a//4Bw2LF8Q97sP0Z/BPtVym+YkIB3gdkWn/2xzAfpRXzb0O5GQoAOYF2br7TJHC1qWwCmB+Keeve5AsEfe4hOL+YOlkEMsdnuw6i7AmAfLQrMMh++HvK4qsElSnUjVEHFRabmlzfolLhJQVrBewoqJhdPNXWq9vAgqJmiOEQOgq/HL7d5UnukpITwQqh/nJrKvrIm0o6wydJkGXM74sw+cmMnnGwQAR7IiVgN3e/bw9++eB9pmxiNmmxv3sV55P4JZacmJVrDlR+rkG3T/nwVCSnlNPEMrVWM+ersf/lzyG3gILhpJMf/KU9ETJ2HAijKZgZH+QLlMAUBeIWIxXzBfkLg6YbkOZP1hrB3SgB18blO6DwcF4fXzKlnSti1/aXfcHFtnHpp8xMLCrnCwa67z9mdLMLsTXeH9VNbBiTW+eqnWxOK7rpPnsTIcnHIL4QYTbox1QOyqkJEwGg19ZfEI/Wv8PFbPaBDohUNjYqaNeNtTWBdcnw1ILgc3GJ+pP/jfqUy9NAwoQHTUFKsoeuEMhC3AB9EguC/LLhAX7CFzqNKJes8ctvONvJv1bCsgH64im7CYnESbRj0pzmEbjxBvyYIK2jUyruE41jjbvj8QqtZwa8m4SZ7Btb6CLvkQnXErcrvU6xcrL+BAqlj3otp7sAdbjuBLz+Lx/HNcFHnuPrL1DXvAORvf+9LMEJanriC2gDRzScAEXBuBEDKvqzYa42rX76kNuvBdUJC0otzJseB4AMTvs3oz8wNgmim+5gAyKBEbykH8ZQ9UXwzWGuFtkVtDYXYCNaaJ2F51DI4aNyBm/mVaDjC5GcavqkDIqGYF4iQCVCAcjqIycOsCkWyb8sfcNz6cl+ZsBVusBS4xid/wKmOc/4l/hmMnLA3xycRdCdhNqkfeRFDpsOtHlH9KPNwOhQ4p5wDQuPkBkn2tmv7SaH7ULuNBeTWSAzrhKl1pmynFYzbZZRqzMxEIUGvMvjTQVVWLRV8B7rDvk1pF7yZJQwmoIDQrNbHHCoGCKLOFTAEd8m9e3Vo3P3RpaJFG5ai7MuHc01xh//QcC4aw05Z0c1LmtEcAf/dniSOEK0cXOYH6LX8RrQ/3wljvEc7YHiPEH61GKUHvcLdIpJBeofa6/96KL1b2vGPMb6ZbQ3R9YZRFs3bliuX1Q2xhjRoZt4qeSVqWz57UQSEg2B+E+/Eoi4yc1T9+uCuZx5n2cR1ZJqPU6f1bus+13MDgRRkNhq85Ijch15lpqerOfVyOsAopTeRjUJa3DNQ8d2i9mshQkLKnAfVYFOXw+tcXqDCfbp5/spMdVwwIFT7wLC8NxsRzOrRVY7MsvYMmFdq2kCn2RlaNrIyRtFYplfccO/nNapD1pn9S1aVKfivu80IBlsfPyGqEG5n7Nu/hbiz41GY/93x9koxG4eZSWUFEuxpuV4VP+5bAiA54kOULcuI+wTmW7SDwgxzd5WRo7iHWD6dSRU/Lxxw7t+cpZfJj0O+H48KYqg8w664S3BArYIk+gV8RZtaEZcnZDI5f92EutJFG1QK2Sof/29RcOLfV/4tQaaUOz0ANlbhb9cEsQH0LB+rduAJLvrdf3NqqcTxE8tcUM1CsLmnQ7cpnf0XYvztsP719oHr98Pb5uJaSrMAiZTlzhxud5PQGd2mVlEAkR4sLIRQTCSUs7tEtbljkEZ++n3tX85V06bhZgVo0OQMk229yNdH+Y952H2uhF/N4CzNZflceTzjPoBEYGQnUu8p+1zm9zzSOMe9BgSBYpmeNfSZgPA46HsAeM3UqBKwLwoyprUYP+zlJciTRf2btf0cP26WTPbgfAb8x2tmiFvIOcikzmspL+OZTifuyU14xUGlpPxanRU+PBwpwEuX+qGqe0F+TKFKtRNKjPoXNJhdDryvFWZp3tHUgXHRHlMps+jT35ihWntCIZyIs5vC6Xmku64WGOADXsqSzBtFYkUNGESD2wAcR5bFF0PpyIyWAAAADAAADAAADAAADAAADAAADAAADAAADAAADAAADAAADAAADAAADAAADAAADAAADAAHzAAAAyUGaJGx/AAADAAADAAGYmxOuxs4gwa02vlor+2tf3yH9cdIyJ1LX9Wa0VTqG4UFd8xN7rUqi6oTebMNTCo4zznypl/hd283WeBrPUk0/SzV+1QU5MsB1jmQT665H+RbCvAQo9bcZmnQkmwiDKH3MVP4QCcu9rkhJtedi9E9/SjhmaxLMQKdTywJfLL1M9Cyau9uujnfKvQY3zhyoEuD1B7C8KSz2zrndaNebUNroEAtisW1jwVYJ0BtHcJICvPs7yEOAhEj0KtgiQAAAAGZBnkJ4rwAAAwAAAwG3+uwkksjPEHHynJMyEbSa6CLyc1Pf/Kpp/MH7BOgMapQCU5Eu53WpVH8ImW6C5c+pESQxBZrB4KgwAAADAAC4BcKJ6qVRsmme8UwFxN6+Spo7gAAAAwAABx0AAABaAZ5hdEn/AAADAAADAH3AZJHuRN+YfDdy1jSSk1cOw6G1IcdPNXYCgXdPKVtyLNvc3VMsfphlujopz4GXa/58AAADAAA/V++ABlVXjGG5y26HaAAAAwAAAwNaAAAARAGeY2pJ/wAAAwAAAwHPeXLSizSv8kei+jXyKnLjWbqOhC/uIKCAkspRdvnoj38W2jXWpVEJ2iKTLCaC1SgAAAMAAAYFAAAAfUGaaEmoQWiZTA//AAADAAADAAGdEEUN6H8/DWO3vOj3lT+SjtB8dZU84JNMzu7VMsunWwYVXjKGZywZG/4dtHvvJ7FkBQ+v4Q7+n3v5GpRGfkxKK315iefiLTFiiWwfDUXmMyrzrtQN4dVMQGQ5K4Y520+o8COBAimxfMlxAAAAbUGehkURLX8AAAMAAAMBugKnMZ6u7mnqlHya7l/4dNIEYY03qS/gVGjjkR2ybEaVyoGarE9qmYuH4HXoRKCjVZRkuXblOdASzBs/X2+T4LqA/4ADmx2AJB0OI+eqX344gRXL1Mo9UAAAAwAABU0AAABIAZ6ldEn/AAADAAADAH5nQm8Uteojnw+qaO/bL3DsOhtSHHTzV2AoF3TylbcizR4PWpVEFMfFtlxvUdwDpAA2xwAAAwAAAwETAAAAWAGep2pJ/wAAAwAAAwHCmzzGz44EsSrfOApvzxLOodV5jmZGIeOCwDKKYXW5sYz/Zy6Vm1TLIBoRuqJsdLKWrwkggcdgACQiV4AJaanhExsAAAMAAAMAYsAAAACXQZqsSahBbJlMD/8AAAMAAAMAAaGlUT/WPAhppstzfNT1Mp9nJal8o/aK9sw3d2qZaauwmfrMKLihQazy/gJyNpTUNT6evqsYqltASzbB544LH0DmU7vv8qxbjDsG5u0rHhW4nLyQoIDpJmag+yiZEzVFAZBsI/hlwBonWJcJ/Iiyzev4tSM6RT28SOFApyvIIQ6G0FsllgAAAGRBnspFFS1/AAADAAADAHsFcyzdNU8D278+b3I3nTRAe7I9jLprtKnWGdxBgixzGCy9PHaplmO/GJv6yg+C7pIcxqA0GYuF75S9rSTR489wAsyR2E4B9SOqZYZWc2AAAAMAAAnZAAAAawGe6XRJ/wAAAwAAAwCCGPSgjZZGMw5wriDcBtcBQ9uptXlRMpZxRHCY/tI1vVu644xqmWLwtm6Q626jukskmi1UiVx4Yda0CSoG93W7RHtUS8S7NUdo8D8HUtMYRvPdZNIPz8AAAAMAABVwAAAAXwGe62pJ/wAAAwAAAwCCaLMSTNqSEVZxEdhKPdJQ6rzHMyMQ8cFgGUUwutzYxn+zhenaX6KjI0Bh76fTEUcol30HuIJEk53soQvAADrFTGwBJFoyxAgrz5EQAAADAAHHAAAAlEGa8EmoQWyZTA//AAADAAADAAGhrP5rQI/cuT7mMoyvyOr/URfnk2TC0rgjk46jb21TLbjBnv1eBl2akAR+EVvonncdJArpIVv+HDn7SFBjl1F2TdPsfDOCfIqQEwsx81+UZBAoamgE2NePnOo8yqJI/XbzH5kSBCq9xFXF9J77/+PErauXJsI9IgVe+sjlu8rSL1sAAAB7QZ8ORRUtfwAAAwAAAwB8iAyFn+ncME3LMcQ7AWZJm1l6Sc148SfomQg25SoBLUsNXTI2jbUqh3WH19fvJOJhbkR3MshO3mlMXfhPdKBIevDHyH5T4AAAcnJgGBIP5/rzBy7UrJZaBBzddVMLp7R4N5THAAADAAADAETBAAAAawGfLXRJ/wAAAwAAAwCBKfC1tmoiSVXgNztVXYdQ6rzHMyMQ8cFgGUUwutzYxn+zhekAcanhCrikvZ2SMOzH2CBsJq5UX/q+hneh1Er2CP9FL4bD7A+EKI8P7dlVKoKimi6KuOAAAAMAAA0ZAAAAZQGfL2pJ/wAAAwAAAwCCaLMSTNqSEVZxEdhKPdJQ6rzHMyMQ8cFgGUUwutzYxn+zfQ7v74NqmWVZpJfMxKQQ8WLq1xxFA5WfNKG8/0/kCiFO/YyeXQ5odftNT1cr4AAAAwAAAwEvAAAAbEGbMkmoQWyZTBRP/wAAAwAAAwABq6FdcvFXMzJ0ZlLNBXixpXEJbP/pupwG3imafN9733dqmWPCj2HGCXnOkWjIctHs+uAOorH54S5QvRupgtXygx1/3fPTlDJCZrEwzgBCUHfxdBMG3b4e6AAAAG4Bn1FqSf8AAAMAAAMAhh4EF6Yos0r7JFouo18ipy41m6joQv7iCggJLKUXb56I9/Ffyr4Uapmlxm+j/JCb5+T7CWKsddaaRcIDokNnT2rbgAAAAwAAAwAAVtIghjbaplutlNsNEBuwAAADAAAI+QAAAPhBm1ZJ4QpSZTA/AAADAAADAAGuID+SHhq3upPfcxlGV+R1f6iL88myYWlcD+xiM70WFgvQ/XK0gkXuhWKc8vjEKvO9qLAseuOblapLVAftuCBWHm4GTGLrAlcrBrOMxeS4pu9R3Gmjy6bXz0H0lkkGtiXIUfn4zyafW49iG/dK3oFOiSJlM45Vr9x3Y5pSmFe3/K1D56QcSyQfi4L4/HxqWpwVoYSRE2vm8G0inLA1zRgAVPZHqfslK+YFU65878S2ZsmUf7AkqOtTgpeJHpH6ygv6xS//bY+En9/Cn6AG/iNZQp6jejoXXQKq0jh0QrBZxka7tpmOwAAAAIlBn3RFNE1/AAADAAADAH3Ne0r2Ela1jKmEO+eYNomziUlLN6495MUjMS7shLfVSMCuOTtdAFNqmcaDWZkOhDzaFTigXGsV0HAHaFb9OnYZx4zZz0Bm3loo2awKwEfVJrcmL9ptsqYZEpeFM7ZOObQauK4AUzQ2PmzAzapFNyCKKuAAAAMAAAMCkgAAAHMBn5N0Sf8AAAMAAAMAhRmB80c1ESSq8Budqq7DqHVeY5mRiHjgsAyimF1ubGM/2cbSvCNCC1Kv+nDEUJ9P0IovLHJk+xJlmJN8p7yTi4odcPEUzgbgwQAAAwMulCA6TiXn0tX5hsScefVXiAAAAwAAAwM/AAAAgwGflWpJ/wAAAwAAAwCFSCr5jmoiSVXgNztVXYdQ6rzHMyMQ8cFgGUUwutzYxn+zg4BviftqmWPdxxE0DrfEX7cAT7ncCEuH8IvWbZB4d3xExGq52FM+QWbqrSq9SZwBzZa86BY5nq4LCHee7S8Yh/YNS6e/Hrax4fyQIufAAAADAAIGAAAA7kGbmkmoQWiZTA//AAADAAADAAG1skeIYW3MzJ0ZlLNBXixpXEJbP/pupwG3imj3nInDlCH8M1zd2qZijJzzvOEKLBCAcQjXXUiXKBP4OCa1o9PnNygzgaKcDHz6N5i70Voo1ysf9wknWY1TPAXbrA0L/Sus47odAlndG/MiqYb8PZVX2XP/WT8XDh73pB+Sb9HqVBgT1Rntw6JX8qpipTkuKE3Pl76mTvaYLYCl6KqOMpU0TtiqlOQDUe4jXdvie5valrJlqtlBIYDj5hZLdr6IZGFpJSUYyK1rqBsC9bJcSFPGfBY7f/8+ZChpbQsAAACOQZ+4RREtfwAAAwAAAwCBYhLvW3MFLw7W+kE8bG36GIIvJzU9/8qmn8wfsE6AxqlAHp3NCkuylF1apoEX9yhDMopTvMUni4ngJvD414Y3CkQAAnaEDwAL3E7X1sDTNqJamFkd6PY7IUU6Cqj+K1ps/ieBd/GD6ByAlFFZHAAIHS9RONAm4gAAAwAAAwB/gQAAAIYBn9d0Sf8AAAMAAAMAihIrnBA0wCsNPIqSEPdtf7N1HQhf3EFBASWUou3z0R7+LA4QcygsYN8xz81oy1becLZEINeSSf/IrR150mUaQ4+MzOB21hooeFnyFa+2oEqhpDXZ3YlyVT+WSn/ZoA0V1+tMBBv1LDNIsdkSgUsqsgAAAwAAAwBcQAAAAHoBn9lqSf8AAAMAAAMAiUgn2Y5qIklV4Dc7VV2HUOq8xzMjEPHBYBlFMLrc2MZ/s5CZmDPo6OapnHPJd3/2vRIMI03Uo8D8dSkv8r0p3T8niAAABFOG0wEa/UnXvWARIcJxnF6Mub+tjrvhj9S3zPelzmnAAAADAAAKmQAAAQRBm95JqEFsmUwP/wAAAwAAAwABv9kyOuYKSWvi65SzQV4saVxCWz/6bqcBt4poEQj8IIVXAEze2qZbiGL8oVlW6cNU57KAJ291WuqwlycdcSatR7dzEDShUAqx9eauRGAwOZCLSv9vyEYGXEU2exk6uQPLGxKQA62EoOhlmoobcUjugmf2UfE2c1eC2fppX0XAp8svO54+0H45QCMIGkPVTK0X9osfobC53VvKREAVL+j9X64oI/MrXAfozDFmfY647bShZbwaORN1SZFC6h1RHhbOIZRUeFmSnESoxYkqX5L9MxAQ9kXXQdyFtj9VtZFJGuQB8NeEiaWJzqfEeJjQ2UI2/AAAAMZBn/xFFS1/AAADAAADAIVj6ucbcwUvDtb6QTxsbfoYgi8nNT3/yqafzB+wToDGqUAe1Y+0mFmpb8bUSAOoqFUtuHFWV7p+3fnUe/kXwg/7mvMNYwLEZHMfi1gPiZ1xVgABuZDEBBfAkAU4qgIfvOKV+mfY/E0E/Stf96rJ7+gvQ6MxK2wEbfDmkaycwuCofYmHRd9UNfvqGze09mPVHX5bVhb3g0px9mU0FnG3ig4p4RvXVQdP06wWP4/f9+xgwAAAAwAAd0EAAACKAZ4bdEn/AAADAAADAI4U4u9lWRgpemDmI9iYe7a/2bqOhC/uIKCAkspRdvnoj38WC6M0h3mebDapVDruQgmSE4wWT2Q+5UR7JyDV36Ye1UBup+pNFuCZaU3U2atIoyJK/4TNuwVVZEC4d0Z4Geem/Uo/96ADPO4sw+4UjJnLqv/0AAADAAADAPSBAAAAdgGeHWpJ/wAAAwAAAwCNUPTrL4wdPkHwG52qrsOodV5jmZGIeOCwDKKYXW5sYz/ZzCz8nk0Mv6bVETJws6hoh63hlF8F31r7UehfIg5fbcZ249AE6V0wXQmgKFsZK1KiO4Rfs7Ajt2PzR+Xu8lptcAAAAwAAHzAAAACaQZofSahBbJlMD/8AAAMAAAMAAb/CoXT5ka1FHfvD3K/I6v9RF+eTZMLSuDgeEKeWMX3ZN17aplt6vFWkslPv4DfdEdS4eCh1MJJmw8nTHznnlQmd7Qh5n/XW/mjvpoYTy/AAuOJDAg4FjGgp7j/Yb1QgtR6gEEDQLHVESlwrG7wPJFUfpUfThEQptljqY/ohnoMCBywaDG1RQAAAAOhBmiJJ4QpSZTA/AAADAAADAAHK1edGSbpJa+LrlLNBXixpXEJbP/pupwG3itZDCuZoPXNtqmoJe61KorRooFabRjCjqpCISiwLRKsBH9iOpvvo0pt/5dVQvndTpcirUHQP1rQoKnsIcbYyqMZToxt4q63YQD2bvlePGteJYhy5cxnF6vKgFwwK4ERZQNOK/gZeRQ/yr/JTZBtq3aKC7Uzkcm/K+sCeKKIASrcHaZIb6r+CpHe4pGaVSZ+U+m9aymFN4NmFjmh3bHwgrAesEyMNGK2MPLf3NDaIOiNp55PhIJPpwowulgiVAAAAp0GeQEU0TX8AAAMAAAMAil9sfWlLEzwBx8pySshG0mugi8nNT3/yqafzB+wToDGqUAe08t8mwrhXNtl+HbU++r8yRoFjebB8CulGlpPFtrAYCYmy0ED8cHbuO/iYSeDmYcnVl9VymG41a5pe+BkRQDbIiKNn2/XSj8RGR1abOcExrQQFIr/VWmBEeY4f4MoO4i28tx+yY3IUZ9sTE731wYAAAAMAAMqAAAAAgQGeYWpJ/wAAAwAAAwCTPnXd4Z30CjoveYgZrW1xwwCjbEIjGHxVtslIjLIPHPk1OKbnPQ8/1dq27VMsfmwFqWTpKIAxp04GaSOYIUG6bHCCM5wERLhBJ4RXD43htjtn1WnB41OYrBX9Md6t6gH6D9NW/zV4hwh/NhxQAAADAAAO6QAAAMtBmmNJqEFomUwP/wAAAwAAAwAB1cKYUKSxrsWeG9v0x+ErwNcnfs+B5oMF1URBTquJ2QnhoB5Vu2p4VpcRW66lXXqtrPOKj7AnohiZFC01EpBPsXbWxZ+EcIBPNAONYzQgPKX7dmFfF5DqnTurrmZo10k7zQN0ORN82Iq0FfMuy/f0oVNPS8L1kYQ26+ePZpKzwrwoA9z14DOcmbtzVoY174Q5inFkbRNFsoccw6qL2T8ObhY/nNeUvYTK/b68EIvIBvBCK+EkeotZTQAAATJBmodJ4QpSZTA/AAADAAADAAHjRPZqM4ZhrMnRmUs0FeLGlcQls/+m6nAbeLAxET+REh7e0AAeQDsADjdWHNSEK6USdzrzAAADABHz5Am7dARIBr7Sg1D9XNylbydv5iFBhVph6hvzLSPhtlK5sxzvWISu3dv7A0p0OS99BmkDpyhQvanyFl7L6+5AJPPHM91XSP+z0FxKI6pf/3P8EKH17VXiEezqJEnHI2GCMulpob4IVPQLRgaYOR0QMhuqsMUtJb7/k74dWHYmhT2oNNq1DRbMd2R6BWfbc2iUY6kt/T19DztKZmv9iejQndv/Oj7cihzid8+gJ+09rlsZcZL433VfRESEWCptHJ27vrr1p3Vf6uH7thXJp2AXoT8CvzxmgTDf6VKlFTzrTeu+j60khZEAAADYQZ6lRTRNfwAAAwAAAwCSBF763s9CLlUC9bZtmXZ2/QxBF5Oanv/lU0/mD9gnQGNUoBAcUpP1ASbYOqw9AZn65sk5DTeR0d6yWmzqdidwiDtXIGyjbokpFk6dokzzXzQ/8nCJ61WJjp8kwcAnb42f6P9y/pXkH1/Z4ACgJR8k3so/6WwveSXZy9uVppv6qTDdlSHtugMvGmvwd7GU2vq93FrVLQt/vNOZybj67qdHzOP/9izea0tNIiI8CEOcsnQGwvMSgrAaBO3+njtAglpJQmAAAAMAAAR9AAAAngGexHRJ/wAAAwAAAwCVH8I23PQeCF5Fbr5AmF2iQ1m6joQv7iCggJLKUXb56I9/FhXMymcSxQ6O2skvbbVKotEiDqa8jKBxXGtMlVrNOzIKFM0OE6ongNQqQanB81qdULyr+3W9hclLDeVCe1Y9jt1A9/hBejd106Yv4Sx8x9YO2tyiN1U9xwZ+2qd7F2FK9tCOQAikJFgAAAMAAAbdAAAAkgGexmpJ/wAAAwAAAwCZU5Tn2fNeWoBl1MMlctNtf7N1HQhf3EFBASWUou3z0R7+LG8iElU3LjLM7c9GVraklp/vYk9m/hCgYaSS/ld14Iq7iaBVqyysk/WBoKEwu7XQxLXoHdZWIiqDARo7DDFUMC4TEDUdlx6eQmu8kmzPM5MF4e0//dGHa271LkAAAAMAAD1hAAABF0Gay0moQWiZTA//AAADAAADAAHr21UFCcR+/c/5MxUmPwleBrk79nwPNBgursYLBRjUWbT9Rm5y8572p5Vm1MwdRJmpYbdGUFzEzWI2pDNh4zo7by2uDrb5JlYJoffbCBI2GyYJeaBIF145MlPh48ziv9QCYX3aRtlGD7fhWX8eEONjfDT0pDG/g1nDYbONv7boetA2uvuZXb5oLF6NFadMlLsvYDZJQpMHxeaQIb/qpeVvPwi17nSHU839qtUOUIaVjOhuNAN4/KVM2O1Of8NzjjoervkoedpJ8dboJxi/5UbcPvI+nSg2GH/MeA52hL8Pey+E5yeaqwtO+uAU6g43niAdDOyIf8M7idyH7y4hXmJ0LSXygAAAAMNBnulFES1/AAADAAADAJVl7Em58h8DBAprD5n2D+Ls9lhM6mu/fUFFkDNUkRl9MmBz97/ZFnqs3vo97mZbHCN3my7eBdrRt+Gy8Gcvk1kvIVz6pDI5RIUHHgxauU+7tmT0WutrD+1g8hCiBupWAjxY3b/P8QzJ1b8jsQcV6s0YXIUErmHHzGaTQXfm/eBGjqupldLgfVsW5gzzSNX/TAEyQj/qN71d4GjbBK0+7tgIPAO7Nozg88tmhU8AAAMAAAMABHwAAACUAZ8IdEn/AAADAAADAJ5g3faBYZpX2SLRdRr5FTlxrN1HQhf3EFBASWUou3z0R7+LKZkLs+AKr/9vBJ3DKrJfRlqpocZBAnK4tpQovaSmijfutvKMOPToBbiLFBAffbpO/Wsm54RAzwgQvp5czfQIca1Cw9Rxh7R8xAJ3PJCIEWkMMwoqJHl+BCib0+oAAAMAAAMBOwAAAI4BnwpqSf8AAAMAAAMAnWyvfKw4B1fV/C7m88s9ljr/QcyJxHMHhsLZN94XnF04lq23iYGcKP1IYECt6uTj40jbVKoulVTBzPTkO9jOlyeuRyO/b+/k4uX9/GqnT9J7fGSDBs5nIrXjfsbhF9GFRh/pPM7dBBRf4gIoAtrrlqHvEdN7EpPSwYAAAAMAABBwAAAB50GbD0moQWyZTA//AAADAAADAAIEiTOa3D+ehL0bfD3K/I6v9RF+eTZMLSuCUnAUJi12bXGcHHdyPGWjIZgGwTdLSPkup9SldLyK+8GYjBaaH34jgryUP3ffDm7pLu6kireHCZDIzNl0+Gsmv5ahtda7/L6uu1+JC1jQsTrlDsE0OTxI3bUhvM+GZ7WzNBHfVTxP46DJACU5gv4GdXj71Xbxb7M+A6Wpc9zhqW8BQ2m7nQUP2QRILUcitJsPpGhptfY+eyAMkfzhrzSrH+0jWdpNllV/Jn+krfVUd6r1Wfb+8AfMmw31gvBwvczwORtEQLs0217zscBK9IYihqmJ4zEhdxwjyC/Hb6CXjw76NZem7kx+FNaUjwV8EyKiTzOpb4zis3H771Vz4Qtbngcnj+7ZEJhmMpjK56Xd14s2NMYGc4JQ4Dx26yV4/PC7J8Rca5tXPsLAue4O3lbD8NjtTT83jOYEhnMydlAiCHsMWN6BRMr0TSfNFJTgBhPsrFES0u1Yqi15HQFrMRZ5wrl7n9mG1xPwjMXVGC0AygLpCndelFeNibcKJ69gtrXUG8YAGwL/0tVoisK2Df/7C1SIaGql21UeqLi2xn/lHey85ery9zm4qx3SpNESCK0Hz0t2/XSBOgBQwHwAAAFyQZ8tRRUtfwAAAwAAAwCePKDzNPnjMxBGh92DFpCXYuz2WEzqa799QUWQM1SRGX0yYHP/qk2Tw1F6Yf6cKnKEaLgiUt1tXlquwrLEZ78gXdauaodailK3zavirSYefuJEDn5DkqtxfAbhtHrIdVTOAvGEnEYRFU92BcbpyhKHwOSVmjR3IVbzvZgLiTfo8+jxcKg5rcJ12qygIi32mWAcQ/sIVbkK60FSVUFepSreeJd7WwSA5hdoadDCZQkyKI2LthE7paMiwdbWQJjPK/pwDnJS8xA4oZSYQe52hewSurP4NXK/9taYRvVl9PLSk0gzBQqWb/timfpwdjZd7uzNospNkMp09zYtrE0ZTZ+N0UCNwkbjeCM6JXmo0KJaR/9Cyi4dQiTA2EmVPVDz//xTBMSS6ZIZ8OQQQXulG3zjZ08D1bozVVLyfQb9ibiCVQnQrOy2qqMHcoyGIrb/cK2W+gfyM28g4s7qhgAAAwAAAwAE3QAAARUBn0x0Sf8AAAMAAAMAocH+XhxSSUAY5pE54RhFhNmlCHrlcOux7jgf+yKiE1WTFQfmZf4RuoD/lG3NkKDtYhiBQQsIhqQcR2nfP9CvlnveBUdYCODlbi+Y5rhjKtGJfRewmS45mhfB9JF+FETVLmO9ygNjtGpjxAZs6KcAQt1WU/VKDEYv1q/k0k9rxN74j+zx2sLo1qhH5Y7GIXTCy8WL5VZ40JgBD3GOxKQZpl0ypuC4zFxjDfsUsihFEaWiL7u7LlkFFVO+gqE2gp0x6CmM7Z9uOR8HKXGQ/Sl1tAw/ufmJteAS/4zCMIX7jklAASe64N52rKn7tYDboOwlMUgaR4Sob1RNXRBkM9OPYAAAAwAAAwEbAAABPAGfTmpJ/wAAAwAAAwCnXNuIe8QuqnlpsdYZjNA07fs1M0jdsaJG3tW94lnjbORH/0t5H41n5D3zojIjAPA5iqJrBANdjDPams4WuaOgKQL2LMOLNw72M4lRgQD8kJLv8PCIvoSCAkAAL2DWKoVdWyltILJxUxP446LG1Zl5SFwi6bmWxxMA1lDSw7VJuk2Olz3Ort+1pzjsZ8SfVq4ZPG+2dwe+dz8dkINVUlk+N8WuDvUgd3IDMtfvs0TrQv/NKmVw79HSU7zuO6r6sDSTdOBdC90Id9NLdMIb/lo2CDGB/go4qo9FSVV+CPucPajZlsTxaNBlBJVFWB9mxYkJO9ExXtVz/lPckahrGY/z0FkRZ8WdyePBvjyY7k/Ka3DMO/uuIwGi6R2eOrIWqQgQEG/UsugAAAMAAAMASsEAAAIGQZtTSahBbJlMD/8AAAMAAAMAAiSKJRrcP5479vdRNGV+R1f6iL88myYWlcEpB3PrvjPL7YIMVMmyRkZTn4AlLUXQQ7eZPJ1qSdbzwSbAyXdk2I8THyPhGtaMvGk//tbP7JZQ8dzT+D6RPwEegVih8kPhkOq+l0+hbuhh3wycDyYgv+199tFE5YtjsJwwrho/e5yAbVSehhCXxHUylRSuN9Hn+hErygHL9EQhPsmyKwBU9wEfFmdvolzT2S8mjS/S1CR9bLT+48qIoWoG7ZJ1otD1VQ2pC1LnjdFs4YY6k4gwN4ZjB+EgZIGQNdv6u/qOJvcr1wP7SfSyqdUBFSjgyk1klMASxMZPTdgMMbWTcgQn9NLsNqfzqJvziLKwUSA0B183JeYVaNBRbmvXB7fA5D092CLSMfnFV0JBzQv4S/a5l575hOCP0qJxLCQ3p0AqzfgqLA5R+bxaHigkn23H7QKrcHLwqlwQl+5ZTgn0Ic3Xn/kC1laeTQLAqniKiRN3LFUJyt8DhuyY2Zs6JB7DJudKjkq20GFidBYXWT2wGtGI7jt7Zr79wNCr2fhsFbAl3vhUEcGOmpRvAxR0yKeTwYI+oaJYdVPPqkowrHviNQx5hDvYtPRR7/mnRipBnulXGY36fLk3Vu8eg46hVtYWRQZj/v2S8mwpkD/gc0mVIpxCX9O8czoAAAFUQZ9xRRUtfwAAAwAAAwCnPKQ7NPnis9JaSfADFpCXYuz2WEzqa799QUWQM1SRGX0yYHP/rWszF0ld7Yxl5DQaXD9VrZmEA5DR/iKydZlpehDmxv1gVcLR818goQ710FH1fsj9LFtlyOJWq43AHDZFPbkbBjG/jBKBXx4KkQWTfrX+AcxzwyhAcdgGLq/Z3yc1FFY5Q6aEBSd8vHTvBLSPx9g9JjoOWFtOVG2oZO/uu/TBxqym0ApIgfE2Wi6HUIWQxLOWj5JMdW4hoG8ndbdcQTsr+TBesgtDcuIeh5WKH0HJWmAfIiB9LaJpUNWZOl8lzvYnpavzs78Pn359X0qzBH2gx2uDVX36acieVYm6LQINLUU+MwhKqJhHVLtvbSq+HlaDA1Rktt/K7vhWuwGBd+3aFoVaY/EyAVyxIJcuZ5BoLe2EZoWp7dmV3AAAAwAAAwBxwAAAARABn5B0Sf8AAAMAAAMAq+3DQgcVITEwBUL4DmmiYcaK2DEou7QPxlSlaMk8ay31gu/iPXD+/ZsOrC8F3YCht794FZesJnSLcrfpBcfORuJWsx2qgMVlWJuv93hMwcM6NjMMUXI5a5RhVGFVRv9G0vyutOLm8TmwnSmC4H8uenUdSnmZ4bQRbHOgxXbZnY3B+0Wd29RiwWdsvJAq7epbfdOaE3gSaBuqu839Sgyrmd7zCTpm80mu0zIGUULh/OPV7NCDZBWIdAcQodrYC6k7pHlKTQN8cYgNGW/3yZOyR/cwIN3TVoS+A5HJjBVwKCpA76UH2uqSr+cZ/xVu07OUojaxUOuCLMnCjAAAAwAAAwCbgQAAAN0Bn5JqSf8AAAMAAAMAsFzbhs9v6dHFfQIjUyPCH+vLV5T65irwwxRGp1Nr8Kll1XiKaNA2FCIDK+ym0iLAbvJeYIkOnMNwD9Z7lj9tUqh8F5800lB30ygqtLTp1m0/YfBlf733fZblcet3WB549UMlyauDm0kXLY63XepDd8rwTH6YCqXYEwOoU8XObz1wqgB9ckQhezZHTyRBX4eLOh9Vdaa26EpP49OlokqA1/8PMs+of6r6m+UG2t/qH3c8AJkD/MrrAnuEJy3pa6da+oGvNu/TYA/gAAADAAAxYAAAAYtBm5VJqEFsmUwUT/8AAAMAAAMAAigDaIh+x9zhFIUYltQP+2te9I1FC6/dv6C1m5ICSpyXmchmLou2nn/GB4wMBDo4BmM5zsg7KGQAg0dQMb73bU8N7mwf/DQT78AxYoB+lHvuEw5YzrSkP5P93g+nIJjq5kIpwSqHMIhjALwSR9BviJjbblIPg0rBPZwuYguiJndjvv22gJ21igvMe9JRXfSetR8VCoFi4+bD/wLFIcUvJSS/0n30IzlvGNamPfIcs8BOPEvOamWSCuHdLw+ndkS8IIkJrOjklmcP74draHijl4GEBGb/xIfOu3JPSy0eVD8Mt/uwH6G3BCJygM5p6Qo1YJYODzvVgKjAtEKWNt4jb3+ugVqA1iQ8ttYj5rHE0XfsOKZya938dh3DDFp63/RIyhMFj1oMY9aZn72ju0ihkdKERgguMscF41LI9V/tII8SZmYDyUsjZJo5VLiyLn+0b+uff7fcb3ihLEfJhte1VxJe1MYHrVAH+QfFtPm7my1C29Yyink0wAAAAPIBn7RqSf8AAAMAAAMAr28tfDrK0FNfXZuHX2DcBvBw0vI6fbs2VFTZ76i6Sn+N3Q9iLcaG5iytzBYWwsg5OxAznxBQUcT+MF3GribThOwjI3tp930smADz09TsbR8mP924xbXklxT/SSfDqx3+XxdPywRobmIiE3lsAAHdXVOBdeq6+SjWhPstUs3FysGRex9mtXxU1MW0UtGd8lw571e/8fq9492UezhkE+6PYj9lLm6Dl5g/i8TshLSASbm4LkRAfaxjrYDpnmrm+WJfSgRgESIr3CvR8fPyL1/0ymUmLaKPn9jdlXtQQAAAAwAAAwDPgQAAAZZBm7lJ4QpSZTA/AAADAAADAAJEixOHrQpPR+goPT5kO3AvcuzxJeoun3K/yOC4IGI3Ask6NSv0DJxdMKxVpCtmm1xNBcBuD/iKBQbCoJS1TZyb6BPWQEMMwm5ZS5tcOOrrHX7gKa6bYsbjb8Kt6kD/9KZmTajVAvQr/udC9qEikmpIPZc0zMfQjUY541rRt92Oq1xDhEjzyyiRqMmKtV5P6aU5TsI7T1OQaonGannTD9TCG7HfY/j8Xr+LRmihs0uUB5ptyg6vSa8ju/2LA4muqOuWXSvIivum9OzQBQjy/r9aUuEYw4bUKq07soos19N9gl6+KdFl0IpBtEh1ZNTnaZn2B3uSULgd0yHtrCB3iKOOalS6CbNgMqhla1jvDpG2H+ND3os+FkQ1hetpuN0Oc/kya1ASegZaQkLHD0ozvbRJGIc4Unvr4yCKZH1niMzileRzvR20Yyvdkn0jEgAlpEw8xnmh3ST8ayvPWyCDBpYHhAYND8Vhb14zU1EFx1sJhtoX03EEbni6DDcRY3ITQeiaSumAAAABA0Gf10U0TX8AAAMAAAMAsDUPhsKgtGMleUEXnMQSgYOk10EXk5qe/+VTT+YP2CdAY1cYVqxc285FTBcZHVn5giDOcmb14hyjAibb8RdrPymb/cYFHUL6HfQ46dAyoiK0Fo6i95qO1OecHrKIOSbHCy67uS39tUH7/RqE4MNkYpOYYmlSeJF1D0hPU8AfPF2V+USkr7Adgp+n58z9vIcNJvxo8c7EPgYYPXtP4q0EAhztrQqeCwN8mY6JJZM3q1ZG7N7+lKH2yePHknuOgHCmPyf82RHfOiBt+jhyA4ZJk0ujEj2Iuib0YKcSvRkqK0UUjnBhtOEg+MIgkBgEAAADAAADAxcAAADYAZ/2dEn/AAADAAADALY0zaYUGvtbw9BzDiayqo7KJzUmaNaQh9igj/SSiEVeVEQj9jojSuun304u1xT7zdkv8gOIFDPIS3ACcZ1qVTpTSmUlG/82IYD9enwu8hZ4J3OSr6QXfvZJfxq1M+z31T0CaluKAO6tsCw+4xn4kDf5e9h0/LhZEuUkkS9i7I5BB4am76mZCo75JwwUgcgbFqXoL433KIVPuUsD0dnFO5Q5TZ1lepIJ+1giq0l4VdYcrC43vjepfueOaCo46K/tjpkPtEAAAAMAAA1JAAAAwQGf+GpJ/wAAAwAAAwC4caE6zPmvLUAy6mGSuWm2v9m6joQv7iCggJLKUXb56NCXuW6gMmFxTLNrMzQDk/h/58UBKoLQ60UiH5zKfrbU4DOTLDM7wkdf8jdhr3P1yJiv/lZ26jciekqafh5vpi4kBIM1wfc899Iafp5hgy5PYskfryg7kBhDzmUxviVNnStXMbDuztabtsuZdlMfUs6QqAZSvEUihjq6KPDE2QEu5D6Vb1Rxf22oVhlbgAAAAwAAGFAAAAG5QZv9SahBaJlMD/8AAAMAAAMAAmSLh+a3EBrNJ77mMoyvyOr/URfnk2TC20ZLticpUzyQJmjd+ToZxzQxUiAVRBuSc0hRkaJ5ft9dVVs6klhT8lzR3RYj8sCDxSEPGCkUjw1WMA3IwYlhGM4fD1zLxlC6jwCxzzfhRvkBo9kv/tJitBFeaXFIaBzx9FEqff5kwj4YhEzmii0dY5tfCtvyP1iCE6ovCqyeEdntq0Pyn7Th2uBno881IOAHVYMXd6jfVM/643b7SwWIGPzElEL3JWy1uo519JdjkXO5oA88WGxYD2PSTaRReLEd9sal0q5bvyPt12R8+Dgk1haKvpeeB2IJoNAf4gzUjn+H+7ZeayKWE5uzEN/zozQaC2y6d+LFlb7xnpgyE7jX36qYIPbRuhSyf5pm/Kh86rwEEklfrlTwpTtrsOkIIg9agh4UXlI5rkgzHvT6XchkS4Vvm+NDqYxTRQ1bVG1XredvLMcHLK5VVU+E8z62Da3RKP8Lqv6Yx+kfs8boHQJqKwQ6/mlCk7RNL5prCch1uGBIEGbYPAcmcfp/+QIZUpVRL/Utu/ha5D4kOTaHqvZhAAABNUGeG0URLX8AAAMAAAMAuTyngzUPUSEII0PuwYtIS7F2eywmdTXfvqCiyBmqSIzC8NpUmyv7m3/SK6RTiw7DaqowZoqXw8/g+l0dAM9EGonW6vcmBP7DtAoFHnD3AN2R2HU+Ovz3JUyLuHJTQTAlGPI9OPKlBQWgC8hImNysHF8VKSCG1A47W3Yx5RFfVSAspuiJ00gGtRNvRjWtUeVZQ5kaaVQBJjGu2UBv+8XSyT7CRSRWnWS3eRQMK5DBSNxoFdm3MkYdQgbqKM69A6BXWSs0+EX/cOzp+Mut0tNMfrd2FbCFxcFyYnRI5q6xwwYn/YCJJYXv01Dji0XsrI8POa/XjgHXc5B8HGVRMm0Gdh6ve3JU6GnjhblCV8lzlYEf6lQq7PHq69zvlSXOgKw/AAADAAAqYAAAANIBnjp0Sf8AAAMAAAMAvM7ES34rs2RJ+V/E7ptAs21/s3UdCF/cQUEBJZSi7fQtr0bmoDJhcT8jFtS/AAADAABDC/ftEnI3PhW8qapAOvUkVaVLXz4dzBw3zQcC1Wg3HTTQvF5hXsmwSnPkGBB7JCGaYoKm7fiI/OYACPdeKtTxalz/H5D+EfXcJLyZW+V612L04IHRcU91Sj2dL1sFKTR+6Cp82P3yu3XkSEfJgH8L/9Xx+NV6lY8Cuw8XVu1i37Z89ZHrVfGFpZAAAAMAAAMAJWEAAADqAZ48akn/AAADAAADAMSlSje+2XfT4xe8xAzWtrjhgFG2IRGMPirbZKRGWQeXB5Q6qBXgvcr1kkDMUAAAAwCxoC26wKjyl4ykh08RzLVL5AMwZPhttQA5p+cCDOKZOYCgjkQHT454reaQfxMsuWTBbpmEsV4UhC8Ftngz6xm90WzfpWDjf2SgADdrtk4p62+7n1sAYKf/K35uAm3RLn9/Uk9XIO/evl7VBOH8WR/iCnMFx8q3HPQGE3ldrkdc/sYFawf5Xj169h2FyMEYHBTjR3jKDo2xbCzuAc27dwq7PfZLAAADAAADAAUFAAACIEGaIUmoQWyZTA//AAADAAADAAKj1k0TWVHsl/9cEAzOJROy9HSmsHsDmpkBAMimldDgzqL9OKZSVBhfnYXFf2tpwjZKCSl5SRvOPVenYST8N+EKyl2dUWv0rFGLiYTMDeq28ZO6Pcuu6GttqleQkx0mLAnyPtoAFHuXSzAoHTM8n3dNQB4MHGreOEt8iLgwehFEC5US/NgtoVhdNWCx34+jKscg/VI3TTZRxKSoBVatOGFNofp5JeoZ4RyCeJmTGLIlwsoG/VAiSeM6+lblaxkBpf872mWJJLq9PRfLzNOGEgV/QTIRklZ0aL21T86nqGAoeA3DTMHqnsW3uasN/HqJmEDRABgoz27gJ/bdd/6vG6iIYQT0ue6QJJM25FKOusseNiwt07i0Lswiy4bIfYHLWqm0cClydvw5whhSRJnCibN4r5Wcjr94DGlxDG1J/6J9Tntf7hRPb5Tn3yT73CPQ+/EK+rA0AM2PtEnXfnOLs/jEbe4pYKpKKgvedaJmHQ1hSbjpd2UnD/Vp7xa0FTYKoSxS8pVN0y2D8xVaPnk9PE6fk2To/vL/RoC+lQfhx8jDCo4pxy1GW4yakj53ltLPOAFcPgTpCPG+m6b9DcK3it/gZgtgBFNLJfNVGI6Uz+z8oZYfN4ol0ILg3ZdoUNrRu+a/RgzKIuGtulXKjhFkuBBtkE3F1wPQkYTs0vhaa/MdacKeFvUyhHuEqofp8sAAAAF4QZ5fRRUtfwAAAwAAAwDH6cddOyS4YQgp5AKsAhNgkmHsykxRTaDtz5CeYSDZipxpfb9+MOEB/YaGsAMPFfR8EsF1HqQAD8R8eHOraYbTgCreIt2LY6vNIJB9DynfNWee1fnS7DGhWbQddoF1hx8cNcYk39spxVIK/AQajagMYw8AWvU4xICUmwfF0+0Vt5rgfFC8da6ilO6eju6tlh9rGz/0b7mcwljD5z8bZ/c4aaPasD06EhZf6QcnauanYnwfKUGDLuIxYP9MKWyy7gxZ2F7ZvBUxC0Cm/WSA+mVvHs8+cSm1FLDuSefuv5eexMiMLP7YNnhFlOl+SW7mmtcGVBoz2J5LP0ycD/tVeuHcC0UFUOWkxOXa1/pvgbIxM3Iigv63UJ9iy8ycZPBfK9CaB7DL/rW3+8hFnzdkHzwTlsGywaFYzkl81u6NkFLSeCSpFwSHZb9hVFKP/cxTMVHlqB9u7gsTXZAmNIuQYdq5ASxUgAAAAwAm4AAAAPQBnn50Sf8AAAMAAAMAzRBMbpiizTUQ+AGg6hfvKlpQ6rzHMyMQ8cFgGUUwutzut5YhcH86K0q+0gAABWJ4bt+Y2eUOJctog7NFDMj7bM2xdpPe3VNqBwmf2aguChwsz+WU7dJJcFlUb7Papgpr9OTZol4nnLkAtslyqGl/dHHS8F9sC27wDBP4JgMqVPC2S61F9TscFOOMjB4lacFO1RxjIq5KtEC13rWbOZ69teY8WhlBqi5u3xcPCHxypFUckNa0fwpmAAbQs0iQMKFJdirMlu488M1jd2TrrpVbBVN0fUulvMN5XqJXYTQAZYAAAAMAAHNBAAAA8wGeYGpJ/wAAAwAAAwDSC4QdCTMtSVhmVAaqTH+2qNkjpPIcrwTLRUVO49OB6fJBNd3vJsquALQ+ZIUG9S2YAR2ZSoLoiTaWkEnvmfqpFSFP4lETaYiLPDhNc4CGD+l124YDwq/FxeFUUvav2o80//t9/3FVBTw045fl9X95utSiuz9Q3EFM0S+rkc/zIziLYyoS8GOxa+kNB4y+sGvEFbPVof2pWD5FoXj/jZOWIQbBYhYstm3caytKJl4NfZ2SoQDThFkymHEgzmuU86av1zlBI1azYI2wcLd9Y04JWZHY8Iq3rYSo4OK84jjwAAADAAAGrAAAAgRBmmRJqEFsmUwP/wAAAwAAAwACqxo7tZpE6XmOsH/JcJar/fBoO/oBu77S/qjm1nfq2eXpQ/eBzOzNtpgMPLlBCe9MlW56I+FJOMn7JOJzd5ZfGhQcXAhJ21TWuIuJeC9eh/B2TdfoNEIPJhZTM0PAdn36IXf1qOV4KLdlqHVqie/xrTqWSqLiTXcIpsJ+6IuL5y0/ZhV9k1z8w6ZxQZ//zJvCM4SYUpArAUdxjyeH4rL0xFyeSWQUKyL/mMKPfD8tRFYu40Av4QSO54U+acrKuWGSZAm4y+xBYBlB5L4DB+LtAAFF6HaYGsT+OvXfZz7hZoWSL8XDyltaWm1x1S/Qks/AjYR4G7pKVAhsz7dOD2pUEfOKFzm87hYYQRRPBWOxAWdzt8AxRtOnLhoTnqkwmpBjNVmYXcwp0FFmYaM0k2wu9UmO8ClRj0ci/hinlw2dLZwYb+aPULtKmQuAEnmWvM+NwAUxsNE/6ZLixSIzMRymgivzvfrh8w8v0uDiSSRM0VDjvH1e4y6l9KwwhQhB5SooXf/nfizdVS/pEeUi/h3vDPjdpwTz+yYqc69wAcWJwaIbDCuBGipEJYLGbfVKJ1hMY0uuuQySBNar0VNO54ms1DBrkq/LcGgONLao2aY9RxbnZlxagfuQA/BAl2dP1HzAFfI13JZyIIo/U2K6Sc6STMEAAAEYQZ6CRRUtfwAAAwAAAwDM8js+iJmNPW6dD1NMhWg2QMYplVlp/01x96WGjmMbaLFko6xR35SvQIChaDrK9NeBdAT7ulIF/JN7FM0gtmEwGiEC67ZQ7fyy3a0aYgrjjhHlRZ+bvU/u9c25un+EZyzG1aN7zY4hISTdx8CzvSt6FwWzlai3uwzT8hBynuZswL3BSp22DByQ9wfdf3HO4j2e+hVdwTVBIEwuzfZ68xKEgOI5AhSeq44xltQ62YAA6xxdICPa0QxnaaD+xkT6gvnw7hFN3wCwYxb4tnLgXURo4jWXqyGc/IW9VGL6YHK8n5vUcb3ZXlHXdXPUu+VnFNAyxWRfROH0SgJtbhh0LzlO0AgSEAAAAwABBwAAARMBnqNqSf8AAAMAAAMA13eB9E3ilr9HJOAyQgjTqcb8/M1mA37CJiGACIwBC62vI2Z9MLFtbDFYzv+F7sx2qvXRDW5ChRgHpc160wfdeEUzsKAiu18EHwVbATO1EQaxEEMKFsvF9Is4OAM+xo/xWr0k8VIvoHSzIqpi/2ewEFNh2gDWFjT8qdGVE6Hq10iYNG6j0NehelCm7EoaOtDnbefn1Eznk7jx1hbBuOx75jB2zzXDR1Vh2OrO1tZLbgsIuDoT7J0+Ws3ixTFdChkGGt4bIzM4hRQz5Z1AOCtEE92WOqrqaEGdLUmjLdXcaxWa2OIp4Hg6LXkzugzDD5zi1W+te7JEG5rdJlThYAAAAwAAAwBQQQAAAh1BmqhJqEFsmUwP/wAAAwAAAwAC3wS35D9O7K8Z31b2UZiocLQ4PTx6GGnkcLl4ctKtE0hLTrchcqczZ8n071/tpEUKA8MaT5V5o7Ywn/84Rfy0LdGB4/z+ybOFgOgaCoLix0cdJ8M11Nh5R/EUOCCdgXPhVVO+qPx2BGB76frWjmIck2YsyUVr9NpTywHm6QNOC7llP3qHDEtKMriHIoUAH2JgpWW0xLXtczj6Ti8ax+vA46t+8feQBnDLJHSLR5NOLKIxeMZonFmiTTxsY/PEpZir0yQ1Mf1RJq5OXP//4hCoiClvd/WEhvVghjjwLNozgooR87/+nwg7UJTAJtoAMjgqxU9/z8kSt7tRL2t140AX+ICYEmA3HGSa9A3o9Zn681/D+D9vv/+F2v6cs3VTpwt1p8yatmQAe+hzoMOsb1PBbL5+vgik0QEvNPtT2S4ca0Hz2kxN1OmJZ61UD2RydB6n0EsIuzwxl5x7sQws/v7TCNdxV1BPrFgy3hQDCcVKVxup4EcfCqPZ+dpzVLhS70mHbtcjXaSoAcLN8FF7qLJOMcOMLfQdO8KF1VBn0bDkAULCKequKyNZzWsvao8RbZ9G/onkOwUCHqKJhha13w9DUF1lkpSeN9UpKeiO9lV6SZ69TTI68Q+CgpcNtGxBvhdf00HwxcPtkBo4E1xN8yARCMcMm6UJlh2e4tN7wMn2O0qgXiCPsTFxlERZAAABaUGexkUVLX8AAAMAAAMC5+BbGhRLNboThiIXSY4M8+Nc7diw7HNJLh7PNFdPQfoh/SK1DwHxuu5uRJQBdm7GTfieR9UqGgqiYeaxR3r+LhyaOIGglDPhtmlZLC7phCbNz3CZ2GZ4xncOP9PxIcadCcMOAXdNOTEdbGNmGDd6eco+8+UMzPp3AHEho5mDtf7vov/99R0reAoKpo9XfIhuD3olrr900liJSpEoZ7QPAXP3Revu7jNrDlg5FHVmzLcR90MBvnictY+my17UvNeODZ2aiptjaAleAAsb3vMDYL2wEllAecI6psETonguQl3OSW7R8JLuDB/l0whlSU22Kaftiv1mYacFO9pqvMs54b7/2ZEC1fzoIvQHAzxFk/JKT99ktBHPWC7EDxN229v2tO4bFSi5HTzA4IZrJdI+z/2nWRZL7xr3kjhc+6wvDKqJrXJZWtXG3FizrpPtA8daCuBnMwAAAwAABE0AAAEiAZ7ldEn/AAADAAADAOEvzOf1adMjGYi9YpqfmqWBAQSYumVivmHd028VBXfq4SYqosM5Khcd3RJXWPokgAEjejjo1GRYGqC0EHXFBDYz9DacLlrEpu5/D6AfOPu0SDd6LFGhOE8xUK25uVTYbk9GKqaXsDORqKvKvGzsJypxfba0sgVWPabvNwodwRwiFbqlBEq5focoaHm9MVBIzBs+looGAHBYCl+j9HwUThxyEL/kO8JOqV0+YWCPTv6m2AfdyScwa9I3OaTXv5WqxUaPKWneVCne/4w72/zbwEOARzTUm3EG/t5JopAW8OjHPJBG7VQ8RtKJ7Zm06fkcZbP/dOg0KIgYX1BIhCkeklVEOAnYqj+oX8n+57AAAAMAAAMAHTEAAAEdAZ7nakn/AAADAAADAOe2ZxIv4GRYvCnRqrfmg0BFh6H/hemVivmHd028VBXfq4SdZbRnr2S8o6YPT78P6HA3aHSOmRgJbzbJbZJycaK/E67OYSQtotIlxBySdybYPheb+1ZJBD8cYNI9ZTHOq3+XEdOIP46iVNI7fZMNHDvRGPsWoAaqvGfhI61YmqpTP9vQP4v6TfprsOPes4zgc3ApkzF553shBrH7uJvjF8fBwyRgrDJa/CCk+hkcRs9lPQTO0f5zpAmmvXTB08q+L7PHKM+dreuIoaF6x02a2LrfK3bRteDOgChwC+/g0exQm6PpuV285ynju0h5Vm+o+lTTMyBwZbZu59tYlyICl2HwT5VQHi+oAAADAAADAFTAAAAB9UGa7EmoQWyZTA//AAADAAADAALkj+ozoAAzCnBlY3nip2w3ywkqF91thSrhqyAjoqrUbx9hHUwByLj4rLy1PKuzZyb6CLBGxw5fkDTerrMs/tfHLEaKKQheyj2Km6/mZi+ELU+1orx984f+rEQ/167CgU2MzFjiVGhgXe9NWhfCLLyxgsWr9f9J6PtlsIMO9dJkJF7bjc/N21zqk79UvdQO80jX/54znalH853dmjW/vS8T3zQC8nncbxirnKzp3wMxcy8djtRCsun5feUIYfTG0jsKTVvsE5UN2OmJ57AsYsejpnLw+0twEXAU8JPeG/s8xgY9bJuWGrpWR3AiYTNYcANWO8KsrvIn54VT95p9/RYy2a0DfoPcpEsRU7CRn3NijPhGjoW6RmY02iP3GUnFEKnTeHzxU5sWuYcw64uF081ra4UyvXURUsACmBVagb1dVXR1oHH8Ps9asTs8p0igPGGqCeH4sbk3ctAvBtLPSGIsL/dAGVh12+E3/kh0gZJK1D0bdbJPqylB19uZojEcJkMsvECgfATHeiGUkX/NzluAPbQZS9E5RPn2javiVF/0cq/YSb+Y/txlR7E7C5Wt10cJbjg90/Kium93VR/NbJlGvucCBalyTvxfAhH5PszF+VLZbHOByuYOxBaTd/9hWPGooAAAAUZBnwpFFS1/AAADAAADANov9RRFNcgc7tiIDAQc1k7GIkN4lvRr54TvEDiSgiC6EGjCSlZZJQaot2emQ2IQxtcbB4VpReDFWt021cQxHE9YGmRmj45ZD+vjWsA1/1dat2KWl10wgmsFOTRMBVSN03AOFd39Y+XXPZaUTFuwb7hH5MkH2nARRtalysAM+jI5v1+oDyC+fB2kPNJhxZdaialSSBH7St3uSwXckfrCup3rCYT4UzTN4fg9hi1svlBeV+gNQeAnFr/5wnac1HJURAQgCnKuDwlAkajgbO+7zTh4/rF46u98w7FSCmWJDxv7hi+PUQx2HyPD6/kP0/eFv78L8PaHPmVtURuhV8bJ27tA9CjWDEaAAZngsmd83xnYjGWM9+RywzphDib8U30jAWkvmKEVHr2MUlpiYOygB+TwAAADAAB8wQAAAOcBnyl0Sf8AAAMAAAMA5K3tkmT8snIf/2uAMA60SHICEFIxeu8d14OoRj1cPrt8NegbToxkwAEYcJ4Bkv//IwK+n7nzXzCYJv6KZZDWI6+9MXr9P9fLm8ReW0ZgO8m1uz+4VUF95FrJ58ngEHKI+crOe+uSthIl1vlUexpIp92xKwwjZt+/8HiV//CZnruCxod0AAAxkWL6agBk/VD/q5kea6b0PWFFB+bcvtiQP5ZNAnauOlxqfH+TmYRigMCO/d8JNKuBzcFNacGbBhvmgxXfgIAsRBFKR+zsedRdUlI3wAAAAwAADegAAADzAZ8rakn/AAADAAADANhlRIjtPsf/R9jYDR/Nn86DlIxeu8d14OoRj2E+E1vOlHEEPF/ILFfoXP8gNpFWtnG4Qz4K3MHfRj/vmhkxXkdBWuy/Dw0n2vDJC2Y+53Df6jZh2NzRDJiDaJgIaqDBLmxv4MkZ/QVB7qzfsupgS952k5t9t/uFPoV4lzcChwfTOG1hEm3zX2371uadTb4QfUA40HCnrIrlMOLAqw315R6rIkoAqxfqNQ518kTQ52ishNQHjkGNKrSGtuBDPcaQF2I/tyQgwibaka/AX3PZtboC9mtaakApU5av7I5GAAADAAADABFwAAABFEGbLUmoQWyZTA//AAADAAADAAK1md+2qOSCR9vn2ExDTcmpC5yJGrn7IpC8XeOJx/+ahaIGIKW8KNramliwFq9CsdVZReb8UFFNaj7WOz/NDIwPgd6sviQNqwfFgiZiJu3nlEv8PxGLSsvnYJzZvsrZf4YLJtNo+4YQCpbCoZWCKWroa1Nmj7K/PFvjHyz7UMk32GpU056ED9usaHWoHYNX4kjarfruZ5dECnet2eLz4HT4BiebqVqf0rnBE1bDk3obmkrH1ut/ccIbj7jOiX/xZHCoL1qz0gFsqjDS1I+5Q3brsOE78Vmi8LpO+qM/IT/Vb6aZ5viZzoL+z+2JnADrNdJEMrjOOXTCMgz/eyFX9RrIIQAAAYJBm1FJ4QpSZTA/AAADAAADAAK1md+2qOSCR9vn2ExDTcmpC6APGXUnvgMyUFPdNjDf8m5sKRjbT0hqBnPoB2ab5B8F6ozTUTPgGlndLj8E8egf0PZO0J7Y2pJaZFNKo6zNaBIU0Hdh33xMROM8cZxuXYnjf/wbQmWHZl8iDuLs6JXshv8KHdLvd59bzbjDLUTqD+OtH5saAZurUJkWRDJCGN/nbTjh1H1fC4hq09EWlecO2VfDTnpUOp+pE1vYNcaPwD7cqaXjLYXerXQWwuSEm9sciFneffqahjozJklosWpT6rhKM0D+6Nz7Nv9+rZlCQCLegcitLKr7oZaIYDbV/fmdU4gUus63nBprCrsaFSDwW02RBY+vE3ALadX8yG96nQF9wUoM0DDklJdYB+H41QRFTadYvHXsjVBre1ZdcwumjlHuJ/uKD2Uwj5MaMesy8Xs9MQAWO14w8gcA5HdhQd5Xzb88zclhu3/aORs48awDRlZlU9ggVvYwaoYc2iTMwQAAAQFBn29FNE1/AAADAAADAM5QuufFQP7Wkdl3cEWI2MRIbxLejXzwneIad09N+/znnavqwEa2gq6JL2SDCHKNXN9pqWT/FK3UbXoNOM6Y47KmAEtnWNArl0LfbAeYzR8shQSxM27OzpUZXJihWnTRv29RpcNs/uQu1pLSdbSvD8Wi2bKCfWHSRPgActr9NGo0g6rD1iw48Hvr+XXowTGBcpk6aMFDdf/RkKn8CbS7zRNEI1tZ5hhWKvBxj+rSHThII2wCryIXAzro+7Gc6K/tmt6fKd0y4wMu79ZQTWwzhY+08An1HH+4PgkTv5AsexrCM4zK6quCB+uABaqgAAADAABBwQAAALIBn450Sf8AAAMAAAMA2GVEiO0+x/9H2NgNH82fzoOUjF67x3Xg6ggsEAUclF0Fh0FI6CfiDkd5w+z+VqOa+bCs7cb7WCzVowIoyDTGbRAJw7tBo0PfYwWeAFJ4t2vXn/7YIn+JMnY3cVhrrkPepDKa2UKTffWehY3OS8keieril33c3DG0H/I9NfaOZj2+9blontQW3gAEi+KXJ/iqiDBn3KaJWcZxj9xAAAADAAADAMqAAAAAuQGfkGpJ/wAAAwAAAwDYZUSI7T7H/0fY2A0fzZ/Og5SMXrvHdeEDsFoE/f2bM6CGUkXEE+CxkwgoZcp8OXtc/9wwyyF2IM7NzUKx62i9CEIpKb30ZeXT7T5vSgmu2cCXd37lCTJdJUjTc2lWGfZSg5Axm6cXsIaLju74WpAi7V7iVlZVfRsv09wXf3DTMF+squTODzLHdMQfaj9RQJr6/HNR5FxlMN64jNDvr1HN/gGgAAADAAADAA+YAAABIUGbk0moQWiZTBT/AAADAAADAAK1md+2qOSCR9vn2ExDTcmpDEiTyJUDhBmXkmK01qki3uGNRsHNErTknFBRJUpYWLkhc+nJEiVZGPwIrXz3r3x+R6Pk8Mw2Sl+0Iid1KNrhb/0/Gbo7JQuYw0BwiaRf1Z796DChsbaS1ueL+Ok7wEPt4XBhY7Qmt4xEz5qme3yl7TYYaE14GpeWOpAjv/F74hema0iAbUcQVy7a1LQfZtWB1LuxoC2Djpwsklnszdc73tiRM/h/eGE3U07wH5QF/8a74UZa8CGGB/nVGx0FMWjbT+/0h72gjLg0tzzkZSDmjOCwJRBKn7VzvIao6ofJ5lU/8qyBM6t3R2/u8kDTwnlWMZFSUWQNlhRs21jN1MEAAADCAZ+yakn/AAADAAADANhlRIjtPsf/R9jYDR/Nn86DlIxeu8dt3n1GLBsrVm0Qbw6ssuKnuPFMiBZ1BryCwZ1mO4Jg1R7Y164UyCHyTOdbYMghrF8ycIeCxVDNipIGA8oAzNh1Hynrm8lKFygABxV7a5Uc9Y8p3pgrsKnMDUqjjrEiU1q/5EiZNdwil+dkw08tWh11nnNN2L0ifkWBUKAZTHU3qTIylP0zZPEXCT+jthPx4jBuW6TCaQwPxGAAAAMAAz4AAAEXQZu3SeEKUmUwPwAAAwAAAwACtZnftqjkgkfb59hMQ03H6HzioMU6hqnLw+GllEygpcd70yBPyW2CuVx+K141fHPFbgIFIIi9v6vZYRanfgXLStVXygDDwphm5vKeKP2D6grZtFbPBEk4a+hdA+Y1X+PYi9j1yxL6Wnqo3F/HWgvAQ99EvSIkH3YP9IPgm2coPKv5po9FgLRsaiTCJq2Zha4c0lGZ/eSbcLUfdViO8Iazamha9/mgueNt2MWdT75EfHtPMLzYtMr+hPAOpf9jMmk77t1glkC68hNHySsFAmE1kBFT6dSPdArs1lts3YDdDs0B5swljNP+enzI2px8kPbGDLij4pGzLimpqxAChHB1syJ47nYwAAAA40Gf1UU0TX8AAAMAAAMAzlC658VA/taR2XdwRYjYxEhvEuD8f2biiKAMXpUdezJMtCxdSFnWBWygEv9L6OhADl4ocCzZXsGTQB8MjJDozNtxKMV/GRp91lRN8xS8iryPqNQkm8mnR4exNjGV31fYfRweizy619+uLsCQvspCyPkKXbMBG/754GTCbfc7AVJKjKrE/Zy7cbktBJIlY9DAHH1sEbeaGmVzSAnb/+gqL+ibKSWWuiooIVtViZlOoukTI7XcRO7WqCPsjYYqmUyieBYGMJvvh9UF84JAhG8AAAMAABSRAAAAqwGf9HRJ/wAAAwAAAwDYZUSI7T7H/0fY2A0fzZ/Og5SMXryGNYhPEAsFwjmaH5opUHt3eAxtZPUH47Hdg3KWaqtRlF8fSslCqvSpJNXoVEccBEIX+KxgS8DDvWsPw9ZamRxEHHjugBs4n9wn18/QhYQ2yH0s1P/qzEkt+Yax37F2LMJPEKQ36j913GF+gDoavldNjVSsrItaZI9rX1QoWBMMqgAAAwAAAwACDgAAAMUBn/ZqSf8AAAMAAAMA2GVEiO0+x/9H2NgNH82fzoOUjGDGXSSCbyeMlcxaT0c3p6azRWR81+FhhLKXGYXKFxLZgXbA8J6ec5mewfnLyVMwjVKSt7Ckx8ORSEtTszWIuMgSLhOXbQh+8ECkgI2DppMZ5iA3frMpZ3DVWBxdqaoJE7M86YJWq5UFd1/Yf8pRjt/5B4L1/TEhA788LSNlxt8UIy0uk6EPPgF1wsbe2JFT5Vk2oEl8BoIJVJod0tj4AAADAAAEvQAAAR1Bm/pJqEFomUwP/wAAAwAAAwACtZnftqjkgkfb59hMQwicPPMQim7lQyuIvS1OT0coS9oT3kw2/wG8P/mOHavWLS6a73FngmePCmK6JSIfZUaM3C53vWzNrYkgUrqorf4zkeTluZSLUJ65rGLme8He6qL2QUTiNvfNvHfoP6SCGtj2D3kcHa8yyzslumAtFYTeKNz3TD8A434V8KrwuQ+ShgXInhDyZODs/T9zNdpr+n/H7/QnQh/0+mFz8oyZf39uf0Pjmql3HmnsO4Q2hBNZRDfuZYYJG2e7fSsPaL4OMOJC00AASZQMA0kKHyCtnwBfAxs10NK1uKu9hPsVKm1Nq5BX7so27DNTj5l3jqmVf0Ch3dSL1dZ+kcmND4EAAADRQZ4YRREtfwAAAwAAAwDOULrnxUD+1pHZd3BFiNjESIBy1bJfruUtzRmGU7zolYMUbrLSaXspl0c/dc0Wt7043LnbojQjlPtPgY3RgHVvmz6EKsvA4mUIe32M2nOs3ElxIks+Z2KAIW1zv05qD6jK6wuTelazyX5Bh2nksyheqaaut1ltv9MGJPqzzm1YFlRSSME09zvNmAwbTNyK13kfZ+Yood4eIBmcuHwx+B/OJG3W+rFLHGYXcOJpYxJfnt7DA92LBsTbZh4pzSAAAAMABXwAAACjAZ45akn/AAADAAADAaCfrbbNREkqv+ka9wF2ibX50HA5bi2VvSBMIfeGMtGvJUQTLf5yCo++sy0ztrM0rFyqCFwwzSRV63lL/jFHc7mGSNmh2aNiAmtiX4juPygsEAj5i0TW3H0KtxIIbUIpjd8eWyNPmg1UB7IKkTH/4wMbuPaUBqR417KkyqOzeVky2tkIr2+eAnRqzwcFOFhAAAADAAAPmQAAB1Vtb292AAAAbG12aGQAAAAAAAAAAAAAAAAAAAPoAAAF7QABAAABAAAAAAAAAAAAAAAAAQAAAAAAAAAAAAAAAAAAAAEAAAAAAAAAAAAAAAAAAEAAAAAAAAAAAAAAAAAAAAAAAAAAAAAAAAAAAAAAAAACAAAGgHRyYWsAAABcdGtoZAAAAAMAAAAAAAAAAAAAAAEAAAAAAAAF7QAAAAAAAAAAAAAAAAAAAAAAAQAAAAAAAAAAAAAAAAAAAAEAAAAAAAAAAAAAAAAAAEAAAAADIAAAAyAAAAAAACRlZHRzAAAAHGVsc3QAAAAAAAAAAQAABe0AAAIAAAEAAAAABfhtZGlhAAAAIG1kaGQAAAAAAAAAAAAAAAAAADwAAABbAFXEAAAAAAAtaGRscgAAAAAAAAAAdmlkZQAAAAAAAAAAAAAAAFZpZGVvSGFuZGxlcgAAAAWjbWluZgAAABR2bWhkAAAAAQAAAAAAAAAAAAAAJGRpbmYAAAAcZHJlZgAAAAAAAAABAAAADHVybCAAAAABAAAFY3N0YmwAAACvc3RzZAAAAAAAAAABAAAAn2F2YzEAAAAAAAAAAQAAAAAAAAAAAAAAAAAAAAADIAMgAEgAAABIAAAAAAAAAAEUTGF2YzYwLjYuMTAwIGxpYngyNjQAAAAAAAAAAAAAAAAY//8AAAA1YXZjQwFkACD/4QAYZ2QAIKzZQMgZaEAAAAMAQAAAHgPGDGWAAQAGaOviSyLA/fj4AAAAABRidHJ0AAAAAAAB4vcAAeL3AAAAGHN0dHMAAAAAAAAAAQAAAFsAAAEAAAAAFHN0c3MAAAAAAAAAAQAAAAEAAALQY3R0cwAAAAAAAABYAAAAAQAAAgAAAAABAAAFAAAAAAEAAAIAAAAAAQAAAAAAAAABAAABAAAAAAEAAAUAAAAAAQAAAgAAAAABAAAAAAAAAAEAAAEAAAAAAQAABQAAAAABAAACAAAAAAEAAAAAAAAAAQAAAQAAAAABAAAFAAAAAAEAAAIAAAAAAQAAAAAAAAABAAABAAAAAAEAAAMAAAAAAQAAAQAAAAABAAAFAAAAAAEAAAIAAAAAAQAAAAAAAAABAAABAAAAAAEAAAUAAAAAAQAAAgAAAAABAAAAAAAAAAEAAAEAAAAAAQAABQAAAAABAAACAAAAAAEAAAAAAAAAAQAAAQAAAAABAAACAAAAAAEAAAQAAAAAAgAAAQAAAAABAAACAAAAAAEAAAUAAAAAAQAAAgAAAAABAAAAAAAAAAEAAAEAAAAAAQAABQAAAAABAAACAAAAAAEAAAAAAAAAAQAAAQAAAAABAAAFAAAAAAEAAAIAAAAAAQAAAAAAAAABAAABAAAAAAEAAAUAAAAAAQAAAgAAAAABAAAAAAAAAAEAAAEAAAAAAQAAAwAAAAABAAABAAAAAAEAAAUAAAAAAQAAAgAAAAABAAAAAAAAAAEAAAEAAAAAAQAABQAAAAABAAACAAAAAAEAAAAAAAAAAQAAAQAAAAABAAAFAAAAAAEAAAIAAAAAAQAAAAAAAAABAAABAAAAAAEAAAQAAAAAAgAAAQAAAAABAAAFAAAAAAEAAAIAAAAAAQAAAAAAAAABAAABAAAAAAEAAAUAAAAAAQAAAgAAAAABAAAAAAAAAAEAAAEAAAAAAQAAAgAAAAABAAAFAAAAAAEAAAIAAAAAAQAAAAAAAAABAAABAAAAAAEAAAMAAAAAAQAAAQAAAAABAAAFAAAAAAEAAAIAAAAAAQAAAAAAAAABAAABAAAAAAEAAAQAAAAAAgAAAQAAAAAcc3RzYwAAAAAAAAABAAAAAQAAAFsAAAABAAABgHN0c3oAAAAAAAAAAAAAAFsAAAk5AAAAzQAAAGoAAABeAAAASAAAAIEAAABxAAAATAAAAFwAAACbAAAAaAAAAG8AAABjAAAAmAAAAH8AAABvAAAAaQAAAHAAAAByAAAA/AAAAI0AAAB3AAAAhwAAAPIAAACSAAAAigAAAH4AAAEIAAAAygAAAI4AAAB6AAAAngAAAOwAAACrAAAAhQAAAM8AAAE2AAAA3AAAAKIAAACWAAABGwAAAMcAAACYAAAAkgAAAesAAAF2AAABGQAAAUAAAAIKAAABWAAAARQAAADhAAABjwAAAPYAAAGaAAABBwAAANwAAADFAAABvQAAATkAAADWAAAA7gAAAiQAAAF8AAAA+AAAAPcAAAIIAAABHAAAARcAAAIhAAABbQAAASYAAAEhAAAB+QAAAUoAAADrAAAA9wAAARgAAAGGAAABBQAAALYAAAC9AAABJQAAAMYAAAEbAAAA5wAAAK8AAADJAAABIQAAANUAAACnAAAAFHN0Y28AAAAAAAAAAQAAADAAAABhdWR0YQAAAFltZXRhAAAAAAAAACFoZGxyAAAAAAAAAABtZGlyYXBwbAAAAAAAAAAAAAAAACxpbHN0AAAAJKl0b28AAAAcZGF0YQAAAAEAAAAATGF2ZjYwLjQuMTAw\" type=\"video/mp4\"/>\n",
       "      This browser does not support the video tag.\n",
       "      </video></td></tr></table>"
      ],
      "text/plain": [
       "<IPython.core.display.HTML object>"
      ]
     },
     "metadata": {},
     "output_type": "display_data"
    }
   ],
   "source": [
    "# Run this cell without modification\n",
    "\n",
    "# Render the learned behavior\n",
    "# NOTE: The learned agent is marked by green color.\n",
    "eval_reward, eval_info = evaluate(\n",
    "    policy=pg_trainer_wb_metadrive_easy.policy,\n",
    "    num_episodes=1,\n",
    "    env_name=pg_trainer_wb_metadrive_easy.env_name,\n",
    "    render=\"topdown\",  # Visualize the behaviors in top-down view\n",
    "    verbose=True\n",
    ")\n",
    "\n",
    "print(\n",
    "    \"PG agent achieves {} return and {} success rate in MetaDrive easy environment.\".format(\n",
    "        eval_reward, eval_info[\"success_rate\"]\n",
    "    )\n",
    ")\n",
    "\n",
    "animate(eval_info[\"frames\"])"
   ]
  },
  {
   "cell_type": "markdown",
   "id": "264f267e",
   "metadata": {},
   "source": [
    "### Section 5.4: Run PG with baseline in MetaDrive-Hard\n",
    "\n",
    "**The minimum goal to is to achieve episodic return > 20, which costs nearly 20 iterations and ~100k steps.**\n",
    "\n",
    "You can try to play with hyperparameters and optimize code to see if you can achieve >0.0 success rate."
   ]
  },
  {
   "cell_type": "code",
   "execution_count": 101,
   "id": "b737c345",
   "metadata": {},
   "outputs": [
    {
     "name": "stderr",
     "output_type": "stream",
     "text": [
      "\u001b[38;20m[INFO] Environment: MetaDriveEnv\u001b[0m\n",
      "\u001b[38;20m[INFO] MetaDrive version: 0.4.3\u001b[0m\n",
      "\u001b[38;20m[INFO] Sensors: [lidar: Lidar(), side_detector: SideDetector(), lane_line_detector: LaneLineDetector()]\u001b[0m\n",
      "\u001b[38;20m[INFO] Render Mode: none\u001b[0m\n",
      "\u001b[38;20m[INFO] Horizon (Max steps per agent): None\u001b[0m\n",
      "Training:   1%|          | 55/5001 [38:02<53:29:26, 38.93s/it, ep_reward=51.9][INFO] Iter 55, episodic return 51.894 is greater than reward threshold 50. Congratulation! Now we exit the training process.\n",
      "Training:   1%|          | 55/5001 [38:02<57:01:36, 41.51s/it, ep_reward=51.9]"
     ]
    },
    {
     "name": "stdout",
     "output_type": "stream",
     "text": [
      "Environment is closed.\n"
     ]
    },
    {
     "name": "stderr",
     "output_type": "stream",
     "text": [
      "\n"
     ]
    }
   ],
   "source": [
    "# Run this cell without modification\n",
    "\n",
    "env_name = \"MetaDrive-Tut-Hard-v0\"\n",
    "\n",
    "pg_trainer_wb_metadrive_hard, pg_trainer_wb_metadrive_hard_result = run(\n",
    "    PolicyGradientWithBaselineTrainer,\n",
    "    dict(\n",
    "        train_batch_size=4000,\n",
    "        normalize_advantage=True,\n",
    "        max_episode_length=1000,\n",
    "        max_iteration=5000,\n",
    "        evaluate_interval=5,\n",
    "        evaluate_num_episodes=10,\n",
    "        learning_rate=0.001,\n",
    "        clip_norm=10.0,\n",
    "        env_name=env_name\n",
    "    ),\n",
    "    # Takes around one hour to reach threshold 50\n",
    "    reward_threshold=50  # We just set the reward threshold to 20. Feel free to adjust it.\n",
    ")\n",
    "\n",
    "pg_trainer_wb_metadrive_hard.save(\"pg_trainer_wb_metadrive_hard.pt\")"
   ]
  },
  {
   "cell_type": "code",
   "execution_count": 102,
   "id": "2e015832",
   "metadata": {},
   "outputs": [
    {
     "name": "stderr",
     "output_type": "stream",
     "text": [
      "\u001b[38;20m[INFO] Environment: MetaDriveEnv\u001b[0m\n",
      "\u001b[38;20m[INFO] MetaDrive version: 0.4.3\u001b[0m\n",
      "\u001b[38;20m[INFO] Sensors: [lidar: Lidar(), side_detector: SideDetector(), lane_line_detector: LaneLineDetector()]\u001b[0m\n",
      "\u001b[38;20m[INFO] Render Mode: none\u001b[0m\n",
      "\u001b[38;20m[INFO] Horizon (Max steps per agent): None\u001b[0m\n",
      "\u001b[38;20m[INFO] Environment: MetaDriveEnv\u001b[0m\n",
      "\u001b[38;20m[INFO] MetaDrive version: 0.4.3\u001b[0m\n",
      "\u001b[38;20m[INFO] Sensors: [lidar: Lidar(), side_detector: SideDetector(), lane_line_detector: LaneLineDetector()]\u001b[0m\n",
      "\u001b[38;20m[INFO] Render Mode: none\u001b[0m\n",
      "\u001b[38;20m[INFO] Horizon (Max steps per agent): None\u001b[0m\n"
     ]
    },
    {
     "name": "stdout",
     "output_type": "stream",
     "text": [
      "Evaluating 1/1 episodes. We are in 1/1000 steps. Current episode reward: 0.008\n",
      "Evaluating 1/1 episodes. We are in 51/1000 steps. Current episode reward: 39.220\n",
      "PG agent achieves 56.46281289335364 return and 0.0 success rate in MetaDrive easy environment.\n"
     ]
    },
    {
     "data": {
      "text/html": [
       "<table class=\"show_videos\" style=\"border-spacing:0px;\"><tr><td style=\"padding:1px;\"><video controls width=\"800\" height=\"800\" style=\"object-fit:cover;\" loop autoplay muted>\n",
       "      <source src=\"data:video/mp4;base64,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\" type=\"video/mp4\"/>\n",
       "      This browser does not support the video tag.\n",
       "      </video></td></tr></table>"
      ],
      "text/plain": [
       "<IPython.core.display.HTML object>"
      ]
     },
     "metadata": {},
     "output_type": "display_data"
    }
   ],
   "source": [
    "# Run this cell without modification\n",
    "\n",
    "# Render the learned behavior\n",
    "# NOTE: The learned agent is marked by green color.\n",
    "eval_reward, eval_info = evaluate(\n",
    "    policy=pg_trainer_wb_metadrive_hard.policy,\n",
    "    num_episodes=10,\n",
    "    env_name=pg_trainer_wb_metadrive_hard.env_name,\n",
    "    render=None,\n",
    "    verbose=False\n",
    ")\n",
    "\n",
    "_, eval_info_render = evaluate(\n",
    "    policy=pg_trainer_wb_metadrive_hard.policy,\n",
    "    num_episodes=1,\n",
    "    env_name=pg_trainer_wb_metadrive_hard.env_name,\n",
    "    render=\"topdown\",  # Visualize the behaviors in top-down view\n",
    "    verbose=True\n",
    ")\n",
    "\n",
    "print(\n",
    "    \"PG agent achieves {} return and {} success rate in MetaDrive easy environment.\".format(\n",
    "        eval_reward, eval_info[\"success_rate\"]\n",
    "    )\n",
    ")\n",
    "\n",
    "animate(eval_info_render[\"frames\"])"
   ]
  },
  {
   "cell_type": "markdown",
   "id": "bff92fb1",
   "metadata": {
    "id": "bff92fb1"
   },
   "source": [
    "------\n",
    "\n",
    "## Conclusion\n",
    "\n",
    "In this assignment, we learn how to build naive Q learning, Deep Q Network and Policy Gradient methods.\n",
    "\n",
    "Following the submission instruction in the assignment to submit your assignment. Thank you!\n",
    "\n",
    "------"
   ]
  }
 ],
 "metadata": {
  "colab": {
   "collapsed_sections": [],
   "provenance": []
  },
  "kernelspec": {
   "display_name": "Python 3",
   "language": "python",
   "name": "python3"
  },
  "language_info": {
   "codemirror_mode": {
    "name": "ipython",
    "version": 3
   },
   "file_extension": ".py",
   "mimetype": "text/x-python",
   "name": "python",
   "nbconvert_exporter": "python",
   "pygments_lexer": "ipython3",
   "version": "3.9.10"
  }
 },
 "nbformat": 4,
 "nbformat_minor": 5
}
