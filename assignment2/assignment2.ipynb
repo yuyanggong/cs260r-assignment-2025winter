{
 "cells": [
  {
   "cell_type": "markdown",
   "id": "455f8adf",
   "metadata": {
    "id": "455f8adf"
   },
   "source": [
    "# Assignment 2: Deep Q Learning and Policy Gradient\n",
    "\n",
    "*CS260R: Reinforcement Learning. Department of Computer Science at University of California, Los Angeles.\n",
    "Course Instructor: Professor Bolei ZHOU. Assignment author: Zhenghao PENG.*\n",
    "\n"
   ]
  },
  {
   "cell_type": "markdown",
   "id": "5ecc5685",
   "metadata": {
    "id": "5ecc5685"
   },
   "source": [
    "| Student Name | Student ID |\n",
    "| :----: | :----: |\n",
    "| Yuyang Gong | 406405460 |\n",
    "\n",
    "------"
   ]
  },
  {
   "cell_type": "markdown",
   "id": "b55e080e",
   "metadata": {
    "id": "b55e080e"
   },
   "source": [
    "Welcome to the assignment 2 of our RL course. This assignment consisits of three parts:\n",
    "\n",
    "* Section 2: Implement Q learning in tabular setting (20 points)\n",
    "* Section 3: Implement Deep Q Network with pytorch (30 points)\n",
    "* Section 4: Implement policy gradient method REINFORCE with pytorch (30 points)\n",
    "* Section 5: Implement policy gradient method with baseline (20 points)\n",
    "\n",
    "Section 0 and Section 1 set up the dependencies and prepare some useful functions.\n",
    "\n",
    "The experiments we'll conduct and their expected goals:\n",
    "\n",
    "1. Naive Q learning in FrozenLake &emsp; (should solve)\n",
    "2. DQN in CartPole &emsp; (should solve)\n",
    "3. DQN in MetaDrive-Easy &emsp; (should solve)\n",
    "4. Policy Gradient w/o baseline in CartPole (w/ and w/o advantage normalization) &emsp; (should solve)\n",
    "5. Policy Gradient w/o baseline in MetaDrive-Easy &emsp; (should solve)\n",
    "6. Policy Gradient w/ baseline in CartPole (w/ advantage normalization) &emsp; (should solve)\n",
    "7. Policy Gradient w/ baseline in MetaDrive-Easy &emsp; (should solve)\n",
    "8. Policy Gradient w/ baseline in MetaDrive-Hard &emsp; (>20 return)"
   ]
  },
  {
   "cell_type": "markdown",
   "id": "3feea3d2",
   "metadata": {
    "id": "3feea3d2"
   },
   "source": [
    "## Section 0: Dependencies\n",
    "\n",
    "Please install the following dependencies.\n",
    "\n",
    "\n",
    "### Notes on MetaDrive\n",
    "\n",
    "MetaDrive is a lightweight driving simulator which we will use for DQN and Policy Gradient methods. We suggest using Colab or Linux for running MetaDrive.\n",
    "\n",
    "Please ignore this warning from MetaDrive: `WARNING:root:BaseEngine is not launched, fail to sync seed to engine!`\n",
    "\n",
    "### Notes on Colab\n",
    "\n",
    "We have several cells used for installing dependencies for Colab only. Please make sure they are run properly.\n",
    "\n",
    "You don't need to install python packages again and again after **restarting the runtime**, since the Colab instance still remembers the python envionment after you installing packages for the first time. But you do need to rerun those packages installation script after you **reconnecting to the runtime** (which means Google assigns a new machine to you and thus the python environment is new)."
   ]
  },
  {
   "cell_type": "code",
   "execution_count": 25,
   "id": "9b170cda",
   "metadata": {},
   "outputs": [],
   "source": [
    "RUNNING_IN_COLAB = 'google.colab' in str(get_ipython())  # Detect if it is running in Colab"
   ]
  },
  {
   "cell_type": "code",
   "execution_count": 26,
   "id": "9098b4a3-1f4e-4ffd-b6cb-dbec4ede65f4",
   "metadata": {
    "scrolled": true
   },
   "outputs": [
    {
     "name": "stdout",
     "output_type": "stream",
     "text": [
      "Requirement already satisfied: pip in c:\\users\\admin\\appdata\\local\\programs\\python\\python39\\lib\\site-packages (24.2)\n",
      "Collecting pip\n",
      "  Downloading pip-25.0.1-py3-none-any.whl.metadata (3.7 kB)\n",
      "Downloading pip-25.0.1-py3-none-any.whl (1.8 MB)\n",
      "   ---------------------------------------- 0.0/1.8 MB ? eta -:--:--\n",
      "   ---------------------------------------- 1.8/1.8 MB 25.5 MB/s eta 0:00:00\n"
     ]
    },
    {
     "name": "stderr",
     "output_type": "stream",
     "text": [
      "\n",
      "[notice] A new release of pip is available: 24.2 -> 25.0\n",
      "[notice] To update, run: python.exe -m pip install --upgrade pip\n",
      "ERROR: To modify pip, please run the following command:\n",
      "C:\\Users\\Admin\\AppData\\Local\\Programs\\Python\\Python39\\python.exe -m pip install -U pip\n"
     ]
    },
    {
     "name": "stdout",
     "output_type": "stream",
     "text": [
      "Requirement already satisfied: numpy in c:\\users\\admin\\appdata\\local\\programs\\python\\python39\\lib\\site-packages (1.26.0)\n",
      "Requirement already satisfied: scipy in c:\\users\\admin\\appdata\\local\\programs\\python\\python39\\lib\\site-packages (1.11.2)\n",
      "Requirement already satisfied: gymnasium<0.29 in c:\\users\\admin\\appdata\\local\\programs\\python\\python39\\lib\\site-packages (0.28.1)\n",
      "Requirement already satisfied: jax-jumpy>=1.0.0 in c:\\users\\admin\\appdata\\local\\programs\\python\\python39\\lib\\site-packages (from gymnasium<0.29) (1.0.0)\n",
      "Requirement already satisfied: cloudpickle>=1.2.0 in c:\\users\\admin\\appdata\\local\\programs\\python\\python39\\lib\\site-packages (from gymnasium<0.29) (3.1.1)\n",
      "Requirement already satisfied: typing-extensions>=4.3.0 in c:\\users\\admin\\appdata\\local\\programs\\python\\python39\\lib\\site-packages (from gymnasium<0.29) (4.8.0)\n",
      "Requirement already satisfied: farama-notifications>=0.0.1 in c:\\users\\admin\\appdata\\local\\programs\\python\\python39\\lib\\site-packages (from gymnasium<0.29) (0.0.4)\n",
      "Requirement already satisfied: importlib-metadata>=4.8.0 in c:\\users\\admin\\appdata\\roaming\\python\\python39\\site-packages (from gymnasium<0.29) (6.8.0)\n",
      "Requirement already satisfied: zipp>=0.5 in c:\\users\\admin\\appdata\\local\\programs\\python\\python39\\lib\\site-packages (from importlib-metadata>=4.8.0->gymnasium<0.29) (3.17.0)\n"
     ]
    },
    {
     "name": "stderr",
     "output_type": "stream",
     "text": [
      "\n",
      "[notice] A new release of pip is available: 24.2 -> 25.0\n",
      "[notice] To update, run: python.exe -m pip install --upgrade pip\n"
     ]
    },
    {
     "name": "stdout",
     "output_type": "stream",
     "text": [
      "Requirement already satisfied: torch in c:\\users\\admin\\appdata\\local\\programs\\python\\python39\\lib\\site-packages (2.5.0+cu124)\n",
      "Requirement already satisfied: torchvision in c:\\users\\admin\\appdata\\local\\programs\\python\\python39\\lib\\site-packages (0.20.0+cu124)\n",
      "Requirement already satisfied: filelock in c:\\users\\admin\\appdata\\local\\programs\\python\\python39\\lib\\site-packages (from torch) (3.12.4)\n",
      "Requirement already satisfied: typing-extensions>=4.8.0 in c:\\users\\admin\\appdata\\local\\programs\\python\\python39\\lib\\site-packages (from torch) (4.8.0)\n",
      "Requirement already satisfied: networkx in c:\\users\\admin\\appdata\\local\\programs\\python\\python39\\lib\\site-packages (from torch) (3.1)\n",
      "Requirement already satisfied: jinja2 in c:\\users\\admin\\appdata\\local\\programs\\python\\python39\\lib\\site-packages (from torch) (3.1.2)\n",
      "Requirement already satisfied: fsspec in c:\\users\\admin\\appdata\\local\\programs\\python\\python39\\lib\\site-packages (from torch) (2024.3.1)\n",
      "Requirement already satisfied: sympy==1.13.1 in c:\\users\\admin\\appdata\\local\\programs\\python\\python39\\lib\\site-packages (from torch) (1.13.1)\n",
      "Requirement already satisfied: mpmath<1.4,>=1.1.0 in c:\\users\\admin\\appdata\\local\\programs\\python\\python39\\lib\\site-packages (from sympy==1.13.1->torch) (1.3.0)\n",
      "Requirement already satisfied: numpy in c:\\users\\admin\\appdata\\local\\programs\\python\\python39\\lib\\site-packages (from torchvision) (1.26.0)\n",
      "Requirement already satisfied: pillow!=8.3.*,>=5.3.0 in c:\\users\\admin\\appdata\\local\\programs\\python\\python39\\lib\\site-packages (from torchvision) (10.0.1)\n",
      "Requirement already satisfied: MarkupSafe>=2.0 in c:\\users\\admin\\appdata\\local\\programs\\python\\python39\\lib\\site-packages (from jinja2->torch) (2.1.3)\n"
     ]
    },
    {
     "name": "stderr",
     "output_type": "stream",
     "text": [
      "\n",
      "[notice] A new release of pip is available: 24.2 -> 25.0\n",
      "[notice] To update, run: python.exe -m pip install --upgrade pip\n"
     ]
    },
    {
     "name": "stdout",
     "output_type": "stream",
     "text": [
      "Requirement already satisfied: mediapy in c:\\users\\admin\\appdata\\local\\programs\\python\\python39\\lib\\site-packages (1.2.2)\n",
      "Requirement already satisfied: ipython in c:\\users\\admin\\appdata\\roaming\\python\\python39\\site-packages (from mediapy) (8.15.0)\n",
      "Requirement already satisfied: matplotlib in c:\\users\\admin\\appdata\\local\\programs\\python\\python39\\lib\\site-packages (from mediapy) (3.8.0)\n",
      "Requirement already satisfied: numpy in c:\\users\\admin\\appdata\\local\\programs\\python\\python39\\lib\\site-packages (from mediapy) (1.26.0)\n",
      "Requirement already satisfied: Pillow in c:\\users\\admin\\appdata\\local\\programs\\python\\python39\\lib\\site-packages (from mediapy) (10.0.1)\n",
      "Requirement already satisfied: backcall in c:\\users\\admin\\appdata\\roaming\\python\\python39\\site-packages (from ipython->mediapy) (0.2.0)\n",
      "Requirement already satisfied: decorator in c:\\users\\admin\\appdata\\roaming\\python\\python39\\site-packages (from ipython->mediapy) (5.1.1)\n",
      "Requirement already satisfied: jedi>=0.16 in c:\\users\\admin\\appdata\\roaming\\python\\python39\\site-packages (from ipython->mediapy) (0.19.0)\n",
      "Requirement already satisfied: matplotlib-inline in c:\\users\\admin\\appdata\\roaming\\python\\python39\\site-packages (from ipython->mediapy) (0.1.6)\n",
      "Requirement already satisfied: pickleshare in c:\\users\\admin\\appdata\\roaming\\python\\python39\\site-packages (from ipython->mediapy) (0.7.5)\n",
      "Requirement already satisfied: prompt-toolkit!=3.0.37,<3.1.0,>=3.0.30 in c:\\users\\admin\\appdata\\roaming\\python\\python39\\site-packages (from ipython->mediapy) (3.0.39)\n",
      "Requirement already satisfied: pygments>=2.4.0 in c:\\users\\admin\\appdata\\roaming\\python\\python39\\site-packages (from ipython->mediapy) (2.16.1)\n",
      "Requirement already satisfied: stack-data in c:\\users\\admin\\appdata\\roaming\\python\\python39\\site-packages (from ipython->mediapy) (0.6.2)\n",
      "Requirement already satisfied: traitlets>=5 in c:\\users\\admin\\appdata\\roaming\\python\\python39\\site-packages (from ipython->mediapy) (5.10.0)\n",
      "Requirement already satisfied: typing-extensions in c:\\users\\admin\\appdata\\local\\programs\\python\\python39\\lib\\site-packages (from ipython->mediapy) (4.8.0)\n",
      "Requirement already satisfied: exceptiongroup in c:\\users\\admin\\appdata\\roaming\\python\\python39\\site-packages (from ipython->mediapy) (1.1.3)\n",
      "Requirement already satisfied: colorama in c:\\users\\admin\\appdata\\roaming\\python\\python39\\site-packages (from ipython->mediapy) (0.4.6)\n",
      "Requirement already satisfied: contourpy>=1.0.1 in c:\\users\\admin\\appdata\\local\\programs\\python\\python39\\lib\\site-packages (from matplotlib->mediapy) (1.1.1)\n",
      "Requirement already satisfied: cycler>=0.10 in c:\\users\\admin\\appdata\\local\\programs\\python\\python39\\lib\\site-packages (from matplotlib->mediapy) (0.11.0)\n",
      "Requirement already satisfied: fonttools>=4.22.0 in c:\\users\\admin\\appdata\\local\\programs\\python\\python39\\lib\\site-packages (from matplotlib->mediapy) (4.42.1)\n",
      "Requirement already satisfied: kiwisolver>=1.0.1 in c:\\users\\admin\\appdata\\local\\programs\\python\\python39\\lib\\site-packages (from matplotlib->mediapy) (1.4.5)\n",
      "Requirement already satisfied: packaging>=20.0 in c:\\users\\admin\\appdata\\local\\programs\\python\\python39\\lib\\site-packages (from matplotlib->mediapy) (23.1)\n",
      "Requirement already satisfied: pyparsing>=2.3.1 in c:\\users\\admin\\appdata\\local\\programs\\python\\python39\\lib\\site-packages (from matplotlib->mediapy) (3.1.1)\n",
      "Requirement already satisfied: python-dateutil>=2.7 in c:\\users\\admin\\appdata\\local\\programs\\python\\python39\\lib\\site-packages (from matplotlib->mediapy) (2.8.2)\n",
      "Requirement already satisfied: importlib-resources>=3.2.0 in c:\\users\\admin\\appdata\\local\\programs\\python\\python39\\lib\\site-packages (from matplotlib->mediapy) (6.1.0)\n",
      "Requirement already satisfied: zipp>=3.1.0 in c:\\users\\admin\\appdata\\local\\programs\\python\\python39\\lib\\site-packages (from importlib-resources>=3.2.0->matplotlib->mediapy) (3.17.0)\n",
      "Requirement already satisfied: parso<0.9.0,>=0.8.3 in c:\\users\\admin\\appdata\\roaming\\python\\python39\\site-packages (from jedi>=0.16->ipython->mediapy) (0.8.3)\n",
      "Requirement already satisfied: wcwidth in c:\\users\\admin\\appdata\\roaming\\python\\python39\\site-packages (from prompt-toolkit!=3.0.37,<3.1.0,>=3.0.30->ipython->mediapy) (0.2.6)\n",
      "Requirement already satisfied: six>=1.5 in c:\\users\\admin\\appdata\\local\\programs\\python\\python39\\lib\\site-packages (from python-dateutil>=2.7->matplotlib->mediapy) (1.16.0)\n",
      "Requirement already satisfied: executing>=1.2.0 in c:\\users\\admin\\appdata\\roaming\\python\\python39\\site-packages (from stack-data->ipython->mediapy) (1.2.0)\n",
      "Requirement already satisfied: asttokens>=2.1.0 in c:\\users\\admin\\appdata\\roaming\\python\\python39\\site-packages (from stack-data->ipython->mediapy) (2.4.0)\n",
      "Requirement already satisfied: pure-eval in c:\\users\\admin\\appdata\\roaming\\python\\python39\\site-packages (from stack-data->ipython->mediapy) (0.2.2)\n"
     ]
    },
    {
     "name": "stderr",
     "output_type": "stream",
     "text": [
      "\n",
      "[notice] A new release of pip is available: 24.2 -> 25.0\n",
      "[notice] To update, run: python.exe -m pip install --upgrade pip\n"
     ]
    },
    {
     "name": "stdout",
     "output_type": "stream",
     "text": [
      "Requirement already satisfied: tqdm in c:\\users\\admin\\appdata\\local\\programs\\python\\python39\\lib\\site-packages (4.67.0)\n",
      "Requirement already satisfied: colorama in c:\\users\\admin\\appdata\\roaming\\python\\python39\\site-packages (from tqdm) (0.4.6)\n"
     ]
    },
    {
     "name": "stderr",
     "output_type": "stream",
     "text": [
      "\n",
      "[notice] A new release of pip is available: 24.2 -> 25.0\n",
      "[notice] To update, run: python.exe -m pip install --upgrade pip\n"
     ]
    }
   ],
   "source": [
    "# Similar to AS1\n",
    "\n",
    "!pip install -U pip\n",
    "!pip install numpy scipy \"gymnasium<0.29\"\n",
    "!pip install torch torchvision\n",
    "!pip install mediapy\n",
    "!pip install tqdm"
   ]
  },
  {
   "cell_type": "code",
   "execution_count": 27,
   "id": "5b05b5d4",
   "metadata": {
    "colab": {
     "base_uri": "https://localhost:8080/"
    },
    "id": "5b05b5d4",
    "outputId": "07c15710-629c-419b-e3b0-1330420bfea8",
    "scrolled": true
   },
   "outputs": [
    {
     "name": "stdout",
     "output_type": "stream",
     "text": [
      "Collecting git+https://github.com/metadriverse/metadrive\n",
      "  Cloning https://github.com/metadriverse/metadrive to c:\\users\\admin\\appdata\\local\\temp\\pip-req-build-_leia13h\n",
      "  Resolved https://github.com/metadriverse/metadrive to commit bb0a0c64f776769340b7daff81c154c04c8aa3a7\n",
      "  Preparing metadata (setup.py): started\n",
      "  Preparing metadata (setup.py): finished with status 'done'\n",
      "Requirement already satisfied: requests in c:\\users\\admin\\appdata\\local\\programs\\python\\python39\\lib\\site-packages (from metadrive-simulator==0.4.3) (2.32.3)\n",
      "Requirement already satisfied: gymnasium>=0.28 in c:\\users\\admin\\appdata\\local\\programs\\python\\python39\\lib\\site-packages (from metadrive-simulator==0.4.3) (0.28.1)\n",
      "Requirement already satisfied: numpy>=1.21.6 in c:\\users\\admin\\appdata\\local\\programs\\python\\python39\\lib\\site-packages (from metadrive-simulator==0.4.3) (1.26.0)\n",
      "Requirement already satisfied: matplotlib in c:\\users\\admin\\appdata\\local\\programs\\python\\python39\\lib\\site-packages (from metadrive-simulator==0.4.3) (3.8.0)\n",
      "Requirement already satisfied: pygame in c:\\users\\admin\\appdata\\local\\programs\\python\\python39\\lib\\site-packages (from metadrive-simulator==0.4.3) (2.6.1)\n",
      "Requirement already satisfied: yapf in c:\\users\\admin\\appdata\\local\\programs\\python\\python39\\lib\\site-packages (from metadrive-simulator==0.4.3) (0.43.0)\n",
      "Requirement already satisfied: tqdm in c:\\users\\admin\\appdata\\local\\programs\\python\\python39\\lib\\site-packages (from metadrive-simulator==0.4.3) (4.67.0)\n",
      "Requirement already satisfied: progressbar in c:\\users\\admin\\appdata\\local\\programs\\python\\python39\\lib\\site-packages (from metadrive-simulator==0.4.3) (2.5)\n",
      "Requirement already satisfied: panda3d==1.10.14 in c:\\users\\admin\\appdata\\local\\programs\\python\\python39\\lib\\site-packages (from metadrive-simulator==0.4.3) (1.10.14)\n",
      "Requirement already satisfied: panda3d-gltf==0.13 in c:\\users\\admin\\appdata\\local\\programs\\python\\python39\\lib\\site-packages (from metadrive-simulator==0.4.3) (0.13)\n",
      "Requirement already satisfied: pillow in c:\\users\\admin\\appdata\\local\\programs\\python\\python39\\lib\\site-packages (from metadrive-simulator==0.4.3) (10.0.1)\n",
      "Requirement already satisfied: opencv-python in c:\\users\\admin\\appdata\\local\\programs\\python\\python39\\lib\\site-packages (from metadrive-simulator==0.4.3) (4.9.0.80)\n",
      "Requirement already satisfied: lxml in c:\\users\\admin\\appdata\\local\\programs\\python\\python39\\lib\\site-packages (from metadrive-simulator==0.4.3) (5.3.0)\n",
      "Requirement already satisfied: scipy in c:\\users\\admin\\appdata\\local\\programs\\python\\python39\\lib\\site-packages (from metadrive-simulator==0.4.3) (1.11.2)\n",
      "Requirement already satisfied: psutil in c:\\users\\admin\\appdata\\roaming\\python\\python39\\site-packages (from metadrive-simulator==0.4.3) (5.9.5)\n",
      "Requirement already satisfied: shapely in c:\\users\\admin\\appdata\\local\\programs\\python\\python39\\lib\\site-packages (from metadrive-simulator==0.4.3) (2.0.7)\n",
      "Requirement already satisfied: filelock in c:\\users\\admin\\appdata\\local\\programs\\python\\python39\\lib\\site-packages (from metadrive-simulator==0.4.3) (3.12.4)\n",
      "Requirement already satisfied: Pygments in c:\\users\\admin\\appdata\\roaming\\python\\python39\\site-packages (from metadrive-simulator==0.4.3) (2.16.1)\n",
      "Requirement already satisfied: mediapy in c:\\users\\admin\\appdata\\local\\programs\\python\\python39\\lib\\site-packages (from metadrive-simulator==0.4.3) (1.2.2)\n",
      "Requirement already satisfied: panda3d-simplepbr>=0.6 in c:\\users\\admin\\appdata\\local\\programs\\python\\python39\\lib\\site-packages (from panda3d-gltf==0.13->metadrive-simulator==0.4.3) (0.12.0)\n",
      "Requirement already satisfied: jax-jumpy>=1.0.0 in c:\\users\\admin\\appdata\\local\\programs\\python\\python39\\lib\\site-packages (from gymnasium>=0.28->metadrive-simulator==0.4.3) (1.0.0)\n",
      "Requirement already satisfied: cloudpickle>=1.2.0 in c:\\users\\admin\\appdata\\local\\programs\\python\\python39\\lib\\site-packages (from gymnasium>=0.28->metadrive-simulator==0.4.3) (3.1.1)\n",
      "Requirement already satisfied: typing-extensions>=4.3.0 in c:\\users\\admin\\appdata\\local\\programs\\python\\python39\\lib\\site-packages (from gymnasium>=0.28->metadrive-simulator==0.4.3) (4.8.0)\n",
      "Requirement already satisfied: farama-notifications>=0.0.1 in c:\\users\\admin\\appdata\\local\\programs\\python\\python39\\lib\\site-packages (from gymnasium>=0.28->metadrive-simulator==0.4.3) (0.0.4)\n",
      "Requirement already satisfied: importlib-metadata>=4.8.0 in c:\\users\\admin\\appdata\\roaming\\python\\python39\\site-packages (from gymnasium>=0.28->metadrive-simulator==0.4.3) (6.8.0)\n",
      "Requirement already satisfied: contourpy>=1.0.1 in c:\\users\\admin\\appdata\\local\\programs\\python\\python39\\lib\\site-packages (from matplotlib->metadrive-simulator==0.4.3) (1.1.1)\n",
      "Requirement already satisfied: cycler>=0.10 in c:\\users\\admin\\appdata\\local\\programs\\python\\python39\\lib\\site-packages (from matplotlib->metadrive-simulator==0.4.3) (0.11.0)\n",
      "Requirement already satisfied: fonttools>=4.22.0 in c:\\users\\admin\\appdata\\local\\programs\\python\\python39\\lib\\site-packages (from matplotlib->metadrive-simulator==0.4.3) (4.42.1)\n",
      "Requirement already satisfied: kiwisolver>=1.0.1 in c:\\users\\admin\\appdata\\local\\programs\\python\\python39\\lib\\site-packages (from matplotlib->metadrive-simulator==0.4.3) (1.4.5)\n",
      "Requirement already satisfied: packaging>=20.0 in c:\\users\\admin\\appdata\\local\\programs\\python\\python39\\lib\\site-packages (from matplotlib->metadrive-simulator==0.4.3) (23.1)\n",
      "Requirement already satisfied: pyparsing>=2.3.1 in c:\\users\\admin\\appdata\\local\\programs\\python\\python39\\lib\\site-packages (from matplotlib->metadrive-simulator==0.4.3) (3.1.1)\n",
      "Requirement already satisfied: python-dateutil>=2.7 in c:\\users\\admin\\appdata\\local\\programs\\python\\python39\\lib\\site-packages (from matplotlib->metadrive-simulator==0.4.3) (2.8.2)\n",
      "Requirement already satisfied: importlib-resources>=3.2.0 in c:\\users\\admin\\appdata\\local\\programs\\python\\python39\\lib\\site-packages (from matplotlib->metadrive-simulator==0.4.3) (6.1.0)\n",
      "Requirement already satisfied: ipython in c:\\users\\admin\\appdata\\roaming\\python\\python39\\site-packages (from mediapy->metadrive-simulator==0.4.3) (8.15.0)\n",
      "Requirement already satisfied: charset-normalizer<4,>=2 in c:\\users\\admin\\appdata\\local\\programs\\python\\python39\\lib\\site-packages (from requests->metadrive-simulator==0.4.3) (2.1.1)\n",
      "Requirement already satisfied: idna<4,>=2.5 in c:\\users\\admin\\appdata\\local\\programs\\python\\python39\\lib\\site-packages (from requests->metadrive-simulator==0.4.3) (3.4)\n",
      "Requirement already satisfied: urllib3<3,>=1.21.1 in c:\\users\\admin\\appdata\\local\\programs\\python\\python39\\lib\\site-packages (from requests->metadrive-simulator==0.4.3) (1.26.13)\n",
      "Requirement already satisfied: certifi>=2017.4.17 in c:\\users\\admin\\appdata\\local\\programs\\python\\python39\\lib\\site-packages (from requests->metadrive-simulator==0.4.3) (2022.12.7)\n",
      "Requirement already satisfied: colorama in c:\\users\\admin\\appdata\\roaming\\python\\python39\\site-packages (from tqdm->metadrive-simulator==0.4.3) (0.4.6)\n",
      "Requirement already satisfied: platformdirs>=3.5.1 in c:\\users\\admin\\appdata\\roaming\\python\\python39\\site-packages (from yapf->metadrive-simulator==0.4.3) (3.10.0)\n",
      "Requirement already satisfied: tomli>=2.0.1 in c:\\users\\admin\\appdata\\local\\programs\\python\\python39\\lib\\site-packages (from yapf->metadrive-simulator==0.4.3) (2.2.1)\n",
      "Requirement already satisfied: zipp>=0.5 in c:\\users\\admin\\appdata\\local\\programs\\python\\python39\\lib\\site-packages (from importlib-metadata>=4.8.0->gymnasium>=0.28->metadrive-simulator==0.4.3) (3.17.0)\n",
      "Requirement already satisfied: six>=1.5 in c:\\users\\admin\\appdata\\local\\programs\\python\\python39\\lib\\site-packages (from python-dateutil>=2.7->matplotlib->metadrive-simulator==0.4.3) (1.16.0)\n",
      "Requirement already satisfied: backcall in c:\\users\\admin\\appdata\\roaming\\python\\python39\\site-packages (from ipython->mediapy->metadrive-simulator==0.4.3) (0.2.0)\n",
      "Requirement already satisfied: decorator in c:\\users\\admin\\appdata\\roaming\\python\\python39\\site-packages (from ipython->mediapy->metadrive-simulator==0.4.3) (5.1.1)\n",
      "Requirement already satisfied: jedi>=0.16 in c:\\users\\admin\\appdata\\roaming\\python\\python39\\site-packages (from ipython->mediapy->metadrive-simulator==0.4.3) (0.19.0)\n",
      "Requirement already satisfied: matplotlib-inline in c:\\users\\admin\\appdata\\roaming\\python\\python39\\site-packages (from ipython->mediapy->metadrive-simulator==0.4.3) (0.1.6)\n",
      "Requirement already satisfied: pickleshare in c:\\users\\admin\\appdata\\roaming\\python\\python39\\site-packages (from ipython->mediapy->metadrive-simulator==0.4.3) (0.7.5)\n",
      "Requirement already satisfied: prompt-toolkit!=3.0.37,<3.1.0,>=3.0.30 in c:\\users\\admin\\appdata\\roaming\\python\\python39\\site-packages (from ipython->mediapy->metadrive-simulator==0.4.3) (3.0.39)\n",
      "Requirement already satisfied: stack-data in c:\\users\\admin\\appdata\\roaming\\python\\python39\\site-packages (from ipython->mediapy->metadrive-simulator==0.4.3) (0.6.2)\n",
      "Requirement already satisfied: traitlets>=5 in c:\\users\\admin\\appdata\\roaming\\python\\python39\\site-packages (from ipython->mediapy->metadrive-simulator==0.4.3) (5.10.0)\n",
      "Requirement already satisfied: exceptiongroup in c:\\users\\admin\\appdata\\roaming\\python\\python39\\site-packages (from ipython->mediapy->metadrive-simulator==0.4.3) (1.1.3)\n",
      "Requirement already satisfied: parso<0.9.0,>=0.8.3 in c:\\users\\admin\\appdata\\roaming\\python\\python39\\site-packages (from jedi>=0.16->ipython->mediapy->metadrive-simulator==0.4.3) (0.8.3)\n",
      "Requirement already satisfied: wcwidth in c:\\users\\admin\\appdata\\roaming\\python\\python39\\site-packages (from prompt-toolkit!=3.0.37,<3.1.0,>=3.0.30->ipython->mediapy->metadrive-simulator==0.4.3) (0.2.6)\n",
      "Requirement already satisfied: executing>=1.2.0 in c:\\users\\admin\\appdata\\roaming\\python\\python39\\site-packages (from stack-data->ipython->mediapy->metadrive-simulator==0.4.3) (1.2.0)\n",
      "Requirement already satisfied: asttokens>=2.1.0 in c:\\users\\admin\\appdata\\roaming\\python\\python39\\site-packages (from stack-data->ipython->mediapy->metadrive-simulator==0.4.3) (2.4.0)\n",
      "Requirement already satisfied: pure-eval in c:\\users\\admin\\appdata\\roaming\\python\\python39\\site-packages (from stack-data->ipython->mediapy->metadrive-simulator==0.4.3) (0.2.2)\n"
     ]
    },
    {
     "name": "stderr",
     "output_type": "stream",
     "text": [
      "  Running command git clone --filter=blob:none --quiet https://github.com/metadriverse/metadrive 'C:\\Users\\Admin\\AppData\\Local\\Temp\\pip-req-build-_leia13h'\n",
      "\n",
      "[notice] A new release of pip is available: 24.2 -> 25.0\n",
      "[notice] To update, run: python.exe -m pip install --upgrade pip\n"
     ]
    }
   ],
   "source": [
    "# Install MetaDrive, a lightweight driving simulator\n",
    "\n",
    "import sys\n",
    "\n",
    "!pip install \"git+https://github.com/metadriverse/metadrive\""
   ]
  },
  {
   "cell_type": "code",
   "execution_count": 28,
   "id": "IlCJY9seS7RB",
   "metadata": {
    "colab": {
     "base_uri": "https://localhost:8080/"
    },
    "id": "IlCJY9seS7RB",
    "outputId": "3504c227-56ea-4db5-8abe-cea176aefcc2",
    "scrolled": true
   },
   "outputs": [
    {
     "name": "stdout",
     "output_type": "stream",
     "text": [
      "Start to profile the efficiency of MetaDrive with 1000 maps and ~4 vehicles!\n",
      "Finish 100/100 simulation steps. Time elapse: 0.3910. Average FPS: 523.5701, Average number of vehicles: 5.5000\n",
      "Total Time Elapse: 0.391, average FPS: 523.570, average number of vehicles: 5.500.\n"
     ]
    },
    {
     "name": "stderr",
     "output_type": "stream",
     "text": [
      "\u001b[38;20m[INFO] Environment: MetaDriveEnv\u001b[0m\n",
      "\u001b[38;20m[INFO] MetaDrive version: 0.4.3\u001b[0m\n",
      "\u001b[38;20m[INFO] Sensors: [lidar: Lidar(), side_detector: SideDetector(), lane_line_detector: LaneLineDetector()]\u001b[0m\n",
      "\u001b[38;20m[INFO] Render Mode: none\u001b[0m\n",
      "\u001b[38;20m[INFO] Horizon (Max steps per agent): None\u001b[0m\n",
      "\u001b[38;20m[INFO] Assets version: 0.4.3\u001b[0m\n",
      "\u001b[38;20m[INFO] Known Pipes: wglGraphicsPipe\u001b[0m\n",
      "\u001b[38;20m[INFO] Start Scenario Index: 1010, Num Scenarios : 1000\u001b[0m\n",
      "\u001b[38;20m[INFO] Episode ended! Scenario Index: 1651 Reason: out_of_road.\u001b[0m\n"
     ]
    }
   ],
   "source": [
    "# Test whether MetaDrive is properly installed. The test is passed if no error is shown.\n",
    "!python -m metadrive.examples.profile_metadrive --num-steps 100"
   ]
  },
  {
   "cell_type": "markdown",
   "id": "9612bfe5",
   "metadata": {
    "id": "9612bfe5"
   },
   "source": [
    "## Section 1: Building abstract class and helper functions"
   ]
  },
  {
   "cell_type": "code",
   "execution_count": 29,
   "id": "9064ac72",
   "metadata": {
    "colab": {
     "base_uri": "https://localhost:8080/"
    },
    "id": "9064ac72",
    "outputId": "4eed79d8-0126-4a00-ff90-869135e2d144"
   },
   "outputs": [
    {
     "name": "stderr",
     "output_type": "stream",
     "text": [
      "c:\\Users\\Admin\\AppData\\Local\\Programs\\Python\\Python39\\lib\\site-packages\\gymnasium\\envs\\registration.py:693: UserWarning: \u001b[33mWARN: Overriding environment FrozenLakeNotSlippery-v1 already in registry.\u001b[0m\n",
      "  logger.warn(f\"Overriding environment {new_spec.id} already in registry.\")\n"
     ]
    }
   ],
   "source": [
    "# Run this cell without modification\n",
    "\n",
    "# Import some packages that we need to use\n",
    "import mediapy as media\n",
    "import gymnasium as gym\n",
    "import numpy as np\n",
    "import pandas as pd\n",
    "import seaborn as sns\n",
    "from gymnasium.error import Error\n",
    "from gymnasium import logger\n",
    "import torch\n",
    "import torch.nn as nn\n",
    "from IPython.display import clear_output\n",
    "import copy\n",
    "import time\n",
    "import pygame\n",
    "import logging\n",
    "import tqdm\n",
    "\n",
    "logging.basicConfig(format='[%(levelname)s] %(message)s')\n",
    "logger = logging.getLogger()\n",
    "logger.setLevel(logging.INFO)\n",
    "\n",
    "\n",
    "def wait(sleep=0.2):\n",
    "    clear_output(wait=True)\n",
    "    time.sleep(sleep)\n",
    "\n",
    "\n",
    "def merge_config(new_config, old_config):\n",
    "    \"\"\"Merge the user-defined config with default config\"\"\"\n",
    "    config = copy.deepcopy(old_config)\n",
    "    if new_config is not None:\n",
    "        config.update(new_config)\n",
    "    return config\n",
    "\n",
    "\n",
    "def test_random_policy(policy, env):\n",
    "    _acts = set()\n",
    "    for i in range(1000):\n",
    "        act = policy(0)\n",
    "        _acts.add(act)\n",
    "        assert env.action_space.contains(act), \"Out of the bound!\"\n",
    "    if len(_acts) != 1:\n",
    "        print(\n",
    "            \"[HINT] Though we call self.policy a 'random policy', \" \\\n",
    "            \"we find that generating action randomly during initialization \" \\\n",
    "            \"and then sticking with it when update values lead to better \" \\\n",
    "            \"performance. Using purely random policy is not even work! \"\n",
    "        )\n",
    "\n",
    "\n",
    "# We register a non-slippery version of FrozenLake environment.\n",
    "try:\n",
    "    gym.register(\n",
    "        id='FrozenLakeNotSlippery-v1',\n",
    "        entry_point='gymnasium.envs.toy_text:FrozenLakeEnv',\n",
    "        kwargs={'map_name': '4x4', 'is_slippery': False},\n",
    "        max_episode_steps=200,\n",
    "        reward_threshold=0.78,  # optimum = .8196\n",
    "    )\n",
    "except Error:\n",
    "    print(\"The environment is registered already.\")\n",
    "\n",
    "\n",
    "def _render_helper(env, sleep=0.1):\n",
    "    ret = env.render()\n",
    "    if sleep:\n",
    "        wait(sleep=sleep)\n",
    "    return ret\n",
    "\n",
    "\n",
    "def animate(img_array, fps=None):\n",
    "    \"\"\"A function that can generate video and show in Notebook.\"\"\"\n",
    "    media.show_video(img_array, fps=fps)\n",
    "\n",
    "\n",
    "def evaluate(policy, num_episodes=1, seed=0, env_name='FrozenLake8x8-v1',\n",
    "             render=None, existing_env=None, max_episode_length=1000,\n",
    "             sleep=0.0, verbose=False):\n",
    "    \"\"\"This function evaluates the given policy and return the mean episodic \n",
    "    reward.\n",
    "    :param policy: a function whose input is the observation\n",
    "    :param num_episodes: number of episodes you wish to run\n",
    "    :param seed: the random seed\n",
    "    :param env_name: the name of the environment\n",
    "    :param render: a boolean flag indicating whether to render policy\n",
    "    :return: the averaged episode reward of the given policy.\n",
    "    \"\"\"\n",
    "    if existing_env is None:\n",
    "        render_mode = render if render else None\n",
    "        env = gym.make(env_name, render_mode=render)\n",
    "    else:\n",
    "        env = existing_env\n",
    "    try:\n",
    "        rewards = []\n",
    "        frames = []\n",
    "        succ_rate = []\n",
    "        if render:\n",
    "            num_episodes = 1\n",
    "        for i in range(num_episodes):\n",
    "            obs, info = env.reset(seed=seed + i)\n",
    "            act = policy(obs)\n",
    "            ep_reward = 0\n",
    "            for step_count in range(max_episode_length):\n",
    "                obs, reward, terminated, truncated, info = env.step(act)\n",
    "                done = terminated or truncated\n",
    "\n",
    "                act = policy(obs)\n",
    "                ep_reward += reward\n",
    "\n",
    "                if verbose and step_count % 50 == 0:\n",
    "                    print(\"Evaluating {}/{} episodes. We are in {}/{} steps. Current episode reward: {:.3f}\".format(\n",
    "                        i + 1, num_episodes, step_count + 1, max_episode_length, ep_reward\n",
    "                    ))\n",
    "\n",
    "                if render == \"ansi\":\n",
    "                    print(_render_helper(env, sleep))\n",
    "                elif render:\n",
    "                    frames.append(_render_helper(env, sleep))\n",
    "                if done:\n",
    "                    break\n",
    "            rewards.append(ep_reward)\n",
    "            if \"arrive_dest\" in info:\n",
    "                succ_rate.append(float(info[\"arrive_dest\"]))\n",
    "        if render:\n",
    "            env.close()\n",
    "    except Exception as e:\n",
    "        env.close()\n",
    "        raise e\n",
    "    finally:\n",
    "        env.close()\n",
    "    eval_dict = {\"frames\": frames}\n",
    "    if succ_rate:\n",
    "        eval_dict[\"success_rate\"] = sum(succ_rate) / len(succ_rate)\n",
    "    return np.mean(rewards), eval_dict\n"
   ]
  },
  {
   "cell_type": "code",
   "execution_count": 30,
   "id": "d21c8c84",
   "metadata": {
    "id": "d21c8c84"
   },
   "outputs": [],
   "source": [
    "# Run this cell without modification\n",
    "\n",
    "DEFAULT_CONFIG = dict(\n",
    "    seed=0,\n",
    "    max_iteration=20000,\n",
    "    max_episode_length=200,\n",
    "    evaluate_interval=10,\n",
    "    evaluate_num_episodes=10,\n",
    "    learning_rate=0.001,\n",
    "    gamma=0.8,\n",
    "    eps=0.3,\n",
    "    env_name='FrozenLakeNotSlippery-v1'\n",
    ")\n",
    "\n",
    "\n",
    "class AbstractTrainer:\n",
    "    \"\"\"This is the abstract class for value-based RL trainer. We will inherent\n",
    "    the new trainer from this class, so that we can reuse the code.\n",
    "    \"\"\"\n",
    "\n",
    "    def __init__(self, config):\n",
    "        self.config = merge_config(config, DEFAULT_CONFIG)\n",
    "\n",
    "        # Create the environment\n",
    "        self.env_name = self.config['env_name']\n",
    "        self.env = gym.make(self.env_name)\n",
    "\n",
    "        # Apply the random seed\n",
    "        self.seed = self.config[\"seed\"]\n",
    "        np.random.seed(self.seed)\n",
    "        self.env.reset(seed=self.seed)\n",
    "\n",
    "        # We set self.obs_dim to the number of possible observations\n",
    "        # if observation space is discrete, otherwise the number\n",
    "        # of observation's dimensions. The same applies to self.act_dim.\n",
    "        if isinstance(self.env.observation_space, gym.spaces.box.Box):\n",
    "            assert len(self.env.observation_space.shape) == 1\n",
    "            self.obs_dim = self.env.observation_space.shape[0]\n",
    "            self.discrete_obs = False\n",
    "        elif isinstance(self.env.observation_space,\n",
    "                        gym.spaces.discrete.Discrete):\n",
    "            self.obs_dim = self.env.observation_space.n\n",
    "            self.discrete_obs = True\n",
    "        else:\n",
    "            raise ValueError(\"Wrong observation space!\")\n",
    "\n",
    "        if isinstance(self.env.action_space, gym.spaces.box.Box):\n",
    "            assert len(self.env.action_space.shape) == 1\n",
    "            self.act_dim = self.env.action_space.shape[0]\n",
    "        elif isinstance(self.env.action_space, gym.spaces.discrete.Discrete):\n",
    "            self.act_dim = self.env.action_space.n\n",
    "        else:\n",
    "            raise ValueError(\"Wrong action space! {}\".format(self.env.action_space))\n",
    "\n",
    "        self.eps = self.config['eps']\n",
    "\n",
    "    def process_state(self, state):\n",
    "        \"\"\"\n",
    "        Process the raw observation. For example, we can use this function to\n",
    "        convert the input state represented by an integer to a one-hot vector.\n",
    "        \"\"\"\n",
    "        return state\n",
    "\n",
    "    def compute_action(self, processed_state, eps=None):\n",
    "        \"\"\"Compute the action given the processed state.\"\"\"\n",
    "        raise NotImplementedError(\n",
    "            \"You need to override the Trainer.compute_action() function.\")\n",
    "\n",
    "    def evaluate(self, num_episodes=50, *args, **kwargs):\n",
    "        \"\"\"Use the function you write to evaluate current policy.\n",
    "        Return the mean episode reward of 50 episodes.\"\"\"\n",
    "        if \"MetaDrive\" in self.env_name:\n",
    "            kwargs[\"existing_env\"] = self.env\n",
    "        result, eval_infos = evaluate(self.policy, num_episodes, seed=self.seed,\n",
    "                                      env_name=self.env_name, *args, **kwargs)\n",
    "        return result, eval_infos\n",
    "\n",
    "    def policy(self, raw_state, eps=0.0):\n",
    "        \"\"\"A wrapper function takes raw_state as input and output action.\"\"\"\n",
    "        return self.compute_action(self.process_state(raw_state), eps=eps)\n",
    "\n",
    "    def train(self, iteration=None):\n",
    "        \"\"\"Conduct one iteration of learning.\"\"\"\n",
    "        raise NotImplementedError(\"You need to override the \"\n",
    "                                  \"Trainer.train() function.\")\n"
   ]
  },
  {
   "cell_type": "code",
   "execution_count": 31,
   "id": "4067c392-1693-44ab-9024-5142d4fa7610",
   "metadata": {},
   "outputs": [],
   "source": [
    "import tqdm"
   ]
  },
  {
   "cell_type": "code",
   "execution_count": 32,
   "id": "cf324d71",
   "metadata": {
    "id": "cf324d71"
   },
   "outputs": [],
   "source": [
    "# Run this cell without modification\n",
    "\n",
    "def run(trainer_cls, config=None, reward_threshold=None):\n",
    "    \"\"\"Run the trainer and report learning progress.\n",
    "    :param trainer_cls: A trainer class \n",
    "    :param config: A dict\n",
    "    :param reward_threshold: the reward threshold to break the training\n",
    "    :return: The trained trainer and a dataframe containing learning progress\n",
    "    \"\"\"\n",
    "    if config is None:\n",
    "        config = {}\n",
    "    trainer = trainer_cls(config)\n",
    "    config = trainer.config\n",
    "    start = now = time.time()\n",
    "    stats = []\n",
    "    total_steps = 0\n",
    "    reward = 0.0\n",
    "\n",
    "    try:\n",
    "        pbar = tqdm.trange(config['max_iteration'] + 1, desc=\"Training\")\n",
    "        for i in pbar:\n",
    "            stat = trainer.train(iteration=i)\n",
    "            stat = stat or {}\n",
    "            stats.append(stat)\n",
    "            if \"episode_len\" in stat:\n",
    "                total_steps += stat[\"episode_len\"]\n",
    "            if i % config['evaluate_interval'] == 0 or \\\n",
    "                    i == config[\"max_iteration\"]:\n",
    "                reward, _ = trainer.evaluate(\n",
    "                    config.get(\"evaluate_num_episodes\", 50),\n",
    "                    max_episode_length=config.get(\"max_episode_length\", 1000)\n",
    "                )\n",
    "                now = time.time()\n",
    "                pbar.set_postfix({'ep_reward': reward})\n",
    "            if reward_threshold is not None and reward > reward_threshold:\n",
    "                logger.info(\"Iter {}, episodic return {:.3f} is \"\n",
    "                            \"greater than reward threshold {}. Congratulation! Now we \"\n",
    "                            \"exit the training process.\".format(i, reward, reward_threshold))\n",
    "                break\n",
    "    except Exception as e:\n",
    "        print(\"Error happens during training: \")\n",
    "        raise e\n",
    "    finally:\n",
    "        if hasattr(trainer.env, \"close\"):\n",
    "            trainer.env.close()\n",
    "            print(\"Environment is closed.\")\n",
    "\n",
    "    return trainer, stats\n"
   ]
  },
  {
   "cell_type": "markdown",
   "id": "64a565ab",
   "metadata": {
    "id": "64a565ab"
   },
   "source": [
    "## Section 2: Q-Learning\n",
    "(20/100 points)\n",
    "\n",
    "Q-learning is an off-policy algorithm who differs from SARSA in the TD error. \n",
    "\n",
    "Unlike getting the TD error by running policy to get `next_act` $a'$ and compute:\n",
    "\n",
    "$r + \\gamma Q(s', a') - Q(s, a)$\n",
    "\n",
    "as in SARSA, in Q-learning we compute the TD error via:\n",
    "\n",
    "$r + \\gamma \\max_{a'} Q(s', a') - Q(s, a)$. \n",
    "\n",
    "The reason we call it \"off-policy\" is that the next-Q value is not computed against the \"behavior policy\", instead, it is the next Q value of a \"hypothetical policy\" that always takes the best action given current Q values."
   ]
  },
  {
   "cell_type": "markdown",
   "id": "188997dd",
   "metadata": {},
   "source": [
    "### Section 2.1: Building Q Learning Trainer"
   ]
  },
  {
   "cell_type": "code",
   "execution_count": 33,
   "id": "6a2ec18b",
   "metadata": {
    "id": "6a2ec18b"
   },
   "outputs": [],
   "source": [
    "# Solve the TODOs and remove `pass`\n",
    "\n",
    "# Managing configurations of your experiments is important for your research.\n",
    "Q_LEARNING_TRAINER_CONFIG = merge_config(dict(\n",
    "    eps=0.3,\n",
    "), DEFAULT_CONFIG)\n",
    "\n",
    "\n",
    "class QLearningTrainer(AbstractTrainer):\n",
    "    def __init__(self, config=None):\n",
    "        config = merge_config(config, Q_LEARNING_TRAINER_CONFIG)\n",
    "        super(QLearningTrainer, self).__init__(config=config)\n",
    "        self.gamma = self.config[\"gamma\"]\n",
    "        self.eps = self.config[\"eps\"]\n",
    "        self.max_episode_length = self.config[\"max_episode_length\"]\n",
    "        self.learning_rate = self.config[\"learning_rate\"]\n",
    "\n",
    "        # build the Q table\n",
    "        self.table = np.zeros((self.obs_dim, self.act_dim))\n",
    "\n",
    "    def compute_action(self, obs, eps=None):\n",
    "        \"\"\"Implement epsilon-greedy policy\n",
    "\n",
    "        It is a function that take an integer (state / observation)\n",
    "        as input and return an interger (action).\n",
    "        \"\"\"\n",
    "        if eps is None:\n",
    "            eps = self.eps\n",
    "\n",
    "        # TODO: You need to implement the epsilon-greedy policy here.\n",
    "        # That is, with probability eps, you will choose a (uniformly) random action\n",
    "        # in the action space. With probability 1-eps, you will choose the argmax\n",
    "        # action that maximizes the Q values.\n",
    "        # The Q values is stored in self.table.\n",
    "        if np.random.rand() < eps:\n",
    "            # Choose a random action\n",
    "            action = np.random.randint(self.act_dim)\n",
    "        else:\n",
    "            # Choose the best action according to Q table.\n",
    "            action = np.argmax(self.table[obs])\n",
    "\n",
    "        return action\n",
    "\n",
    "    def train(self, iteration=None):\n",
    "        \"\"\"Do one iteration of training.\"\"\"\n",
    "        obs, info = self.env.reset()\n",
    "        for t in range(self.max_episode_length):\n",
    "            act = self.compute_action(obs)\n",
    "\n",
    "            next_obs, reward, terminated, truncated, info = self.env.step(act)\n",
    "            done = terminated or truncated\n",
    "\n",
    "            # TODO: compute the TD error.\n",
    "            # [Hint] You will use reward `reward`, current observation `obs`, \n",
    "            # next observation `next_obs`, current action `act`, and Q value\n",
    "            # table `self.table`, and gamma `self.gamma`.\n",
    "            \n",
    "            max_q_next = 0 if done else np.max(self.table[next_obs])\n",
    "            td_error = reward + self.gamma * max_q_next - self.table[obs][act]\n",
    "\n",
    "            # TODO: compute the new (updated) Q value.\n",
    "            # [Hint] Use the computed TD error, self.learning_rate and Q value.\n",
    "            # This is actually a step of gradient descent. \n",
    "            new_value = self.table[obs][act] + self.learning_rate * td_error\n",
    "\n",
    "            self.table[obs][act] = new_value\n",
    "            obs = next_obs\n",
    "            if done:\n",
    "                break\n"
   ]
  },
  {
   "cell_type": "markdown",
   "id": "b2f6c0f2",
   "metadata": {},
   "source": [
    "### Section 2.2: Use Q Learning to train agent in FrozenLake"
   ]
  },
  {
   "cell_type": "code",
   "execution_count": 34,
   "id": "61586e08",
   "metadata": {
    "colab": {
     "base_uri": "https://localhost:8080/"
    },
    "id": "61586e08",
    "outputId": "05ad92b5-a19b-4812-ee1a-a3c775799b3d",
    "scrolled": true
   },
   "outputs": [
    {
     "name": "stderr",
     "output_type": "stream",
     "text": [
      "Training:  42%|████▏     | 2101/5001 [00:07<00:10, 286.42it/s, ep_reward=1][INFO] Iter 2150, episodic return 1.000 is greater than reward threshold 0.99. Congratulation! Now we exit the training process.\n",
      "Training:  43%|████▎     | 2150/5001 [00:07<00:09, 287.95it/s, ep_reward=1]"
     ]
    },
    {
     "name": "stdout",
     "output_type": "stream",
     "text": [
      "Environment is closed.\n"
     ]
    },
    {
     "name": "stderr",
     "output_type": "stream",
     "text": [
      "\n"
     ]
    }
   ],
   "source": [
    "# Run this cell without modification\n",
    "\n",
    "q_learning_trainer, _ = run(\n",
    "    trainer_cls=QLearningTrainer,\n",
    "    config=dict(\n",
    "        max_iteration=5000,\n",
    "        evaluate_interval=50,\n",
    "        evaluate_num_episodes=50,\n",
    "        env_name='FrozenLakeNotSlippery-v1'\n",
    "    ),\n",
    "    reward_threshold=0.99\n",
    ")\n"
   ]
  },
  {
   "cell_type": "code",
   "execution_count": 35,
   "id": "9fe03c52",
   "metadata": {
    "colab": {
     "base_uri": "https://localhost:8080/"
    },
    "id": "9fe03c52",
    "outputId": "57d058af-741d-422b-d84c-26f5bbc61820"
   },
   "outputs": [
    {
     "data": {
      "text/html": [
       "<table class=\"show_videos\" style=\"border-spacing:0px;\"><tr><td style=\"padding:1px;\"><video controls width=\"256\" height=\"256\" style=\"object-fit:cover;\" loop autoplay muted>\n",
       "      <source src=\"data:video/mp4;base64,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\" type=\"video/mp4\"/>\n",
       "      This browser does not support the video tag.\n",
       "      </video></td></tr></table>"
      ],
      "text/plain": [
       "<IPython.core.display.HTML object>"
      ]
     },
     "metadata": {},
     "output_type": "display_data"
    }
   ],
   "source": [
    "# Run this cell without modification\n",
    "\n",
    "# Visualize the learned behavior\n",
    "_, eval_info = evaluate(\n",
    "    policy=q_learning_trainer.policy,\n",
    "    num_episodes=1,\n",
    "    env_name=q_learning_trainer.env_name,\n",
    "    render=\"rgb_array\",  # Visualize the behavior here in the cell \n",
    "    sleep=0.2  # The time interval between two rendering frames\n",
    ")\n",
    "animate(eval_info[\"frames\"], fps=2)"
   ]
  },
  {
   "cell_type": "markdown",
   "id": "e198cc0a",
   "metadata": {
    "id": "e198cc0a"
   },
   "source": [
    "## Section 3: Implement Deep Q Learning in Pytorch\n",
    "\n",
    "(30 / 100 points)\n",
    "\n",
    "In this section, we will implement a neural network and train it with Deep Q Learning via Pytorch, a powerful deep learning framework. \n",
    "\n",
    "If you are not familiar with Pytorch, we suggest you to go through pytorch official quickstart tutorials:\n",
    "1. [quickstart](https://pytorch.org/tutorials/beginner/deep_learning_60min_blitz.html)\n",
    "2. [tutorial on RL](https://pytorch.org/tutorials/intermediate/reinforcement_q_learning.html)\n",
    "\n",
    "Different from the Q learning in Section 2, we will implement Deep Q Network (DQN) in this section. The main differences are summarized as follows:\n",
    "\n",
    "**DQN requires an experience replay buffer to store the transitions.** A replay memory (buffer) is implemented in the following `ExperienceReplayMemory` class. It contains a certain amount of transitions: `(s_t, a_t, r_t, s_t+1, done_t)`. When the memory is full, the earliest transition is discarded and the latest one is stored. The replay memory increases the sample efficiency (since each transition might be used multiple times) when solving complex task.\n",
    "\n",
    "\n",
    "**DQN has a delayed-updating target network.** DQN maintains another neural network called the target network that has identical architecture of the Q network. After a certain amount of learning steps has been taken, the target network copies the parameters of the Q network to itself. The update of the target network will be much less frequent than the update of the Q network.\n",
    "\n",
    "The target network is used to stabilize the estimation of the TD error. In DQN, the TD error is estimated as:\n",
    "\n",
    "$$(r_t + \\gamma \\max_{a_{t+1}} Q^{target}(s_{t+1}, a_{t+1}) - Q(s_t, a_t))$$\n",
    "\n",
    "The Q value of the next state is estimated by the target network, not the Q network that is being updated. This mechanism can reduce the variance of gradient because the next Q values is not influenced by the update of current Q network.\n"
   ]
  },
  {
   "cell_type": "markdown",
   "id": "aa025029",
   "metadata": {},
   "source": [
    "### Section 3.1: Build DQN trainer"
   ]
  },
  {
   "cell_type": "code",
   "execution_count": 36,
   "id": "6a87cab7",
   "metadata": {
    "id": "6a87cab7"
   },
   "outputs": [],
   "source": [
    "# Solve the TODOs and remove `pass`\n",
    "\n",
    "from collections import deque\n",
    "import random\n",
    "\n",
    "\n",
    "class ExperienceReplayMemory:\n",
    "    \"\"\"Store and sample the transitions\"\"\"\n",
    "\n",
    "    def __init__(self, capacity):\n",
    "        # deque is a useful class which acts like a list but only contain\n",
    "        # finite elements. When adding new element into the deque will make deque full with \n",
    "        # `maxlen` elements, the oldest element (the index 0 element) will be removed.\n",
    "\n",
    "        # TODO: uncomment next line. \n",
    "        self.memory = deque(maxlen=capacity)\n",
    "        \n",
    "\n",
    "    def push(self, transition):\n",
    "        self.memory.append(transition)\n",
    "\n",
    "    def sample(self, batch_size):\n",
    "        return random.sample(self.memory, batch_size)\n",
    "\n",
    "    def __len__(self):\n",
    "        return len(self.memory)"
   ]
  },
  {
   "cell_type": "code",
   "execution_count": 37,
   "id": "1a72ec0f",
   "metadata": {
    "colab": {
     "base_uri": "https://localhost:8080/"
    },
    "id": "1a72ec0f",
    "outputId": "20a2f35b-6a96-48f1-8626-707411112d68"
   },
   "outputs": [
    {
     "name": "stdout",
     "output_type": "stream",
     "text": [
      "Name of each parameter vectors:  odict_keys(['action_value.0.weight', 'action_value.0.bias', 'action_value.2.weight', 'action_value.2.bias', 'action_value.4.weight', 'action_value.4.bias'])\n",
      "Test passed!\n"
     ]
    }
   ],
   "source": [
    "# Solve the TODOs and remove `pass`\n",
    "\n",
    "class PytorchModel(nn.Module):\n",
    "    def __init__(self, num_inputs, num_outputs, hidden_units=100):\n",
    "        super(PytorchModel, self).__init__()\n",
    "\n",
    "        # TODO: Build a nn.Sequential object as the neural network with two hidden layers and one output layer.\n",
    "        #\n",
    "        # The first hidden layer takes `num_inputs`-dim vector as input and has `hidden_units` hidden units,\n",
    "        # followed by a ReLU activation function.\n",
    "        # \n",
    "        # The second hidden layer takes `hidden_units`-dim vector as input and has `hidden_units` hidden units,\n",
    "        # followed by a ReLU activation function.\n",
    "        # \n",
    "        # The output layer takes `hidden_units`-dim vector as input and returns `num_outputs`-dim vctor as output.\n",
    "        self.action_value = nn.Sequential(\n",
    "            nn.Linear(num_inputs, hidden_units),\n",
    "            nn.ReLU(),\n",
    "            nn.Linear(hidden_units, hidden_units),\n",
    "            nn.ReLU(),\n",
    "            nn.Linear(hidden_units, num_outputs)\n",
    "        )\n",
    "\n",
    "    def forward(self, obs):\n",
    "        return self.action_value(obs)\n",
    "\n",
    "\n",
    "# Test\n",
    "test_pytorch_model = PytorchModel(num_inputs=3, num_outputs=7, hidden_units=123)\n",
    "assert isinstance(test_pytorch_model.action_value, nn.Module)\n",
    "assert len(test_pytorch_model.state_dict()) == 6\n",
    "assert test_pytorch_model.state_dict()[\"action_value.0.weight\"].shape == (123, 3)\n",
    "print(\"Name of each parameter vectors: \", test_pytorch_model.state_dict().keys())\n",
    "\n",
    "print(\"Test passed!\")"
   ]
  },
  {
   "cell_type": "code",
   "execution_count": 52,
   "id": "dddbd300",
   "metadata": {
    "id": "dddbd300"
   },
   "outputs": [],
   "source": [
    "# Solve the TODOs and remove `pass`\n",
    "\n",
    "DQN_CONFIG = merge_config(dict(\n",
    "    parameter_std=0.01,\n",
    "    learning_rate=0.001,\n",
    "    hidden_dim=100,\n",
    "    clip_norm=1.0,\n",
    "    clip_gradient=True,\n",
    "    max_iteration=1000,\n",
    "    max_episode_length=1000,\n",
    "    evaluate_interval=100,\n",
    "    gamma=0.99,\n",
    "    eps=0.3,\n",
    "    memory_size=50000,\n",
    "    learn_start=5000,\n",
    "    batch_size=32,\n",
    "    target_update_freq=500,  # in steps\n",
    "    learn_freq=1,  # in steps\n",
    "    n=1,\n",
    "    env_name=\"CartPole-v1\",\n",
    "), Q_LEARNING_TRAINER_CONFIG)\n",
    "\n",
    "\n",
    "def to_tensor(x):\n",
    "    \"\"\"A helper function to transform a numpy array to a Pytorch Tensor\"\"\"\n",
    "    if isinstance(x, np.ndarray):\n",
    "        x = torch.from_numpy(x).type(torch.float32)\n",
    "    assert isinstance(x, torch.Tensor)\n",
    "    if x.dim() == 3 or x.dim() == 1:\n",
    "        x = x.unsqueeze(0)\n",
    "    assert x.dim() == 2 or x.dim() == 4, x.shape\n",
    "    return x\n",
    "\n",
    "\n",
    "class DQNTrainer(AbstractTrainer):\n",
    "    def __init__(self, config):\n",
    "        config = merge_config(config, DQN_CONFIG)\n",
    "        self.learning_rate = config[\"learning_rate\"]\n",
    "        super().__init__(config)\n",
    "\n",
    "        self.memory = ExperienceReplayMemory(config[\"memory_size\"])\n",
    "\n",
    "        self.learn_start = config[\"learn_start\"]\n",
    "        self.batch_size = config[\"batch_size\"]\n",
    "        self.target_update_freq = config[\"target_update_freq\"]\n",
    "        self.clip_norm = config[\"clip_norm\"]\n",
    "        self.hidden_dim = config[\"hidden_dim\"]\n",
    "        self.max_episode_length = self.config[\"max_episode_length\"]\n",
    "        self.learning_rate = self.config[\"learning_rate\"]\n",
    "        self.gamma = self.config[\"gamma\"]\n",
    "        self.n = self.config[\"n\"]\n",
    "\n",
    "        self.step_since_update = 0\n",
    "        self.total_step = 0\n",
    "\n",
    "        # You need to setup the parameter for your function approximator.\n",
    "        self.initialize_parameters()\n",
    "\n",
    "    def initialize_parameters(self):\n",
    "        # TODO: Initialize the Q network and the target network using PytorchModel class.\n",
    "        self.network = PytorchModel(self.obs_dim, self.act_dim)\n",
    "\n",
    "        self.network.eval()\n",
    "        self.network.share_memory()\n",
    "\n",
    "        # Initialize target network to be identical to self.network. \n",
    "        # You should put the weights of self.network into self.target_network.\n",
    "        # TODO: Uncomment next few lines\n",
    "        self.target_network = PytorchModel(self.obs_dim, self.act_dim)\n",
    "        self.target_network.load_state_dict(self.network.state_dict())\n",
    "        \n",
    "        self.target_network.eval()\n",
    "\n",
    "        # Build Adam optimizer and MSE Loss.\n",
    "        # TODO: Uncomment next few lines\n",
    "        self.optimizer = torch.optim.Adam(\n",
    "            self.network.parameters(), lr=self.learning_rate\n",
    "        )\n",
    "        self.loss = nn.MSELoss()\n",
    "\n",
    "    def compute_values(self, processed_state):\n",
    "        \"\"\"Compute the value for each potential action. Note that you\n",
    "        should NOT preprocess the state here.\"\"\"\n",
    "        values = self.network(processed_state).detach().numpy()\n",
    "        return values\n",
    "\n",
    "    def compute_action(self, processed_state, eps=None):\n",
    "        \"\"\"Compute the action given the state. Note that the input\n",
    "        is the processed state.\"\"\"\n",
    "        values = self.compute_values(processed_state)\n",
    "        assert values.ndim == 1, values.shape\n",
    "\n",
    "        if eps is None:\n",
    "            eps = self.eps\n",
    "\n",
    "        if np.random.uniform(0, 1) < eps:\n",
    "            action = self.env.action_space.sample()\n",
    "        else:\n",
    "            action = np.argmax(values)\n",
    "        return action\n",
    "\n",
    "    def train(self, iteration=None):\n",
    "        iteration_string = \"\" if iteration is None else f\"Iter {iteration}: \"\n",
    "        obs, info = self.env.reset()\n",
    "        processed_obs = self.process_state(obs)\n",
    "        act = self.compute_action(processed_obs)\n",
    "\n",
    "        stat = {\"loss\": [], \"success_rate\": np.nan}\n",
    "\n",
    "        for t in range(self.max_episode_length):\n",
    "            next_obs, reward, terminated, truncated, info = self.env.step(act)\n",
    "            done = terminated or truncated\n",
    "\n",
    "            next_processed_obs = self.process_state(next_obs)\n",
    "\n",
    "            # Push the transition into memory.\n",
    "            self.memory.push(\n",
    "                (processed_obs, act, reward, next_processed_obs, done)\n",
    "            )\n",
    "\n",
    "            processed_obs = next_processed_obs\n",
    "            act = self.compute_action(next_processed_obs)\n",
    "            self.step_since_update += 1\n",
    "            self.total_step += 1\n",
    "\n",
    "            if done:\n",
    "                if \"arrive_dest\" in info:\n",
    "                    stat[\"success_rate\"] = info[\"arrive_dest\"]\n",
    "                break\n",
    "\n",
    "            if t % self.config[\"learn_freq\"] != 0:\n",
    "                # It's not necessary to update policy in each environmental interaction.\n",
    "                continue\n",
    "\n",
    "            if len(self.memory) < self.learn_start:\n",
    "                continue\n",
    "            elif len(self.memory) == self.learn_start:\n",
    "                logging.info(\n",
    "                    \"{}Current memory contains {} transitions, \"\n",
    "                    \"start learning!\".format(iteration_string, self.learn_start)\n",
    "                )\n",
    "\n",
    "            batch = self.memory.sample(self.batch_size)\n",
    "\n",
    "            # Transform a batch of elements in transitions into tensors.\n",
    "            state_batch = to_tensor(\n",
    "                np.stack([transition[0] for transition in batch])\n",
    "            )\n",
    "            action_batch = to_tensor(\n",
    "                np.stack([transition[1] for transition in batch])\n",
    "            )\n",
    "            reward_batch = to_tensor(\n",
    "                np.stack([transition[2] for transition in batch])\n",
    "            )\n",
    "            next_state_batch = torch.stack(\n",
    "                [transition[3] for transition in batch]\n",
    "            )\n",
    "            done_batch = to_tensor(\n",
    "                np.stack([transition[4] for transition in batch])\n",
    "            )\n",
    "\n",
    "            with torch.no_grad():\n",
    "                # TODO: Compute the Q values for the next states by calling target network.\n",
    "                # Q_t_plus_one: torch.Tensor = self.target_network(next_state_batch).max(dim=1).values\n",
    "                Q_t_plus_one: torch.Tensor = self.target_network(next_state_batch).max(1)[0]\n",
    "\n",
    "                assert isinstance(Q_t_plus_one, torch.Tensor)\n",
    "\n",
    "                # TODO: Compute the target values for current state.\n",
    "                # The Q_objective will be used as the objective in the loss function.\n",
    "                # Hint: Remember to use done_batch.\n",
    "                Q_objective = reward_batch + self.gamma * Q_t_plus_one * (1 - done_batch.float())\n",
    "                Q_objective = Q_objective.squeeze(0)\n",
    "\n",
    "                assert Q_objective.shape == (self.batch_size,)\n",
    "\n",
    "            self.network.train()  # Set the network to \"train\" mode.\n",
    "\n",
    "            # TODO: Collect the Q values in batch.\n",
    "            # Hint: The network will return the Q values for all actions at a given state.\n",
    "            #  So we need to \"extract\" the Q value for the action we've taken.\n",
    "            #  You need to use torch.gather to manipulate the 2nd dimension of the return\n",
    "            #  tensor from the network and extract the desired Q values.\n",
    "            q_values = self.network(state_batch)\n",
    "            action_batch = action_batch.long().view(-1, 1)\n",
    "            Q_t: torch.Tensor = q_values.gather(1, action_batch).view(-1)\n",
    "            # Q_t: torch.Tensor = self.network(state_batch).gather(1, action_batch.unsqueeze(1)).squeeze(1)\n",
    "\n",
    "            assert Q_t.shape == Q_objective.shape\n",
    "\n",
    "            # Update the network\n",
    "            self.optimizer.zero_grad()\n",
    "            loss = self.loss(input=Q_t, target=Q_objective)\n",
    "            stat['loss'].append(loss.item())\n",
    "            loss.backward()\n",
    "\n",
    "            # TODO: Apply gradient clipping with pytorch utility. Uncomment next line.\n",
    "            nn.utils.clip_grad_norm_(self.network.parameters(), self.clip_norm)\n",
    "            \n",
    "\n",
    "            self.optimizer.step()\n",
    "            self.network.eval()\n",
    "\n",
    "        if len(self.memory) >= self.learn_start and \\\n",
    "                self.step_since_update > self.target_update_freq:\n",
    "            self.step_since_update = 0\n",
    "\n",
    "            # TODO: Copy the weights of self.network to self.target_network.\n",
    "            self.target_network.load_state_dict(self.network.state_dict())\n",
    "\n",
    "            self.target_network.eval()\n",
    "\n",
    "        ret = {\"loss\": np.mean(stat[\"loss\"]), \"episode_len\": t}\n",
    "        if \"success_rate\" in stat:\n",
    "            ret[\"success_rate\"] = stat[\"success_rate\"]\n",
    "        return ret\n",
    "\n",
    "    def process_state(self, state):\n",
    "        return torch.from_numpy(state).type(torch.float32)\n",
    "\n",
    "    def save(self, loc=\"model.pt\"):\n",
    "        torch.save(self.network.state_dict(), loc)\n",
    "\n",
    "    def load(self, loc=\"model.pt\"):\n",
    "        self.network.load_state_dict(torch.load(loc,weights_only=False))\n"
   ]
  },
  {
   "cell_type": "markdown",
   "id": "45f6fabd",
   "metadata": {},
   "source": [
    "### Section 3.2: Test DQN trainer"
   ]
  },
  {
   "cell_type": "code",
   "execution_count": 54,
   "id": "30d4a27d",
   "metadata": {
    "colab": {
     "base_uri": "https://localhost:8080/"
    },
    "id": "30d4a27d",
    "outputId": "7a3c068c-a580-498a-953e-275da6def868"
   },
   "outputs": [
    {
     "name": "stdout",
     "output_type": "stream",
     "text": [
      "Now your codes should be bug-free.\n"
     ]
    },
    {
     "name": "stderr",
     "output_type": "stream",
     "text": [
      "Training:   0%|          | 0/21 [00:00<?, ?it/s, ep_reward=9.4][INFO] Iter 9: Current memory contains 100 transitions, start learning!\n",
      "Training: 100%|██████████| 21/21 [00:00<00:00, 37.33it/s, ep_reward=10.6]"
     ]
    },
    {
     "name": "stdout",
     "output_type": "stream",
     "text": [
      "Environment is closed.\n",
      "Test passed!\n"
     ]
    },
    {
     "name": "stderr",
     "output_type": "stream",
     "text": [
      "\n"
     ]
    }
   ],
   "source": [
    "# Run this cell without modification\n",
    "\n",
    "# Build the test trainer.\n",
    "test_trainer = DQNTrainer({})\n",
    "\n",
    "# Test compute_values\n",
    "fake_state = test_trainer.env.observation_space.sample()\n",
    "processed_state = test_trainer.process_state(fake_state)\n",
    "assert processed_state.shape == (test_trainer.obs_dim,), processed_state.shape\n",
    "values = test_trainer.compute_values(processed_state)\n",
    "assert values.shape == (test_trainer.act_dim,), values.shape\n",
    "\n",
    "test_trainer.train()\n",
    "print(\"Now your codes should be bug-free.\")\n",
    "\n",
    "_ = run(DQNTrainer, dict(\n",
    "    max_iteration=20,\n",
    "    evaluate_interval=10,\n",
    "    learn_start=100,\n",
    "    env_name=\"CartPole-v1\",\n",
    "))\n",
    "\n",
    "test_trainer.save(\"test_trainer.pt\")\n",
    "test_trainer.load(\"test_trainer.pt\")\n",
    "\n",
    "print(\"Test passed!\")"
   ]
  },
  {
   "cell_type": "markdown",
   "id": "ff767ce5",
   "metadata": {},
   "source": [
    "### Section 3.3: Train DQN agents in CartPole"
   ]
  },
  {
   "cell_type": "markdown",
   "id": "a53bf178",
   "metadata": {},
   "source": [
    "First, we visualize a random agent in CartPole environment."
   ]
  },
  {
   "cell_type": "code",
   "execution_count": 55,
   "id": "0221e34d",
   "metadata": {},
   "outputs": [
    {
     "data": {
      "text/html": [
       "<table class=\"show_videos\" style=\"border-spacing:0px;\"><tr><td style=\"padding:1px;\"><video controls width=\"600\" height=\"400\" style=\"object-fit:cover;\" loop autoplay muted>\n",
       "      <source src=\"data:video/mp4;base64,AAAAIGZ0eXBpc29tAAACAGlzb21pc28yYXZjMW1wNDEAAAAIZnJlZQAAE4RtZGF0AAACgAYF//983EXpvebZSLeWLNgg2SPu73gyNjQgLSBjb3JlIDE2NCByMzEwNiBlYWE2OGZhIC0gSC4yNjQvTVBFRy00IEFWQyBjb2RlYyAtIENvcHlsZWZ0IDIwMDMtMjAyMyAtIGh0dHA6Ly93d3cudmlkZW9sYW4ub3JnL3gyNjQuaHRtbCAtIG9wdGlvbnM6IGNhYmFjPTEgcmVmPTMgZGVibG9jaz0xOjA6MCBhbmFseXNlPTB4MzoweDExMyBtZT1oZXggc3VibWU9NyBwc3k9MSBwc3lfcmQ9MS4wMDowLjAwIG1peGVkX3JlZj0xIG1lX3JhbmdlPTE2IGNocm9tYV9tZT0xIHRyZWxsaXM9MSA4eDhkY3Q9MSBjcW09MCBkZWFkem9uZT0yMSwxMSBmYXN0X3Bza2lwPTEgY2hyb21hX3FwX29mZnNldD0tMiB0aHJlYWRzPTEyIGxvb2thaGVhZF90aHJlYWRzPTIgc2xpY2VkX3RocmVhZHM9MCBucj0wIGRlY2ltYXRlPTEgaW50ZXJsYWNlZD0wIGJsdXJheV9jb21wYXQ9MCBjb25zdHJhaW5lZF9pbnRyYT0wIGJmcmFtZXM9MyBiX3B5cmFtaWQ9MiBiX2FkYXB0PTEgYl9iaWFzPTAgZGlyZWN0PTEgd2VpZ2h0Yj0xIG9wZW5fZ29wPTAgd2VpZ2h0cD0yIGtleWludD0yNTAga2V5aW50X21pbj0yNSBzY2VuZWN1dD00MCBpbnRyYV9yZWZyZXNoPTAgcmM9Y3FwIG1idHJlZT0wIHFwPTIwIGlwX3JhdGlvPTEuNDAgcGJfcmF0aW89MS4zMCBhcT0wAIAAAALsZYiEAP/+9KD4FM+hS8rMVr3YiJg5QODsnDOHYAAAAwAAAwAB6dDY/fz9YZuAAAAJYAImE0D8DzETFWKgSvAkMasiCb/Bel1wTkBwCgt5nVc9t+aECkZ8M8fgfGIXC0svyOIzqeuobAOMEQ19SO2efuYpjtAqmQ2Z6Aobjx/B3G8zgAVS6UTAVq/z94RPTViFIdYSLBXyzXdS2h6oNErFPmq+q1PTZ8qyGlewViahcCxsxXlZ8iSj81cM+0YX/S3lGriLQLNtwEj5hv/MzPn20nVMbcP7iJPPYiNAGSOrCqQBynrONXFhZZR8j80gpoDcQ9/uhjmzxbZTvH17P6ZIX8ufw2toaVsu1I60XLlIChWQd1tQ/Aote+4xpBEkEnFBqlJ4j+CqE8IXiwJf/Wb8cA7uBODczlue0FPUKey8bKx+zMGNBjG2gWEQMtw3FIidxRKRli/pLyMgC9lxe8YXWJXNbSno6ZpHU6t0rjeJiUgctLwxvYdnEfNX5Tl5ZeH/ZMcV8U80WpgXsILmY4VImNAaI4u7PyU5GN+tA4ekMquaWG6m3ai6c///4J510JAdBw3JSyyz/xMuFGqEsNLINTF4Whi6a4n/j2Amj2ocSIDbPJ+2sjayP41DzWfIFYObG0KjvH+NGI1uyBAq6pw/bigYBegqdqPVeq3hGGLPjfXimzswKORdnjBl1ktmD92w5jYVVT3TBLx2jReFouv9mp96si0slSvJ3EhLXtHwGX9DhVByP40hiCjCMIoqBwKc3aXGuZkDGkGadNixUB2FTc4nRS5wPj/0HaoluJ9oWUdCYEGm0ZgWkeD1qMfvZEFAflZVjkg+C8Bn2fW+/1JO0gs34Qiju9gjVnoEnGSkDRNBG5HfTr4HquddXIgA99/ig7OiiqkQDxY5MXWW+Ut+7MZYrUFdu9g2fT4BGFsqqgYpr7R75DVFA55IjtubNJ7TvboGNH+f6+gJjzKF6LDNGzSAAEFAAAADAAAqoQAAAMVBmiNsf+RAAADs/W7vfnw+yjlMA+WF3nULlretsf6z5LrWwIv/3CJmFCOC3XHlEnnzzadezqUpjgg2+7UVqR5qRhLQLleMNmQqmGYvqnsYeZt0lOj8It89e3CrYEctuGC1b+rPFAox/g+jmGVmDmvpuAsbUWDpgknjMC/nO5uv6xYxH8LsZiMom/VEr/MmsllEDqs5DW/C/qAUi48eMVP9LQOOM4cf4g4Ul/zwkCpr+DdMjO1e5Q93dNfjNEkNYtqnq7ZhEAAAADRBnkF4rwAAWqgrmerNnizbjLRWXsEm5jjx5Igwgyjs/AuBNjmndGJdBESkrJSNNRrtIM5VAAAAWQGeYmpJ/wAAJ+vKMYNKeLSBhI3/3c6MjR97stW+v0y+UtS1yXshbgLG4glxu4mcsOOApEOFQ1l+9m3/CPQ4R/YkV1ERJaC/+P3FF9oWsiVo/cNBoP0JkpAQAAABTUGaZUmoQWiZTBT/5EAAAOxxNXErebZWPK7lK+4INz8M43hjqf5IEEVUWSzm7CqI/rKkvllV30SVoO9aGaS86KUJAxMTPcOqMl7dUeFDTUheOd5ObUn6VZYx8r8W4q3MgoSgnIZjLsbxPhStBCgOsge0KBwVi3D7zwPk2zp9S8S85gc8OUUZrNeY6d/dQnlEWQVCOmpCm7Ye7btp+YtfCyLh8dNY/WdsclL88EQMSsJmYBhd0WBjcGeboEGzynz4Cii6w64zsrc61wn9K+E63hE3MBUNGAfVNk1hUzsbieSI+/MQhgF6DEmuUN6Wi9fCrlFhEwlrRLAmR3n5ClF4VUNmJqbXHGbU/2nlmdwZ+mpPo6Jh5GQLlVRHT4Gy8lP8MgvOkEhdOrvtk+z8jAlpjK1uYblZ4cDpgAujAD+p0+1si3AoLUZit/B0fpQMgQAAAI8BnoRqSf8AAGhTnstQA6hKTh5/EKKbwtvDiD0oIwrkuhVxfxQnz4M3adPGoS0wYkJriWdE6F6nGKLq3pE/b3Q5EUMT2NKutlXUuvbVUAFQh7RvRI94dlp4CZSLYuhV4gy5mfTRXvFJzr6HIGLMSf8gF/railXDsyAKWpOl/bIDIagfrkDst9dweIouWa8NmQAAAW1BmolJ4QpSZTA/5EAAAO1c7fD0Fm9tjEZMCJOxQM6oxR9iJylrXSF08UCtEi4UwZ8Ifblo/+ar+4gUKE1Tm9Ue+jZpgiSKDa9pustDu+po//5/Ji2BntHQEBgJnYbX90sgALmPTil6DYoowgTJzjhAaxEXjVq6TllCuUhlX64DjWtT71CEXj/g31PVOtZDmNr739p7qHHwAx4OBc3yyK43z4AlMPHarC0CAJaK7K3MhDOouVd0c42chUmdWDeOBlE0Co3Tu6cpClapwSpESM7Cs8K7nois369hTeNbX0SE1rcAoHdkhjCz1LOJAMrWFJr5huj63LvnlwoSQ6mRlVqfOt/H405XC+HHmGHcj79I/yYss2qlXOxsGCMEDGXrODYE9aV4U10SdB/newAoEIzD9WNKNnHoIB6D513AceEDO8NrEbyu9qoipdKw9btuVMr9mMiX18fz5hBp0wrQt4E8TaNqCrYGNCkJYjk4oQAAANVBnqdFNE1/AABaPwgX/kJdOp90HDv52DZwjogjusOxzu1qVN6rvqC9zqPmzJM7FgDJ/yB2lDH1w9jbMXg8vLzkRsuXXkIsEVLebmhCpH2nS+ODLGl9NTQbTySnXYVKbA/ZfkJqA0pBRApo0Nwp+1QTYtdPqT1wspuEYQ0z/hkbTCwat1dHh+ZQQIxvWQmNqf6PV+sHFp804SFmkoBRtN3FPC3YjSSYJf7VTx4fMIfupghiaKgWPHxmZF+VnbgGp3hPn3Dq090t/0WhJsH3XHKZzmbnakEAAACOAZ7GdEn/AABoqVpwmkoL57lSZc67zIxn/LncAF+4PkWLxM6+WWG6I3aJVCZGqu3j0BuPyWhikesoQs4L7iyjk6QvYbW4Th8458UJXww0s92L6Q7ZQqvDxsAtPtdttLgVJz8ommfQWBd2WLu1rPQWxlnZF/QMBl1mSIcd5hJxnnQVZxtsUrbydexQrWHnXgAAAJkBnshqSf8AAGhevT1dzeDm8fZGzVx62dew1fZcXqrEOAhVYYZ+3iZMJYqtMjgmQjU/ClrOzvwY2E+0Aa5JC1Ef6+YM4Jgf3rlrp82SpSnbR/79pvljljsTvczxgLv+T6n4Su5nARl9gMazWQJ77d46Z7rS3AWHZuJvlYlTjyk52sNGevIj8b/WfI4vTqbl9499zfUu5SOe14AAAAFPQZrNSahBaJlMD//kQAAA7fqAkMa9Gr8ZX7urP9WaBQjFiGCJMm2jZGYhb+caaS2mCvQThUGa6ueHbXPQFvqnazSzzh7kk3zWhjXfzQP/WoRHNe6aCLIxnVLAIMdjmSkFdqiQIfGzbqowyvaDZ0Fti/3lkrQ0GrLp+BzOgUIBFzRWGeZzS8E1xne3K6BLmMWgHhg13cK36KcYaLc6VBYGpj6S/b35mqXxjmvHz1bC3uXx4HDJDsoxqOB7OJNNObw8vYF4QpQIeRAKpICER9/jcDvfUvanFucFUjRuthJR3lQl4pSCRnVnvhDlD1Z6DtpQZft2khvdcMdZzEBWJvnZWX4oLpe4Tn+Y4oMt43ImtpPRv0zw08McSSUV23B/OG1lfPzRnM9QqnWb5Nmwi8FSL4yNDb9Xjz1cpIjH6D1aikda2NiSAeA65jCiDyBZ7OMAAACPQZ7rRREtfwAAWlNnnIvwZI4KiTIgxmR7oGv2eSgKck7LIae3MBn/ptdYtxN96UT7LwiG0OUkjFmKc4opwMe0ALWfGaKp0CFnmllQBkoJcmqiFoJLN8ZEYjY+VufEbFVxoy/AIEF84vTEMjaWhjfvlulLsQJuBaKs42dqCtpVZ5OjMmt2NjHDmhZO+2Y+fqQAAACbAZ8KdEn/AAAnhVZY66Il7Qtpqb0mCXcS1Zle8sWd0bVb25FdKVWlZ+JaL6/ZmNLU6f0mp630a6p4mCRzgQ5zgkaJWSaDpcbfNmMstjB+hkP8O8+1cxOyXSDDvs5/YD7ZSs3rOA7NMSrpZVANJCcpeVcu4B92/f8vQtMP1z7cmiWzvHRLe5f8YsiAUnq8646zFi2Y+LYFvdZ5tSAAAABIAZ8Makn/AABoRxUKsdNBYXVfWC1q236vzqGQfxryt6nw7JQkioWXiGIzhnGOz4xhwiDtzIpdfW7MR27JhB6DPxAPNoUbrOvBAAACGEGbEUmoQWyZTA//5EAAAOxh6qSZ/II1m/uAjd39R03pXnRq5DKkgDB/1ntpd5N9EDeeGEqSJezClqZpjI5UtVthjQspJub7NgSmr4+jbkdOOkxpZcLWvtd4KxOOB1ABhzE5P4YKhQGRC0cbCI1wtqi9XIeyopGWERBw4ZWqH/ov+Fz+WT6R1NscfIdMQzMDc6ZzEqgsEGYrjRKKs0eiIOFNUIIc8lMkFvRlUL4tnWAURfgt06KhUICW4QWxTNug2k/SwYcjMOQOB2wHgS87QlMjDfdOjoZ8ng5I6c3Wl0BMZFmCzWIg3G0xHBGfUQAedTMV+tooOHIScD+ndPHSGu0btpk6+DMm+ejdc+1+wkF50AV2nTuh0t3Gy/cU2oGMLHG6InqBTslvIxYyWZhhTfctR74L7tLc/8UK1Xk7TkoZx8UjpjlANSTSiqckPLAPl2snEWDsr2SCkMafhy7rlRtzUhSWe46Y88Udm7mncnaufwFpNOE1km1mrghrjB82APK5XzGPEkf5+zKWf3atIXLTbuK3akPJ6SRLybfcTv/6Dpizdkz2OOH6060dMv3/Xp4GCnauDI0bWxVeUa6GbBHaRmX/Sozderrjo9OFtICOCvh9NuQxZDsBqqO/62Xb+6q8ll020urD5oilqCDuip0Ghv2mJWWRP3/BaPFh6SqTx7KsXotpJHrU0xjURbxQMBUtpTBVhHg5AAABAUGfL0UVLX8AAFm1UoXlSILzJD98h9uXf/ey9QztjFoU4tpiVMsEgd2saINIMU33NYpcRanJY68io1eZQhyuh+tLi5CsOf46sh+PpoT+HwO/n8LgTV5ZAhJgFLwoHMCSFmeLOHOauMATOfDQOQmvWT1xPXYUZdFnLckf2twdUMSY81Li1KGZDZ9czWyMQcwvritJ3r66XIDxQiACFLcVbz+1oAG6wv0SqCxb6US2KAOhvGjC9/liwi/pkw/+PpgIb6pH1PrJNO4Ne329D9tYXsgtuixRfMZGAm2EAQczr9/9dmBxLWIfQEx8Gfphg0JKK2PGpUdQUKIUZ7sFdT1siimBAAAAnQGfTnRJ/wAAaB29PxzhXZgVfmcXwt99vZCiVB7ZGgS3O06XRYjkiw48k1vBDaQdl14H+IEn3uAD0DEZbCmhScEq78RN7kidAlPN424RfgLUmOnRFT1u2seN2noVKwasIuUV36MboCOP3Mjm4lo2fW7nnKlLGvPFri8pDdkubHhAHSMFXHXdmkQKDud1yCC2ww4uV0UC5oSKQk8Vs1IAAAC2AZ9Qakn/AABpucGQOLCBA1UX/YJ3Uh+FoOSjGGkCv/0L0g+H+9DkmQpsf75X+/j1vIwhIuPAvtopUsXzFwxV+aKTVg9QUQZQ5sxr2khxsvW9jVrOWmCFC2uU/X82xWjX6m8Sj1mvDJXExcyGC9xzOd4PtTfoUoRl3AvmPu8/m2Gn7g2U0iQGxdVVUlT0Mqo04pXNoAgMdVRw5EwwUyP9Bn9q7Cp9Gvzeb3k9cm8vvJxRTxFeC7gAAAP6bW9vdgAAAGxtdmhkAAAAAAAAAAAAAAAAAAAD6AAAASwAAQAAAQAAAAAAAAAAAAAAAAEAAAAAAAAAAAAAAAAAAAABAAAAAAAAAAAAAAAAAABAAAAAAAAAAAAAAAAAAAAAAAAAAAAAAAAAAAAAAAAAAgAAAyV0cmFrAAAAXHRraGQAAAADAAAAAAAAAAAAAAABAAAAAAAAASwAAAAAAAAAAAAAAAAAAAAAAAEAAAAAAAAAAAAAAAAAAAABAAAAAAAAAAAAAAAAAABAAAAAAlgAAAGQAAAAAAAkZWR0cwAAABxlbHN0AAAAAAAAAAEAAAEsAAACAAABAAAAAAKdbWRpYQAAACBtZGhkAAAAAAAAAAAAAAAAAAA8AAAAEgBVxAAAAAAALWhkbHIAAAAAAAAAAHZpZGUAAAAAAAAAAAAAAABWaWRlb0hhbmRsZXIAAAACSG1pbmYAAAAUdm1oZAAAAAEAAAAAAAAAAAAAACRkaW5mAAAAHGRyZWYAAAAAAAAAAQAAAAx1cmwgAAAAAQAAAghzdGJsAAAAsHN0c2QAAAAAAAAAAQAAAKBhdmMxAAAAAAAAAAEAAAAAAAAAAAAAAAAAAAAAAlgBkABIAAAASAAAAAAAAAABFExhdmM2MC42LjEwMCBsaWJ4MjY0AAAAAAAAAAAAAAAAGP//AAAANmF2Y0MBZAAf/+EAGWdkAB+s2UCYM+XhAAADAAEAAAMAeA8YMZYBAAZo6+GyyLD9+PgAAAAAFGJ0cnQAAAAAAAIHlQACB5UAAAAYc3R0cwAAAAAAAAABAAAAEgAAAQAAAAAUc3RzcwAAAAAAAAABAAAAAQAAAJhjdHRzAAAAAAAAABEAAAABAAACAAAAAAEAAAQAAAAAAgAAAQAAAAABAAADAAAAAAEAAAEAAAAAAQAABQAAAAABAAACAAAAAAEAAAAAAAAAAQAAAQAAAAABAAAFAAAAAAEAAAIAAAAAAQAAAAAAAAABAAABAAAAAAEAAAUAAAAAAQAAAgAAAAABAAAAAAAAAAEAAAEAAAAAHHN0c2MAAAAAAAAAAQAAAAEAAAASAAAAAQAAAFxzdHN6AAAAAAAAAAAAAAASAAAFdAAAAMkAAAA4AAAAXQAAAVEAAACTAAABcQAAANkAAACSAAAAnQAAAVMAAACTAAAAnwAAAEwAAAIcAAABBQAAAKEAAAC6AAAAFHN0Y28AAAAAAAAAAQAAADAAAABhdWR0YQAAAFltZXRhAAAAAAAAACFoZGxyAAAAAAAAAABtZGlyYXBwbAAAAAAAAAAAAAAAACxpbHN0AAAAJKl0b28AAAAcZGF0YQAAAAEAAAAATGF2ZjYwLjQuMTAw\" type=\"video/mp4\"/>\n",
       "      This browser does not support the video tag.\n",
       "      </video></td></tr></table>"
      ],
      "text/plain": [
       "<IPython.core.display.HTML object>"
      ]
     },
     "metadata": {},
     "output_type": "display_data"
    },
    {
     "name": "stdout",
     "output_type": "stream",
     "text": [
      "A random agent achieves 18.0 return.\n"
     ]
    }
   ],
   "source": [
    "# Run this cell without modification\n",
    "\n",
    "eval_reward, eval_info = evaluate(\n",
    "    policy=lambda x: np.random.randint(2),\n",
    "    num_episodes=1,\n",
    "    env_name=\"CartPole-v1\",\n",
    "    render=\"rgb_array\",  # Visualize the behavior here in the cell \n",
    ")\n",
    "\n",
    "animate(eval_info[\"frames\"])\n",
    "\n",
    "print(\"A random agent achieves {} return.\".format(eval_reward))"
   ]
  },
  {
   "cell_type": "code",
   "execution_count": 56,
   "id": "957a5dbc",
   "metadata": {
    "colab": {
     "base_uri": "https://localhost:8080/"
    },
    "id": "957a5dbc",
    "outputId": "71a980c5-2bad-4727-f703-a4562af7028a"
   },
   "outputs": [
    {
     "name": "stderr",
     "output_type": "stream",
     "text": [
      "Training:  58%|█████▊    | 2900/5001 [03:39<08:03,  4.34it/s, ep_reward=500] [INFO] Iter 2900, episodic return 500.000 is greater than reward threshold 450.0. Congratulation! Now we exit the training process.\n",
      "Training:  58%|█████▊    | 2900/5001 [03:39<02:39, 13.21it/s, ep_reward=500]\n"
     ]
    },
    {
     "name": "stdout",
     "output_type": "stream",
     "text": [
      "Environment is closed.\n"
     ]
    }
   ],
   "source": [
    "# Run this cell without modification\n",
    "\n",
    "pytorch_trainer, pytorch_stat = run(DQNTrainer, dict(\n",
    "    max_iteration=5000,\n",
    "    evaluate_interval=100,\n",
    "    learning_rate=0.001,\n",
    "    clip_norm=10.0,\n",
    "    memory_size=50000,\n",
    "    learn_start=1000,\n",
    "    eps=0.1,\n",
    "    target_update_freq=2000,\n",
    "    batch_size=128,\n",
    "    learn_freq=32,\n",
    "    env_name=\"CartPole-v1\",\n",
    "), reward_threshold=450.0)\n",
    "\n",
    "reward, _ = pytorch_trainer.evaluate()\n",
    "assert reward > 400.0, \"Check your codes. \" \\\n",
    "                       \"Your agent should achieve {} reward in 5000 iterations.\" \\\n",
    "                       \"But it achieve {} reward in evaluation.\".format(400.0, reward)\n",
    "\n",
    "pytorch_trainer.save(\"dqn_trainer_cartpole.pt\")\n",
    "\n",
    "# Should solve the task in 10 minutes"
   ]
  },
  {
   "cell_type": "code",
   "execution_count": 57,
   "id": "66a4cf9a",
   "metadata": {
    "colab": {
     "base_uri": "https://localhost:8080/",
     "height": 434
    },
    "id": "66a4cf9a",
    "outputId": "ac906699-4cd4-40ad-eaea-d41b975d6a14"
   },
   "outputs": [
    {
     "data": {
      "text/html": [
       "<table class=\"show_videos\" style=\"border-spacing:0px;\"><tr><td style=\"padding:1px;\"><video controls width=\"600\" height=\"400\" style=\"object-fit:cover;\" loop autoplay muted>\n",
       "      <source src=\"data:video/mp4;base64,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\" type=\"video/mp4\"/>\n",
       "      This browser does not support the video tag.\n",
       "      </video></td></tr></table>"
      ],
      "text/plain": [
       "<IPython.core.display.HTML object>"
      ]
     },
     "metadata": {},
     "output_type": "display_data"
    },
    {
     "name": "stdout",
     "output_type": "stream",
     "text": [
      "DQN agent achieves 500.0 return.\n"
     ]
    }
   ],
   "source": [
    "# Run this cell without modification\n",
    "\n",
    "# Render the learned behavior\n",
    "eval_reward, eval_info = evaluate(\n",
    "    policy=pytorch_trainer.policy,\n",
    "    num_episodes=1,\n",
    "    env_name=pytorch_trainer.env_name,\n",
    "    render=\"rgb_array\",  # Visualize the behavior here in the cell \n",
    ")\n",
    "\n",
    "animate(eval_info[\"frames\"])\n",
    "\n",
    "print(\"DQN agent achieves {} return.\".format(eval_reward))"
   ]
  },
  {
   "cell_type": "markdown",
   "id": "98b60f6c",
   "metadata": {},
   "source": [
    "### Section 3.4: Train DQN agents in MetaDrive"
   ]
  },
  {
   "cell_type": "code",
   "execution_count": 58,
   "id": "e93c9cea",
   "metadata": {
    "id": "e93c9cea"
   },
   "outputs": [],
   "source": [
    "# Run this cell without modification\n",
    "\n",
    "def register_metadrive():\n",
    "    try:\n",
    "        from metadrive.envs import MetaDriveEnv\n",
    "        from metadrive.utils.config import merge_config_with_unknown_keys\n",
    "    except ImportError as e:\n",
    "        print(\"Please install MetaDrive through: pip install git+https://github.com/metadriverse/metadrive\")\n",
    "        raise e\n",
    "\n",
    "    env_names = []\n",
    "    try:\n",
    "        class MetaDriveEnvTut(gym.Wrapper):\n",
    "            def __init__(self, config, *args, render_mode=None, **kwargs):\n",
    "                # Ignore render_mode\n",
    "                self._render_mode = render_mode\n",
    "                super().__init__(MetaDriveEnv(config))\n",
    "                self.env.logger.setLevel(logging.FATAL)\n",
    "                self.action_space = gym.spaces.Discrete(int(np.prod(self.env.action_space.n)))\n",
    "\n",
    "            def reset(self, *args, seed=None, render_mode=None, options=None, **kwargs):\n",
    "                # Ignore seed and render_mode\n",
    "                return self.env.reset(*args, **kwargs)\n",
    "\n",
    "            def render(self):\n",
    "                return self.env.render(mode=self._render_mode)\n",
    "\n",
    "        def _make_env(*args, **kwargs):\n",
    "            return MetaDriveEnvTut(*args, **kwargs)\n",
    "\n",
    "        env_name = \"MetaDrive-Tut-Easy-v0\"\n",
    "        gym.register(id=env_name, entry_point=_make_env, kwargs={\"config\": dict(\n",
    "            map=\"S\",\n",
    "            start_seed=0,\n",
    "            num_scenarios=1,\n",
    "            horizon=200,\n",
    "            discrete_action=True,\n",
    "            discrete_steering_dim=3,\n",
    "            discrete_throttle_dim=3\n",
    "        )})\n",
    "        env_names.append(env_name)\n",
    "\n",
    "        env_name = \"MetaDrive-Tut-Hard-v0\"\n",
    "        gym.register(id=env_name, entry_point=_make_env, kwargs={\"config\": dict(\n",
    "            map=\"CCC\",\n",
    "            start_seed=0,\n",
    "            num_scenarios=10,\n",
    "            discrete_action=True,\n",
    "            discrete_steering_dim=5,\n",
    "            discrete_throttle_dim=5\n",
    "        )})\n",
    "        env_names.append(env_name)\n",
    "    except gym.error.Error as e:\n",
    "        print(\"Information when registering MetaDrive: \", e)\n",
    "    else:\n",
    "        print(\"Successfully registered MetaDrive environments: \", env_names)\n"
   ]
  },
  {
   "cell_type": "code",
   "execution_count": 59,
   "id": "89fb5d1e",
   "metadata": {
    "colab": {
     "base_uri": "https://localhost:8080/"
    },
    "id": "89fb5d1e",
    "outputId": "2eb2cf53-138d-4143-b36c-eadbcfa11be7"
   },
   "outputs": [
    {
     "name": "stdout",
     "output_type": "stream",
     "text": [
      "Successfully registered MetaDrive environments:  ['MetaDrive-Tut-Easy-v0', 'MetaDrive-Tut-Hard-v0']\n"
     ]
    }
   ],
   "source": [
    "# Run this cell without modification\n",
    "\n",
    "register_metadrive()"
   ]
  },
  {
   "cell_type": "code",
   "execution_count": 61,
   "id": "b580ec99",
   "metadata": {
    "colab": {
     "base_uri": "https://localhost:8080/"
    },
    "id": "b580ec99",
    "outputId": "08cd25dc-2ed5-46b5-e2ed-3ecf86e61942"
   },
   "outputs": [
    {
     "name": "stderr",
     "output_type": "stream",
     "text": [
      "\u001b[38;20m[INFO] Environment: MetaDriveEnv\u001b[0m\n",
      "\u001b[38;20m[INFO] MetaDrive version: 0.4.3\u001b[0m\n",
      "\u001b[38;20m[INFO] Sensors: [lidar: Lidar(), side_detector: SideDetector(), lane_line_detector: LaneLineDetector()]\u001b[0m\n",
      "\u001b[38;20m[INFO] Render Mode: none\u001b[0m\n",
      "\u001b[38;20m[INFO] Horizon (Max steps per agent): 200\u001b[0m\n"
     ]
    },
    {
     "name": "stdout",
     "output_type": "stream",
     "text": [
      "Now your codes should be bug-free.\n"
     ]
    }
   ],
   "source": [
    "# Run this cell without modification\n",
    "\n",
    "# Build the test trainer.\n",
    "test_trainer = DQNTrainer(dict(env_name=\"MetaDrive-Tut-Easy-v0\"))\n",
    "\n",
    "# Test compute_values\n",
    "for _ in range(10):\n",
    "    fake_state = test_trainer.env.observation_space.sample()\n",
    "    processed_state = test_trainer.process_state(fake_state)\n",
    "    assert processed_state.shape == (test_trainer.obs_dim,), processed_state.shape\n",
    "    values = test_trainer.compute_values(processed_state)\n",
    "    assert values.shape == (test_trainer.act_dim,), values.shape\n",
    "\n",
    "    test_trainer.train()\n",
    "\n",
    "print(\"Now your codes should be bug-free.\")\n",
    "test_trainer.env.close()\n",
    "del test_trainer"
   ]
  },
  {
   "cell_type": "code",
   "execution_count": 62,
   "id": "675c9809",
   "metadata": {
    "colab": {
     "base_uri": "https://localhost:8080/"
    },
    "id": "675c9809",
    "outputId": "a45d5773-fc88-464b-ad5c-10dcf94b599f"
   },
   "outputs": [
    {
     "name": "stderr",
     "output_type": "stream",
     "text": [
      "\u001b[38;20m[INFO] Environment: MetaDriveEnv\u001b[0m\n",
      "\u001b[38;20m[INFO] MetaDrive version: 0.4.3\u001b[0m\n",
      "\u001b[38;20m[INFO] Sensors: [lidar: Lidar(), side_detector: SideDetector(), lane_line_detector: LaneLineDetector()]\u001b[0m\n",
      "\u001b[38;20m[INFO] Render Mode: none\u001b[0m\n",
      "\u001b[38;20m[INFO] Horizon (Max steps per agent): 200\u001b[0m\n",
      "Training:   0%|          | 20/5001 [00:26<32:15,  2.57it/s, ep_reward=125]      [INFO] Iter 20, episodic return 125.053 is greater than reward threshold 120. Congratulation! Now we exit the training process.\n",
      "Training:   0%|          | 20/5001 [00:26<1:48:27,  1.31s/it, ep_reward=125]\n",
      "\u001b[38;20m[INFO] Environment: MetaDriveEnv\u001b[0m\n",
      "\u001b[38;20m[INFO] MetaDrive version: 0.4.3\u001b[0m\n",
      "\u001b[38;20m[INFO] Sensors: [lidar: Lidar(), side_detector: SideDetector(), lane_line_detector: LaneLineDetector()]\u001b[0m\n",
      "\u001b[38;20m[INFO] Render Mode: none\u001b[0m\n",
      "\u001b[38;20m[INFO] Horizon (Max steps per agent): 200\u001b[0m\n"
     ]
    },
    {
     "name": "stdout",
     "output_type": "stream",
     "text": [
      "Environment is closed.\n",
      "Evaluating 1/1 episodes. We are in 1/1000 steps. Current episode reward: 0.008\n",
      "Evaluating 1/1 episodes. We are in 51/1000 steps. Current episode reward: 37.142\n",
      "DQN agent achieves 125.05254010105511 return in MetaDrive easy environment.\n"
     ]
    }
   ],
   "source": [
    "# Run this cell without modification\n",
    "\n",
    "env_name = \"MetaDrive-Tut-Easy-v0\"\n",
    "\n",
    "pytorch_trainer2, _ = run(DQNTrainer, dict(\n",
    "    max_episode_length=200,\n",
    "    max_iteration=5000,\n",
    "    evaluate_interval=10,\n",
    "    evaluate_num_episodes=10,\n",
    "    learning_rate=0.0001,\n",
    "    clip_norm=10.0,\n",
    "    memory_size=1000000,\n",
    "    learn_start=2000,\n",
    "    eps=0.1,\n",
    "    target_update_freq=5000,\n",
    "    learn_freq=16,\n",
    "    batch_size=256,\n",
    "    env_name=env_name\n",
    "), reward_threshold=120)\n",
    "\n",
    "pytorch_trainer2.save(\"dqn_trainer_metadrive_easy.pt\")\n",
    "\n",
    "# Run this cell without modification\n",
    "\n",
    "# Render the learned behavior\n",
    "# NOTE: The learned agent is marked by green color.\n",
    "eval_reward, eval_info = evaluate(\n",
    "    policy=pytorch_trainer2.policy,\n",
    "    num_episodes=1,\n",
    "    env_name=pytorch_trainer2.env_name,\n",
    "    render=\"topdown\",  # Visualize the behaviors in top-down view\n",
    "    verbose=True\n",
    ")\n",
    "print(\"DQN agent achieves {} return in MetaDrive easy environment.\".format(eval_reward))"
   ]
  },
  {
   "cell_type": "code",
   "execution_count": 63,
   "id": "f4df9a42-c02a-4122-808a-9b04b2d8056a",
   "metadata": {},
   "outputs": [
    {
     "data": {
      "text/html": [
       "<table class=\"show_videos\" style=\"border-spacing:0px;\"><tr><td style=\"padding:1px;\"><video controls width=\"800\" height=\"800\" style=\"object-fit:cover;\" loop autoplay muted>\n",
       "      <source src=\"data:video/mp4;base64,AAAAIGZ0eXBpc29tAAACAGlzb21pc28yYXZjMW1wNDEAAAAIZnJlZQAAXNNtZGF0AAACgAYF//983EXpvebZSLeWLNgg2SPu73gyNjQgLSBjb3JlIDE2NCByMzEwNiBlYWE2OGZhIC0gSC4yNjQvTVBFRy00IEFWQyBjb2RlYyAtIENvcHlsZWZ0IDIwMDMtMjAyMyAtIGh0dHA6Ly93d3cudmlkZW9sYW4ub3JnL3gyNjQuaHRtbCAtIG9wdGlvbnM6IGNhYmFjPTEgcmVmPTMgZGVibG9jaz0xOjA6MCBhbmFseXNlPTB4MzoweDExMyBtZT1oZXggc3VibWU9NyBwc3k9MSBwc3lfcmQ9MS4wMDowLjAwIG1peGVkX3JlZj0xIG1lX3JhbmdlPTE2IGNocm9tYV9tZT0xIHRyZWxsaXM9MSA4eDhkY3Q9MSBjcW09MCBkZWFkem9uZT0yMSwxMSBmYXN0X3Bza2lwPTEgY2hyb21hX3FwX29mZnNldD0tMiB0aHJlYWRzPTE4IGxvb2thaGVhZF90aHJlYWRzPTMgc2xpY2VkX3RocmVhZHM9MCBucj0wIGRlY2ltYXRlPTEgaW50ZXJsYWNlZD0wIGJsdXJheV9jb21wYXQ9MCBjb25zdHJhaW5lZF9pbnRyYT0wIGJmcmFtZXM9MyBiX3B5cmFtaWQ9MiBiX2FkYXB0PTEgYl9iaWFzPTAgZGlyZWN0PTEgd2VpZ2h0Yj0xIG9wZW5fZ29wPTAgd2VpZ2h0cD0yIGtleWludD0yNTAga2V5aW50X21pbj0yNSBzY2VuZWN1dD00MCBpbnRyYV9yZWZyZXNoPTAgcmM9Y3FwIG1idHJlZT0wIHFwPTI4IGlwX3JhdGlvPTEuNDAgcGJfcmF0aW89MS4zMCBhcT0wAIAAAAazZYiEAP/+yk+BS4nRcKlkWAf0mOgGDRLzYAAAAwAAAwAAAwB1Fb9qcind7sAAAAMAY8AhYDJAYAERA1wMsDsA2wSQFyBjAAADAAADAAADAAADAAADAAADAJP8eA1as5cV3hVoFYT7iwnouk0LAfCVtBSY5SxTU/yD0TdAno6X2NQNLcnar0dPKdYl0oYycwnZaK3FzHNxCbIoA5a3nkRb8Gd/cA/5fg7Abr+N2Pps9a//4Bw2LF8Q97sP0Z/BPtVym+YkIB3gdkWn/2xzAfpRXzb0O5GQoAOYF2br7TJHC1qWwCmB+Keeve5AsEfe4hOL+YOlkEMsdnuw6i7AmAfLQrMMh++HvK4qsElSnUjVEHFRabmlzfolLhJQVrBewoqJhdPNXWq9vAgqJmiOEQOgq/HL7d5UnukpITwQqh/nJrKvrIm0o6wydJkGXM74sw+cmMnnGwQAR7IiVgN3e/bw9++eB9pmxiNmmxv3sV55P4JZacmJVrDlR+rkG3T/nwVCSnlNPEMrVWM+ersf/lzyG3gILhpJMf/KU9ETJ2HAijKZgZH+QLlMAUBeIWIxXzBfkLg6YbkOZP1hrB3SgB18blO6DwcF4fXzKlnSti1/aXfcHFtnHpp8xMLCrnCwa67z9mdLMLsTXeH9VNbBiTW+eqnWxOK7rpPnsTIcnHIL4QYTbox1QOyqkJEwGg19ZfEI/Wv8PFbPaBDohUNjYqaNeNtTWBdcnw1ILgc3GJ+pP/jfqUy9NAwoQHTUFKsoeuEMhC3AB9EguC/LLhAX7CFzqNKJes8ctvONvJv1bCsgH64im7CYnESbRj0pzmEbjxBvyYIK2jUyruE41jjbvj8QqtZwa8m4SZ7Btb6CLvkQnXErcrvU6xcrL+BAqlj3otp7sAdbjuBLz+Lx/HNcFHnuPrL1DXvAORvf+9LMEJanriC2gDRzScAEXBuBEDKvqzYa42rX76kNuvBdUJC0otzJseB4AMTvs3oz8wNgmim+5gAyKBEbykH8ZQ9UXwzWGuFtkVtDYXYCNaaJ2F51DI4aNyBm/mVaDjC5GcavqkDIqGYF4iQCVCAcjqIycOsCkWyb8sfcNz6cl+ZsBVusBS4xid/wKmOc/4l/hmMnLA3xycRdCdhNqkfeRFDpsOtHlH9KPNwOhQ4p5wDQuPkBkn2tmv7SaH7ULuNBeTWSAzrhKl1pmynFYzbZZRqzMxEIUGvMvjTQVVWLRV8B7rDvk1pF7yZJQwmoIDQrNbHHCoGCKLOFTAEd8m9e3Vo3P3RpaJFG5ai7MuHc01xh//QcC4aw05Z0c1LmtEcAf/dniSOEK0cXOYH6LX8RrQ/3wljvEc7YHiPEH61GKUHvcLdIpJBeofa6/96KL1b2vGPMb6ZbQ3R9YZRFs3bliuX1Q2xhjRoZt4qeSVqWz57UQSEg2B+E+/Eoi4yc1T9+uCuZx5n2cR1ZJqPU6f1bus+13MDgRRkNhq85Ijch15lpqerOfVyOsAopTeRjUJa3DNQ8d2i9mshQkLKnAfVYFOXw+tcXqDCfbp5/spMdVwwIFT7wLC8NxsRzOrRVY7MsvYMmFdq2kCn2RlaNrIyRtFYplfccO/nNapD1pn9S1aVKfivu80IBlsfPyGqEG5n7Nu/hbiz41GY/93x9koxG4eZSWUFEuxpuV4VP+5bAiA54kOULcuI+wTmW7SDwgxzd5WRo7iHWD6dSRU/Lxxw7t+cpZfJj0O+H48KYqg8w664S3BArYIk+gV8RZtaEZcnZDI5f92EutJFG1QK2Sof/29RcOLfV/4tQaaUOz0ANlbhb9cEsQH0LB+rduAJLvrdf3NqqcTxE8tcUM1CsLmnQ7cpnf0XYvztsP719oHr98Pb5uJaSrMAiZTlzhxud5PQGd2mVlEAkR4sLIRQTp2R6h5CYzQgTlK7AbFn7Ee18n2Dd55gp+ZEUszhNfvcjXUWWNVihGe0CTNZ67wXzLxi0RJY+CQD7Cg7FMT56PaYWt8ntWKigXAGXlEsBFKkrBOWhUZAD7y0tXcKMqa1Gm85Pv5wJM+SgK1/RweuN2+e32N+jzj00ORD3kfov0OWhPQWUTHTncJrXKhtcifi1Ofp19Q82GniR4JVi2mXIzglftpoEkf6LtMrDOzTbHLVEbDWdpI9ljTfE+Ri4nMSD8WJgEvSwXS8oUmBjjvL99rUksAl0wkJUX+cwwuOHv8AHsCcJWctolsm0AAADAAADAAADAAADAAADAAADAAADAAADAAADAAADAAADAAADAAADAAADAAADAAADAAADAh8AAADJQZokbH8AAAMAAAMAAZibE67GziDBrTa+Wiv7a1/fIf1x0jInUtf1ZrRVOobhQV3zE3utSqLqhN5sw1MKjjPOfKmX+F3bzdZ4Gs9STT9LNX7VBTkywHWOZBPrrkf5FsK8BCj1txmadCSbCIMofcxU/hAJy72uSEm152L0T39KOGZrEsxAp1PLAl8svUz0LJq7266Od8q9BjfOHKgS4PUHsLwpLPbOud1o15tQ2ugQC2KxbWPBVgnQG0dwkgK8+zvIQ4CESPQq2CJAAAAAakGeQnivAAADAAADAbf67CSSyM8QcfKckzIRtJroIvJzU9/8qmn8wfsE6AxqlAJTkS7ndalUfwiZboLlz6kRJDEFmsHgqDAAAAMAALgFwonqpVGyaZ7xTAXE3sGHX4SGGbAAAAMAAAMAk4EAAABaAZ5hdEn/AAADAAADAH3AZJHuRN+YfDdy1jSSk1cOw6G1IcdPNXYCgXdPKVtyLNvc3VMsfphlujopz4GXa/58AAADAAA/V++ABlVXjGG5y7LcIoAAAAMAABJwAAAARAGeY2pJ/wAAAwAAAwHPeXLSizSv8kei+jXyKnLjWbqOhC/uIKCAkspRdvnoj38W2jXWpVEJ2iKTLCaC1SgAAAMAAAYFAAAAfUGaaEmoQWiZTA//AAADAAADAAGdEEUN6H8/DWO3vOj3lT+SjtB8dZU84JNMzu7VMsunWwYVXjKGZywZG/4dtHvvJ7FkBQ+v4Q7+n3v5GpRGfkxKK315iefiLTFiiWwfDUXmMyrzrtTP79DLfh4byv5UUFiinZan6JFD4PC9AAAAbUGehkURLX8AAAMAAAMBugKnMZ6u7mnqlHya7l/4dNIEYY03qS/gVGjjkR2ybEaVyoGarE9qmYuH4HXoRKCjVZRkuXblOdASzBs/X2+T4LqA/4ADmx2AJB0OI+eqX344gRXL1Mo9UAAAAwAABU0AAABIAZ6ldEn/AAADAAADAH5nQm8Uteojnw+qaO/bL3DsOhtSHHTzV2AoF3TylbcizR4PWpVEFMfFtlxvUdwDpAA2xwAAAwAAAwETAAAAXAGep2pJ/wAAAwAAAwHCmzzGz44EsSrfOApvzxLOodV5jmZGIeOCwDKKYXW5sYz/Zy6Vm1TLIBoRuqJsdLKWrwkggcdgACQiV4AJaanhExyxgbVnRbAAAAMAABFwAAAAl0GarEmoQWyZTA//AAADAAADAAGhpVE/1jwIaabLc3zU9TKfZyWpfKP2ivbMN3dqmWmrsJn6zCi4oUGs8v4CcjaU1DU+nr6rGKpbQEs2weeOCx9A5lO77/KsW4w7BubtKx4VuJy8kKCA6SZmoPsomRM1RQGQbCP4ZcAaJ1iXCfyIss3r+LUjOkU9vEjhQKcryCEOhtBbJZYAAABrQZ7KRRUtfwAAAwAAAwB7BXMs3TVPA9u/Pm9yN500QHuyPYy6a7Sp1hncQYIscxgsvTx2qZZjvxib+soPgu6SHMagNBmLhe+Uva0k0ePPcALMkdhOAfUjqmWGVnOHlpf/NtUAAAMAAAMAuIEAAABrAZ7pdEn/AAADAAADAIIY9KCNlkYzDnCuINwG1wFD26m1eVEylnFEcJj+0jW9W7rjjGqZYvC2bpDrbqO6SySaLVSJXHhh1rQJKgb3dbtEe1RLxLs1R2jwPwdS0xhG890T9SHWqAAAAwAABBwAAABcAZ7rakn/AAADAAADAIJosxJM2pIRVnER2Eo90lDqvMczIxDxwWAZRTC63NjGf7OF6dpfoqMjQGHvp9MRRyiXfQe4gkSTneyhC8AAOsVMbAEkWjLD2AAAAwAAFJAAAACTQZrwSahBbJlMD/8AAAMAAAMAAaGs/mtAj9y5PuYyjK/I6v9RF+eTZMLSuCOTjqNvbVMtuMGe/V4GXZqQBH4RW+iedx0kCukhW/4cOftIUGOXUXZN0+x8M4J8ipATCzHzX5RkEChqaATY14+c6jzKokj9dvMfmRIEKr3Dm+uT33/8cefHtFZs5hhud3eMfeV/wwL5AAAAeUGfDkUVLX8AAAMAAAMAfIgMhZ/p3DBNyzHEOwFmSZtZeknNePEn6JkINuUqAS1LDV0yNo21Kod1h9fX7yTiYW5EdzLITt5pTF34T3SgSHrwx8h+U+AAAHJyYBgSD+f68wcu1KyWWgQc3XVTC6e0eDeTwAAAAwAABA0AAABrAZ8tdEn/AAADAAADAIEp8LW2aiJJVeA3O1Vdh1DqvMczIxDxwWAZRTC63NjGf7OF6QBxqeEKuKS9nZIw7MfYIGwmrlRf+r6Gd6HUSvYI/0UvhsPsD4Qojw/t2VUqgqKaLoq44AAAAwAADRkAAABlAZ8vakn/AAADAAADAIJosxJM2pIRVnER2Eo90lDqvMczIxDxwWAZRTC63NjGf7N9Du/vg2qZZVmkl8zEpBDxYurXHEUDlZ80obz/T+QKIU79jJ5dDmh1+01PVyvgAAADAAADAS8AAAB1QZsySahBbJlMFE//AAADAAADAAGroV1y8VczMnRmUs0FeLGlcQls/+m6nAbeKZp833vfd2qZY8KPYcYJec6RaMhy0ez64A6isfnhLlC9G6mC1fKHW/N4uWLtGR3a3nEnT4J+lbTEi69UpRkzb2tjcURu4JDAAAAAdQGfUWpJ/wAAAwAAAwCGHgQXpiizSvskWi6jXyKnLjWbqOhC/uIKCAkspRdvnoj38V/KvhRqmaXGb6P8kJvn5PsJYqx11ppFwgOiQ2dPatuAAAADAAADAABW0iCGNtqmW62U2w0QNsTc2eesZKGAAAADAAAQcQAAAQJBm1ZJ4QpSZTA/AAADAAADAAGuID+SHhq3upPfcxlGV+R1f6iL88myYWlcD+xiM70WFgvQ/XK0gkXuhWKc8vjEKvO9qLAseuOblapLVAftuCBWHm4GTGLrAlcrBrOMxeS4pu9R3Gmjy6bXz0H0lkkGtiXIUfn4zyafW49iG/dK3oFOiSJlM45Vr9x3Y5pSmFe3/K1D56QcSyQfi4L4/HxqWpwX6EYvaOca4j/JvxBhRyB70wMw+Kxe9e4S6J4/en6dzxBg2GMiozw23TfvKETkpz9fmjlBOVeu1e1F+kAZR0hGCeho57FYHJ1d5X1ByqRjolTWKCTBmpB2HybIKfR6czMAAACKQZ90RTRNfwAAAwAAAwB9zXtK9hJWtYyphDvnmDaJs4lJSzeuPeTFIzEu7IS31UjArjk7XQBTapnGg1mZDoQ82hU4oFxrFdBwB2hW/Tp2GceM2c9AZt5aKNmsCsBH1Sa3Ji/abbKmGRKXhTO2Tjm0COlW+3GsHoYWF+8jOwdEl+eBEAAAAwAAAwFbAAAAdAGfk3RJ/wAAAwAAAwCFGYHzRzURJKrwG52qrsOodV5jmZGIeOCwDKKYXW5sYz/ZxtK8I0ILUq/6cMRQn0/Qii8scmT7EmWYk3ynvJOLih1w8RTOBuDBAAADAy6UIDpOJefS1fmGpPwn6lG8AAADAAADAPSBAAAAhwGflWpJ/wAAAwAAAwCFSCr5jmoiSVXgNztVXYdQ6rzHMyMQ8cFgGUUwutzYxn+zg4BviftqmWPdxxE0DrfEX7cAT7ncCEuH8IvWbZB4d3xExGq52FM+QWbqrSq9SZwBzZa86BY5nq4LCHee7S8Yh/YLyWTiPmlU0TlttTGd380wAAADAABDwAAAAOVBm5pJqEFomUwP/wAAAwAAAwABtbJHiGFtzMydGZSzQV4saVxCWz/6bqcBt4po95yJw5Qh/DNc3dqmYoyc87zhCiwQgHEI111IlygT+DgmtaPT5zcoM4GinAx8+jeYu9FaKNcrH/cJJ1mNUzwF26wNC/0rrOO6HQJZ3RvzIqmG/D2VV9lz/1k/Fw4e96Qfkm/R6lQYE9UZ7cOiV/KqYqSZmBRGDuj4EL6ne+pJhjDFrQzkSxGNZfX5EdWBDvLqriyvnTBBQzgS0XGS3c+tIQYK1vsF+FDHPG3u0TyoEcmxoLsP3hpvAAAAjUGfuEURLX8AAAMAAAMAgWIS71tzBS8O1vpBPGxt+hiCLyc1Pf/Kpp/MH7BOgMapQB6dzQpLspRdWqaBF/coQzKKU7zFJ4uJ4Cbw+NeGNwpEAAJ2hA8AC9xO19bA0zaiWphZHej2OyFFOgqo/itabPtaODp5gR9R9CSyOANw8Msqrz3nnMgAAAMAAAMB/wAAAIcBn9d0Sf8AAAMAAAMAihIrnBA0wCsNPIqSEPdtf7N1HQhf3EFBASWUou3z0R7+LA4QcygsYN8xz81oy1becLZEINeSSf/IrR150mUaQ4+MzOB21hooeFnyFa+2oEqhpDXZ3YlyVT+WSnMpUSZ95BOLVy7+pYlmGbNqSUy7TLbnmAAAAwAABZQAAACEAZ/Zakn/AAADAAADAIlIJ9mOaiJJVeA3O1Vdh1DqvMczIxDxwWAZRTC63NjGf7OQmZgz6OjmqZxzyXd/9r0SDCNN1KPA/HUpL/K9Kd0/J4gAAARThtMBGv1J171gESHCcZ/nqEPNoduTRBWW9XOdm5K/9N1vkqNQCj4aOoAAAAMAADZhAAABD0Gb3kmoQWyZTA//AAADAAADAAG/2TI65gpJa+LrlLNBXixpXEJbP/pupwG3imgRCPwghVcATN7apluIYvyhWVbpw1TnsoAnb3Va6rCXJx1xJq1Ht3MQNKFQCrH15q5EYDA5kItK/2/IRgZcRTZ7GTq5A8sbEpADrYSg6GWaihtxSO6CZ/ZR8TZzV/oPufkSu/wsg+BOyCwnArijGtkZT3Kv9mnMM3ZkqRSA3w40Dg9duSzLEAVFmaQFMeSMMfhwH6nddiRIg6gt+zl2QQHlRHOVpSUM+ZqbUBGMXOzvJ16nM6IyQxGkJ/QH7iquytAbgsn7Z+HL1/dCFw5wOwxEgOs8ueY2wxgzXkDiL8mtKLwAAADKQZ/8RRUtfwAAAwAAAwCFY+rnG3MFLw7W+kE8bG36GIIvJzU9/8qmn8wfsE6AxqlAHtWPtJhZqW/G1EgDqKhVLbhxVle6ft351Hv5F8IP+5rzDWMCxGRzH4tYD4mdcVYAAbmQxAQXwJAFOKoCH7zilfpn2PxNBP0rX/eqye/oL0OjMStsBG3w5pGsnMLb/n3bppHpMVkeQT1dcAlxzKxnc9EPgskdJ/LzbLoEhmkc84d2aibzoHrvqrg/RFToNTiOiCXQAAADAAAU0QAAAJkBnht0Sf8AAAMAAAMAjhTi72VZGCl6YOYj2Jh7tr/Zuo6EL+4goICSylF2+eiPfxYLozSHeZ5sNqlUOu5CCZITjBZPZD7lRHsnINXfph7VQG6n6k0W4JlpTdTZq0ijIkr/hM27CNCBT1zF+XzPcgJyS6Nzm0VB7tXykIsGT/alNu60ZBpK/hzO5GITwOYDt+AAAAMAAAMAuIEAAAB4AZ4dakn/AAADAAADAI1Q9OsvjB0+QfAbnaquw6h1XmOZkYh44LAMophdbmxjP9nMLPyeTQy/ptURMnCzqGiHreGUXwXfWvtR6F8iDl9txnbj0ATpXTBdCaAoWxkrUqI7hF+zuUEklP+VQax0vEJsKAAAAwAAAwM+AAAAoEGaH0moQWyZTA//AAADAAADAAG/wqF0+ZGtRR37w9yvyOr/URfnk2TC0rg4HhCnljF92Tde2qZberxVpLJT7+A33RHUuHgodTCSZsPJ0x8555UJne0IeZ/11v7mdTRXAe7DTk5JgAP5nQG5nsyyAKbpMvZcoYKAhspLfJMs7PdRi940P9Yfse8ugn7O6RkG8wxPP1rU+ha2NgcsGgxtUUAAAADtQZoiSeEKUmUwPwAAAwAAAwABytXnRkm6SWvi65SzQV4saVxCWz/6bqcBt4rWQwrmaD1zbapqCXutSqK0aKBWm0Ywo6qQiEosC0SrAR/Yjqb76NKbf+XVUL53U6XIq1B0D9a0KCp7CHG2MqjGU6MbeKut2EA9m75XjxrXiWIBTz2i9nO3eUz0Y0u+jIttPomiMqknrboVqSuu1BqT0FWayzBnJdb4ku87oZOh+d4pJRD4zkMm5DY5mxB2ZbUMUbJYLWJ+4Kz9T6/Kpl6ywCiJqoPwo++ODL9gO9eJuh4cCJFOtdu3sR2GItYwx3OZAAAAo0GeQEU0TX8AAAMAAAMAil9sfWlLEzwBx8pySshG0mugi8nNT3/yqafzB+wToDGqUAe08t8mwrhXNtl+HbU++r8yRoFjebB8CulGlpPFtrAYCYmy0ED8cHbuO/iYSeDmYcnVl9VymG41a5pe+BkRQDbIiKNn2/XSj8RGRq7CifhzkX93rmmk9HzC+lq7SDMoRWDLxWfeWUX32zVWAAADAAADA1oAAACCAZ5hakn/AAADAAADAJM+dd3hnfQKOi95iBmtbXHDAKNsQiMYfFW2yUiMsg8c+TU4puc9Dz/V2rbtUyx+bAWpZOkogDGnTgZpI5ghQbpscIIznAREuEEnhFcPjeG2O2fVacHjU5isFf0x3c5OARerI+mrf5q8fGGWX1IAAAMAAAMCkwAAALxBmmNJqEFomUwP/wAAAwAAAwAB1cKYUKSxrsWeG9v0x+ErwNcnfs+B5oMF1URBTquJ2QnhoB5Vu2p4VpcRW66lXXqtrPOKj7AnohiZFC01EpBPsXbWxZ+EcIBPNAONYzQgPKX7dmFfF5DqnTurrmWvPk5eu/8JCUZEi+utPFF7wg3yBrOdGxIRbwEbu4VWpuYUAcAuSNAf4ctbHpIsI+R8SmWfO241uohV+Fqx2GGwGmvQv6HaEM/NbGN0uAAAAT1BmodJ4QpSZTA/AAADAAADAAHjRPZqM4ZhrMnRmUs0FeLGlcQls/+m6nAbeLAxET+REh7e0AAeQDsADjdWHNSEK6USdzrzAAADABHz5Am7dARIBr7Sg1D9XNylbydv5iFBhVph6hvzLSPhtlK5sxzvWISu3dv7A0p0OS99BmkDpyhQvanyFl7F4WpAJPPHPl6L3akHo3+TUR1c//vf4IUPtGovbanin9i1RZ+MSUeyXGkKPkAWjA0wcjogZDdVYYpfA8o28HI/Htj8Bo/R3eu2El/OhI45j5Hh9PQ9LXRlker45UcrMa1+WgLAvhwUyqypYFolTIL0tx+Qq7WVGTwvRCfK1cuyxCKNc+KLh9unuhrw3wa0eDrEg1koodSlR25OfoQpn/2gXjRZ/25Rgtp2c/T6llYTjzk92zdR4QAAAN1BnqVFNE1/AAADAAADAJIEXvrez0IuVQL1tm2Zdnb9DEEXk5qe/+VTT+YP2CdAY1SgEBxSk/UBJtg6rD0BmfrmyTkNN5HR3rJabOp2J3CIO1cgbKNuiSkWTp2iTPNfND/ycInrVYmOnyTBwCdvjZ/o/3L+leQfX9ngAKAlHyTeyj/pbC95JdnL25Wmm/qoz0E9jxPP8ZNin56LBGwbBpLWv35bRpB0NOmjq+vDVEkFc//PBClqaeijni3BwA7Td0394vGr19simw2PhNPJ3ElXOAdJuoAAAAMAAAMBFwAAAJ0BnsR0Sf8AAAMAAAMAlR/CNtz0HgheRW6+QJhdokNZuo6EL+4goICSylF2+eiPfxYVzMpnEsUOjtrJL221SqLRIg6mvIygcVxrTJVazTsyChTNDhOqJ4DUKkGpwfNanVC8q/t1vYXJM//H/SOD2HIAsAO6CBIH0PfoTacCPYKVUuz7Bdphn1MEgwXrJXitRVZ1saP4AAADAAADAAx5AAAAlgGexmpJ/wAAAwAAAwCZU5Tn2fNeWoBl1MMlctNtf7N1HQhf3EFBASWUou3z0R7+LG8iElU3LjLM7c9GVraklp/vYk9m/hCgYaSS/ld14Iq7iaBVqyysk/WBoKEwu7XQxLXoHdZWIiqDARo7DDFUMPjKIGo7Lj08jUudI8H8JgyTSRWymnO/z5XM1kfT6aAAAAMAAAMBbQAAASdBmstJqEFomUwP/wAAAwAAAwAB69tVBQnEfv3P+TMVJj8JXga5O/Z8DzQYLq7GCwUY1Fm0/UZucvOe9qeVZtTMHUSZqWG3RlBcxM1iNqQzYeM6O28trg62+SZWCaH32wgSNhsmCXmgSBdeOTJT4apbIJrH8KsWxURB9ZwWPmOUfgCcDB2sSN+NKQxv4NZw2GzjcAz6HrQNrr7mV2+aCxejRWnTJS7L2A2SUmWvyghngwtSgV59q83u8tAEr6a8UcgAyqIsNfjnnvpHiQR03CFYRUrekpFIUrDS5Nc0SqvPDgZDcHMm7Fh/ppqzmkyQjXzN4xZKt6iN72oFXzzyhvp0RzqHyF6XUAkzUiI/4Z7PKR/1nABv4Ogl+YhX5Nj83mpPwowkXY2pAAAAzkGe6UURLX8AAAMAAAMAlWXsSbnyHwMECmsPmfYP4uz2WEzqa799QUWQM1SRGX0yYHP3v9kWeqze+j3uZlscI3ebLt4F2tG34bLwZy+TWS8hXPqkMjlEhQceDFq5T7u2ZPRa62sP7WDyEKIG6lYCPFjdv8/xDMnVvyOxBxXqzRhchQSuYcfMZpNBd+b94EaOq6mV0uB9WxbmDPNI1f9MATJCP+oODa1pAdjMQasYJH9Fa+xzl7/2qXxNwT9vDoHYxZxwuEDoAAADAAADAAVsAAAAkQGfCHRJ/wAAAwAAAwCeYN32gWGaV9ki0XUa+RU5cazdR0IX9xBQQEllKLt89Ee/iymZC7PgCq//bwSdwyqyX0ZaqaHGQQJyuLaUKL2kpoo37rbyjDj06AW4ixQQH326Tv1rJueEQM8IEL6eXM30CHGtGF+yEpa/W2ClQ5UQjrMMezqYnn52fcxDCAAAAwAABn0AAACPAZ8Kakn/AAADAAADAJ1sr3ysOAdX1fwu5vPLPZY6/0HMicRzB4bC2TfeF5xdOJatt4mBnCj9SGBArerk4+NI21SqLpVUwcz05DvYzpcnrkcjv2/v5OLl/fxqp0/Se3x+ZktGLeqo4H6zJX4tYDK9Sh3BByFwjBVc0gdQLalJXafBB8N3rJgAAAMAAAMAwIAAAAHwQZsPSahBbJlMD/8AAAMAAAMAAgSJM5rcP56EvRt8Pcr8jq/1EX55NkwtK4JScBQmLXZtcZwcd3I8ZaMhmAbBN0tI+S6n1KV0vIr7wZiMFpoffiOCvJQ/d98Obuku7qSKt4cJkMjM2XT4ayVPJAM6666+nz0Havey1jM36SXAq9smhyeJG7al145pbPiUx6aSuqsLYZ4MOIJTmC/gZ3HPkL7eLfZsg1NMI2CcqAveJkKUXwYiQGFSRqN6HM6PXx99avbTr1UafJ6aXn55BDhcSUMMUM0MbeWxpRj0vtvWLvkQzR12G98F4BHkZq7eNAPL01pW+1jZD53aw4AL7hBcC3r+qm51Z265A3X6N4aJ+Y1fgQsNgjTQqTO9pxGqKwHbhA9cZbM6EUcMOQnCKi9jU8KDqg/h5WalHPTPAiHpWy7jLLZSYcDZyqRj4a2K9lAC8ZiJPvUhi0VVw3yWYx8rPleE/2vBqCdex32P06vnJv3NIVCA8cLm28RlaZ0p6N8x1zQwc5pqAThke7/cKWJKv95OVIkfMdKyBouuYxTXMD/OxUCVIvfOdzFcvNXi4lp+yUJJyjIBu0Ip0idiExxdREPoEHlz6uEmDHW0Bf0dK3RwqtFyki6UQtBFVBb5PEpb6R3R1Jd+6mXkyIkO2QWDnQAAAXZBny1FFS1/AAADAAADAJ48oPM0+eMzEEaH3YMWkJdi7PZYTOprv31BRZAzVJEZfTJgc/+qTZPDUXph/pwqcoRouCJS3W1eWq7CssRnvyBd1q5qh1qKUrfNq+KtJh5+4kQOfkOSq3F8BuG0esh1VM4C8YScRhEVT3YFxunKEofA5JWaNHchVvO9mAuJN+jz6PFwqDmtwnXarKAiLfaZYBxD+whVuQrrQVJVQV6lKt54l3tbCyjl/dU3pidyZmA6AAzfbDa90SGxNqmtkD8FN4jJe0dT4As/+mLTL/nWbtstqhfgtpjNxYul83cKTF36JoOLjP2zY4P2nZBXoYaN0YAchznOVefrt36Kynr5mBfq7D6VLV1U+RlTadthHkR/ZAsHqdiV7cLCTlV9uswS/9eGBddqdO6MiDLtahYgd48gxaYG6n0AUTxn9avJJgsfbvXnF54qE96iAeugVD50NC0qvLrxYuoQZ2etQUSJGgAAAwAAAwACdwAAAQ8Bn0x0Sf8AAAMAAAMAocH+XhxSSUAY5pE54RhFhNmlCHrlcOux7jgf+yKiE1WTFQfmZf4RuoD/lG3NkKDtYhiBQQsIhqQcR2nfP9CvlnveBUdYCODlbi+Y5rhjKtGJfRewmS45mhfB9JF+FETVLmO9ygNjtGpjxAZs6KcAQt1WU/VKDEYv1q/k0k9rxN74j+zx0e6NaoR+WOxiF0wsvF3NHqjdt4Ie4x2JSD5kM7GaP69oxl4hGadmgo6s2SXUBu/9T2InXD/nCJ4bSXi+lTi0TwFFVmpDe3rf5LZNxuH9z8xNq5V4mNqBkSHZW08tfzuS6FMOqpxzq76tAWhPVUOMAYNbuAfkAAADAAADABSRAAABOQGfTmpJ/wAAAwAAAwCnXNuIe8QuqnlpsdYZjNA07fs1M0jdsaJG3tW94lnjbORH/0t5H41n5D3zojIjAPA5iqJrBANdjDPams4WuaOgKQL2LMOLNw72M4lRgQD8kJLv8PCIvoSCAkAAL2DWKoVdWyltILJxUxP446LG1Zl5SFwi6bmWxxMA1lDSw7VJuk2Olz3Ort+1pzjsZ8SfVq4ZPG+2dwe+dz8dkINVUllErbdRbr3qQO7jtn7fcPxOTsvvK3fWyZhpIdJOoJ8l/SP//Cmv32KvjFjTh0lwKd0XAVfCKU6jyAappClwmLAEUiL3tUsPj6yifWByIQ5Yp/yjPrNyCogVCbb3MQ1/+9UQfFFLBd1o2ZaUnBtTE2k6obvSeBkrxrVJY6Pf6n1P36Rt18QAAAMAAAMAIOEAAAIPQZtTSahBbJlMD/8AAAMAAAMAAiSKJRrcP5479vdRNGV+R1f6iL88myYWlcEpB3PrvjPL7YIMVMmyRkZTn4AlLUXQQ7eZPJ1qSdbzwSbAyXdk2I8THyPhGtaMvGk//tbP7JZQ8dzT+D6RPwEegVih8kPhkOq+l0+hbuhh3wycDyYgv+199tFE5YtjsJwwrho/e5yAbVSehhCXxHUylRSuN9Hn+hErygHL9EMRwFYle30llZKE58EdFvfrvMRzLNSkbOSsZ4dezmSCafuvoJF5WMPVVDamPr1THqung2c+pSngFnGYoM0eK755/iARj+1ZyzzJGhNq1T0cvOmqR6aNejtdOjMsaQZPR+gMPwRNyBCf00uw2p/PQBd8qK5ntIKYNB3eEaFs4FpCtlk03ck185CaTEd2opcVb70E0QKQVKmwGwrhk8n7rTzrNwlceY0fCpmVxLcLTuHslTshog4osB/JFJ9FQNs9Tfced4R/OyJq/2UrBC8XeFqkkPvc2bt8UkqllsGfWZYu5e6s+vMxW0VYE9MBwbWAwDX70OOgzGRDomU5di4/uqvRCTXLzHyDdM1vx5xaiZ0zdaCAV3xx7MwfHhJgWzTyoWpmjILEtMiWOW/Zkey5InG4eqDqvDExel4l22cftah/w3CO0n//B/8TU/dwWNbJaTYdWSAQuXTpTQikCZZueTUyFqGXWzAAAAFUQZ9xRRUtfwAAAwAAAwCnPKQ7NPnis9JaSfADFpCXYuz2WEzqa799QUWQM1SRGX0yYHP/rWszF0ld7Yxl5DQaXD9VrZmEA5DR/iKydZlpehDmxv1gVcLR818goQ710FH1fsj9LFtlyOJWq43AHDZFPbkbBjG/jBKBXx/m7OOXCTmuESn8BOO0FwEo3lcj4uqXeGw7O+XrbqXMqP+oa+yofCKdZWSXSx08Evb3VzyxSNmCcq9iiuhUpbBl39gD+dk3+DqUP4l6frov6dtbgsRlnHTyp7wggjqvAFIuURYrRikFc6fXv92Iy9rbxiuxeyX8i1m7dHkN/1f5GzcV6iPV5Z2Ar58puETp9wqHJy+a7XiKUIfGT74byRj7+ghtpjvgkXwAscGyAdolwY6IgTzTSEPY1TinTmLKC/2TaTSDsrNYf/EV1u49WyCehQAAAwAAAwAGLAAAAQwBn5B0Sf8AAAMAAAMAq+3DQgcVITEwBUL4DmmiYcaK2DEou7QPxlSlaMk8ay31gu/iPXD+/ZsOrC8F3YCht794FZesJnSLcrfpBcfORuJWsx2qgMVlWJuv93hMwcM6NjMMUXI5a5RhVGFVRv9G0vyutOLm8TmwnSmC4BBCQW/EhWUcyIY/EUHQlpXYZ2NwrVPndvUj12YoI1vgVdvUtvuS3mWgSaBurUsw+1+inMfeiiRHyYqWkqqo0rlRTV8WT1U91zumgGEwUtekN78Qn1RwiOqSXm9AG9UGqFL0Y2IHB7N6/xAA/8yfuzBELxKjhnVuTC6d2nHLD/u1e0udpb73A1X4AAADAAADANSBAAAA3QGfkmpJ/wAAAwAAAwCwXNuGz2/p0cV9AiNTI8If68tXlPrmKvDDFEanU2vwqWXVeIpo0DYUIgMr7KbSIsBu8l5giQ6cw3AP1nuWP21SqHwXnzTSUHfTKCq0tOnWbT9h8GV/vfd9luVx63dYHnj1QyXJq4ObSRcfkBCFqlr1toj37dAsltV2l1PF+5u/N0GK4A8saW5NZqKg2PkPcrMrsaX8CwxhxLPTCXFms9GhwKhtfMf8z3zvV7gitp2shZtZ9HeXIPuc50Fxd3CT91/PEdIbmaJ6/RgAAAMAAA6YAAABkUGblUmoQWyZTBRP/wAAAwAAAwACKANoiH7H3OEUhRiW1A/7a170jUULr92/oLWbkgJKnJeZyGYui7aef8YHjAwEOjgGYznOyDsoZACDR1AxvvdtTw3ubB/8NBPvwDFigH6Ue+4TDljOtKQ/k/3eD6cgmOrmQinBKocwiGMAvBJH0G+ImQRDykHwaVgxW0asRZQ9jDTQBXvtajF2uSadnd58u99hZVopMhFutR8VCoXXvKja9w8fWFdGl6xsNLdslXenZe8jz0l5Uv9cObQFeF33gHvunL+7YgS8Ihg3198/0Ci+Qy38eZu4va64dfIpedY5U+8XFCADxJu+QdkwhAPgSpe3XzMQiJwhhFB7Tcs03m/Kaq6S5LaewHPHLfFL3vw18AnpYTd1UlCSxyJqe48kqc9v1IYppgRKS/ft1loeayt5YUaRu+3S8EWFV3fKVFQV4KLtc/ium4zmzMUOh/2ornCCMmQjck3LaTe7XPh4ytLAq8YEeljY1DNk2GEjpwBrDEt3m0c+B0GcMJcITeXwAAAA8gGftGpJ/wAAAwAAAwCvby18OsrQU19dm4dfYNwG8HDS8jp9uzZUVNnvqLpKf43dD2ItxobmLK3MFhbCyDk7EDOfEFBRxP4wXcauJtOE7CMje2n3fSyYAPPT1OxtHyY/3bjFteSXFP9JJ8OrHf5fF0/LBGhuYiITeWwAAd1dU4F16rr5KNaE+1Y1/M3FysFx/ZvbYzipqY42rkZ4APxsPjVzyFTqwOWlzhlsOnLWKn7D2q0CfSnX2lGHFJnBDqk/T9U86welNGAdjUVV/o+2WAGZNS8PedTEvxMDeTuy6MFdFL3EOTmrvAeoAAADAAADAAl5AAABk0GbuUnhClJlMD8AAAMAAAMAAkSLE4etCk9H6Cg9PmQ7cC9y7PEl6i6fcr/I4LggYjcCyTo1K/QMnF0wrFWkK2abXE0FwG4P+IoFBsKglLVNnJvoE9ZAQwzCbllLm1w46usdfuAprptixuNvwq3qQP/0pmZNqNUC9Cv+50L2oSKSakg9lzTMx9CCtMUF8+kuRMqBBhMt8lzdu24kT+pWVpzprfQVVceJir00NFTqGBbBZLXoO/7nWOrvHHWY/LY00ZRRkSB57YH9KRRBgxtOSsI8xQAsFOutLh6ksBQJBdxHI2SROdE2KqZN5AgqRfXDFjXih71ZipeCNHByF4lhOtM+NwEaDRxrbY1N6Yg0QBRwGeMCL2rPDC3CQFSWRQ8fd1mCjkYEMgyGS4uw+CuQjnxuRQqixC0jFlNE1G5ONUlx1ainGZJh4nzdMKDGIQDg+b8mckFct7iNfKkpSSZPfzE0rBm/jA8RfqoF7JrsW5DhahaQ8Yg1y3WiqqBhHo0PpsAu/sKzu1TA1N8Ei0/gcSa0uGkAAAEWQZ/XRTRNfwAAAwAAAwCwNQ+GwqC0YyV5QRecxBKBg6TXQReTmp7/5VNP5g/YJ0BjVxhWrFzbzkVMFxkdWfmCIM5yZvXiHKMCJtvxF2s/KZv9xgUdQvod9Djp0DKiIrQWjqL3mo7U55wesog5JscLLru5Lf21Qfv9GoTgw2Rik5hiaVJ4kXV8nfWfgSIY8DUbLAkQCwn5AwRBseOYRn7eQ3PEfgQ/GXp9HAo6n2RSeFjknCEnG+XnsEOGTdGSNu0LoS84M4ydxW5RRd4COsTve7Ll4owZVgJUcgOBB4CBopvAkSLTOJMUtLCGATFn0WD6aafBKA8RkfIf2Vzmw3OPSp5rQny5EQ/jLq5LxAC3QQAAAwAAGLEAAADgAZ/2dEn/AAADAAADALY0zaYUGvtbw9BzDiayqo7KJzUmaNaQh9igj/SSiEVeVEQj9jojSuun304u1xT7zdkv8gOIFDPIS3ACcZ1qVTpTSmUlG/82IYD9enwu8hZ4J3OSr6QXfvZJfxq1M+z31T0CaluKAO6tsCw+4xn4kDf5e9h0+NoDEh9HcEypgED3D7+K3vMhdZy/nzUwR5cWhWfktA0BUpnQTyAVBegskfAgqVdI+BafeQARdV59NvYoctG+82CRVBoBxFBuFNqnoD5pbRYbAGZag0cAAAMAAAMAAYEAAADIAZ/4akn/AAADAAADALhxoTrM+a8tQDLqYZK5aba/2bqOhC/uIKCAkspRdvno0Je5bqAyYXFMs2szNAOT+H/nxQEqgtDrRSIfnMp+ttTgM5MsMzvCR1/yN2Gvc/XImK/+VnbqNyJ6Spp+Hm+mLiQEgu3f5+Gn7PtLQpyinaCDKD+fILx9nFEmMtX1bzzZDqk/YsJ906Q/D3Ev6a/66T26AVTsd+FSM5rpEBmw2OKkvxowBTWnVPY3zmeroDYM+tkzwAAAAwAABvQAAAHFQZv9SahBaJlMD/8AAAMAAAMAAmSLh+a3EBrNJ77mMoyvyOr/URfnk2TC20ZLticpUzyQJmjd+ToZxzQxUiAVRBuSc0hRkaJ5ft9dVVs6klhT8lzR3RYj8sCDxSEPGCkUjw1WMA3IwYlhGM4fD1zLxlC6jwCxzzfhRvkBo9kv/tJitBFeaXFIaBzx9FEqff5kwj4YhEzmii0dY5tfCtvyP1iCE6ovCqyeEdntq0Pyn7Th2uBno881IOAHVYMXd6rLXX/62WyYlgsN6b951GE+AiwaVuPvmtqnmtRTmMxnfoM/UvPKMQ5R7a4XvAU1jHX6cjwbBSKqo+hSFUs+JFHVH46PGOkqTuUTkH/0I+BryGaHVszlfL3Q5AtM+clQ00Ey69ZC9ED4P0GR5uJsRHsmTLNpLheISry/mrW4nuFk+qhT97BlXP/imT1msXCQ8K+DXO4My0Nvogldp7cY8tyuSLnwAWEm+8Zn61wxbtTpZKHhAClPkdjCeZ9bBsfEshi10KrSy4A5RYe0wgc6o9+6nS7z7vOQMUd/42V0hXAUt97lZECcgiECgalcAvPZzg2Nmen19cKH++lSjb1It3+oKGiE21z/AAABLEGeG0URLX8AAAMAAAMAuTyngzUPUSEII0PuwYtIS7F2eywmdTXfvqCiyBmqSIzC8NpUmyv7m3/SK6RTiw7DaqowZoqXw8/g+l0dAM9EGonW6vcmBP7DtAoFHnD3AN2R2HU+Ovz3JUyLuHJTQTAlGPI9OPKlBQWgC8hImNysHF8VKSCG1A47W3Yx5RFfVSAspuiJ00gGtRNvRjWtUeVZQ5kKdbEEDExQPtSiiF5NcVyDuZRATlp2/dMY3WWoMr2O+QHkg/lzh9QPOwNyAiIh2dm83DfM3JRyfQWi3Ubjw2nUfEWFsZx1zGKj9rI91gBvwVYONCTrWXpqZ3KpgX4gG1U2R2l1Ya5S29XVt5a/ZJW659u0fAvCGgmguz4oAvfEnC6LAAADAAADAAAl4AAAAN4Bnjp0Sf8AAAMAAAMAvM7ES34rs2RJ+V/E7ptAs21/s3UdCF/cQUEBJZSi7fQtr0bmoDJhcT8jFtS/AAADAABDC/ftEnI3PhW8qapAOvUkVaVLXz4dzBw3zQcC1Wg3HTTQvF5hXsmwSnPkZdd7JCGaYoKm7fiI/O4ACuzRt9Txalz/H63/nzusAA7gsf05anG70/ZcGpuLuLPaFQxp1b6vjBhHqv3le769A7nZHFBRRV4IRowB45WEPLiR6h/fTGYTNalBD1yd3gyJbjNCS7de7OJck1QAAAMAAAMADMkAAADjAZ48akn/AAADAAADAMSlSje+2XfT4xe8xAzWtrjhgFG2IRGMPirbZKRGWQeXB5Q6qBXgvcr1kkDMUAAAAwCxoC26wKjyl4ykh08RzLVL5AMwZPhttQA5p+cCDOKZOYCgjkQHT454reaQfxMsuWTBbpmEsV4UhC8Ftngz6xm90WzfpWKBtc30EdNLP5dfc/ulnAnH6g9oQ9ocA4GGJl2auQcCOOsTzEP3jVu3qTZr+t3P1P1cHJm0e4E2W1fpWVVQ1dNKEMgHE1A0z5jdLLWhKG9+EmEpd/dfRjgAAAMAAAMAxYEAAAGtQZo/SahBbJlMFE//AAADAAADAAKHFq+a47D9/ONhlatCRpi6Slgtm2Tybf31vC2585On458k+Q1cFCzHV4pTbfiURmviEADjFVaqErDDeuaDU9lXaI+tqmaA1GETvYNtQuK0KSgxudBLPALaUBelL0915kDBp4bJ2vphHgKdw6UsJHn2yl5dm+ftQtOeSzTI0IJiYWz2p/CyjPNaXSlOO7LR47JyUrDUrkt93CdYFuJ9a2GR02OG8EHBgCln7CVgZMho28fKlGs4g5yCrru6HRog0zAXf/6PW/aK+rjjCFWyaBK77/tDS23By9gWB5MiU3xHp0KBtay/O+gYra9+UDHz77bK1i+ERW/5G+P8u6tZoJcAbNbw34dJDJcP6iWk2CK0AcM59B7drKKCjcE9nD52/1KUF+61QjXtwTS/v5Y7Wg2slSKDWiN7T/rSRxe0hpNOPxaaj1WEysHH684fdqSu2/4zE4Y/eh9zy5dAZYPm9u0382P1eQmADG2rls/xoEOQS9CNehwVgCFxcvGyiUQSfi4z1VgRIfflrqBxB4om3J6wDniVacHpCUqIAAABAQGeXmpJ/wAAAwAAAwDNB4CwrFFmoF0WLxzzhfZyFUrKn5mswG/YRMQwARGAIXVJpeL/Lsx+avsdZYQbOAAADfRPedNpgjyodUOTIPlbTK0A8rbFYcCPO4uGXXe+SJSOhNgOOGld1peeApFkGgb3KZ3PxVHcHtu8LZ71MFNfpybNHDQ3DAKEdEAdjBJ1pyV620sWpJT9cYlTpnd7YlIskB3NMWaLcOjpkVFwrUsoW4nwhS0pmev8WSbv8iWkPkQvaCgKULcKPlaRv8Q7wWPkmcjhmNYaAMlnt4P1dv2CatD1/5NjFW4UHMsW60SZaUjTVAT1wxPaK7A8paAAAAMAAA3oAAAB9UGaQ0nhClJlMD8AAAMAAAMAAqsb2N/beAXc/oBu77S/rGUnmuoMJKl6+bRS489Re2xhKAvkLYhFFbPHXC/RsK/Viq2YLqEV+TbQt2WlQE6LELz0jAAdRuTbVLbGbIP2QATeM2cyWZYCJxfn/6F0kq7O+hH2nth4lYDlm6Ctso+QjVN4IbtevcEkTp6L6bPg8u7moaVkZZZn2FelqAbOzaK8TkLTzAGcm4c8WTv8FZmnFQn5MfTGFp3v69TTQvlmlVCer6mdjOpPW+F62lL+Go+Ogzc9E676Uqmvu0fjojJ6RBuHK3A3LuyIqrbj07lnoZQHTXmHgjPsG7wBzCVQSM/cf9hoMzyW+bZHHdDKr9+95FCG67oUDcjtdlPmup5dk5AW4AzwvrtouRkDCeQ0kTLe8xna6AnskA3AnKxtU3zsXPmV1EK3iDGNfxAWXcdPKPD+rKYvsglYVzBlungLv5JnpgWt0XkO9aGflk8c92pDz4gBUNHpynZ8+6MRchiw5xDINxuiyiuXhW1eGU2qI5iv3q7WzFzKTZ7N7axDmubzTwmsSOnEp4twkXBC59Z+hQW119f0tA4Da8VDQJ5CSYYr1obhJZhNxnKcepgqIZldAcQ471P6xf+19wGRXs3ykp7PSUew6edO1xlF6AQhW8P/VbaJzQAAAXdBnmFFNE1/AAADAAADAMzuxQ7mafPGt70aJegkKRMO+7GbE9bOKUkFto2QgIwlfsF27VB1iqkJSfEH8JBfauzFQ5/Q4nVfmBPA1gH3u1pfqLjcdNgipZIqrlductdwUHL2Qd1sRuFp56wv3YgIoGzJ93yeT8l8/MEiM1oXYGe4R4gBTqMd1MaXivHwuiPZMNhZGFEprnxzoxeuep4ojxUkxedG1WIVwZihT/SMoojtqm4E7VXEM5FexXoar9xEHqzj0Aaz7u+J57PhdPvzO1s/xgyBdUIiwI4j3DCeSsX1ZX6nU1AQmSqn6mEqlwGxc6CmclqXmKhCAiCRPSbTtSKcCRxuwjxSHmDquRlwYEMMBOq9z68reIvyJiE/QQy8RJsnriQ2qMrYu6kofC/nskDJWB7chvpvHpI7+z1H5gswD2xyYpAnphr34cBbi4fTJXv795IzP0zcnpCQlTSn+UbQqVYj6SW9pPzIowUb1ZAAAAMAAAMAqYAAAAECAZ6AdEn/AAADAAADANID9MHOz7K1D+b/OWKYZgqUaHJf6i3mvPDLZqMe6hXvhxD//IvNInxkjcuwXcYR+p/SRBAAAAdInGXv0kbzNqeM9YB6a4bPTA8L6qrenx9Hn6eqhCAYNrXtJX/UA1cwSSow3nY4Piwvo1jWyMh9DlbYb6dfyi0EtN6X1d2+DTyJN/WO4xQ+K7QAAAX7nnAYi90s2FXUH9vyWy4ZE/hmAYWZjFIejxPWtHJ4UZwM9S68+dfmihh5HlKeG/3xFK4E1fSwPooag59fbWtKu5v2qVJw5HPQwHrct0W6nq4OzDQL6lNB0CUM6Usftj6k476AAAADAA1JAAAA6wGegmpJ/wAAAwAAAwDX5zafAc39lX/T/sDREasdlODy/tCIUZ6ZI3jWBhsRf3EC9MCHf/zFcQ1lFE4V1R3oI2Lrhyok2MaBmgtyfkvKVRZaxxRLo13VwOQbVM+1NdWQ0HcqFbrOAD0JbfxZ2qDSjSIEp0UiP3cutdn7eF1jmHy0LphzY8E3m2n/PqatKdtzxF5NgLjzGc4HzcN/3ftf0xPmHFfheBgeNLfFTfF4LSsOZjYNxwvHfHBXI+8yCVTVPxOeLrgtrnvKaVhvVF3FuVjoEmxOVsITz69Sv1xz/9exqAAAAwAAAwAA+YAAAAImQZqHSahBaJlMD/8AAAMAAAMAAs8b7P0d7U9f81l0bdv75D+vxKbQ2RjydKl6+bRS489Re2yGZ/wrmTZ7JZQtuUt4vrHSv4APYcXuHxuyRYoMGhd7V3HtmfiLBel3cJ0b0Bv7TErBBap/gzUHjaXmOkcNH7xepvAH7cTt0Q7RQmCzP9wrI/ZBd1d2hBYdzPw6UOAY/KKatpN1rP4wpx90+UXxIoYnq7QdZLr2C11iFINCGvPrd+IFBYK52eJINtQEqVEEQ5NB66xqgZ5mJ6bNecw+nI2wsxhzNlY58nf8H9RXlKtrU7//QctWO172UXgQD5AGaiI/gxrJZgQqoFfDETWltDoMddz1P7mOt6VosNGZbPUuruC/wopIaHKQrwzMMMgUTXJOwtnxnacRpeLcIwsMr7IBCv+leOTsII7dZ+0wLCAK2ZsW8OVsYBrD/4nfQUSWoAJkX0T4kYLvgLnUORTqcbd9i7OptfCI5h5n5eYl2wx7cYKimINrZ+PC4fL0u/UzvrzIhh3VDdKhe5+Z1+LswjRkVvlxhsAqj8rQFRa1g9P+7b2T8Ac3D5ks5gBz3vOoPveApJ+IGVNNFwYHMg7V0Yb9WhG/JbVGEUwjmb1JzOcnNyRsz0/W2NVma2VHFHoTU/Jte7+IoW/DLmmIiDm50XpP23VhCcWvvM4Ely9jQwAFZf31z+M7HpVHvi3jr/iGIaLdxNy1tDQSxGpwNlmbtbDq2QAAAZ9BnqVFES1/AAADAAADAufgR42R1g/hoKhB61SP5z2q7CCbQ49LJLh7PNFdPQfoh/SK1Dv6+drqeTIXOy2qoDuhoRMhsJ2GrzUAIRAwSRvQ1OVTao9TBSkhJbrsgfh2NuCXcL0mXSzOTbyy4WoxSwOnBD25RWdX/j0t9+XhdCAr3yted98nd2Zk+VsGRkskH+KtAM73MjWv/c0zqiEWmXkn/LjQiy/UBt+dSSuRS26ZDlji/Ak07vdPin12P+RFLnyJHUj1xAiZyTO9LEsE+HVBJ8UnnoO1fJO/W7Dq5BRZOVMA0urQDtAB5UUfCQHtkWNmDGYeZnPlaWihT9jzFrB5FjfzZP8NdZODntQ1xOI+fbCUrb77bfFojQnushijDfjGtfaAEdxZgmasCYD5K6rfYn5NrAipP3C8RwwqtQQgtmLihEmvo+SEB5rjDgM0Oxbh1ok0kSwe9TjJfW+/xPusPyvxNrzFOshN0JzgHtQU6xo0xjd7HzAVgM8ANwje28VhkOO012svwPqv2CSuO2gk/NDseRWgAAADAAADAA1JAAABHwGexHRJ/wAAAwAAAwDcG1INn4fW5gsLZM0Y1Mj52+Q/fRwHbEyemzkDDaC3uIJ4YIOjAMPpjEsK/Amy3ZqrCBRjUJ329f56g+/ih1o0bXwgIY28EHgEnI12URFYJHLQVyhNYfE2bTy0unZaZYkNNRh/AGG6B0D91yS2BCNIxZEspuA5cXsyYlNgR2bcO0zBcsOu8uKdV/fV2lZpV2nuy4DA0tde/9t39mTqAAADAa4Od3CFNS0dh+Z/agkPgZD8SUy/KeVHtDIDvfsGh1LgcH089LtlehIqWQd+GkLtjuaIP10vhCPh98uMC80XY2QzFrOTJj6Nc1lFuP0glEqHNkZJ4deh4NDbVcjmFHVQScaEQwRNuGBUvwAAAwAAAwJPAAABGAGexmpJ/wAAAwAAAwDhv8RkTeKWvOlEHCjAVV8Yj3CrLmH8MCssV8o7ONJp2CE1FuP/X9Y2NrtrG3w31n52PrCozxH7TkG3FUXfT2kZpEe1TgviYy6dZMO0592SmaSlL2YH9NWeYU6sqNwxfs6G1+YliFZtefwNtkMmjfxqN0NjMtVZVdNztCB4I6kInCd1vAzzJJEjwCq7qH14ZMOXEvxL4bq8bu50EJJLPW16pbk0+oeyRAIQHppqYsiD/mfM6YC90VKMIHBq1HEBdbfE4mjQpcB9fbodSxKNnBBNmHD00CeWCkXpgvcN6JDfyhbvgRvIxShs0nGuDzr2TTL1DK19o5uRlIfL+uUXgAPU1qgAAAMAAAMAGBEAAAGUQZrJSahBbJlMFE//AAADAAADAALqZsqGYrr0P5+GsdwGKhcru7r7aekDauF8EOOZkpGhD31efBLY7YPkNuhCSJnbDginqLaj5wJg+CWNCwKBn6W1LlRJgi2As7hoadAAm9HFmQW5GqkQHYftXCJt/m9o0IL89M42WXHI8F+/UH9TyXXJZ8zpNDR///jfW1Pn0GHMpuSOMzilTM4l4757SVDT87OJSqc/Iw2mVaNOz/vXXXPL+epwH10DBqyB6yY/NrMvutdCNgnpNioTV4S6tSK/YPr7xJek59RlLpuzUUc4r656zExfckW0Cn7AYoY0Rl25+kqvZTqJUUhzyiFCY94cd+Xvv8Pp3zXdEaot6aLrIorjXBIARAnY/iLJecEjqotTT0QyAEdSee5ajJ3BRodVvlgGOQMx0KQwte4XQxVU7Hk9aDz/FaVswoNEPKK1IwRdvsjsFYZWhWbLFYXF1rn/SHh1Cqb3pxJCtTp/+p2EZNEdEIY3lGAi6EFHsJdOfVlwYofdlMn95EqaoWMIKspjSkkAAADoAZ7oakn/AAADAAADAOfiOtaCbxS16iOfD6s+f3TOGPteW5j9m5Z1b9xCP15ANktOqWPVHAPnJLYUh7dEwAAAAwAkzU9jIG+ZZVVU96lATRDo4uJaaZk6AARLwKysUSwIT4phdBprbywRx4krVFZDh46Qv4Wau+tLlQgp/KtyoagDIzoCCFXqFQetPfDOXEAMVXkdLVh8jm5GtxpOaGM8Ac9mjLpasgeDt3fjI4L8PdUBlpa8YeUv7xd8VfE3CQgHqjiC2yV10U8cZnETJxNsGKnqlUlAc5fIiZBr3kaL7QAAAwAAAwADmgAAAelBmu1J4QpSZTA/AAADAAADAALZmd+2qOPXhPr3lxumOw0jNE7zr25qDlBMxxQ4wetlVZi6tR2qVaaue6ChkAGaZ/NpGRWtm8LmMJPKHyj3VqG2PY1wdmmbKT26dgrSREipwNrGuw+WaRvIbXgyY75RFocyF2R+XwLLC5xzAXf0PDGyvfrn1F6QxTh1czkk+Bgn//BESm8Spa+NVXy/Ce7ImbdHNw3U5abHtrxpvWOdGKeK2BWl7lW4iPFbMDBOjHhB8zjXrkklkE6x/+/+kzASsVMJpnIHPPCV6bw5Iq+fhg2JiV58judgPFtcQjUWOAAEbo9peafwKAkrNNYiZl8wqYA/b2uKqZQrpMRqSfQ9Adom9VnGUKmusTO/znwP4QinCgep1nqHKNMjVvyCSUr+12Nf/Z3m5vylso2nxMdy5NuF2rlM3ToZ5EJtrAPtl+yimEuJTdCQjry9lIjdKSd5glfksv5vUjrZ9jJ7QCi6nttgT052MkFAvQLJDpR8mnPut8PnYVqShgij5aQ85zXIcp3sJcuFu5B/rbjdjBt1nWEYuEsOqnfsGLB4iJFXzhpD8LScUuNZKuRBabs93XndI6tnjL4fcUR+FdfNZq8SnFm37ZE5jZGnM3yhNWsKoP19p91Og204pWEAAAFIQZ8LRTRNfwAAAwAAAwMjDi2OoyTJpEjv9Aj6rdAU89KYDQO8NMiQOVgnXehyW906tp/Oi/KVkfAjDY62IjW7fww+CSf2BOF78UeyFrgjMnJn/qKqlekRbJvaStnh76xucMWez8mpwq+CvNl0yayE2Rk93nb3BHrWUENHiWzfdH05AnKQuz6gEa8G5WspRan3b3j7xpcpPY0FIxdLRt+sOf8VpqL7+kItf38RklLypz67UTvI/vGleTwR6n0zUWa6iq9kfzu2F90h0iMZqRMgo7kPUK4E4H+yPkY5kOWEjiomdcqHdj9g+Wng+/tr8u9V3sUzkFGOf4aaSQwx2zMVzhK7C1F04aJOmw2pMBPvkdvGDIa+zKDyhXXUyGA0fxLmDMPZuBoH9yKUAwb/RPwPQkZ7YkZ+JtH23bIm89GFsQAAAwAAAwAOOAAAAPMBnyp0Sf8AAAMAAAMA4tDzHkn5X8Tul689lOcMe/SpGL13juvB1CMerh87do3D0BDORwW/q//k1ngD8blRuEHPlzWD/oJDVBBO2/8/yqO/i42YQkm0Igve4+/m2Lt+AD1Hsq4GAXlOmF/+u/JCBeGh9yzSfpwE8bKYhDypqh0iQdoYOp8Rx+JyzP+n3R6K51P8J24TXsAMU7h5gHn3X7lmHmm1i/8pVUv9nucuEBNYLx4iKTOuXHtqiNjYfhl7988y9F9aLaxrAl47xSMGaykULTpISWtwArhXdjyk+beasyR/V2/tWjNiVs5ELwAAAwAACygAAAC+AZ8sakn/AAADAAADAOLQ8x5J+V/E7pevPZTnDHv0qRi9d47rwdQjHq4fY83SSHwsL92Z4chAZlGXlGka9lxXhpA4isoAI8MH/iWRPi01UH1bYT25AVnOCujTFJvksW4vBnhYITl0OEPGdpQbgvoYDDH/f+n8EFMi4xK2XHw9eoWJyrn5Lu7XjF3VHCblVeJg8l2YscLAYGtOXikRLo8VwRzSZGwFOrslKSDd65IYtmLIh22PGgAAAwAAAwAqYQAAAYNBmzFJqEFomUwP/wAAAwAAAwAC2Znftqjj14T695cbpjsNIzRO9ERjLqTPwGZB+jIXDNPMtUI42x+ZxPitkz6zpBVdbiPn44zmZ9VX54vm0UjDuO2d8l6g3PbShOBeP+GfNQI3qI6PT2+Zt9pCrpSyTVJV3u1+RWedvLgnlGDv/Gh3S73efW828Q1tKfeidKkmM+ormd4GeJxajGBj/nbTKsM8SyeYa8iAOy3GMW562qLsj71BFdzvwfuQxlJ57Kn7NWL3QaOhDv1SJImhCFKNB/9c3z09e3tkIURnDH+a1tuXO5AiIc5krgpGd+hXKBWc78IVOHrpfux6MXIoZcqHyQVMpX3LDZN599ejna0IjdanJjtxnSZifns/eHeNb2CepzcGoH5qTYbchaKnw9ALKyNIbTHFOwj+XEUVBtOsBIA2QjhTkNKJbaTU3CLLHxzpNBppezg+rgJ0WU+1D+UBkdIerkmRl0Wg0eCw2OTRzGeFBCBn/quLAYj789JDPFxjAl8AAAELQZ9PRREtfwAAAwAAAwDYULrnxUD+nIQO70QWYY1D9vmw40V88J3iBxJbea8Hldbul/FlragLNfKH/h1WTzC9k7VSIhUIFYCpOyP4tq7iRYe7/6jwsaCuws0WQd29v16MZApdxdXsFcb4FGHqslGlw36GXECzjQ+9aBDG5FEdn9AKUanZ7q5kuFEc2Lh4vu/AI+lZKr6JTw8+mEOAWHPocNJx//NUYX8Cc7HjqH/eVLMOB9wIHO8zCxy3+bszBPXxO9Od2vfe8RM/g2pUro6u9SOpxX4xzxhUNLfKli+lt2W9q3nGJnujw4gb9Ki2UJcLGwpT8Vk6tfUzydVB17Dt3JjeQAAAAwAAAwELAAAAywGfbnRJ/wAAAwAAAwDi0PMeSflfxO6Xrz2U5wx79KkYvXeO68HUIx6gRVRDWKfxXat447o2zmbr/C8RRu1tJZ1w3enTgTM0GqxDnwM4rFhFlQWgVKnlcY7FymzTyM9Z126meDogi0WmtPVeI5ixOjcTot7nmjm1yy5YBxWex7mYzJRPkfT6X3s0vyC9ikpsuK1ZXforOnRFVuFKl0+2iKWZUZ5EPS+QHRY/RMOPU3260fJuShm5Phjy3xa5lT0iAzjotAAAAwAAAwOmAAAAxgGfcGpJ/wAAAwAAAwDi0PMeSflfxO6Xrz2U5wx79KkYvXeO68HUIzqtz1a+BixmVYibG9ff6iw40TEmW/52Nxkfbueo2sKVpUoFp8c55nAJr22WYluhT4f5KKjpI756GFeuXQM2Vbfvwo8gMKtP4OPxQSWYF7/AWWwOYCJs9/D2EYuxmriXNlBf4Uy4CfbEy/6DaqRMmqwNh7VbSX27o1ZtZ9k2aU20TOkVSM2BcGeqFNNOIJthQZ3AwcsiFVL4AAADAAAScAAAATFBm3NJqEFsmUwUT/8AAAMAAAMAAtmZ37ao49eE+veXG6Y7DSM0TwMwP1Yi3/SzIrwM0bKAzxMjAboZVLFSdmka+M59xH5sBCvd3J3jBmsE8RJHJJFuYAzg+eOhYoxCSVDgQT10vNSmMKSyB34mAUEatD+DnxD5ejXPvIrlD/UwfD2EqO7Ijg3XMbn2HvcyvDL0xoY4mNXjgeeOwgVYJNDkmrNYvZjYgNbHCRN+j6puf7KhunBUZfv21hhPBs/++GJ7+Q384ZtzkGnTpChQVKUF5gudgz+gGaBImxKNUeQvma7GchV9Q2Shpp4SV1DDASiWHUmw/ZjaYrZLY4JAtUnmDQix1LcZcGT4eeVcmSB7wIAADk++MWsvQC0yVzZXy4CgpxfPreF75LhAGqyU1/4fUQAAAPABn5JqSf8AAAMAAAMA4tDzHkn5X8Tul689lOcMe/SpGL13juvBz1F11xZtlatOTjTwpsxn/m9+TieEoXdGAT5XhFmi3Ggy+osymVnJsubAgU2qN9juZD0geDbyo986DsnHVexXcGI0tmeVrvROyeVp64ImCyFpbu3okzk68Ua+bPNtx9ewOXOy/BgQv5eeSpGK7WAiqoSeyYuRRNH1s2AVAZuFYS44p+6A+8g2TWV/bLIyzfZYAaeE6L/0l7rSaBMKtTxkgdZp/2mH1TTJfhYPTjz/tL43BZvso/nnKJIcx5HxMYLPPj9aWAAAAwAABnwAAADuQZuUSeEKUmUwPwAAAwAAAwAC2Znftqjj14T695cbpjsNIzRRlkncCd2xu7pB9QAAl596/3yCeDoSftwe8wEMP5PezjAMRKlJdGndlvY0AATaqnfLtbs/4Mtztag3TyYKl/6oTQToTcvmz+N2rOZ6RD46yRZMdLi2n9MWOhAZPX1Swh+xYi8RkT276m+nrtg8HFvmGo68s5aUBBLPxoYh3sJE9K0hKY84Qwh+AaD7HkKGmROfR4vJ5r1dX1NjubHhiJg14f+vqUqbhkOVhRmC/j10+DhwksVJ4vbGMiMAGXGej0E/OVA+CFwkOpcwvAAAAVhBm7ZJ4Q6JlMFNE/8AAAMAAAMAAtmZ37ao49eE+veXG6Y7DSM0p7fpuVLeqg2szlcAsioewxGV+telIcUsr8SJf3Dw2A96GvCtIJbk1/IrZCrOan7MaLaxbh+QSgNf+ljQAI0f2oQpLMQgv2tGRwGBslHOdpA/kwuCv6+t6QKX03SKRaS5PIGPuhXi3L64Dm/oVRpWnYpFEO87foMMG8583nsyE7C2Xe/wK05sVtYEXtKb2N/aO9d1F4t4X8S4G2A+kf/8NceN7D46b/Ouprv4lL6iNbN6JubjVONZOszR+EkvPvfJi5ZVHT8ZyZTjkmUYOYiyVGmjXuHodOQ1trAGP/+wX9ofdDIUUEIBjMP+OwwT3a9DKmI5CrbMRoKF6gRmiqwFsHt4D2W5Gk+2h+mWqea8Ef/SznLS/pbKYF9BZ3UUwsvaThODZauBYcZ00NRzUi/pGrUCYQAAAK0Bn9VqSf8AAAMAAAMA4tDzHkn5X8Tul689lOcMe/SpGL13jpoPiuhBPUyQNvHFj4WmHGqILLcXz+e5Urmmrf7pJHNn+o5XnB2oVhDsjcJTdCMtjpMOzEga+x/KeTtcAkJ3AolW8X78ZbtPA64ieNXUccYmmnFj8ismYos+gEHQFW1qKYlNbBWI1xtbJ/uZdlzWaLxOBmdsieLPWMQdU94fnsZiCBw4AAADAAAHdAAAAQdBm9pJ4Q8mUwP/AAADAAADAALZmd+2qOPXhPr3lxumOwvujLqVfwGZd4PKNkxq/rNr/U5HlK2iRsfS8ikCZ06MZcWdkBfBDAFYAutPXJSq5mWvmt0zcr83tSbZZN2vcOoadDEyCZb5its/eE/dVF+ysAlkQ0rdVTx0uLFgf0TcDb5j72Dxc7llqrk3kFa84G616Y0xpANQO6nU6XSnCRkfe5ORAG3vbhdGCuUgRp4qRr6MwYZEkw8z256MNt7QEO0ltop3D4EdPydqUXyqH0uiSVQOCVw//8sIHaYogOFoq6PCiboQ1T3wAZNhur/gUjQF55/s72SiRDA4LIO2PQ6EdGk3RidTbQAAAPhBn/hFET1/AAADAAADANhQuufFQP6chA7vRBZhjUP2+bDilajg+BrbiTXBxThjIrclol0jwFpe83u0ZuRLX1ItPDeQBmJaxMK0CZaHqUEhyVkoWA3eLboMs8esDaa5Dz+a+PQnsA6ZXVOjm4veshvxtj5VmN6uVFkUSSMm+DkQnTAGRAfH8grPymO4SwVvV/+52gt+YxRai81WLFgRGaSWo7JRbj4SZHfPX+Kvuq2CkGCbQko0+sFk9fskPninRpwhhn8MCrs31YbtJAA/hav8CKjYCOTtSnGXMiraWlw7Qs39aTS1ZApf8Yyv86sAhwAAAwAAAwAVsQAAAMMBnhd0Sf8AAAMAAAMA4tDzHkn5X8Tul689lOcMe/SpGL15DC3QgmuK8unVgPSRlcmGHiNwhxYySGtbD0zHe3Bdo8zAB71EmhLQU7/XeR9T+06CldHsuCSZLUnZBvDd/fv6Jnco26wg9rS2+WH7ymKUZU7b4ztkr+kjmBWOnFYyF16KBl8Gp0w6rySGEB06fL449kSAOE0mSkLj7L+AYv/r+SEOYbtpjZNR2FRFg1Fq/TX0Nd+FepGSx+EoAAADAAADAtoAAACmAZ4Zakn/AAADAAADAOLQ8x5J+V/E7pevPZTnDHv0qRjBjLo4fiZ5gDJTiZjW7ILEVDxHNCldoQgUWCizOm43Uc0pjmhQSyEckn9DU4HfEwe2BVYeWu9Dh7/jpjFJXFRYgVRT7uJrz49mq1a2VZKAZ7uqFau+l4MpK/jiMki/Eik15U+xqR4gpIe5gv+Ruy8jfvRfkfGKTgevmYHt9kzaAAADAAANSQAAB2Vtb292AAAAbG12aGQAAAAAAAAAAAAAAAAAAAPoAAAF7QABAAABAAAAAAAAAAAAAAAAAQAAAAAAAAAAAAAAAAAAAAEAAAAAAAAAAAAAAAAAAEAAAAAAAAAAAAAAAAAAAAAAAAAAAAAAAAAAAAAAAAACAAAGkHRyYWsAAABcdGtoZAAAAAMAAAAAAAAAAAAAAAEAAAAAAAAF7QAAAAAAAAAAAAAAAAAAAAAAAQAAAAAAAAAAAAAAAAAAAAEAAAAAAAAAAAAAAAAAAEAAAAADIAAAAyAAAAAAACRlZHRzAAAAHGVsc3QAAAAAAAAAAQAABe0AAAIAAAEAAAAABghtZGlhAAAAIG1kaGQAAAAAAAAAAAAAAAAAADwAAABbAFXEAAAAAAAtaGRscgAAAAAAAAAAdmlkZQAAAAAAAAAAAAAAAFZpZGVvSGFuZGxlcgAAAAWzbWluZgAAABR2bWhkAAAAAQAAAAAAAAAAAAAAJGRpbmYAAAAcZHJlZgAAAAAAAAABAAAADHVybCAAAAABAAAFc3N0YmwAAACvc3RzZAAAAAAAAAABAAAAn2F2YzEAAAAAAAAAAQAAAAAAAAAAAAAAAAAAAAADIAMgAEgAAABIAAAAAAAAAAEUTGF2YzYwLjYuMTAwIGxpYngyNjQAAAAAAAAAAAAAAAAY//8AAAA1YXZjQwFkACD/4QAYZ2QAIKzZQMgZaEAAAAMAQAAAHgPGDGWAAQAGaOviSyLA/fj4AAAAABRidHJ0AAAAAAAB6XUAAel1AAAAGHN0dHMAAAAAAAAAAQAAAFsAAAEAAAAAFHN0c3MAAAAAAAAAAQAAAAEAAALgY3R0cwAAAAAAAABaAAAAAQAAAgAAAAABAAAFAAAAAAEAAAIAAAAAAQAAAAAAAAABAAABAAAAAAEAAAUAAAAAAQAAAgAAAAABAAAAAAAAAAEAAAEAAAAAAQAABQAAAAABAAACAAAAAAEAAAAAAAAAAQAAAQAAAAABAAAFAAAAAAEAAAIAAAAAAQAAAAAAAAABAAABAAAAAAEAAAMAAAAAAQAAAQAAAAABAAAFAAAAAAEAAAIAAAAAAQAAAAAAAAABAAABAAAAAAEAAAUAAAAAAQAAAgAAAAABAAAAAAAAAAEAAAEAAAAAAQAABQAAAAABAAACAAAAAAEAAAAAAAAAAQAAAQAAAAABAAACAAAAAAEAAAQAAAAAAgAAAQAAAAABAAACAAAAAAEAAAUAAAAAAQAAAgAAAAABAAAAAAAAAAEAAAEAAAAAAQAABQAAAAABAAACAAAAAAEAAAAAAAAAAQAAAQAAAAABAAAFAAAAAAEAAAIAAAAAAQAAAAAAAAABAAABAAAAAAEAAAUAAAAAAQAAAgAAAAABAAAAAAAAAAEAAAEAAAAAAQAAAwAAAAABAAABAAAAAAEAAAUAAAAAAQAAAgAAAAABAAAAAAAAAAEAAAEAAAAAAQAABQAAAAABAAACAAAAAAEAAAAAAAAAAQAAAQAAAAABAAADAAAAAAEAAAEAAAAAAQAABQAAAAABAAACAAAAAAEAAAAAAAAAAQAAAQAAAAABAAAFAAAAAAEAAAIAAAAAAQAAAAAAAAABAAABAAAAAAEAAAMAAAAAAQAAAQAAAAABAAAFAAAAAAEAAAIAAAAAAQAAAAAAAAABAAABAAAAAAEAAAUAAAAAAQAAAgAAAAABAAAAAAAAAAEAAAEAAAAAAQAAAwAAAAABAAABAAAAAAEAAAIAAAAAAQAAAwAAAAABAAABAAAAAAEAAAUAAAAAAQAAAgAAAAABAAAAAAAAAAEAAAEAAAAAHHN0c2MAAAAAAAAAAQAAAAEAAABbAAAAAQAAAYBzdHN6AAAAAAAAAAAAAABbAAAJOwAAAM0AAABuAAAAXgAAAEgAAACBAAAAcQAAAEwAAABgAAAAmwAAAG8AAABvAAAAYAAAAJcAAAB9AAAAbwAAAGkAAAB5AAAAeQAAAQYAAACOAAAAeAAAAIsAAADpAAAAkQAAAIsAAACIAAABEwAAAM4AAACdAAAAfAAAAKQAAADxAAAApwAAAIYAAADAAAABQQAAAOEAAAChAAAAmgAAASsAAADSAAAAlQAAAJMAAAH0AAABegAAARMAAAE9AAACEwAAAVgAAAEQAAAA4QAAAZUAAAD2AAABlwAAARoAAADkAAAAzAAAAckAAAEwAAAA4gAAAOcAAAGxAAABBQAAAfkAAAF7AAABBgAAAO8AAAIqAAABowAAASMAAAEcAAABmAAAAOwAAAHtAAABTAAAAPcAAADCAAABhwAAAQ8AAADPAAAAygAAATUAAAD0AAAA8gAAAVwAAACxAAABCwAAAPwAAADHAAAAqgAAABRzdGNvAAAAAAAAAAEAAAAwAAAAYXVkdGEAAABZbWV0YQAAAAAAAAAhaGRscgAAAAAAAAAAbWRpcmFwcGwAAAAAAAAAAAAAAAAsaWxzdAAAACSpdG9vAAAAHGRhdGEAAAABAAAAAExhdmY2MC40LjEwMA==\" type=\"video/mp4\"/>\n",
       "      This browser does not support the video tag.\n",
       "      </video></td></tr></table>"
      ],
      "text/plain": [
       "<IPython.core.display.HTML object>"
      ]
     },
     "metadata": {},
     "output_type": "display_data"
    }
   ],
   "source": [
    "# Run this cell directly.\n",
    "\n",
    "# Visualize MetaDrive performance\n",
    "animate(eval_info[\"frames\"])"
   ]
  },
  {
   "cell_type": "markdown",
   "id": "2c86871e",
   "metadata": {},
   "source": [
    "## Section 4: Policy gradient methods - REINFORCE\n",
    "\n",
    "(30 / 100 points)\n",
    "\n",
    "Unlike the supervised learning, in RL, the optimization objective, the episodic return, is not differentiable w.r.t. the neural network parameters. This can be solved via ***Policy Gradient***. It can be proved that policy gradient is an unbiased estimator of the gradient of the objective.\n",
    "\n",
    "Concretely, let's consider such optimization objective:\n",
    "\n",
    "$$Q = \\mathbb E_{\\text{possible trajectories}} \\sum_t r(a_t, s_t) = \\sum_{s_0, a_0,..} p(s_0, a_0, ..., s_t, a_t) r(s_0, a_0, ..., s_t, a_t) = \\sum_{\\tau} p(\\tau)r(\\tau)$$ \n",
    "\n",
    "wherein $\\sum_t r(a_t, s_t) = r(\\tau)$ is the return of trajectory $\\tau = (s_0, a_0, ...)$. We remove the discount factor for simplicity.\n",
    "Since we want to maximize Q, we can simply compute the gradient of Q w.r.t. parameter $\\theta$ (which is implictly included in $p(\\tau)$):\n",
    "\n",
    "$$\\nabla_\\theta Q = \\nabla_\\theta \\sum_{\\tau} p(\\tau)r(\\tau) = \\sum_{\\tau} r(\\tau) \\nabla_\\theta p(\\tau)$$\n",
    "\n",
    "wherein we've applied a famous trick: $\\nabla_\\theta p(\\tau) = p(\\tau)\\cfrac{\\nabla_\\theta p(\\tau)}{p(\\tau)} = p(\\tau)\\nabla_\\theta \\log p(\\tau)$. Here the $r(\\tau)$ will be determined when $\\tau$ is determined. So it has nothing to do with the policy. We can move it out from the gradient.\n",
    "\n",
    "Introducing a log term can change the product of probabilities to sum of log probabilities. Now we can expand the log of product above to sum of log:\n",
    "\n",
    "$$p_\\theta(\\tau) = p(s_0, a_0, ...) = p(s_0) \\prod_t \\pi_\\theta (a_t|s_t) p(s_{t+1}|s_t, a_t)$$\n",
    "\n",
    "$$\\log p_\\theta (\\tau) = \\log p(s_0) + \\sum_t \\log \\pi_\\theta(a_t|s_t) + \\sum_t \\log p(s_{t+1}|s_t, a_t)$$\n",
    "\n",
    "You can find that the first and third term are not correlated to the parameter of policy $\\pi_\\theta(\\cdot)$. So when we compute $\\nabla_\\theta Q$, we find \n",
    "\n",
    "$$\\nabla_\\theta Q =\n",
    "\\sum_{\\tau} r(\\tau) \\nabla_\\theta p(\\tau) =  \n",
    "\\sum_{\\tau} r(\\tau) p(\\tau)\\nabla_\\theta \\log p(\\tau) =\n",
    "\\sum p_\\theta(\\tau) ( \\sum_t  \\nabla_\\theta \\log \\pi_\\theta(a_t|s_t) ) r(\\tau) d\\tau$$\n",
    "\n",
    "When we sample sufficient amount of data from the environment, the above equation can be estimated via:\n",
    "\n",
    "$$\\nabla_\\theta Q =\\cfrac{1}{N}\\sum_{i=1}^N [( \\sum_t  \\nabla_\\theta \\log \\pi_\\theta(a_{i,t}|s_{i,t}) (\\sum_{t'=t} \\gamma^{t'-t} r(s_{i,t'}, a_{i,t'}) )]$$\n",
    "\n",
    "This algorithm is called REINFORCE algorithm, which is a Monte Carlo Policy Gradient algorithm with long history. In this section, we will implement the it using pytorch."
   ]
  },
  {
   "cell_type": "markdown",
   "id": "3f3f6bf3",
   "metadata": {},
   "source": [
    "The policy network is composed by two parts: \n",
    "\n",
    "1. A basic neural network serves as the function approximator. It outputs raw values parameterizing the action distribution given current observation. We will reuse PytorchModel here.\n",
    "2. A distribution layer builds upon the neural network to wrap the raw logits output from neural network to a distribution and provides API for sampling action and computing log probability."
   ]
  },
  {
   "cell_type": "markdown",
   "id": "20b067b5",
   "metadata": {},
   "source": [
    "### Section 4.1: Build REINFORCE"
   ]
  },
  {
   "cell_type": "code",
   "execution_count": 65,
   "id": "82ccbd96",
   "metadata": {},
   "outputs": [],
   "source": [
    "# Solve the TODOs and remove `pass`\n",
    "\n",
    "class PGNetwork(nn.Module):\n",
    "    def __init__(self, obs_dim, act_dim, hidden_units=128):\n",
    "        super(PGNetwork, self).__init__()\n",
    "        self.network = PytorchModel(obs_dim, act_dim, hidden_units)\n",
    "\n",
    "    def forward(self, obs):\n",
    "        logit = self.network(obs)\n",
    "\n",
    "        # TODO: Create an object of the class \"torch.distributions.Categorical\" \n",
    "        # Then sample an action from it.\n",
    "        action = torch.distributions.Categorical(logits=logit).sample()\n",
    "\n",
    "        return action\n",
    "\n",
    "    def log_prob(self, obs, act):\n",
    "        logits = self.network(obs)\n",
    "\n",
    "        # TODO: Create an object of the class \"torch.distributions.Categorical\" \n",
    "        # Then get the log probability of the action `act` in this distribution.\n",
    "        log_prob = torch.distributions.Categorical(logits=logits).log_prob(act)\n",
    "\n",
    "        return log_prob\n",
    "\n",
    "# Note that we do not implement GaussianPolicy here. So we can't\n",
    "# apply our algorithm to the environment with continous action."
   ]
  },
  {
   "cell_type": "code",
   "execution_count": null,
   "id": "3d772f93",
   "metadata": {},
   "outputs": [],
   "source": [
    "# Solve the TODOs and remove `pass`\n",
    "\n",
    "PG_DEFAULT_CONFIG = merge_config(dict(\n",
    "    normalize_advantage=True,\n",
    "    max_episode_length=1000,\n",
    "    clip_norm=10.0,\n",
    "    clip_gradient=True,\n",
    "    hidden_units=100,\n",
    "    max_iteration=1000,\n",
    "    train_batch_size=1000,\n",
    "    gamma=0.99,\n",
    "    learning_rate=0.001,\n",
    "    env_name=\"CartPole-v1\",\n",
    "), DEFAULT_CONFIG)\n",
    "\n",
    "\n",
    "class PGTrainer(AbstractTrainer):\n",
    "    def __init__(self, config=None):\n",
    "        config = merge_config(config, PG_DEFAULT_CONFIG)\n",
    "        super().__init__(config)\n",
    "\n",
    "        self.iteration = 0\n",
    "        self.start_time = time.time()\n",
    "        self.iteration_time = self.start_time\n",
    "        self.total_timesteps = 0\n",
    "        self.total_episodes = 0\n",
    "\n",
    "        # build the model\n",
    "        self.initialize_parameters()\n",
    "\n",
    "    def initialize_parameters(self):\n",
    "        \"\"\"Build the policy network and related optimizer\"\"\"\n",
    "        # Detect whether you have GPU or not. Remember to call X.to(self.device)\n",
    "        # if necessary.\n",
    "        self.device = torch.device(\n",
    "            \"cuda\" if torch.cuda.is_available() else \"cpu\"\n",
    "        )\n",
    "\n",
    "        # TODO Build the policy network using CategoricalPolicy\n",
    "        # Hint: Remember to pass config[\"hidden_units\"], and set policy network\n",
    "        #  to the device you are using.\n",
    "        self.network = PGNetwork(self.obs_dim, self.act_dim, self.config[\"hidden_units\"]).to(self.device)\n",
    "\n",
    "        # Build the Adam optimizer.\n",
    "        self.optimizer = torch.optim.Adam(\n",
    "            self.network.parameters(),\n",
    "            lr=self.config[\"learning_rate\"]\n",
    "        )\n",
    "\n",
    "    def to_tensor(self, array):\n",
    "        \"\"\"Transform a numpy array to a pytorch tensor\"\"\"\n",
    "        return torch.from_numpy(array).type(torch.float32).to(self.device)\n",
    "\n",
    "    def to_array(self, tensor):\n",
    "        \"\"\"Transform a pytorch tensor to a numpy array\"\"\"\n",
    "        ret = tensor.cpu().detach().numpy()\n",
    "        if ret.size == 1:\n",
    "            ret = ret.item()\n",
    "        return ret\n",
    "\n",
    "    def save(self, loc=\"model.pt\"):\n",
    "        torch.save(self.network.state_dict(), loc)\n",
    "\n",
    "    def load(self, loc=\"model.pt\"):\n",
    "        self.network.load_state_dict(torch.load(loc))\n",
    "\n",
    "    def compute_action(self, observation, eps=None):\n",
    "        \"\"\"Compute the action for single observation. eps is useless here.\"\"\"\n",
    "        assert observation.ndim == 1\n",
    "        # TODO: Sample an action from the action distribution given by the policy.\n",
    "        # Hint: The input of policy network is a tensor with the first dimension to the \n",
    "        #  batch dimension. Therefore you need to expand the first dimension of the observation\n",
    "        #  and convert it to a tensor (via to_tensor) before feeding it to the policy network.\n",
    "        #  Then, you need to unbatch the output action and convert it from a tensor to a numpy\n",
    "        #  array before returning.\n",
    "        # XXX: chech the shape of the output action, it should be a scalar.\n",
    "        action_tensor = self.network(self.to_tensor(observation).unsqueeze(0))\n",
    "        action = self.to_array(action_tensor.squeeze(0))\n",
    "        \n",
    "        return action\n",
    "\n",
    "    def compute_log_probs(self, observation, action):\n",
    "        \"\"\"Compute the log probabilities of a batch of state-action pair\"\"\"\n",
    "        # TODO: Use the function of policy network to get log probs.\n",
    "        # Hint: Remember to transform the data into tensor before feeding it into the network.\n",
    "        log_probs = self.network.log_prob(self.to_tensor(observation), self.to_tensor(action).long())\n",
    "        \n",
    "        return log_probs\n",
    "\n",
    "    def update_network(self, processed_samples):\n",
    "        \"\"\"Update the policy network\"\"\"\n",
    "        advantages = self.to_tensor(processed_samples[\"advantages\"])\n",
    "        flat_obs = np.concatenate(processed_samples[\"obs\"])\n",
    "        flat_act = np.concatenate(processed_samples[\"act\"])\n",
    "\n",
    "        self.network.train()\n",
    "        self.optimizer.zero_grad()\n",
    "\n",
    "        log_probs = self.compute_log_probs(flat_obs, flat_act)\n",
    "\n",
    "        assert log_probs.shape == advantages.shape, \"log_probs shape {} is not \" \\\n",
    "                                                    \"compatible with advantages {}\".format(log_probs.shape,\n",
    "                                                                                           advantages.shape)\n",
    "\n",
    "        # TODO: Compute the policy gradient loss.\n",
    "        loss = -torch.mean(log_probs * advantages)\n",
    "\n",
    "        loss.backward()\n",
    "\n",
    "        # Clip the gradient\n",
    "        torch.nn.utils.clip_grad_norm_(\n",
    "            self.network.parameters(), self.config[\"clip_gradient\"]\n",
    "        )\n",
    "\n",
    "        self.optimizer.step()\n",
    "        self.network.eval()\n",
    "\n",
    "        update_info = {\n",
    "            \"policy_loss\": loss.item(),\n",
    "            \"mean_log_prob\": torch.mean(log_probs).item(),\n",
    "            \"mean_advantage\": torch.mean(advantages).item()\n",
    "        }\n",
    "        return update_info\n",
    "\n",
    "    # ===== Training-related functions =====\n",
    "    def collect_samples(self):\n",
    "        \"\"\"Here we define the pipeline to collect sample even though\n",
    "        any specify functions are not implemented yet.\n",
    "        \"\"\"\n",
    "        iter_timesteps = 0\n",
    "        iter_episodes = 0\n",
    "        episode_lens = []\n",
    "        episode_rewards = []\n",
    "        episode_obs_list = []\n",
    "        episode_act_list = []\n",
    "        episode_reward_list = []\n",
    "        success_list = []\n",
    "        while iter_timesteps <= self.config[\"train_batch_size\"]:\n",
    "            obs_list, act_list, reward_list = [], [], []\n",
    "            obs, info = self.env.reset()\n",
    "            steps = 0\n",
    "            episode_reward = 0\n",
    "            while True:\n",
    "                act = self.compute_action(obs)\n",
    "\n",
    "                next_obs, reward, terminated, truncated, step_info = self.env.step(act)\n",
    "                done = terminated or truncated\n",
    "\n",
    "                obs_list.append(obs)\n",
    "                act_list.append(act)\n",
    "                reward_list.append(reward)\n",
    "\n",
    "                obs = next_obs.copy()\n",
    "                steps += 1\n",
    "                episode_reward += reward\n",
    "                if done or steps > self.config[\"max_episode_length\"]:\n",
    "                    if \"arrive_dest\" in step_info:\n",
    "                        success_list.append(step_info[\"arrive_dest\"])\n",
    "                    break\n",
    "            iter_timesteps += steps\n",
    "            iter_episodes += 1\n",
    "            episode_rewards.append(episode_reward)\n",
    "            episode_lens.append(steps)\n",
    "            episode_obs_list.append(np.array(obs_list, dtype=np.float32))\n",
    "            episode_act_list.append(np.array(act_list, dtype=np.float32))\n",
    "            episode_reward_list.append(np.array(reward_list, dtype=np.float32))\n",
    "\n",
    "        # The return `samples` is a dict that contains several key-value pair.\n",
    "        # The value of each key-value pair is a list storing the data in one episode.\n",
    "        samples = {\n",
    "            \"obs\": episode_obs_list,\n",
    "            \"act\": episode_act_list,\n",
    "            \"reward\": episode_reward_list\n",
    "        }\n",
    "\n",
    "        sample_info = {\n",
    "            \"iter_timesteps\": iter_timesteps,\n",
    "            \"iter_episodes\": iter_episodes,\n",
    "            \"performance\": np.mean(episode_rewards),  # help drawing figures\n",
    "            \"ep_len\": float(np.mean(episode_lens)),\n",
    "            \"ep_ret\": float(np.mean(episode_rewards)),\n",
    "            \"episode_len\": sum(episode_lens),\n",
    "            \"success_rate\": np.mean(success_list)\n",
    "        }\n",
    "        return samples, sample_info\n",
    "\n",
    "    def process_samples(self, samples):\n",
    "        \"\"\"Process samples and add advantages in it\"\"\"\n",
    "        values = []\n",
    "        for reward_list in samples[\"reward\"]:\n",
    "            # reward_list contains rewards at each step in one episode\n",
    "            returns = np.zeros_like(reward_list, dtype=np.float32)\n",
    "            Q = 0\n",
    "\n",
    "            # TODO: Scan the reward_list in a reverse order and compute the\n",
    "            # discounted return at each time step. Fill the array `returns`\n",
    "            for i in reversed(range(len(reward_list))):\n",
    "                Q = reward_list[i] + self.config[\"gamma\"] * Q\n",
    "                returns[i] = Q\n",
    "\n",
    "            values.append(returns)\n",
    "\n",
    "        # We call the values advantage here. Ideally, we should subtract the values\n",
    "        # by baselines so that they become real advantages.\n",
    "        advantages = np.concatenate(values)\n",
    "\n",
    "        if self.config[\"normalize_advantage\"]:\n",
    "            # TODO: normalize the advantage so that it's mean is\n",
    "            # almost 0 and the its standard deviation is almost 1.\n",
    "            advantages = (advantages - np.mean(advantages)) / (np.std(advantages) + 1e-8)\n",
    "\n",
    "        samples[\"advantages\"] = advantages\n",
    "        return samples, {}\n",
    "\n",
    "    # ===== Training iteration =====\n",
    "    def train(self, iteration=None):\n",
    "        \"\"\"Here we defined the training pipeline using the abstract\n",
    "        functions.\"\"\"\n",
    "        info = dict(iteration=iteration)\n",
    "\n",
    "        # Collect samples\n",
    "        samples, sample_info = self.collect_samples()\n",
    "        info.update(sample_info)\n",
    "\n",
    "        # Process samples\n",
    "        processed_samples, processed_info = self.process_samples(samples)\n",
    "        info.update(processed_info)\n",
    "\n",
    "        # Update the model\n",
    "        update_info = self.update_network(processed_samples)\n",
    "        info.update(update_info)\n",
    "\n",
    "        now = time.time()\n",
    "        self.iteration += 1\n",
    "        self.total_timesteps += info.pop(\"iter_timesteps\")\n",
    "        self.total_episodes += info.pop(\"iter_episodes\")\n",
    "\n",
    "        # info[\"iter_time\"] = now - self.iteration_time\n",
    "        # info[\"total_time\"] = now - self.start_time\n",
    "        info[\"total_episodes\"] = self.total_episodes\n",
    "        info[\"total_timesteps\"] = self.total_timesteps\n",
    "        self.iteration_time = now\n",
    "\n",
    "        # print(\"INFO: \", info)\n",
    "\n",
    "        return info\n"
   ]
  },
  {
   "cell_type": "markdown",
   "id": "1009bfc7",
   "metadata": {},
   "source": [
    "### Section 4.2: Test REINFORCE"
   ]
  },
  {
   "cell_type": "code",
   "execution_count": 68,
   "id": "4fe25068",
   "metadata": {},
   "outputs": [
    {
     "name": "stdout",
     "output_type": "stream",
     "text": [
      "Test Passed!\n"
     ]
    }
   ],
   "source": [
    "# Run this cell without modification\n",
    "\n",
    "# Test advantage computing\n",
    "test_trainer = PGTrainer({\"normalize_advantage\": False})\n",
    "test_trainer.train()\n",
    "fake_sample = {\"reward\": [[2, 2, 2, 2, 2]]}\n",
    "np.testing.assert_almost_equal(\n",
    "    test_trainer.process_samples(fake_sample)[0][\"reward\"][0],\n",
    "    fake_sample[\"reward\"][0]\n",
    ")\n",
    "np.testing.assert_almost_equal(\n",
    "    test_trainer.process_samples(fake_sample)[0][\"advantages\"],\n",
    "    np.array([9.80199, 7.880798, 5.9402, 3.98, 2.], dtype=np.float32)\n",
    ")\n",
    "\n",
    "# Test advantage normalization\n",
    "test_trainer = PGTrainer(\n",
    "    {\"normalize_advantage\": True, \"env_name\": \"CartPole-v1\"})\n",
    "test_adv = test_trainer.process_samples(fake_sample)[0][\"advantages\"]\n",
    "np.testing.assert_almost_equal(test_adv.mean(), 0.0)\n",
    "np.testing.assert_almost_equal(test_adv.std(), 1.0)\n",
    "\n",
    "# Test the shape of functions' returns\n",
    "fake_observation = np.array([\n",
    "    test_trainer.env.observation_space.sample() for i in range(10)\n",
    "])\n",
    "fake_action = np.array([\n",
    "    test_trainer.env.action_space.sample() for i in range(10)\n",
    "])\n",
    "assert test_trainer.to_tensor(fake_observation).shape == torch.Size([10, 4])\n",
    "assert np.array(test_trainer.compute_action(fake_observation[0])).shape == ()\n",
    "assert test_trainer.compute_log_probs(fake_observation, fake_action).shape == \\\n",
    "       torch.Size([10])\n",
    "\n",
    "print(\"Test Passed!\")\n"
   ]
  },
  {
   "cell_type": "markdown",
   "id": "18bee50d",
   "metadata": {},
   "source": [
    "### Section 4.3: Train REINFORCE in CartPole and see the impact of advantage normalization"
   ]
  },
  {
   "cell_type": "code",
   "execution_count": 69,
   "id": "17b6095d",
   "metadata": {
    "scrolled": true
   },
   "outputs": [
    {
     "name": "stderr",
     "output_type": "stream",
     "text": [
      "Training:  58%|█████▊    | 580/1001 [07:07<04:19,  1.62it/s, ep_reward=489][INFO] Iter 580, episodic return 488.800 is greater than reward threshold 480. Congratulation! Now we exit the training process.\n",
      "Training:  58%|█████▊    | 580/1001 [07:07<05:10,  1.36it/s, ep_reward=489]"
     ]
    },
    {
     "name": "stdout",
     "output_type": "stream",
     "text": [
      "Environment is closed.\n"
     ]
    },
    {
     "name": "stderr",
     "output_type": "stream",
     "text": [
      "\n"
     ]
    }
   ],
   "source": [
    "# Run this cell without modification\n",
    "\n",
    "pg_trainer_no_na, pg_result_no_na = run(PGTrainer, dict(\n",
    "    learning_rate=0.001,\n",
    "    train_batch_size=200,\n",
    "    env_name=\"CartPole-v1\",\n",
    "    normalize_advantage=False,  # <<== Here!\n",
    "\n",
    "    evaluate_interval=10,\n",
    "    evaluate_num_episodes=10,\n",
    "), 480)\n"
   ]
  },
  {
   "cell_type": "code",
   "execution_count": 70,
   "id": "5f75805b",
   "metadata": {
    "scrolled": true
   },
   "outputs": [
    {
     "name": "stderr",
     "output_type": "stream",
     "text": [
      "Training:  33%|███▎      | 330/1001 [03:48<06:36,  1.69it/s, ep_reward=497][INFO] Iter 330, episodic return 497.000 is greater than reward threshold 480.0. Congratulation! Now we exit the training process.\n",
      "Training:  33%|███▎      | 330/1001 [03:48<07:44,  1.45it/s, ep_reward=497]"
     ]
    },
    {
     "name": "stdout",
     "output_type": "stream",
     "text": [
      "Environment is closed.\n"
     ]
    },
    {
     "name": "stderr",
     "output_type": "stream",
     "text": [
      "\n"
     ]
    }
   ],
   "source": [
    "# Run this cell without modification\n",
    "\n",
    "pg_trainer_with_na, pg_result_with_na = run(PGTrainer, dict(\n",
    "    learning_rate=0.001,\n",
    "    train_batch_size=200,\n",
    "    env_name=\"CartPole-v1\",\n",
    "    normalize_advantage=True,  # <<== Here!\n",
    "\n",
    "    evaluate_interval=10,\n",
    "    evaluate_num_episodes=10,\n",
    "), 480.0)\n"
   ]
  },
  {
   "cell_type": "code",
   "execution_count": 71,
   "id": "10fb3d38",
   "metadata": {},
   "outputs": [
    {
     "data": {
      "text/plain": [
       "Text(0.5, 1.0, 'Comparing Advantage normalization in Policy Gradient')"
      ]
     },
     "execution_count": 71,
     "metadata": {},
     "output_type": "execute_result"
    },
    {
     "data": {
      "image/png": "[encoded data removed]",
      "text/plain": [
       "<Figure size 640x480 with 1 Axes>"
      ]
     },
     "metadata": {},
     "output_type": "display_data"
    }
   ],
   "source": [
    "# Run this cell without modification\n",
    "\n",
    "pg_result_no_na_df = pd.DataFrame(pg_result_no_na)\n",
    "pg_result_with_na_df = pd.DataFrame(pg_result_with_na)\n",
    "pg_result_no_na_df[\"normalize_advantage\"] = False\n",
    "pg_result_with_na_df[\"normalize_advantage\"] = True\n",
    "\n",
    "ax = sns.lineplot(\n",
    "    x=\"total_timesteps\",\n",
    "    y=\"performance\",\n",
    "    data=pd.concat([pg_result_no_na_df, pg_result_with_na_df]).reset_index(), hue=\"normalize_advantage\",\n",
    ")\n",
    "ax.set_title(\"Comparing Advantage normalization in Policy Gradient\")\n",
    "# It's OK to see very noisy curves...\n",
    "# And you probably can't see clear margin...\n",
    "# Running with more seeds might help."
   ]
  },
  {
   "cell_type": "markdown",
   "id": "95a0d7cc",
   "metadata": {},
   "source": [
    "### Section 4.4: Train REINFORCE in MetaDrive-Easy"
   ]
  },
  {
   "cell_type": "code",
   "execution_count": 72,
   "id": "1d06a73d",
   "metadata": {
    "scrolled": true
   },
   "outputs": [
    {
     "name": "stderr",
     "output_type": "stream",
     "text": [
      "\u001b[38;20m[INFO] Environment: MetaDriveEnv\u001b[0m\n",
      "\u001b[38;20m[INFO] MetaDrive version: 0.4.3\u001b[0m\n",
      "\u001b[38;20m[INFO] Sensors: [lidar: Lidar(), side_detector: SideDetector(), lane_line_detector: LaneLineDetector()]\u001b[0m\n",
      "\u001b[38;20m[INFO] Render Mode: none\u001b[0m\n",
      "\u001b[38;20m[INFO] Horizon (Max steps per agent): 200\u001b[0m\n",
      "Training:   1%|          | 50/5001 [08:33<13:52:44, 10.09s/it, ep_reward=125] [INFO] Iter 50, episodic return 125.139 is greater than reward threshold 120. Congratulation! Now we exit the training process.\n",
      "Training:   1%|          | 50/5001 [08:33<14:07:24, 10.27s/it, ep_reward=125]"
     ]
    },
    {
     "name": "stdout",
     "output_type": "stream",
     "text": [
      "Environment is closed.\n"
     ]
    },
    {
     "name": "stderr",
     "output_type": "stream",
     "text": [
      "\n"
     ]
    }
   ],
   "source": [
    "# Run this cell without modification\n",
    "\n",
    "env_name = \"MetaDrive-Tut-Easy-v0\"\n",
    "\n",
    "pg_trainer_metadrive_easy, pg_trainer_metadrive_easy_result = run(PGTrainer, dict(\n",
    "    train_batch_size=2000,\n",
    "    normalize_advantage=True,\n",
    "    max_episode_length=200,\n",
    "    max_iteration=5000,\n",
    "    evaluate_interval=10,\n",
    "    evaluate_num_episodes=10,\n",
    "    learning_rate=0.001,\n",
    "    clip_norm=10.0,\n",
    "    env_name=env_name\n",
    "), reward_threshold=120)\n",
    "\n",
    "pg_trainer_metadrive_easy.save(\"pg_trainer_metadrive_easy.pt\")\n",
    "# Expected to converge within 100 iterations."
   ]
  },
  {
   "cell_type": "code",
   "execution_count": 73,
   "id": "5b650945",
   "metadata": {},
   "outputs": [
    {
     "name": "stderr",
     "output_type": "stream",
     "text": [
      "\u001b[38;20m[INFO] Environment: MetaDriveEnv\u001b[0m\n",
      "\u001b[38;20m[INFO] MetaDrive version: 0.4.3\u001b[0m\n",
      "\u001b[38;20m[INFO] Sensors: [lidar: Lidar(), side_detector: SideDetector(), lane_line_detector: LaneLineDetector()]\u001b[0m\n",
      "\u001b[38;20m[INFO] Render Mode: none\u001b[0m\n",
      "\u001b[38;20m[INFO] Horizon (Max steps per agent): 200\u001b[0m\n"
     ]
    },
    {
     "name": "stdout",
     "output_type": "stream",
     "text": [
      "Evaluating 1/1 episodes. We are in 1/1000 steps. Current episode reward: 0.008\n",
      "Evaluating 1/1 episodes. We are in 51/1000 steps. Current episode reward: 37.142\n"
     ]
    },
    {
     "data": {
      "text/html": [
       "<table class=\"show_videos\" style=\"border-spacing:0px;\"><tr><td style=\"padding:1px;\"><video controls width=\"800\" height=\"800\" style=\"object-fit:cover;\" loop autoplay muted>\n",
       "      <source src=\"data:video/mp4;base64,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\" type=\"video/mp4\"/>\n",
       "      This browser does not support the video tag.\n",
       "      </video></td></tr></table>"
      ],
      "text/plain": [
       "<IPython.core.display.HTML object>"
      ]
     },
     "metadata": {},
     "output_type": "display_data"
    },
    {
     "name": "stdout",
     "output_type": "stream",
     "text": [
      "REINFORCE agent achieves 125.05254010105511 return in MetaDrive easy environment.\n"
     ]
    }
   ],
   "source": [
    "# Run this cell without modification\n",
    "\n",
    "# Render the learned behavior\n",
    "# NOTE: The learned agent is marked by green color.\n",
    "eval_reward, eval_info = evaluate(\n",
    "    policy=pg_trainer_metadrive_easy.policy,\n",
    "    num_episodes=1,\n",
    "    env_name=pg_trainer_metadrive_easy.env_name,\n",
    "    render=\"topdown\",  # Visualize the behaviors in top-down view\n",
    "    verbose=True\n",
    ")\n",
    "\n",
    "animate(eval_info[\"frames\"])\n",
    "\n",
    "print(\"REINFORCE agent achieves {} return in MetaDrive easy environment.\".format(eval_reward))"
   ]
  },
  {
   "cell_type": "markdown",
   "id": "fcc0bcd0",
   "metadata": {},
   "source": [
    "## Section 5: Policy gradient with baseline\n",
    "\n",
    "(20 / 100 points)\n",
    "\n",
    "In REINFORCE, we compute the gradient of $Q = \\mathop{\\mathbb E} \\sum_t r(a_t, s_t)$ w.r.t. the parameter to update the policy. Let's consider this case: when you take an \"average\" action that leads to a positive expected return, the policy gradient is also positive and you will update your network toward this action. At the same time, there might be a potentially better action. You should update the policy toward the better action instead of the \"average\" action. Do we have any way to impose the idea that we should at least update the policy toward an action that is better than the literally \"average\" action?\n",
    "\n",
    "We introduce the \"baseline\" when computing the policy gradient. The insight behind this is that we want to optimize the policy toward an action that are better than the \"average action\". We introduce $b_{t} = \\mathbb E_{a_t} \\sum_{t'}{\\gamma^{t'-t} r(s_{t'}, a_{t'})}$ as the baseline. It averages the expected discount return of all possible actions at state $s_t$. So that the \"advantage\" compared against the average action (aka the \"excess profit\") achieved by action $a_t$ can be evaluated via $\\sum_{t'=t} \\gamma^{t' -t}r(a_{t'}, s_{t'}) - b_t$\n",
    "\n",
    "Therefore, the policy gradient becomes:\n",
    "\n",
    "$$\\nabla_\\theta Q =\\cfrac{1}{N}\\sum_{i=1}^N [( \\sum_t  \\nabla_\\theta \\log \\pi_\\theta(a_{i,t}|s_{i,t}) (\\sum_{t'} \\gamma^{t'-t} r(s_{i,{t’}}, a_{i,t‘}) - b_{i, t})]$$\n",
    "\n",
    "In our implementation, we estimate the baseline via an extra network `self.baseline`, which has same structure of the policy network but outputs only a scalar value. We use the output of this network to serve as the baseline, while this network is updated by fitting the true value of the expected return of current state: $\\mathbb E_{a_t} \\sum_{t'}{\\gamma^{t'-t} r(s_{t'}, a_{t'})}$\n",
    "\n",
    "The state-action values might have large variance if the reward function has large variance. It is not easy for a neural network to predict targets with large variance and extreme values. In our implementation, we use a trick to match the distribution of the baseline and values. During training, we first collect a batch of target values: $\\{t_i= \\mathbb E_{a_t} \\sum_{t'}{\\gamma^{t'-t} r(s_{t'}, a_{t'})}\\}_i$. Then we normalize all targets to a standard Normal distribution with mean = 0 and std = 1. Then we ask the baseline network to fit such normalized targets.\n",
    "\n",
    "When computing the advantages, instead of using the output of baseline network as the baseline $b$, we firstly match the baseline distribution (which, assume the baseline network is well trained, should be a standard Normal distribution) with the state-action values' distribution. We \"de-standarize\" the baselines. The transformed baselines $b' = f(b)$ should has the same mean and STD with the state-action values. By doing this, we mitigate the instability of training baseline.\n",
    "\n",
    "After that, we compute the advantage of current action: $adv_{i,t} = \\sum_{t'} \\gamma^{t'-t} r(s_{i,{t'}}, a_{i,t'}) - b'_{i, t}$\n",
    "\n",
    "Hint: We suggest to normalize an array via: `(x - x.mean()) / max(x.std(), 1e-6)`. The max term can mitigate numeraical instability."
   ]
  },
  {
   "cell_type": "markdown",
   "id": "95c1378f",
   "metadata": {},
   "source": [
    "### Section 5.1: Build PG method with baseline"
   ]
  },
  {
   "cell_type": "code",
   "execution_count": 93,
   "id": "709df140",
   "metadata": {},
   "outputs": [],
   "source": [
    "# Finish TODOs\n",
    "\n",
    "class PolicyGradientWithBaselineTrainer(PGTrainer):\n",
    "    def initialize_parameters(self):\n",
    "        # Build the actor in name of self.policy\n",
    "        super().initialize_parameters()\n",
    "\n",
    "        # TODO: Build the baseline network using PytorchModel class.\n",
    "        obs_dim = self.obs_dim\n",
    "        # PytorchModel(self, num_inputs, num_outputs, hidden_units=100):\n",
    "        self.baseline = PytorchModel(\n",
    "            num_inputs=obs_dim,\n",
    "            num_outputs=1,  # baseline is a scalar\n",
    "            hidden_units=self.config[\"hidden_units\"]\n",
    "        ).to(self.device)\n",
    "\n",
    "        self.baseline_loss = nn.MSELoss()\n",
    "\n",
    "        self.baseline_optimizer = torch.optim.Adam(\n",
    "            self.baseline.parameters(),\n",
    "            lr=self.config[\"learning_rate\"]\n",
    "        )\n",
    "\n",
    "    def process_samples(self, samples):\n",
    "        # Call the original process_samples function to get advantages\n",
    "        tmp_samples, _ = super().process_samples(samples)\n",
    "        values = tmp_samples[\"advantages\"]\n",
    "        samples[\"values\"] = values  # We add q_values into samples\n",
    "\n",
    "        # Flatten the observations in all trajectories (still a numpy array)\n",
    "        obs = np.concatenate(samples[\"obs\"])\n",
    "\n",
    "        assert obs.ndim == 2\n",
    "        assert obs.shape[1] == self.obs_dim\n",
    "\n",
    "        obs = self.to_tensor(obs)\n",
    "        samples[\"flat_obs\"] = obs\n",
    "\n",
    "        # TODO: Compute the baseline by feeding observation to the baseline network\n",
    "        # Hint: baselines should be a numpy array with the same shape of `values` (batch size, )\n",
    "        with torch.no_grad():\n",
    "            baselines = self.baseline(obs).squeeze().cpu().numpy()\n",
    "            \n",
    "        assert baselines.shape == values.shape\n",
    "\n",
    "        # TODO: Match the distribution of baselines to the values.\n",
    "        # Hint: We expect to see baselines.std() almost equals to values.std(), \n",
    "        #  and baselines.mean() almost equals to values.mean().\n",
    "        values_mean = np.mean(values)\n",
    "        values_std = np.std(values)\n",
    "        baselines = baselines * values_std + values_mean # Match the distribution\n",
    "\n",
    "        # Compute the advantage\n",
    "        advantages = values - baselines\n",
    "        samples[\"advantages\"] = advantages\n",
    "        process_info = {\"mean_baseline\": float(np.mean(baselines))}\n",
    "        return samples, process_info\n",
    "\n",
    "    def update_network(self, processed_samples):\n",
    "        update_info = super().update_network(processed_samples)\n",
    "        update_info.update(self.update_baseline(processed_samples))\n",
    "        return update_info\n",
    "\n",
    "    def update_baseline(self, processed_samples):\n",
    "        self.baseline.train()\n",
    "        obs = processed_samples[\"flat_obs\"]\n",
    "\n",
    "        # TODO: Normalize `values` to have mean=0, std=1.\n",
    "        values = processed_samples[\"values\"]\n",
    "        values_mean = np.mean(values)\n",
    "        values_std = np.std(values)\n",
    "        # Normalize the values\n",
    "        values = (values - values_mean) / max(values_std, 1e-6)\n",
    "\n",
    "        values = self.to_tensor(values[:, np.newaxis])\n",
    "\n",
    "        baselines = self.baseline(obs)\n",
    "\n",
    "        self.baseline_optimizer.zero_grad()\n",
    "        loss = self.baseline_loss(input=baselines, target=values)\n",
    "        loss.backward()\n",
    "\n",
    "        # Clip the gradient\n",
    "        torch.nn.utils.clip_grad_norm_(\n",
    "            self.baseline.parameters(), self.config[\"clip_gradient\"]\n",
    "        )\n",
    "\n",
    "        self.baseline_optimizer.step()\n",
    "        self.baseline.eval()\n",
    "        return dict(baseline_loss=loss.item())\n"
   ]
  },
  {
   "cell_type": "markdown",
   "id": "1168a4b4",
   "metadata": {},
   "source": [
    "### Section 5.2: Run PG w/ baseline in CartPole"
   ]
  },
  {
   "cell_type": "code",
   "execution_count": 94,
   "id": "7f5c1adf",
   "metadata": {
    "scrolled": true
   },
   "outputs": [
    {
     "name": "stderr",
     "output_type": "stream",
     "text": [
      "Training:  14%|█▍        | 140/1001 [01:19<06:32,  2.19it/s, ep_reward=200][INFO] Iter 140, episodic return 200.000 is greater than reward threshold 195.0. Congratulation! Now we exit the training process.\n",
      "Training:  14%|█▍        | 140/1001 [01:19<08:10,  1.76it/s, ep_reward=200]"
     ]
    },
    {
     "name": "stdout",
     "output_type": "stream",
     "text": [
      "Environment is closed.\n"
     ]
    },
    {
     "name": "stderr",
     "output_type": "stream",
     "text": [
      "\n"
     ]
    }
   ],
   "source": [
    "# Run this cell without modification\n",
    "\n",
    "pg_trainer_wb_cartpole, pg_trainer_wb_cartpole_result = run(PolicyGradientWithBaselineTrainer, dict(\n",
    "    learning_rate=0.001,\n",
    "    max_episode_length=200,\n",
    "    train_batch_size=200,\n",
    "\n",
    "    env_name=\"CartPole-v1\",\n",
    "    normalize_advantage=True,\n",
    "\n",
    "    evaluate_interval=10,\n",
    "    evaluate_num_episodes=10,\n",
    "), 195.0)\n"
   ]
  },
  {
   "cell_type": "markdown",
   "id": "4ff92a1e",
   "metadata": {},
   "source": [
    "### Section 5.3: Run PG w/ baseline in MetaDrive-Easy\n"
   ]
  },
  {
   "cell_type": "code",
   "execution_count": 95,
   "id": "4e498197",
   "metadata": {},
   "outputs": [
    {
     "name": "stderr",
     "output_type": "stream",
     "text": [
      "\u001b[38;20m[INFO] Environment: MetaDriveEnv\u001b[0m\n",
      "\u001b[38;20m[INFO] MetaDrive version: 0.4.3\u001b[0m\n",
      "\u001b[38;20m[INFO] Sensors: [lidar: Lidar(), side_detector: SideDetector(), lane_line_detector: LaneLineDetector()]\u001b[0m\n",
      "\u001b[38;20m[INFO] Render Mode: none\u001b[0m\n",
      "\u001b[38;20m[INFO] Horizon (Max steps per agent): 200\u001b[0m\n",
      "Training:   1%|          | 40/5001 [06:55<13:51:52, 10.06s/it, ep_reward=125] [INFO] Iter 40, episodic return 125.053 is greater than reward threshold 120. Congratulation! Now we exit the training process.\n",
      "Training:   1%|          | 40/5001 [06:55<14:18:47, 10.39s/it, ep_reward=125]"
     ]
    },
    {
     "name": "stdout",
     "output_type": "stream",
     "text": [
      "Environment is closed.\n"
     ]
    },
    {
     "name": "stderr",
     "output_type": "stream",
     "text": [
      "\n"
     ]
    }
   ],
   "source": [
    "# Run this cell without modification\n",
    "\n",
    "env_name = \"MetaDrive-Tut-Easy-v0\"\n",
    "\n",
    "pg_trainer_wb_metadrive_easy, pg_trainer_wb_metadrive_easy_result = run(\n",
    "    PolicyGradientWithBaselineTrainer,\n",
    "    dict(\n",
    "        train_batch_size=2000,\n",
    "        normalize_advantage=True,\n",
    "        max_episode_length=200,\n",
    "        max_iteration=5000,\n",
    "        evaluate_interval=10,\n",
    "        evaluate_num_episodes=10,\n",
    "        learning_rate=0.001,\n",
    "        clip_norm=10.0,\n",
    "        env_name=env_name\n",
    "    ),\n",
    "    reward_threshold=120\n",
    ")\n",
    "\n",
    "pg_trainer_wb_metadrive_easy.save(\"pg_trainer_wb_metadrive_easy.pt\")"
   ]
  },
  {
   "cell_type": "code",
   "execution_count": 96,
   "id": "6f356062",
   "metadata": {},
   "outputs": [
    {
     "name": "stderr",
     "output_type": "stream",
     "text": [
      "\u001b[38;20m[INFO] Environment: MetaDriveEnv\u001b[0m\n",
      "\u001b[38;20m[INFO] MetaDrive version: 0.4.3\u001b[0m\n",
      "\u001b[38;20m[INFO] Sensors: [lidar: Lidar(), side_detector: SideDetector(), lane_line_detector: LaneLineDetector()]\u001b[0m\n",
      "\u001b[38;20m[INFO] Render Mode: none\u001b[0m\n",
      "\u001b[38;20m[INFO] Horizon (Max steps per agent): 200\u001b[0m\n"
     ]
    },
    {
     "name": "stdout",
     "output_type": "stream",
     "text": [
      "Evaluating 1/1 episodes. We are in 1/1000 steps. Current episode reward: 0.008\n",
      "Evaluating 1/1 episodes. We are in 51/1000 steps. Current episode reward: 37.142\n",
      "PG agent achieves 125.05254010105511 return and 1.0 success rate in MetaDrive easy environment.\n"
     ]
    },
    {
     "data": {
      "text/html": [
       "<table class=\"show_videos\" style=\"border-spacing:0px;\"><tr><td style=\"padding:1px;\"><video controls width=\"800\" height=\"800\" style=\"object-fit:cover;\" loop autoplay muted>\n",
       "      <source src=\"data:video/mp4;base64,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\" type=\"video/mp4\"/>\n",
       "      This browser does not support the video tag.\n",
       "      </video></td></tr></table>"
      ],
      "text/plain": [
       "<IPython.core.display.HTML object>"
      ]
     },
     "metadata": {},
     "output_type": "display_data"
    }
   ],
   "source": [
    "# Run this cell without modification\n",
    "\n",
    "# Render the learned behavior\n",
    "# NOTE: The learned agent is marked by green color.\n",
    "eval_reward, eval_info = evaluate(\n",
    "    policy=pg_trainer_wb_metadrive_easy.policy,\n",
    "    num_episodes=1,\n",
    "    env_name=pg_trainer_wb_metadrive_easy.env_name,\n",
    "    render=\"topdown\",  # Visualize the behaviors in top-down view\n",
    "    verbose=True\n",
    ")\n",
    "\n",
    "print(\n",
    "    \"PG agent achieves {} return and {} success rate in MetaDrive easy environment.\".format(\n",
    "        eval_reward, eval_info[\"success_rate\"]\n",
    "    )\n",
    ")\n",
    "\n",
    "animate(eval_info[\"frames\"])"
   ]
  },
  {
   "cell_type": "markdown",
   "id": "264f267e",
   "metadata": {},
   "source": [
    "### Section 5.4: Run PG with baseline in MetaDrive-Hard\n",
    "\n",
    "**The minimum goal to is to achieve episodic return > 20, which costs nearly 20 iterations and ~100k steps.**\n",
    "\n",
    "You can try to play with hyperparameters and optimize code to see if you can achieve >0.0 success rate."
   ]
  },
  {
   "cell_type": "code",
   "execution_count": 103,
   "id": "b737c345",
   "metadata": {},
   "outputs": [
    {
     "name": "stderr",
     "output_type": "stream",
     "text": [
      "\u001b[38;20m[INFO] Environment: MetaDriveEnv\u001b[0m\n",
      "\u001b[38;20m[INFO] MetaDrive version: 0.4.3\u001b[0m\n",
      "\u001b[38;20m[INFO] Sensors: [lidar: Lidar(), side_detector: SideDetector(), lane_line_detector: LaneLineDetector()]\u001b[0m\n",
      "\u001b[38;20m[INFO] Render Mode: none\u001b[0m\n",
      "\u001b[38;20m[INFO] Horizon (Max steps per agent): None\u001b[0m\n",
      "Training:   8%|▊         | 379/5001 [4:21:38<53:10:43, 41.42s/it, ep_reward=57.1]\n"
     ]
    },
    {
     "name": "stdout",
     "output_type": "stream",
     "text": [
      "Environment is closed.\n"
     ]
    },
    {
     "ename": "KeyboardInterrupt",
     "evalue": "",
     "output_type": "error",
     "traceback": [
      "\u001b[1;31m---------------------------------------------------------------------------\u001b[0m",
      "\u001b[1;31mKeyboardInterrupt\u001b[0m                         Traceback (most recent call last)",
      "Cell \u001b[1;32mIn[103], line 5\u001b[0m\n\u001b[0;32m      1\u001b[0m \u001b[38;5;66;03m# Run this cell without modification\u001b[39;00m\n\u001b[0;32m      3\u001b[0m env_name \u001b[38;5;241m=\u001b[39m \u001b[38;5;124m\"\u001b[39m\u001b[38;5;124mMetaDrive-Tut-Hard-v0\u001b[39m\u001b[38;5;124m\"\u001b[39m\n\u001b[1;32m----> 5\u001b[0m pg_trainer_wb_metadrive_hard, pg_trainer_wb_metadrive_hard_result \u001b[38;5;241m=\u001b[39m \u001b[43mrun\u001b[49m\u001b[43m(\u001b[49m\n\u001b[0;32m      6\u001b[0m \u001b[43m    \u001b[49m\u001b[43mPolicyGradientWithBaselineTrainer\u001b[49m\u001b[43m,\u001b[49m\n\u001b[0;32m      7\u001b[0m \u001b[43m    \u001b[49m\u001b[38;5;28;43mdict\u001b[39;49m\u001b[43m(\u001b[49m\n\u001b[0;32m      8\u001b[0m \u001b[43m        \u001b[49m\u001b[43mtrain_batch_size\u001b[49m\u001b[38;5;241;43m=\u001b[39;49m\u001b[38;5;241;43m4000\u001b[39;49m\u001b[43m,\u001b[49m\n\u001b[0;32m      9\u001b[0m \u001b[43m        \u001b[49m\u001b[43mnormalize_advantage\u001b[49m\u001b[38;5;241;43m=\u001b[39;49m\u001b[38;5;28;43;01mTrue\u001b[39;49;00m\u001b[43m,\u001b[49m\n\u001b[0;32m     10\u001b[0m \u001b[43m        \u001b[49m\u001b[43mmax_episode_length\u001b[49m\u001b[38;5;241;43m=\u001b[39;49m\u001b[38;5;241;43m1000\u001b[39;49m\u001b[43m,\u001b[49m\n\u001b[0;32m     11\u001b[0m \u001b[43m        \u001b[49m\u001b[43mmax_iteration\u001b[49m\u001b[38;5;241;43m=\u001b[39;49m\u001b[38;5;241;43m5000\u001b[39;49m\u001b[43m,\u001b[49m\n\u001b[0;32m     12\u001b[0m \u001b[43m        \u001b[49m\u001b[43mevaluate_interval\u001b[49m\u001b[38;5;241;43m=\u001b[39;49m\u001b[38;5;241;43m5\u001b[39;49m\u001b[43m,\u001b[49m\n\u001b[0;32m     13\u001b[0m \u001b[43m        \u001b[49m\u001b[43mevaluate_num_episodes\u001b[49m\u001b[38;5;241;43m=\u001b[39;49m\u001b[38;5;241;43m10\u001b[39;49m\u001b[43m,\u001b[49m\n\u001b[0;32m     14\u001b[0m \u001b[43m        \u001b[49m\u001b[43mlearning_rate\u001b[49m\u001b[38;5;241;43m=\u001b[39;49m\u001b[38;5;241;43m0.001\u001b[39;49m\u001b[43m,\u001b[49m\n\u001b[0;32m     15\u001b[0m \u001b[43m        \u001b[49m\u001b[43mclip_norm\u001b[49m\u001b[38;5;241;43m=\u001b[39;49m\u001b[38;5;241;43m10.0\u001b[39;49m\u001b[43m,\u001b[49m\n\u001b[0;32m     16\u001b[0m \u001b[43m        \u001b[49m\u001b[43menv_name\u001b[49m\u001b[38;5;241;43m=\u001b[39;49m\u001b[43menv_name\u001b[49m\n\u001b[0;32m     17\u001b[0m \u001b[43m    \u001b[49m\u001b[43m)\u001b[49m\u001b[43m,\u001b[49m\n\u001b[0;32m     18\u001b[0m \u001b[43m    \u001b[49m\u001b[38;5;66;43;03m# Takes around one hour to reach threshold 50\u001b[39;49;00m\n\u001b[0;32m     19\u001b[0m \u001b[43m    \u001b[49m\u001b[43mreward_threshold\u001b[49m\u001b[38;5;241;43m=\u001b[39;49m\u001b[38;5;241;43m100\u001b[39;49m\u001b[43m  \u001b[49m\u001b[38;5;66;43;03m# We just set the reward threshold to 20. Feel free to adjust it.\u001b[39;49;00m\n\u001b[0;32m     20\u001b[0m \u001b[43m)\u001b[49m\n\u001b[0;32m     22\u001b[0m pg_trainer_wb_metadrive_hard\u001b[38;5;241m.\u001b[39msave(\u001b[38;5;124m\"\u001b[39m\u001b[38;5;124mpg_trainer_wb_metadrive_hard.pt\u001b[39m\u001b[38;5;124m\"\u001b[39m)\n",
      "Cell \u001b[1;32mIn[32], line 22\u001b[0m, in \u001b[0;36mrun\u001b[1;34m(trainer_cls, config, reward_threshold)\u001b[0m\n\u001b[0;32m     20\u001b[0m pbar \u001b[38;5;241m=\u001b[39m tqdm\u001b[38;5;241m.\u001b[39mtrange(config[\u001b[38;5;124m'\u001b[39m\u001b[38;5;124mmax_iteration\u001b[39m\u001b[38;5;124m'\u001b[39m] \u001b[38;5;241m+\u001b[39m \u001b[38;5;241m1\u001b[39m, desc\u001b[38;5;241m=\u001b[39m\u001b[38;5;124m\"\u001b[39m\u001b[38;5;124mTraining\u001b[39m\u001b[38;5;124m\"\u001b[39m)\n\u001b[0;32m     21\u001b[0m \u001b[38;5;28;01mfor\u001b[39;00m i \u001b[38;5;129;01min\u001b[39;00m pbar:\n\u001b[1;32m---> 22\u001b[0m     stat \u001b[38;5;241m=\u001b[39m \u001b[43mtrainer\u001b[49m\u001b[38;5;241;43m.\u001b[39;49m\u001b[43mtrain\u001b[49m\u001b[43m(\u001b[49m\u001b[43miteration\u001b[49m\u001b[38;5;241;43m=\u001b[39;49m\u001b[43mi\u001b[49m\u001b[43m)\u001b[49m\n\u001b[0;32m     23\u001b[0m     stat \u001b[38;5;241m=\u001b[39m stat \u001b[38;5;129;01mor\u001b[39;00m {}\n\u001b[0;32m     24\u001b[0m     stats\u001b[38;5;241m.\u001b[39mappend(stat)\n",
      "Cell \u001b[1;32mIn[66], line 222\u001b[0m, in \u001b[0;36mPGTrainer.train\u001b[1;34m(self, iteration)\u001b[0m\n\u001b[0;32m    219\u001b[0m info \u001b[38;5;241m=\u001b[39m \u001b[38;5;28mdict\u001b[39m(iteration\u001b[38;5;241m=\u001b[39miteration)\n\u001b[0;32m    221\u001b[0m \u001b[38;5;66;03m# Collect samples\u001b[39;00m\n\u001b[1;32m--> 222\u001b[0m samples, sample_info \u001b[38;5;241m=\u001b[39m \u001b[38;5;28;43mself\u001b[39;49m\u001b[38;5;241;43m.\u001b[39;49m\u001b[43mcollect_samples\u001b[49m\u001b[43m(\u001b[49m\u001b[43m)\u001b[49m\n\u001b[0;32m    223\u001b[0m info\u001b[38;5;241m.\u001b[39mupdate(sample_info)\n\u001b[0;32m    225\u001b[0m \u001b[38;5;66;03m# Process samples\u001b[39;00m\n",
      "Cell \u001b[1;32mIn[66], line 144\u001b[0m, in \u001b[0;36mPGTrainer.collect_samples\u001b[1;34m(self)\u001b[0m\n\u001b[0;32m    142\u001b[0m episode_reward \u001b[38;5;241m=\u001b[39m \u001b[38;5;241m0\u001b[39m\n\u001b[0;32m    143\u001b[0m \u001b[38;5;28;01mwhile\u001b[39;00m \u001b[38;5;28;01mTrue\u001b[39;00m:\n\u001b[1;32m--> 144\u001b[0m     act \u001b[38;5;241m=\u001b[39m \u001b[38;5;28;43mself\u001b[39;49m\u001b[38;5;241;43m.\u001b[39;49m\u001b[43mcompute_action\u001b[49m\u001b[43m(\u001b[49m\u001b[43mobs\u001b[49m\u001b[43m)\u001b[49m\n\u001b[0;32m    146\u001b[0m     next_obs, reward, terminated, truncated, step_info \u001b[38;5;241m=\u001b[39m \u001b[38;5;28mself\u001b[39m\u001b[38;5;241m.\u001b[39menv\u001b[38;5;241m.\u001b[39mstep(act)\n\u001b[0;32m    147\u001b[0m     done \u001b[38;5;241m=\u001b[39m terminated \u001b[38;5;129;01mor\u001b[39;00m truncated\n",
      "Cell \u001b[1;32mIn[66], line 77\u001b[0m, in \u001b[0;36mPGTrainer.compute_action\u001b[1;34m(self, observation, eps)\u001b[0m\n\u001b[0;32m     69\u001b[0m \u001b[38;5;28;01massert\u001b[39;00m observation\u001b[38;5;241m.\u001b[39mndim \u001b[38;5;241m==\u001b[39m \u001b[38;5;241m1\u001b[39m\n\u001b[0;32m     70\u001b[0m \u001b[38;5;66;03m# TODO: Sample an action from the action distribution given by the policy.\u001b[39;00m\n\u001b[0;32m     71\u001b[0m \u001b[38;5;66;03m# Hint: The input of policy network is a tensor with the first dimension to the \u001b[39;00m\n\u001b[0;32m     72\u001b[0m \u001b[38;5;66;03m#  batch dimension. Therefore you need to expand the first dimension of the observation\u001b[39;00m\n\u001b[1;32m   (...)\u001b[0m\n\u001b[0;32m     75\u001b[0m \u001b[38;5;66;03m#  array before returning.\u001b[39;00m\n\u001b[0;32m     76\u001b[0m \u001b[38;5;66;03m# XXX: chech the shape of the output action, it should be a scalar.\u001b[39;00m\n\u001b[1;32m---> 77\u001b[0m action_tensor \u001b[38;5;241m=\u001b[39m \u001b[38;5;28;43mself\u001b[39;49m\u001b[38;5;241;43m.\u001b[39;49m\u001b[43mnetwork\u001b[49m\u001b[43m(\u001b[49m\u001b[38;5;28;43mself\u001b[39;49m\u001b[38;5;241;43m.\u001b[39;49m\u001b[43mto_tensor\u001b[49m\u001b[43m(\u001b[49m\u001b[43mobservation\u001b[49m\u001b[43m)\u001b[49m\u001b[38;5;241;43m.\u001b[39;49m\u001b[43munsqueeze\u001b[49m\u001b[43m(\u001b[49m\u001b[38;5;241;43m0\u001b[39;49m\u001b[43m)\u001b[49m\u001b[43m)\u001b[49m\n\u001b[0;32m     78\u001b[0m action \u001b[38;5;241m=\u001b[39m \u001b[38;5;28mself\u001b[39m\u001b[38;5;241m.\u001b[39mto_array(action_tensor\u001b[38;5;241m.\u001b[39msqueeze(\u001b[38;5;241m0\u001b[39m))\n\u001b[0;32m     80\u001b[0m \u001b[38;5;28;01mreturn\u001b[39;00m action\n",
      "File \u001b[1;32mc:\\Users\\Admin\\AppData\\Local\\Programs\\Python\\Python39\\lib\\site-packages\\torch\\nn\\modules\\module.py:1736\u001b[0m, in \u001b[0;36mModule._wrapped_call_impl\u001b[1;34m(self, *args, **kwargs)\u001b[0m\n\u001b[0;32m   1734\u001b[0m     \u001b[38;5;28;01mreturn\u001b[39;00m \u001b[38;5;28mself\u001b[39m\u001b[38;5;241m.\u001b[39m_compiled_call_impl(\u001b[38;5;241m*\u001b[39margs, \u001b[38;5;241m*\u001b[39m\u001b[38;5;241m*\u001b[39mkwargs)  \u001b[38;5;66;03m# type: ignore[misc]\u001b[39;00m\n\u001b[0;32m   1735\u001b[0m \u001b[38;5;28;01melse\u001b[39;00m:\n\u001b[1;32m-> 1736\u001b[0m     \u001b[38;5;28;01mreturn\u001b[39;00m \u001b[38;5;28mself\u001b[39m\u001b[38;5;241m.\u001b[39m_call_impl(\u001b[38;5;241m*\u001b[39margs, \u001b[38;5;241m*\u001b[39m\u001b[38;5;241m*\u001b[39mkwargs)\n",
      "File \u001b[1;32mc:\\Users\\Admin\\AppData\\Local\\Programs\\Python\\Python39\\lib\\site-packages\\torch\\nn\\modules\\module.py:1747\u001b[0m, in \u001b[0;36mModule._call_impl\u001b[1;34m(self, *args, **kwargs)\u001b[0m\n\u001b[0;32m   1742\u001b[0m \u001b[38;5;66;03m# If we don't have any hooks, we want to skip the rest of the logic in\u001b[39;00m\n\u001b[0;32m   1743\u001b[0m \u001b[38;5;66;03m# this function, and just call forward.\u001b[39;00m\n\u001b[0;32m   1744\u001b[0m \u001b[38;5;28;01mif\u001b[39;00m \u001b[38;5;129;01mnot\u001b[39;00m (\u001b[38;5;28mself\u001b[39m\u001b[38;5;241m.\u001b[39m_backward_hooks \u001b[38;5;129;01mor\u001b[39;00m \u001b[38;5;28mself\u001b[39m\u001b[38;5;241m.\u001b[39m_backward_pre_hooks \u001b[38;5;129;01mor\u001b[39;00m \u001b[38;5;28mself\u001b[39m\u001b[38;5;241m.\u001b[39m_forward_hooks \u001b[38;5;129;01mor\u001b[39;00m \u001b[38;5;28mself\u001b[39m\u001b[38;5;241m.\u001b[39m_forward_pre_hooks\n\u001b[0;32m   1745\u001b[0m         \u001b[38;5;129;01mor\u001b[39;00m _global_backward_pre_hooks \u001b[38;5;129;01mor\u001b[39;00m _global_backward_hooks\n\u001b[0;32m   1746\u001b[0m         \u001b[38;5;129;01mor\u001b[39;00m _global_forward_hooks \u001b[38;5;129;01mor\u001b[39;00m _global_forward_pre_hooks):\n\u001b[1;32m-> 1747\u001b[0m     \u001b[38;5;28;01mreturn\u001b[39;00m forward_call(\u001b[38;5;241m*\u001b[39margs, \u001b[38;5;241m*\u001b[39m\u001b[38;5;241m*\u001b[39mkwargs)\n\u001b[0;32m   1749\u001b[0m result \u001b[38;5;241m=\u001b[39m \u001b[38;5;28;01mNone\u001b[39;00m\n\u001b[0;32m   1750\u001b[0m called_always_called_hooks \u001b[38;5;241m=\u001b[39m \u001b[38;5;28mset\u001b[39m()\n",
      "Cell \u001b[1;32mIn[65], line 13\u001b[0m, in \u001b[0;36mPGNetwork.forward\u001b[1;34m(self, obs)\u001b[0m\n\u001b[0;32m      9\u001b[0m logit \u001b[38;5;241m=\u001b[39m \u001b[38;5;28mself\u001b[39m\u001b[38;5;241m.\u001b[39mnetwork(obs)\n\u001b[0;32m     11\u001b[0m \u001b[38;5;66;03m# TODO: Create an object of the class \"torch.distributions.Categorical\" \u001b[39;00m\n\u001b[0;32m     12\u001b[0m \u001b[38;5;66;03m# Then sample an action from it.\u001b[39;00m\n\u001b[1;32m---> 13\u001b[0m action \u001b[38;5;241m=\u001b[39m \u001b[43mtorch\u001b[49m\u001b[38;5;241;43m.\u001b[39;49m\u001b[43mdistributions\u001b[49m\u001b[38;5;241;43m.\u001b[39;49m\u001b[43mCategorical\u001b[49m\u001b[43m(\u001b[49m\u001b[43mlogits\u001b[49m\u001b[38;5;241;43m=\u001b[39;49m\u001b[43mlogit\u001b[49m\u001b[43m)\u001b[49m\u001b[38;5;241m.\u001b[39msample()\n\u001b[0;32m     15\u001b[0m \u001b[38;5;28;01mreturn\u001b[39;00m action\n",
      "File \u001b[1;32mc:\\Users\\Admin\\AppData\\Local\\Programs\\Python\\Python39\\lib\\site-packages\\torch\\distributions\\categorical.py:66\u001b[0m, in \u001b[0;36mCategorical.__init__\u001b[1;34m(self, probs, logits, validate_args)\u001b[0m\n\u001b[0;32m     64\u001b[0m         \u001b[38;5;28;01mraise\u001b[39;00m \u001b[38;5;167;01mValueError\u001b[39;00m(\u001b[38;5;124m\"\u001b[39m\u001b[38;5;124m`logits` parameter must be at least one-dimensional.\u001b[39m\u001b[38;5;124m\"\u001b[39m)\n\u001b[0;32m     65\u001b[0m     \u001b[38;5;66;03m# Normalize\u001b[39;00m\n\u001b[1;32m---> 66\u001b[0m     \u001b[38;5;28mself\u001b[39m\u001b[38;5;241m.\u001b[39mlogits \u001b[38;5;241m=\u001b[39m logits \u001b[38;5;241m-\u001b[39m \u001b[43mlogits\u001b[49m\u001b[38;5;241;43m.\u001b[39;49m\u001b[43mlogsumexp\u001b[49m\u001b[43m(\u001b[49m\u001b[43mdim\u001b[49m\u001b[38;5;241;43m=\u001b[39;49m\u001b[38;5;241;43m-\u001b[39;49m\u001b[38;5;241;43m1\u001b[39;49m\u001b[43m,\u001b[49m\u001b[43m \u001b[49m\u001b[43mkeepdim\u001b[49m\u001b[38;5;241;43m=\u001b[39;49m\u001b[38;5;28;43;01mTrue\u001b[39;49;00m\u001b[43m)\u001b[49m\n\u001b[0;32m     67\u001b[0m \u001b[38;5;28mself\u001b[39m\u001b[38;5;241m.\u001b[39m_param \u001b[38;5;241m=\u001b[39m \u001b[38;5;28mself\u001b[39m\u001b[38;5;241m.\u001b[39mprobs \u001b[38;5;28;01mif\u001b[39;00m probs \u001b[38;5;129;01mis\u001b[39;00m \u001b[38;5;129;01mnot\u001b[39;00m \u001b[38;5;28;01mNone\u001b[39;00m \u001b[38;5;28;01melse\u001b[39;00m \u001b[38;5;28mself\u001b[39m\u001b[38;5;241m.\u001b[39mlogits\n\u001b[0;32m     68\u001b[0m \u001b[38;5;28mself\u001b[39m\u001b[38;5;241m.\u001b[39m_num_events \u001b[38;5;241m=\u001b[39m \u001b[38;5;28mself\u001b[39m\u001b[38;5;241m.\u001b[39m_param\u001b[38;5;241m.\u001b[39msize()[\u001b[38;5;241m-\u001b[39m\u001b[38;5;241m1\u001b[39m]\n",
      "\u001b[1;31mKeyboardInterrupt\u001b[0m: "
     ]
    }
   ],
   "source": [
    "# Run this cell without modification\n",
    "\n",
    "env_name = \"MetaDrive-Tut-Hard-v0\"\n",
    "\n",
    "pg_trainer_wb_metadrive_hard, pg_trainer_wb_metadrive_hard_result = run(\n",
    "    PolicyGradientWithBaselineTrainer,\n",
    "    dict(\n",
    "        train_batch_size=4000,\n",
    "        normalize_advantage=True,\n",
    "        max_episode_length=1000,\n",
    "        max_iteration=5000,\n",
    "        evaluate_interval=5,\n",
    "        evaluate_num_episodes=10,\n",
    "        learning_rate=0.001,\n",
    "        clip_norm=10.0,\n",
    "        env_name=env_name\n",
    "    ),\n",
    "    # Takes around 2 hours to reach threshold 100\n",
    "    reward_threshold=100  # We just set the reward threshold to 20. Feel free to adjust it.\n",
    ")\n",
    "\n",
    "pg_trainer_wb_metadrive_hard.save(\"pg_trainer_wb_metadrive_hard.pt\")"
   ]
  },
  {
   "cell_type": "code",
   "execution_count": 104,
   "id": "2e015832",
   "metadata": {},
   "outputs": [
    {
     "name": "stderr",
     "output_type": "stream",
     "text": [
      "\u001b[38;20m[INFO] Environment: MetaDriveEnv\u001b[0m\n",
      "\u001b[38;20m[INFO] MetaDrive version: 0.4.3\u001b[0m\n",
      "\u001b[38;20m[INFO] Sensors: [lidar: Lidar(), side_detector: SideDetector(), lane_line_detector: LaneLineDetector()]\u001b[0m\n",
      "\u001b[38;20m[INFO] Render Mode: none\u001b[0m\n"
     ]
    },
    {
     "name": "stderr",
     "output_type": "stream",
     "text": [
      "\u001b[38;20m[INFO] Horizon (Max steps per agent): None\u001b[0m\n",
      "\u001b[38;20m[INFO] Environment: MetaDriveEnv\u001b[0m\n",
      "\u001b[38;20m[INFO] MetaDrive version: 0.4.3\u001b[0m\n",
      "\u001b[38;20m[INFO] Sensors: [lidar: Lidar(), side_detector: SideDetector(), lane_line_detector: LaneLineDetector()]\u001b[0m\n",
      "\u001b[38;20m[INFO] Render Mode: none\u001b[0m\n",
      "\u001b[38;20m[INFO] Horizon (Max steps per agent): None\u001b[0m\n"
     ]
    },
    {
     "name": "stdout",
     "output_type": "stream",
     "text": [
      "Evaluating 1/1 episodes. We are in 1/1000 steps. Current episode reward: 0.008\n",
      "Evaluating 1/1 episodes. We are in 51/1000 steps. Current episode reward: 37.744\n",
      "PG agent achieves 57.29013274569489 return and 0.0 success rate in MetaDrive easy environment.\n"
     ]
    },
    {
     "data": {
      "text/html": [
       "<table class=\"show_videos\" style=\"border-spacing:0px;\"><tr><td style=\"padding:1px;\"><video controls width=\"800\" height=\"800\" style=\"object-fit:cover;\" loop autoplay muted>\n",
       "      <source src=\"data:video/mp4;base64,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\" type=\"video/mp4\"/>\n",
       "      This browser does not support the video tag.\n",
       "      </video></td></tr></table>"
      ],
      "text/plain": [
       "<IPython.core.display.HTML object>"
      ]
     },
     "metadata": {},
     "output_type": "display_data"
    }
   ],
   "source": [
    "# Run this cell without modification\n",
    "\n",
    "# Render the learned behavior\n",
    "# NOTE: The learned agent is marked by green color.\n",
    "eval_reward, eval_info = evaluate(\n",
    "    policy=pg_trainer_wb_metadrive_hard.policy,\n",
    "    num_episodes=10,\n",
    "    env_name=pg_trainer_wb_metadrive_hard.env_name,\n",
    "    render=None,\n",
    "    verbose=False\n",
    ")\n",
    "\n",
    "_, eval_info_render = evaluate(\n",
    "    policy=pg_trainer_wb_metadrive_hard.policy,\n",
    "    num_episodes=1,\n",
    "    env_name=pg_trainer_wb_metadrive_hard.env_name,\n",
    "    render=\"topdown\",  # Visualize the behaviors in top-down view\n",
    "    verbose=True\n",
    ")\n",
    "\n",
    "print(\n",
    "    \"PG agent achieves {} return and {} success rate in MetaDrive easy environment.\".format(\n",
    "        eval_reward, eval_info[\"success_rate\"]\n",
    "    )\n",
    ")\n",
    "\n",
    "animate(eval_info_render[\"frames\"])"
   ]
  },
  {
   "cell_type": "markdown",
   "id": "bff92fb1",
   "metadata": {
    "id": "bff92fb1"
   },
   "source": [
    "------\n",
    "\n",
    "## Conclusion\n",
    "\n",
    "In this assignment, we learn how to build naive Q learning, Deep Q Network and Policy Gradient methods.\n",
    "\n",
    "Following the submission instruction in the assignment to submit your assignment. Thank you!\n",
    "\n",
    "------"
   ]
  }
 ],
 "metadata": {
  "colab": {
   "collapsed_sections": [],
   "provenance": []
  },
  "kernelspec": {
   "display_name": "Python 3",
   "language": "python",
   "name": "python3"
  },
  "language_info": {
   "codemirror_mode": {
    "name": "ipython",
    "version": 3
   },
   "file_extension": ".py",
   "mimetype": "text/x-python",
   "name": "python",
   "nbconvert_exporter": "python",
   "pygments_lexer": "ipython3",
   "version": "3.9.10"
  }
 },
 "nbformat": 4,
 "nbformat_minor": 5
}
